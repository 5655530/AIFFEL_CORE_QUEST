{
  "cells": [
    {
      "cell_type": "markdown",
      "metadata": {
        "id": "view-in-github",
        "colab_type": "text"
      },
      "source": [
        "<a href=\"https://colab.research.google.com/github/5655530/AIFFEL_CORE_QUEST/blob/main/DLton/DLton.ipynb\" target=\"_parent\"><img src=\"https://colab.research.google.com/assets/colab-badge.svg\" alt=\"Open In Colab\"/></a>"
      ]
    },
    {
      "cell_type": "code",
      "execution_count": null,
      "id": "a6bcaea1",
      "metadata": {
        "id": "a6bcaea1"
      },
      "outputs": [],
      "source": [
        "!pip install tensorflow-addons\n",
        "!pip install transformers\n",
        "import os\n",
        "import random\n",
        "import numpy as np\n",
        "import pandas as pd\n",
        "import tensorflow as tf\n",
        "from tqdm.notebook import tqdm\n",
        "import matplotlib.pyplot as plt\n",
        "import tensorflow_addons as tfa\n",
        "import tensorflow_datasets as tfds\n",
        "from sklearn.preprocessing import MinMaxScaler\n",
        "from sklearn.metrics import mean_absolute_error\n",
        "from sklearn.model_selection import train_test_split\n",
        "from transformers import TFAutoModel, AutoTokenizer, DataCollatorWithPadding\n",
        "from tensorflow.keras.applications import ResNet50\n",
        "from tensorflow.keras.layers import Dense, GlobalAveragePooling2D\n",
        "from tensorflow.keras.models import Model\n",
        "import gc\n",
        "gc.collect()\n",
        "\n",
        "import warnings\n",
        "warnings.filterwarnings('ignore')\n",
        "\n",
        "from transformers import logging\n",
        "logging.set_verbosity_error()\n",
        "\n",
        "from IPython.display import clear_output\n",
        "clear_output()"
      ]
    },
    {
      "cell_type": "code",
      "execution_count": null,
      "id": "b2d07e03",
      "metadata": {
        "id": "b2d07e03"
      },
      "outputs": [],
      "source": [
        "def uniform_soup(model_paths, test_ds, model_fun, evaluate_fun, disable_tqdm = False):\n",
        "    \"\"\"\n",
        "    \"Uniform Soup\" 모델과 테스트 데이터셋(test set)에서의 정확도를 반환\n",
        "    Args:\n",
        "    model_paths: 저장된 모델의 경로들의 리스트\n",
        "    test_ds: 테스트 데이터셋 (TFDS 포맷)\n",
        "    model_fun: 모델을 생성하는 함수\n",
        "    evaluate_fun: 모델을 평가하는 함수\n",
        "    disable_tqdm: TQDM 진행바(progress bar)를 비활성화할지 결정하는 값\n",
        "    \"\"\"\n",
        "    # 각 모델의 가중치를 저장할 것입니다.\n",
        "\n",
        "    soups = []\n",
        "\n",
        "    # TensorFlow 백엔드의 세션을 초기\n",
        "\n",
        "    tf.keras.backend.clear_session()\n",
        "\n",
        "    # model_fun 함수를 사용하여 새로운 모델 인스턴스를 생성\n",
        "\n",
        "    model = model_fun()\n",
        "\n",
        "    # model_paths에 있는 모든 모델에 대해 다음을 수행\n",
        "    for path in tqdm(model_paths, disable=disable_tqdm):\n",
        "\n",
        "        # 해당 경로의 모델 가중치를 로드\n",
        "        model.load_weights(path)\n",
        "\n",
        "        # 로드된 모델의 가중치를 numpy 배열로 변환\n",
        "        soup = [np.array(weights) for weights in model.weights]\n",
        "        # 변환된 가중치를 soups 리스트에 추가\n",
        "        soups.append(soup)\n",
        "\n",
        "    # 모든 모델의 가중치를 평균내어 mean_soup을 계산\n",
        "    mean_soup = np.array(soups).mean(axis = 0)\n",
        "\n",
        "    # 새로운 평균 가중치(mean_soup)를 기존 모델의 가중치로 설정\n",
        "    for w1, w2 in zip(model.weights, mean_soup ):\n",
        "        tf.keras.backend.set_value(w1, w2)\n",
        "\n",
        "    # 평균 가중치를 적용한 모델의 성능을 테스트 데이터셋에서 평가\n",
        "    accuracy =  evaluate_fun(model, test_ds)\n",
        "    # 평가된 정확도와 모델을 반환합니다.\n",
        "    return model, accuracy"
      ]
    },
    {
      "cell_type": "code",
      "execution_count": null,
      "id": "047376d8",
      "metadata": {
        "id": "047376d8"
      },
      "outputs": [],
      "source": [
        "def greedy_soup(model_paths, test_ds, model_fun, evaluate_fun):\n",
        "    \"\"\"\n",
        "    Returns Greedy Soup model and accuracy on test set\n",
        "    Args:\n",
        "    model_paths : List, List of saved model paths\n",
        "    test_ds : Test Dataset in tfds format.\n",
        "    model_fun : Fun, Model Instantiating Function\n",
        "    evaluate_fun : Fun, Model Test Set Evaluation Function\n",
        "    \"\"\"\n",
        "    # 첫 번째 모델(성능이 가장 좋은 것으로 가정)을 사용하여 초기 'soup'(모델의 조합)을 생성\n",
        "    soups =  [model_paths[0]]\n",
        "\n",
        "    # TensorFlow 백엔드 세션을 초기화\n",
        "\n",
        "    tf.keras.backend.clear_session()\n",
        "    # 새로운 모델 인스턴스를 생성\n",
        "    model = model_fun()\n",
        "\n",
        "    # 가장 성능이 좋은 모델의 가중치를 로드\n",
        "    model.load_weights(model_paths[0])\n",
        "\n",
        "    # 테스트 데이터셋에 대한 초기 모델의 성능을 평가\n",
        "    score_final = evaluate_fun(model,test_ds)\n",
        "\n",
        "    # 남은 모델들에 대해 반복\n",
        "    for path in tqdm(model_paths[1:]):\n",
        "\n",
        "        # 임시 'soup'을 생성하여 현재 모델을 추가\n",
        "        temp_soup =  soups.copy()\n",
        "        temp_soup.append(path)\n",
        "\n",
        "        # 임시 'soup'의 성능을 평가\n",
        "        model, score = uniform_soup(temp_soup,test_ds,model_fun, evaluate_fun, disable_tqdm= True)\n",
        "\n",
        "        # 임시 'soup'의 성능이 현재까지의 최고 성능보다 좋다면, 이를 메인 'soup'에 추가\n",
        "\n",
        "        if score > score_final:\n",
        "            score_final = score\n",
        "            soups.append(path)\n",
        "\n",
        "    # 최종적으로 선택된 모델과 그 성능을 반환\n",
        "    return model, score_final"
      ]
    },
    {
      "cell_type": "code",
      "execution_count": null,
      "id": "16efa52e",
      "metadata": {
        "id": "16efa52e",
        "outputId": "334b6903-3c12-4976-ec83-baf40bf3e8d7"
      },
      "outputs": [
        {
          "name": "stderr",
          "output_type": "stream",
          "text": [
            "INFO:absl:Load dataset info from /aiffel/tensorflow_datasets/cifar10/3.0.2\n",
            "INFO:absl:Reusing dataset cifar10 (/aiffel/tensorflow_datasets/cifar10/3.0.2)\n",
            "INFO:absl:Constructing tf.data.Dataset cifar10 for split ['train', 'test'], from /aiffel/tensorflow_datasets/cifar10/3.0.2\n"
          ]
        }
      ],
      "source": [
        "def z_score_normalize(image, label): # Z-score로 데이터를 정규화\n",
        "    \"\"\"\n",
        "    TFDS map function to normalize images using Z-score normalization\n",
        "    \"\"\"\n",
        "    image = tf.cast(image, tf.float32)\n",
        "    mean = tf.math.reduce_mean(image)\n",
        "    std_dev = tf.math.reduce_std(image)\n",
        "\n",
        "    image = (image - mean) / (std_dev + 1e-7)  # 작은 상수를 더해 0으로 나누는 것을 방지\n",
        "\n",
        "    return image, label\n",
        "\n",
        "def augment1(image, label): #채도와 밝기를 무작위로 조정\n",
        "    \"\"\"\n",
        "    TFDS map function to augument images randomly\n",
        "    \"\"\"\n",
        "    image = tf.image.random_saturation(image, 0.7, 1.3)\n",
        "    image = tf.image.random_brightness(image, 0.1)\n",
        "    return image, label\n",
        "\n",
        "def augment2(image, label): #좌우 반전과 밝기를 무작위로 변경\n",
        "    \"\"\"\n",
        "    TFDS map function to augument images randomly\n",
        "    \"\"\"\n",
        "    image = tf.image.random_flip_left_right(image)\n",
        "    image = tf.image.random_brightness(image, 0.1)\n",
        "    return image, label\n",
        "\n",
        "AUTO = tf.data.AUTOTUNE\n",
        "ignore_order = tf.data.Options()\n",
        "\n",
        "class image_config:\n",
        "    BATCH_SIZE = 64\n",
        "    SHUFFLE_BUFFER = 1024\n",
        "    NUM_MODELS = 20\n",
        "## tfds를 이용해 CIFAR-10 데이터셋을 불러옴\n",
        "cifar_train, cifar_test = tfds.load(\"cifar10\", split= [\"train\", \"test\"],  as_supervised=True)\n",
        "\n",
        "\n",
        "## 학습 데이터에 Z-스코어 정규화를 적용\n",
        "cifar_train = cifar_train.map(z_score_normalize, num_parallel_calls=AUTO)\n",
        "## 학습 데이터를 무작위로 셔플\n",
        "cifar_train = cifar_train.shuffle(image_config.SHUFFLE_BUFFER)\n",
        "## 학습 데이터를 배치로 나눔\n",
        "cifar_train = cifar_train.batch(image_config.BATCH_SIZE, drop_remainder= True)\n",
        "cifar_train = cifar_train.prefetch(AUTO)\n",
        "\n",
        "\n",
        "\n",
        "## 테스트 데이터셋에서 라벨만 추출\n",
        "test_ids_ds = cifar_test.map(lambda x,y : y)\n",
        "cifar_test_labels = next(iter(test_ids_ds.batch(len(test_ids_ds)))).numpy()\n",
        "\n",
        "\n",
        "\n",
        "## 테스트 데이터에도 Z-스코어 정규화를 적용\n",
        "cifar_test = cifar_test.map(z_score_normalize, num_parallel_calls=AUTO)\n",
        "## 테스트 데이터를 배치로 나눔\n",
        "cifar_test = cifar_test.batch(image_config.BATCH_SIZE, drop_remainder=False)\n",
        "cifar_test = cifar_test.prefetch(AUTO)"
      ]
    },
    {
      "cell_type": "code",
      "execution_count": null,
      "id": "8d98afc9",
      "metadata": {
        "id": "8d98afc9"
      },
      "outputs": [],
      "source": [
        "def create_cifar_model(weights=\"imagenet\"):\n",
        "    \"\"\"\n",
        "    ResNet모델 반환\n",
        "    Args:\n",
        "    weights : 사전 훈련된 가중\n",
        "    \"\"\"\n",
        "    # ResNet을 불러와서 기본 모델을 생성\n",
        "    feature_extractor = tf.keras.applications.ResNet50(input_shape=(32,32, 3),\n",
        "                                               include_top=False,\n",
        "                                               weights=weights)\n",
        "    model= tf.keras.Sequential()\n",
        "\n",
        "    # 커스텀 레이어 추가\n",
        "    model= tf.keras.Sequential()\n",
        "    model.add(feature_extractor)\n",
        "    model.add(tf.keras.layers.GlobalAveragePooling2D())\n",
        "    model.add(tf.keras.layers.Dense(1024,activation='relu'))\n",
        "    model.add(tf.keras.layers.Dropout(0.3))\n",
        "    model.add(tf.keras.layers.Dense(512,activation='relu'))\n",
        "    model.add(tf.keras.layers.Dropout(0.2))\n",
        "    model.add(tf.keras.layers.Dense(10,activation='softmax'))\n",
        "\n",
        "\n",
        "    return model"
      ]
    },
    {
      "cell_type": "code",
      "execution_count": null,
      "id": "f21cd8de",
      "metadata": {
        "id": "f21cd8de",
        "outputId": "0e28f159-20f0-424c-9ce5-1340e96de8db"
      },
      "outputs": [
        {
          "name": "stdout",
          "output_type": "stream",
          "text": [
            "Model: \"sequential_1\"\n",
            "_________________________________________________________________\n",
            "Layer (type)                 Output Shape              Param #   \n",
            "=================================================================\n",
            "resnet50 (Functional)        (None, 1, 1, 2048)        23587712  \n",
            "_________________________________________________________________\n",
            "global_average_pooling2d (Gl (None, 2048)              0         \n",
            "_________________________________________________________________\n",
            "dense (Dense)                (None, 1024)              2098176   \n",
            "_________________________________________________________________\n",
            "dropout (Dropout)            (None, 1024)              0         \n",
            "_________________________________________________________________\n",
            "dense_1 (Dense)              (None, 512)               524800    \n",
            "_________________________________________________________________\n",
            "dropout_1 (Dropout)          (None, 512)               0         \n",
            "_________________________________________________________________\n",
            "dense_2 (Dense)              (None, 10)                5130      \n",
            "=================================================================\n",
            "Total params: 26,215,818\n",
            "Trainable params: 26,162,698\n",
            "Non-trainable params: 53,120\n",
            "_________________________________________________________________\n"
          ]
        }
      ],
      "source": [
        "model = create_cifar_model()\n",
        "model.summary()"
      ]
    },
    {
      "cell_type": "code",
      "execution_count": null,
      "id": "17a027ef",
      "metadata": {
        "id": "17a027ef",
        "outputId": "face0135-ff51-4f69-cf46-8d8b82664e6c",
        "colab": {
          "referenced_widgets": [
            "d9d733494de74d1cb05867124d642226"
          ]
        }
      },
      "outputs": [
        {
          "data": {
            "application/vnd.jupyter.widget-view+json": {
              "model_id": "d9d733494de74d1cb05867124d642226",
              "version_major": 2,
              "version_minor": 0
            },
            "text/plain": [
              "  0%|          | 0/20 [00:00<?, ?it/s]"
            ]
          },
          "metadata": {},
          "output_type": "display_data"
        },
        {
          "name": "stdout",
          "output_type": "stream",
          "text": [
            "157/157 [==============================] - 4s 17ms/step - loss: 0.8491 - accuracy: 0.7587\n",
            "157/157 [==============================] - 4s 16ms/step - loss: 0.7497 - accuracy: 0.7527\n",
            "157/157 [==============================] - 3s 15ms/step - loss: 0.8241 - accuracy: 0.7194\n",
            "157/157 [==============================] - 3s 16ms/step - loss: 0.7403 - accuracy: 0.7924\n",
            "157/157 [==============================] - 4s 16ms/step - loss: 0.6146 - accuracy: 0.8154\n",
            "157/157 [==============================] - 3s 15ms/step - loss: 0.6739 - accuracy: 0.7742\n",
            "157/157 [==============================] - 3s 15ms/step - loss: 0.9535 - accuracy: 0.7082\n",
            "157/157 [==============================] - 3s 15ms/step - loss: 0.8198 - accuracy: 0.7677\n",
            "157/157 [==============================] - 3s 16ms/step - loss: 0.7136 - accuracy: 0.7977\n",
            "157/157 [==============================] - 3s 15ms/step - loss: 0.6985 - accuracy: 0.8049\n",
            "157/157 [==============================] - 3s 16ms/step - loss: 0.8070 - accuracy: 0.7766\n",
            "157/157 [==============================] - 3s 16ms/step - loss: 0.6730 - accuracy: 0.7717\n",
            "157/157 [==============================] - 4s 16ms/step - loss: 0.8965 - accuracy: 0.7962\n",
            "157/157 [==============================] - 3s 17ms/step - loss: 0.5695 - accuracy: 0.8267\n",
            "157/157 [==============================] - 3s 15ms/step - loss: 0.6328 - accuracy: 0.7939\n",
            "157/157 [==============================] - 3s 15ms/step - loss: 0.8052 - accuracy: 0.7764\n",
            "157/157 [==============================] - 3s 16ms/step - loss: 0.7976 - accuracy: 0.8042\n",
            "157/157 [==============================] - 3s 15ms/step - loss: 0.7286 - accuracy: 0.7500\n",
            "157/157 [==============================] - 4s 15ms/step - loss: 0.8190 - accuracy: 0.7945\n",
            "157/157 [==============================] - 3s 16ms/step - loss: 0.7697 - accuracy: 0.7846\n"
          ]
        }
      ],
      "source": [
        "def cifar_training(train_ds,\n",
        "                   test_ds,\n",
        "                   epochs,\n",
        "                   learning_rate,\n",
        "                   weight_decay,\n",
        "                   aug_map=None,\n",
        "                   save_dir=\"cifar/\"):\n",
        "    \"\"\"\n",
        "    훈련된 모델의 저장 경로와 테스트 세트에서의 평가 점수가 반환\n",
        "    Args:\n",
        "    train_ds : tfds포멧의 훈련 데이터셋\n",
        "    test_ds : tfds포멧의 훈련 데이터셋\n",
        "    epochs : 정수형, 에폭수\n",
        "    learning_rate : 실수형, 학습률\n",
        "    weight_decay : 실수형, AdamW 옵티마이저의 가중치 갑소값\n",
        "    aug_map: 훈련 데이터셋에 적용할 데이터 증강\n",
        "    save_dir : 모델을 저장할 디렉토리 접두사\n",
        "    \"\"\"\n",
        "    ## 지정 디렉토리가 존재하지 않을경우 모델을 저장하는 디렉토리 생성\n",
        "    if not os.path.isdir(save_dir):\n",
        "        os.makedirs(save_dir)\n",
        "\n",
        "    ## aug가 적용되지 않았을 경우 훈련 데이터에 증강을 적용\n",
        "    is_aug = False\n",
        "    if aug_map is not None:\n",
        "        train_ds = train_ds.unbatch().map(aug_map).batch(image_config.BATCH_SIZE).prefetch(AUTO)\n",
        "        is_aug = True\n",
        "    ## AdamW 옵티마이저 사용 (Adam + 가중치 감쇠 추가)\n",
        "    adamw_optimizer = tfa.optimizers.AdamW(weight_decay=weight_decay,\n",
        "                                           learning_rate=learning_rate)\n",
        "\n",
        "    ## 새로운 모델을 생성하기 전에 TensorFlow의 백엔드 세션을 초기\n",
        "    tf.keras.backend.clear_session()\n",
        "    model = create_cifar_model()\n",
        "\n",
        "    ## 모델 컴파일\n",
        "    model.compile(\n",
        "\n",
        "        optimizer=adamw_optimizer,\n",
        "        loss=\"sparse_categorical_crossentropy\",\n",
        "        metrics=[\"accuracy\"]\n",
        "    )\n",
        "\n",
        "    ## 모델 훈련\n",
        "    model.fit(\n",
        "        train_ds,\n",
        "        epochs=epochs,\n",
        "        verbose=0\n",
        "    )\n",
        "\n",
        "    ## 모델 평가\n",
        "    test_loss, test_score = model.evaluate(test_ds, verbose=1)\n",
        "\n",
        "    ## 훈련된 모델 저장\n",
        "    model_save_path = save_dir + \"cifar-\" + str(epochs) + \"_\" + str(learning_rate) + \"_\" + str(\n",
        "        weight_decay) + \"_\" + str(int(is_aug)) + \".h5\"\n",
        "    if not os.path.isdir(save_dir):\n",
        "        model.save_weights(model_save_path)\n",
        "    else:\n",
        "        ## 동일한 파라미터 설정으로 모델이 이미 저장되어 있을경우\n",
        "        model_save_path = save_dir + \"cifar-\" + str(epochs) + \"_\" + str(learning_rate) + \"_\" + str(weight_decay) + str(\n",
        "            random.choice(np.arange(0, 1000))) + \".h5\"# 새로운 경로 생성\n",
        "        model.save_weights(model_save_path)# 그곳에 모델의 가중치를 저장 (동일한 파라미터로 훈련되었더라도 여러 버전의 모델을 별도로 저장가능)\n",
        "\n",
        "    ## GPU 메모리 정리\n",
        "\n",
        "    del model\n",
        "    gc.collect()\n",
        "    return model_save_path, test_score\n",
        "\n",
        "\n",
        "def cifar_eval(model, test_ds):\n",
        "    \"\"\"\n",
        "    Returns Accuracy of model on test set\n",
        "    Args:\n",
        "    model : Trained tensorflow model\n",
        "    test_ds : Test dataset for evaluation\n",
        "    \"\"\"\n",
        "    # 모델을 사용하여 테스트 데이터셋에 대한 예측을 수행\n",
        "    preds = model.predict(test_ds)\n",
        "    # 예측 결과는 각 클래스에 대한 확률값을 담은 배열\n",
        "    # argmax 함수를 사용하여 가장 확률이 높은 클래스의 인덱스를 찾는다.\n",
        "    preds = preds.argmax(axis=1)\n",
        "    # 실제 테스트 레이블과 예측한 레이블을 비교하여 맞춘 개수를 계산\n",
        "    acc = np.sum(preds == cifar_test_labels) / len(cifar_test_labels)\n",
        "    return acc\n",
        "# 하이퍼 파라미터 후보를 리스트로 정의\n",
        "epochs = [8, 10, 12]\n",
        "learning_rate = [1e-4, 1e-5, 5e-5]\n",
        "weight_decay = [1e-4, 1e-4, 1e-5]\n",
        "augments = [None, augment1, augment2]\n",
        "\n",
        "# 하이퍼파라미터 조합을 무작위로 선택하여 딕셔너리를 생성\n",
        "\n",
        "parameters = [{\n",
        "    \"epochs\": random.choice(epochs),\n",
        "    \"learning_rate\": random.choice(learning_rate),\n",
        "    \"weight_decay\": random.choice(weight_decay),\n",
        "    \"aug_map\": random.choice(augments)\n",
        "} for count in range(image_config.NUM_MODELS)]\n",
        "cifar_params = pd.DataFrame(parameters)\n",
        "\n",
        "# 모델의 저장 경로와 테스트 점수를 저장할 리스트를 초기화\n",
        "model_paths = []\n",
        "test_scores = []\n",
        "# 각 하이퍼파라미터 조합에 대해 모델을 훈련하고 테스트\n",
        "for params in tqdm(parameters):\n",
        "    model_save_path, test_score = cifar_training(cifar_train,\n",
        "                                                 cifar_test,\n",
        "                                                 params[\"epochs\"],\n",
        "                                                 params[\"learning_rate\"],\n",
        "                                                 params[\"weight_decay\"],\n",
        "                                                 params[\"aug_map\"],\n",
        "                                                 save_dir=\"cifar/\")\n",
        "    # 훈련된 모델의 저장 경로와 테스트 점수를 저장\n",
        "\n",
        "    model_paths.append(model_save_path)\n",
        "    test_scores.append(test_score)\n",
        "\n",
        "## 모델의 저장 경로와 테스트 점수를 DataFrame에 추가\n",
        "cifar_params[\"paths\"] = model_paths\n",
        "cifar_params[\"scores\"] = test_scores\n",
        "\n",
        "##  테스트 점수를 기준으로 DataFrame을 정렬\n",
        "cifar_params.sort_values(by=\"scores\", ascending=False, inplace=True)\n",
        "cifar_params.reset_index(drop=True, inplace=True)\n",
        "\n",
        "## 하이퍼파라미터, 모델 경로, 테스트 점수를 CSV 파일로 저장\n",
        "cifar_params.to_csv(\"cifar_params.csv\", index=False)\n"
      ]
    },
    {
      "cell_type": "code",
      "execution_count": null,
      "id": "9cc27242",
      "metadata": {
        "id": "9cc27242",
        "outputId": "ab7ae178-16cf-4c4e-895e-5cdcdadbac8e",
        "colab": {
          "referenced_widgets": [
            "0000521bc8ad497b9e565c3b190c7bbf"
          ]
        }
      },
      "outputs": [
        {
          "data": {
            "application/vnd.jupyter.widget-view+json": {
              "model_id": "0000521bc8ad497b9e565c3b190c7bbf",
              "version_major": 2,
              "version_minor": 0
            },
            "text/plain": [
              "  0%|          | 0/20 [00:00<?, ?it/s]"
            ]
          },
          "metadata": {},
          "output_type": "display_data"
        },
        {
          "name": "stdout",
          "output_type": "stream",
          "text": [
            "Accuracy of Uniform Soup: 0.1\n"
          ]
        }
      ],
      "source": [
        "unifrom_soup_model, uniform_soup_acc = uniform_soup(\n",
        "    cifar_params[\"paths\"].values,\n",
        "    cifar_test,\n",
        "    create_cifar_model,\n",
        "    cifar_eval\n",
        ")\n",
        "print(\"Accuracy of Uniform Soup:\", uniform_soup_acc )"
      ]
    },
    {
      "cell_type": "code",
      "execution_count": null,
      "id": "a9adbd70",
      "metadata": {
        "id": "a9adbd70",
        "outputId": "85ceb1de-dcf2-4893-c0fc-5c7bc76c87ee",
        "colab": {
          "referenced_widgets": [
            "37dcb2f11f5e4b4fbf6dc3a64c14acb9"
          ]
        }
      },
      "outputs": [
        {
          "data": {
            "application/vnd.jupyter.widget-view+json": {
              "model_id": "37dcb2f11f5e4b4fbf6dc3a64c14acb9",
              "version_major": 2,
              "version_minor": 0
            },
            "text/plain": [
              "  0%|          | 0/19 [00:00<?, ?it/s]"
            ]
          },
          "metadata": {},
          "output_type": "display_data"
        },
        {
          "name": "stdout",
          "output_type": "stream",
          "text": [
            "Accuracy of Greedy Soup: 0.8379\n"
          ]
        }
      ],
      "source": [
        "# Greedy_Soup 함수를 호출하여 최적의 모델 조합을 찾고 정확도를 출력\n",
        "\n",
        "greedy_soup_model, greedy_soup_acc = greedy_soup(\n",
        "    cifar_params[\"paths\"].values,\n",
        "    cifar_test,\n",
        "    create_cifar_model,\n",
        "    cifar_eval\n",
        ")\n",
        "print(\"Accuracy of Greedy Soup:\", greedy_soup_acc)"
      ]
    },
    {
      "cell_type": "code",
      "execution_count": null,
      "id": "53ee7214",
      "metadata": {
        "id": "53ee7214",
        "outputId": "b7966638-d6c4-47ee-adeb-d69f27ffafdb"
      },
      "outputs": [
        {
          "data": {
            "image/png": "[encoded data removed]",
            "text/plain": [
              "<Figure size 1296x360 with 1 Axes>"
            ]
          },
          "metadata": {
            "needs_background": "light"
          },
          "output_type": "display_data"
        }
      ],
      "source": [
        "uniform_soup_pos = cifar_params[cifar_params[\"scores\"].values[::-1] > uniform_soup_acc].index[0] - 0.5\n",
        "\n",
        "fig, ax = plt.subplots(figsize = (18,5))\n",
        "plt.plot( cifar_params[\"scores\"].values[::-1], \"bo\", label = \"Individual Models\")\n",
        "plt.plot( uniform_soup_pos,uniform_soup_acc,  marker= \"D\", color = \"green\", markersize = 12, label = \"Uniform Soup\")\n",
        "plt.plot( len(cifar_params), greedy_soup_acc,  marker= \"^\", color = \"red\", markersize = 12, label = \"Greedy Soup\")\n",
        "ax.get_xaxis().set_visible(False)\n",
        "plt.ylabel(\"Accuracy\")\n",
        "plt.title(\"Model Soups on CIFAR 10 Data\")\n",
        "plt.legend();"
      ]
    }
  ],
  "metadata": {
    "kernelspec": {
      "display_name": "Python 3 (ipykernel)",
      "language": "python",
      "name": "python3"
    },
    "language_info": {
      "codemirror_mode": {
        "name": "ipython",
        "version": 3
      },
      "file_extension": ".py",
      "mimetype": "text/x-python",
      "name": "python",
      "nbconvert_exporter": "python",
      "pygments_lexer": "ipython3",
      "version": "3.9.7"
    },
    "colab": {
      "provenance": [],
      "include_colab_link": true
    }
  },
  "nbformat": 4,
  "nbformat_minor": 5
}