{
  "nbformat": 4,
  "nbformat_minor": 0,
  "metadata": {
    "colab": {
      "provenance": [],
      "gpuType": "V100",
      "mount_file_id": "1l0MY4ZIwkKzI3lZa_Amz2REsWaIswoCa",
      "authorship_tag": "ABX9TyM5137CpOqTlo1ppGgY+fUA",
      "include_colab_link": true
    },
    "kernelspec": {
      "name": "python3",
      "display_name": "Python 3"
    },
    "language_info": {
      "name": "python"
    },
    "accelerator": "GPU"
  },
  "cells": [
    {
      "cell_type": "markdown",
      "metadata": {
        "id": "view-in-github",
        "colab_type": "text"
      },
      "source": [
        "<a href=\"https://colab.research.google.com/github/5655530/AIFFEL_CORE_QUEST/blob/main/News_Summary.ipynb\" target=\"_parent\"><img src=\"https://colab.research.google.com/assets/colab-badge.svg\" alt=\"Open In Colab\"/></a>"
      ]
    },
    {
      "cell_type": "markdown",
      "source": [
        "## **1-1 데이터 준비하기**"
      ],
      "metadata": {
        "id": "g0tiQF75dEaE"
      }
    },
    {
      "cell_type": "code",
      "execution_count": 2,
      "metadata": {
        "colab": {
          "base_uri": "https://localhost:8080/"
        },
        "id": "_j9D7Qv2chRx",
        "outputId": "3b22fd53-7654-43f7-ab6a-f27066b5bad8"
      },
      "outputs": [
        {
          "output_type": "stream",
          "name": "stderr",
          "text": [
            "[nltk_data] Downloading package stopwords to /root/nltk_data...\n",
            "[nltk_data]   Unzipping corpora/stopwords.zip.\n"
          ]
        },
        {
          "output_type": "stream",
          "name": "stdout",
          "text": [
            "=3\n"
          ]
        }
      ],
      "source": [
        "import nltk\n",
        "nltk.download('stopwords')\n",
        "\n",
        "import numpy as np\n",
        "import pandas as pd\n",
        "import os\n",
        "import re\n",
        "import matplotlib.pyplot as plt\n",
        "from nltk.corpus import stopwords\n",
        "from bs4 import BeautifulSoup\n",
        "from tensorflow.keras.preprocessing.text import Tokenizer\n",
        "from tensorflow.keras.preprocessing.sequence import pad_sequences\n",
        "import urllib.request\n",
        "import warnings\n",
        "warnings.filterwarnings(\"ignore\", category=UserWarning, module='bs4')\n",
        "\n",
        "print('=3')"
      ]
    },
    {
      "cell_type": "code",
      "source": [
        "!unzip -qq \"/content/drive/MyDrive/Reviews.csv.zip\""
      ],
      "metadata": {
        "id": "gqEk7iv9dEG1"
      },
      "execution_count": 3,
      "outputs": []
    },
    {
      "cell_type": "code",
      "source": [
        "data = pd.read_csv(\"/content/Reviews.csv\", nrows=100000)\n",
        "print('전체 샘플수 :', (len(data)))"
      ],
      "metadata": {
        "colab": {
          "base_uri": "https://localhost:8080/"
        },
        "id": "ECHFbwWvhfMe",
        "outputId": "151f184b-6dea-4d9c-9391-e1c378d6e2b5"
      },
      "execution_count": 4,
      "outputs": [
        {
          "output_type": "stream",
          "name": "stdout",
          "text": [
            "전체 샘플수 : 100000\n"
          ]
        }
      ]
    },
    {
      "cell_type": "code",
      "source": [
        "data.head()"
      ],
      "metadata": {
        "colab": {
          "base_uri": "https://localhost:8080/",
          "height": 678
        },
        "id": "tyyMbI-giEPy",
        "outputId": "335e858e-7772-4527-c064-a78a5740b209"
      },
      "execution_count": 5,
      "outputs": [
        {
          "output_type": "execute_result",
          "data": {
            "text/plain": [
              "   Id   ProductId          UserId                      ProfileName  \\\n",
              "0   1  B001E4KFG0  A3SGXH7AUHU8GW                       delmartian   \n",
              "1   2  B00813GRG4  A1D87F6ZCVE5NK                           dll pa   \n",
              "2   3  B000LQOCH0   ABXLMWJIXXAIN  Natalia Corres \"Natalia Corres\"   \n",
              "3   4  B000UA0QIQ  A395BORC6FGVXV                             Karl   \n",
              "4   5  B006K2ZZ7K  A1UQRSCLF8GW1T    Michael D. Bigham \"M. Wassir\"   \n",
              "\n",
              "   HelpfulnessNumerator  HelpfulnessDenominator  Score        Time  \\\n",
              "0                     1                       1      5  1303862400   \n",
              "1                     0                       0      1  1346976000   \n",
              "2                     1                       1      4  1219017600   \n",
              "3                     3                       3      2  1307923200   \n",
              "4                     0                       0      5  1350777600   \n",
              "\n",
              "                 Summary                                               Text  \n",
              "0  Good Quality Dog Food  I have bought several of the Vitality canned d...  \n",
              "1      Not as Advertised  Product arrived labeled as Jumbo Salted Peanut...  \n",
              "2  \"Delight\" says it all  This is a confection that has been around a fe...  \n",
              "3         Cough Medicine  If you are looking for the secret ingredient i...  \n",
              "4            Great taffy  Great taffy at a great price.  There was a wid...  "
            ],
            "text/html": [
              "\n",
              "  <div id=\"df-94e18f94-ed54-461d-b7fd-eb7acf13068b\" class=\"colab-df-container\">\n",
              "    <div>\n",
              "<style scoped>\n",
              "    .dataframe tbody tr th:only-of-type {\n",
              "        vertical-align: middle;\n",
              "    }\n",
              "\n",
              "    .dataframe tbody tr th {\n",
              "        vertical-align: top;\n",
              "    }\n",
              "\n",
              "    .dataframe thead th {\n",
              "        text-align: right;\n",
              "    }\n",
              "</style>\n",
              "<table border=\"1\" class=\"dataframe\">\n",
              "  <thead>\n",
              "    <tr style=\"text-align: right;\">\n",
              "      <th></th>\n",
              "      <th>Id</th>\n",
              "      <th>ProductId</th>\n",
              "      <th>UserId</th>\n",
              "      <th>ProfileName</th>\n",
              "      <th>HelpfulnessNumerator</th>\n",
              "      <th>HelpfulnessDenominator</th>\n",
              "      <th>Score</th>\n",
              "      <th>Time</th>\n",
              "      <th>Summary</th>\n",
              "      <th>Text</th>\n",
              "    </tr>\n",
              "  </thead>\n",
              "  <tbody>\n",
              "    <tr>\n",
              "      <th>0</th>\n",
              "      <td>1</td>\n",
              "      <td>B001E4KFG0</td>\n",
              "      <td>A3SGXH7AUHU8GW</td>\n",
              "      <td>delmartian</td>\n",
              "      <td>1</td>\n",
              "      <td>1</td>\n",
              "      <td>5</td>\n",
              "      <td>1303862400</td>\n",
              "      <td>Good Quality Dog Food</td>\n",
              "      <td>I have bought several of the Vitality canned d...</td>\n",
              "    </tr>\n",
              "    <tr>\n",
              "      <th>1</th>\n",
              "      <td>2</td>\n",
              "      <td>B00813GRG4</td>\n",
              "      <td>A1D87F6ZCVE5NK</td>\n",
              "      <td>dll pa</td>\n",
              "      <td>0</td>\n",
              "      <td>0</td>\n",
              "      <td>1</td>\n",
              "      <td>1346976000</td>\n",
              "      <td>Not as Advertised</td>\n",
              "      <td>Product arrived labeled as Jumbo Salted Peanut...</td>\n",
              "    </tr>\n",
              "    <tr>\n",
              "      <th>2</th>\n",
              "      <td>3</td>\n",
              "      <td>B000LQOCH0</td>\n",
              "      <td>ABXLMWJIXXAIN</td>\n",
              "      <td>Natalia Corres \"Natalia Corres\"</td>\n",
              "      <td>1</td>\n",
              "      <td>1</td>\n",
              "      <td>4</td>\n",
              "      <td>1219017600</td>\n",
              "      <td>\"Delight\" says it all</td>\n",
              "      <td>This is a confection that has been around a fe...</td>\n",
              "    </tr>\n",
              "    <tr>\n",
              "      <th>3</th>\n",
              "      <td>4</td>\n",
              "      <td>B000UA0QIQ</td>\n",
              "      <td>A395BORC6FGVXV</td>\n",
              "      <td>Karl</td>\n",
              "      <td>3</td>\n",
              "      <td>3</td>\n",
              "      <td>2</td>\n",
              "      <td>1307923200</td>\n",
              "      <td>Cough Medicine</td>\n",
              "      <td>If you are looking for the secret ingredient i...</td>\n",
              "    </tr>\n",
              "    <tr>\n",
              "      <th>4</th>\n",
              "      <td>5</td>\n",
              "      <td>B006K2ZZ7K</td>\n",
              "      <td>A1UQRSCLF8GW1T</td>\n",
              "      <td>Michael D. Bigham \"M. Wassir\"</td>\n",
              "      <td>0</td>\n",
              "      <td>0</td>\n",
              "      <td>5</td>\n",
              "      <td>1350777600</td>\n",
              "      <td>Great taffy</td>\n",
              "      <td>Great taffy at a great price.  There was a wid...</td>\n",
              "    </tr>\n",
              "  </tbody>\n",
              "</table>\n",
              "</div>\n",
              "    <div class=\"colab-df-buttons\">\n",
              "\n",
              "  <div class=\"colab-df-container\">\n",
              "    <button class=\"colab-df-convert\" onclick=\"convertToInteractive('df-94e18f94-ed54-461d-b7fd-eb7acf13068b')\"\n",
              "            title=\"Convert this dataframe to an interactive table.\"\n",
              "            style=\"display:none;\">\n",
              "\n",
              "  <svg xmlns=\"http://www.w3.org/2000/svg\" height=\"24px\" viewBox=\"0 -960 960 960\">\n",
              "    <path d=\"M120-120v-720h720v720H120Zm60-500h600v-160H180v160Zm220 220h160v-160H400v160Zm0 220h160v-160H400v160ZM180-400h160v-160H180v160Zm440 0h160v-160H620v160ZM180-180h160v-160H180v160Zm440 0h160v-160H620v160Z\"/>\n",
              "  </svg>\n",
              "    </button>\n",
              "\n",
              "  <style>\n",
              "    .colab-df-container {\n",
              "      display:flex;\n",
              "      gap: 12px;\n",
              "    }\n",
              "\n",
              "    .colab-df-convert {\n",
              "      background-color: #E8F0FE;\n",
              "      border: none;\n",
              "      border-radius: 50%;\n",
              "      cursor: pointer;\n",
              "      display: none;\n",
              "      fill: #1967D2;\n",
              "      height: 32px;\n",
              "      padding: 0 0 0 0;\n",
              "      width: 32px;\n",
              "    }\n",
              "\n",
              "    .colab-df-convert:hover {\n",
              "      background-color: #E2EBFA;\n",
              "      box-shadow: 0px 1px 2px rgba(60, 64, 67, 0.3), 0px 1px 3px 1px rgba(60, 64, 67, 0.15);\n",
              "      fill: #174EA6;\n",
              "    }\n",
              "\n",
              "    .colab-df-buttons div {\n",
              "      margin-bottom: 4px;\n",
              "    }\n",
              "\n",
              "    [theme=dark] .colab-df-convert {\n",
              "      background-color: #3B4455;\n",
              "      fill: #D2E3FC;\n",
              "    }\n",
              "\n",
              "    [theme=dark] .colab-df-convert:hover {\n",
              "      background-color: #434B5C;\n",
              "      box-shadow: 0px 1px 3px 1px rgba(0, 0, 0, 0.15);\n",
              "      filter: drop-shadow(0px 1px 2px rgba(0, 0, 0, 0.3));\n",
              "      fill: #FFFFFF;\n",
              "    }\n",
              "  </style>\n",
              "\n",
              "    <script>\n",
              "      const buttonEl =\n",
              "        document.querySelector('#df-94e18f94-ed54-461d-b7fd-eb7acf13068b button.colab-df-convert');\n",
              "      buttonEl.style.display =\n",
              "        google.colab.kernel.accessAllowed ? 'block' : 'none';\n",
              "\n",
              "      async function convertToInteractive(key) {\n",
              "        const element = document.querySelector('#df-94e18f94-ed54-461d-b7fd-eb7acf13068b');\n",
              "        const dataTable =\n",
              "          await google.colab.kernel.invokeFunction('convertToInteractive',\n",
              "                                                    [key], {});\n",
              "        if (!dataTable) return;\n",
              "\n",
              "        const docLinkHtml = 'Like what you see? Visit the ' +\n",
              "          '<a target=\"_blank\" href=https://colab.research.google.com/notebooks/data_table.ipynb>data table notebook</a>'\n",
              "          + ' to learn more about interactive tables.';\n",
              "        element.innerHTML = '';\n",
              "        dataTable['output_type'] = 'display_data';\n",
              "        await google.colab.output.renderOutput(dataTable, element);\n",
              "        const docLink = document.createElement('div');\n",
              "        docLink.innerHTML = docLinkHtml;\n",
              "        element.appendChild(docLink);\n",
              "      }\n",
              "    </script>\n",
              "  </div>\n",
              "\n",
              "\n",
              "<div id=\"df-648203bf-fd74-40f3-8722-5f7cab2160f3\">\n",
              "  <button class=\"colab-df-quickchart\" onclick=\"quickchart('df-648203bf-fd74-40f3-8722-5f7cab2160f3')\"\n",
              "            title=\"Suggest charts.\"\n",
              "            style=\"display:none;\">\n",
              "\n",
              "<svg xmlns=\"http://www.w3.org/2000/svg\" height=\"24px\"viewBox=\"0 0 24 24\"\n",
              "     width=\"24px\">\n",
              "    <g>\n",
              "        <path d=\"M19 3H5c-1.1 0-2 .9-2 2v14c0 1.1.9 2 2 2h14c1.1 0 2-.9 2-2V5c0-1.1-.9-2-2-2zM9 17H7v-7h2v7zm4 0h-2V7h2v10zm4 0h-2v-4h2v4z\"/>\n",
              "    </g>\n",
              "</svg>\n",
              "  </button>\n",
              "\n",
              "<style>\n",
              "  .colab-df-quickchart {\n",
              "      --bg-color: #E8F0FE;\n",
              "      --fill-color: #1967D2;\n",
              "      --hover-bg-color: #E2EBFA;\n",
              "      --hover-fill-color: #174EA6;\n",
              "      --disabled-fill-color: #AAA;\n",
              "      --disabled-bg-color: #DDD;\n",
              "  }\n",
              "\n",
              "  [theme=dark] .colab-df-quickchart {\n",
              "      --bg-color: #3B4455;\n",
              "      --fill-color: #D2E3FC;\n",
              "      --hover-bg-color: #434B5C;\n",
              "      --hover-fill-color: #FFFFFF;\n",
              "      --disabled-bg-color: #3B4455;\n",
              "      --disabled-fill-color: #666;\n",
              "  }\n",
              "\n",
              "  .colab-df-quickchart {\n",
              "    background-color: var(--bg-color);\n",
              "    border: none;\n",
              "    border-radius: 50%;\n",
              "    cursor: pointer;\n",
              "    display: none;\n",
              "    fill: var(--fill-color);\n",
              "    height: 32px;\n",
              "    padding: 0;\n",
              "    width: 32px;\n",
              "  }\n",
              "\n",
              "  .colab-df-quickchart:hover {\n",
              "    background-color: var(--hover-bg-color);\n",
              "    box-shadow: 0 1px 2px rgba(60, 64, 67, 0.3), 0 1px 3px 1px rgba(60, 64, 67, 0.15);\n",
              "    fill: var(--button-hover-fill-color);\n",
              "  }\n",
              "\n",
              "  .colab-df-quickchart-complete:disabled,\n",
              "  .colab-df-quickchart-complete:disabled:hover {\n",
              "    background-color: var(--disabled-bg-color);\n",
              "    fill: var(--disabled-fill-color);\n",
              "    box-shadow: none;\n",
              "  }\n",
              "\n",
              "  .colab-df-spinner {\n",
              "    border: 2px solid var(--fill-color);\n",
              "    border-color: transparent;\n",
              "    border-bottom-color: var(--fill-color);\n",
              "    animation:\n",
              "      spin 1s steps(1) infinite;\n",
              "  }\n",
              "\n",
              "  @keyframes spin {\n",
              "    0% {\n",
              "      border-color: transparent;\n",
              "      border-bottom-color: var(--fill-color);\n",
              "      border-left-color: var(--fill-color);\n",
              "    }\n",
              "    20% {\n",
              "      border-color: transparent;\n",
              "      border-left-color: var(--fill-color);\n",
              "      border-top-color: var(--fill-color);\n",
              "    }\n",
              "    30% {\n",
              "      border-color: transparent;\n",
              "      border-left-color: var(--fill-color);\n",
              "      border-top-color: var(--fill-color);\n",
              "      border-right-color: var(--fill-color);\n",
              "    }\n",
              "    40% {\n",
              "      border-color: transparent;\n",
              "      border-right-color: var(--fill-color);\n",
              "      border-top-color: var(--fill-color);\n",
              "    }\n",
              "    60% {\n",
              "      border-color: transparent;\n",
              "      border-right-color: var(--fill-color);\n",
              "    }\n",
              "    80% {\n",
              "      border-color: transparent;\n",
              "      border-right-color: var(--fill-color);\n",
              "      border-bottom-color: var(--fill-color);\n",
              "    }\n",
              "    90% {\n",
              "      border-color: transparent;\n",
              "      border-bottom-color: var(--fill-color);\n",
              "    }\n",
              "  }\n",
              "</style>\n",
              "\n",
              "  <script>\n",
              "    async function quickchart(key) {\n",
              "      const quickchartButtonEl =\n",
              "        document.querySelector('#' + key + ' button');\n",
              "      quickchartButtonEl.disabled = true;  // To prevent multiple clicks.\n",
              "      quickchartButtonEl.classList.add('colab-df-spinner');\n",
              "      try {\n",
              "        const charts = await google.colab.kernel.invokeFunction(\n",
              "            'suggestCharts', [key], {});\n",
              "      } catch (error) {\n",
              "        console.error('Error during call to suggestCharts:', error);\n",
              "      }\n",
              "      quickchartButtonEl.classList.remove('colab-df-spinner');\n",
              "      quickchartButtonEl.classList.add('colab-df-quickchart-complete');\n",
              "    }\n",
              "    (() => {\n",
              "      let quickchartButtonEl =\n",
              "        document.querySelector('#df-648203bf-fd74-40f3-8722-5f7cab2160f3 button');\n",
              "      quickchartButtonEl.style.display =\n",
              "        google.colab.kernel.accessAllowed ? 'block' : 'none';\n",
              "    })();\n",
              "  </script>\n",
              "</div>\n",
              "    </div>\n",
              "  </div>\n"
            ]
          },
          "metadata": {},
          "execution_count": 5
        }
      ]
    },
    {
      "cell_type": "markdown",
      "source": [
        "전체 데이터 중 Summary 열과 Text 열만 훈련에 사용할 거라, 이 두 개의 열만 별도로 저장하고, 다시 출력"
      ],
      "metadata": {
        "id": "ONm4wBhzjE5z"
      }
    },
    {
      "cell_type": "code",
      "source": [
        "data = data[['Text', 'Summary']]\n",
        "data.head()\n",
        "\n",
        "#랜덤한 15개 샘플 출력\n",
        "data.sample(15)"
      ],
      "metadata": {
        "colab": {
          "base_uri": "https://localhost:8080/",
          "height": 520
        },
        "id": "Sy8RXxdriEgH",
        "outputId": "b0568fe3-67c7-4fc8-e713-464e89ee4cbf"
      },
      "execution_count": 6,
      "outputs": [
        {
          "output_type": "execute_result",
          "data": {
            "text/plain": [
              "                                                    Text  \\\n",
              "65255  delicious hazelnut and almond filling between ...   \n",
              "7878   I am a bit of a foodie and have become quite p...   \n",
              "8977   My minature schnauzer loves these treats!  I s...   \n",
              "94937  I ordered this along with some other sugar fre...   \n",
              "20067  This is undoubtedky one if the best products I...   \n",
              "48208  This coconut water has a very weird smell and ...   \n",
              "16103  Not a pudding by American standards.  But then...   \n",
              "20426  When I first purchased this product I wasn't s...   \n",
              "2441   The Mahogany has a smooth full bodied characte...   \n",
              "60214  My dog absolutely loves these.  I don't have t...   \n",
              "33560  The coffee had a nice bold, flavor, but the fo...   \n",
              "80917  What a wonderful surprise this turned out to b...   \n",
              "89555  I have to admit, the dogs do like it!  I think...   \n",
              "68246  I have recently had gastric bypass surgery and...   \n",
              "92413  It's a great price but it's also strong coffee...   \n",
              "\n",
              "                                                 Summary  \n",
              "65255                                Croatian Chocolates  \n",
              "7878   My Husband is Italian, but I cheat on him with...  \n",
              "8977                                          Loves them  \n",
              "94937                                         Very tasty  \n",
              "20067                            Wouldn't Be Without It!  \n",
              "48208                 Weird Odor with a Bad After Taste!  \n",
              "16103                                      A fun treat!!  \n",
              "20426                         Petite Cuisine Red Snapper  \n",
              "2441                    Caribou Coffee's Mahogany Review  \n",
              "60214                                My dog loves these!  \n",
              "33560                                     Defective seal  \n",
              "80917           food or in my case goodies Italian Style  \n",
              "89555                           The dogs love it, but...  \n",
              "68246                                 These were awesome  \n",
              "92413                           Not Bad.....Not awesome.  "
            ],
            "text/html": [
              "\n",
              "  <div id=\"df-decff20f-96a1-43fa-8efb-ea0a74f1fc8a\" class=\"colab-df-container\">\n",
              "    <div>\n",
              "<style scoped>\n",
              "    .dataframe tbody tr th:only-of-type {\n",
              "        vertical-align: middle;\n",
              "    }\n",
              "\n",
              "    .dataframe tbody tr th {\n",
              "        vertical-align: top;\n",
              "    }\n",
              "\n",
              "    .dataframe thead th {\n",
              "        text-align: right;\n",
              "    }\n",
              "</style>\n",
              "<table border=\"1\" class=\"dataframe\">\n",
              "  <thead>\n",
              "    <tr style=\"text-align: right;\">\n",
              "      <th></th>\n",
              "      <th>Text</th>\n",
              "      <th>Summary</th>\n",
              "    </tr>\n",
              "  </thead>\n",
              "  <tbody>\n",
              "    <tr>\n",
              "      <th>65255</th>\n",
              "      <td>delicious hazelnut and almond filling between ...</td>\n",
              "      <td>Croatian Chocolates</td>\n",
              "    </tr>\n",
              "    <tr>\n",
              "      <th>7878</th>\n",
              "      <td>I am a bit of a foodie and have become quite p...</td>\n",
              "      <td>My Husband is Italian, but I cheat on him with...</td>\n",
              "    </tr>\n",
              "    <tr>\n",
              "      <th>8977</th>\n",
              "      <td>My minature schnauzer loves these treats!  I s...</td>\n",
              "      <td>Loves them</td>\n",
              "    </tr>\n",
              "    <tr>\n",
              "      <th>94937</th>\n",
              "      <td>I ordered this along with some other sugar fre...</td>\n",
              "      <td>Very tasty</td>\n",
              "    </tr>\n",
              "    <tr>\n",
              "      <th>20067</th>\n",
              "      <td>This is undoubtedky one if the best products I...</td>\n",
              "      <td>Wouldn't Be Without It!</td>\n",
              "    </tr>\n",
              "    <tr>\n",
              "      <th>48208</th>\n",
              "      <td>This coconut water has a very weird smell and ...</td>\n",
              "      <td>Weird Odor with a Bad After Taste!</td>\n",
              "    </tr>\n",
              "    <tr>\n",
              "      <th>16103</th>\n",
              "      <td>Not a pudding by American standards.  But then...</td>\n",
              "      <td>A fun treat!!</td>\n",
              "    </tr>\n",
              "    <tr>\n",
              "      <th>20426</th>\n",
              "      <td>When I first purchased this product I wasn't s...</td>\n",
              "      <td>Petite Cuisine Red Snapper</td>\n",
              "    </tr>\n",
              "    <tr>\n",
              "      <th>2441</th>\n",
              "      <td>The Mahogany has a smooth full bodied characte...</td>\n",
              "      <td>Caribou Coffee's Mahogany Review</td>\n",
              "    </tr>\n",
              "    <tr>\n",
              "      <th>60214</th>\n",
              "      <td>My dog absolutely loves these.  I don't have t...</td>\n",
              "      <td>My dog loves these!</td>\n",
              "    </tr>\n",
              "    <tr>\n",
              "      <th>33560</th>\n",
              "      <td>The coffee had a nice bold, flavor, but the fo...</td>\n",
              "      <td>Defective seal</td>\n",
              "    </tr>\n",
              "    <tr>\n",
              "      <th>80917</th>\n",
              "      <td>What a wonderful surprise this turned out to b...</td>\n",
              "      <td>food or in my case goodies Italian Style</td>\n",
              "    </tr>\n",
              "    <tr>\n",
              "      <th>89555</th>\n",
              "      <td>I have to admit, the dogs do like it!  I think...</td>\n",
              "      <td>The dogs love it, but...</td>\n",
              "    </tr>\n",
              "    <tr>\n",
              "      <th>68246</th>\n",
              "      <td>I have recently had gastric bypass surgery and...</td>\n",
              "      <td>These were awesome</td>\n",
              "    </tr>\n",
              "    <tr>\n",
              "      <th>92413</th>\n",
              "      <td>It's a great price but it's also strong coffee...</td>\n",
              "      <td>Not Bad.....Not awesome.</td>\n",
              "    </tr>\n",
              "  </tbody>\n",
              "</table>\n",
              "</div>\n",
              "    <div class=\"colab-df-buttons\">\n",
              "\n",
              "  <div class=\"colab-df-container\">\n",
              "    <button class=\"colab-df-convert\" onclick=\"convertToInteractive('df-decff20f-96a1-43fa-8efb-ea0a74f1fc8a')\"\n",
              "            title=\"Convert this dataframe to an interactive table.\"\n",
              "            style=\"display:none;\">\n",
              "\n",
              "  <svg xmlns=\"http://www.w3.org/2000/svg\" height=\"24px\" viewBox=\"0 -960 960 960\">\n",
              "    <path d=\"M120-120v-720h720v720H120Zm60-500h600v-160H180v160Zm220 220h160v-160H400v160Zm0 220h160v-160H400v160ZM180-400h160v-160H180v160Zm440 0h160v-160H620v160ZM180-180h160v-160H180v160Zm440 0h160v-160H620v160Z\"/>\n",
              "  </svg>\n",
              "    </button>\n",
              "\n",
              "  <style>\n",
              "    .colab-df-container {\n",
              "      display:flex;\n",
              "      gap: 12px;\n",
              "    }\n",
              "\n",
              "    .colab-df-convert {\n",
              "      background-color: #E8F0FE;\n",
              "      border: none;\n",
              "      border-radius: 50%;\n",
              "      cursor: pointer;\n",
              "      display: none;\n",
              "      fill: #1967D2;\n",
              "      height: 32px;\n",
              "      padding: 0 0 0 0;\n",
              "      width: 32px;\n",
              "    }\n",
              "\n",
              "    .colab-df-convert:hover {\n",
              "      background-color: #E2EBFA;\n",
              "      box-shadow: 0px 1px 2px rgba(60, 64, 67, 0.3), 0px 1px 3px 1px rgba(60, 64, 67, 0.15);\n",
              "      fill: #174EA6;\n",
              "    }\n",
              "\n",
              "    .colab-df-buttons div {\n",
              "      margin-bottom: 4px;\n",
              "    }\n",
              "\n",
              "    [theme=dark] .colab-df-convert {\n",
              "      background-color: #3B4455;\n",
              "      fill: #D2E3FC;\n",
              "    }\n",
              "\n",
              "    [theme=dark] .colab-df-convert:hover {\n",
              "      background-color: #434B5C;\n",
              "      box-shadow: 0px 1px 3px 1px rgba(0, 0, 0, 0.15);\n",
              "      filter: drop-shadow(0px 1px 2px rgba(0, 0, 0, 0.3));\n",
              "      fill: #FFFFFF;\n",
              "    }\n",
              "  </style>\n",
              "\n",
              "    <script>\n",
              "      const buttonEl =\n",
              "        document.querySelector('#df-decff20f-96a1-43fa-8efb-ea0a74f1fc8a button.colab-df-convert');\n",
              "      buttonEl.style.display =\n",
              "        google.colab.kernel.accessAllowed ? 'block' : 'none';\n",
              "\n",
              "      async function convertToInteractive(key) {\n",
              "        const element = document.querySelector('#df-decff20f-96a1-43fa-8efb-ea0a74f1fc8a');\n",
              "        const dataTable =\n",
              "          await google.colab.kernel.invokeFunction('convertToInteractive',\n",
              "                                                    [key], {});\n",
              "        if (!dataTable) return;\n",
              "\n",
              "        const docLinkHtml = 'Like what you see? Visit the ' +\n",
              "          '<a target=\"_blank\" href=https://colab.research.google.com/notebooks/data_table.ipynb>data table notebook</a>'\n",
              "          + ' to learn more about interactive tables.';\n",
              "        element.innerHTML = '';\n",
              "        dataTable['output_type'] = 'display_data';\n",
              "        await google.colab.output.renderOutput(dataTable, element);\n",
              "        const docLink = document.createElement('div');\n",
              "        docLink.innerHTML = docLinkHtml;\n",
              "        element.appendChild(docLink);\n",
              "      }\n",
              "    </script>\n",
              "  </div>\n",
              "\n",
              "\n",
              "<div id=\"df-c601df5b-6417-4b01-9f98-d5b09f074ffb\">\n",
              "  <button class=\"colab-df-quickchart\" onclick=\"quickchart('df-c601df5b-6417-4b01-9f98-d5b09f074ffb')\"\n",
              "            title=\"Suggest charts.\"\n",
              "            style=\"display:none;\">\n",
              "\n",
              "<svg xmlns=\"http://www.w3.org/2000/svg\" height=\"24px\"viewBox=\"0 0 24 24\"\n",
              "     width=\"24px\">\n",
              "    <g>\n",
              "        <path d=\"M19 3H5c-1.1 0-2 .9-2 2v14c0 1.1.9 2 2 2h14c1.1 0 2-.9 2-2V5c0-1.1-.9-2-2-2zM9 17H7v-7h2v7zm4 0h-2V7h2v10zm4 0h-2v-4h2v4z\"/>\n",
              "    </g>\n",
              "</svg>\n",
              "  </button>\n",
              "\n",
              "<style>\n",
              "  .colab-df-quickchart {\n",
              "      --bg-color: #E8F0FE;\n",
              "      --fill-color: #1967D2;\n",
              "      --hover-bg-color: #E2EBFA;\n",
              "      --hover-fill-color: #174EA6;\n",
              "      --disabled-fill-color: #AAA;\n",
              "      --disabled-bg-color: #DDD;\n",
              "  }\n",
              "\n",
              "  [theme=dark] .colab-df-quickchart {\n",
              "      --bg-color: #3B4455;\n",
              "      --fill-color: #D2E3FC;\n",
              "      --hover-bg-color: #434B5C;\n",
              "      --hover-fill-color: #FFFFFF;\n",
              "      --disabled-bg-color: #3B4455;\n",
              "      --disabled-fill-color: #666;\n",
              "  }\n",
              "\n",
              "  .colab-df-quickchart {\n",
              "    background-color: var(--bg-color);\n",
              "    border: none;\n",
              "    border-radius: 50%;\n",
              "    cursor: pointer;\n",
              "    display: none;\n",
              "    fill: var(--fill-color);\n",
              "    height: 32px;\n",
              "    padding: 0;\n",
              "    width: 32px;\n",
              "  }\n",
              "\n",
              "  .colab-df-quickchart:hover {\n",
              "    background-color: var(--hover-bg-color);\n",
              "    box-shadow: 0 1px 2px rgba(60, 64, 67, 0.3), 0 1px 3px 1px rgba(60, 64, 67, 0.15);\n",
              "    fill: var(--button-hover-fill-color);\n",
              "  }\n",
              "\n",
              "  .colab-df-quickchart-complete:disabled,\n",
              "  .colab-df-quickchart-complete:disabled:hover {\n",
              "    background-color: var(--disabled-bg-color);\n",
              "    fill: var(--disabled-fill-color);\n",
              "    box-shadow: none;\n",
              "  }\n",
              "\n",
              "  .colab-df-spinner {\n",
              "    border: 2px solid var(--fill-color);\n",
              "    border-color: transparent;\n",
              "    border-bottom-color: var(--fill-color);\n",
              "    animation:\n",
              "      spin 1s steps(1) infinite;\n",
              "  }\n",
              "\n",
              "  @keyframes spin {\n",
              "    0% {\n",
              "      border-color: transparent;\n",
              "      border-bottom-color: var(--fill-color);\n",
              "      border-left-color: var(--fill-color);\n",
              "    }\n",
              "    20% {\n",
              "      border-color: transparent;\n",
              "      border-left-color: var(--fill-color);\n",
              "      border-top-color: var(--fill-color);\n",
              "    }\n",
              "    30% {\n",
              "      border-color: transparent;\n",
              "      border-left-color: var(--fill-color);\n",
              "      border-top-color: var(--fill-color);\n",
              "      border-right-color: var(--fill-color);\n",
              "    }\n",
              "    40% {\n",
              "      border-color: transparent;\n",
              "      border-right-color: var(--fill-color);\n",
              "      border-top-color: var(--fill-color);\n",
              "    }\n",
              "    60% {\n",
              "      border-color: transparent;\n",
              "      border-right-color: var(--fill-color);\n",
              "    }\n",
              "    80% {\n",
              "      border-color: transparent;\n",
              "      border-right-color: var(--fill-color);\n",
              "      border-bottom-color: var(--fill-color);\n",
              "    }\n",
              "    90% {\n",
              "      border-color: transparent;\n",
              "      border-bottom-color: var(--fill-color);\n",
              "    }\n",
              "  }\n",
              "</style>\n",
              "\n",
              "  <script>\n",
              "    async function quickchart(key) {\n",
              "      const quickchartButtonEl =\n",
              "        document.querySelector('#' + key + ' button');\n",
              "      quickchartButtonEl.disabled = true;  // To prevent multiple clicks.\n",
              "      quickchartButtonEl.classList.add('colab-df-spinner');\n",
              "      try {\n",
              "        const charts = await google.colab.kernel.invokeFunction(\n",
              "            'suggestCharts', [key], {});\n",
              "      } catch (error) {\n",
              "        console.error('Error during call to suggestCharts:', error);\n",
              "      }\n",
              "      quickchartButtonEl.classList.remove('colab-df-spinner');\n",
              "      quickchartButtonEl.classList.add('colab-df-quickchart-complete');\n",
              "    }\n",
              "    (() => {\n",
              "      let quickchartButtonEl =\n",
              "        document.querySelector('#df-c601df5b-6417-4b01-9f98-d5b09f074ffb button');\n",
              "      quickchartButtonEl.style.display =\n",
              "        google.colab.kernel.accessAllowed ? 'block' : 'none';\n",
              "    })();\n",
              "  </script>\n",
              "</div>\n",
              "    </div>\n",
              "  </div>\n"
            ]
          },
          "metadata": {},
          "execution_count": 6
        }
      ]
    },
    {
      "cell_type": "markdown",
      "source": [
        "## **1-2. 데이터 전처리하기 (1) 데이터 정리하기**\n",
        "이제 데이터를 불러왔으니 전처리를 진행해 볼게요. 빈칸으로 존재하는 null 데이터, 의미는 같지만 다른 식으로 작성된 글 같은 중복 항목과 같은 학습할 때 방해가 되는 데이터를 먼저 솎아낼 거예요.\n",
        "\n",
        "\n",
        "\n",
        "####**중복 샘플과 NULL 값이 존재하는 샘플 제거**####\n",
        "---\n",
        "우선 데이터의 중복 샘플 유무를 확인해 볼게요."
      ],
      "metadata": {
        "id": "14LH-b3okVnr"
      }
    },
    {
      "cell_type": "code",
      "source": [
        "print('Text 열에서 중복을 배제한 유일한 샘플의 수 :', data['Text'].nunique())\n",
        "print('Summary 열에서 중복을 배제한 유일한 샘플의 수 :', data['Summary'].nunique())"
      ],
      "metadata": {
        "colab": {
          "base_uri": "https://localhost:8080/"
        },
        "id": "vmqnC_Askhvg",
        "outputId": "3774f973-fa04-45ca-f91f-ef0c1bd81b83"
      },
      "execution_count": 7,
      "outputs": [
        {
          "output_type": "stream",
          "name": "stdout",
          "text": [
            "Text 열에서 중복을 배제한 유일한 샘플의 수 : 88426\n",
            "Summary 열에서 중복을 배제한 유일한 샘플의 수 : 72348\n"
          ]
        }
      ]
    },
    {
      "cell_type": "code",
      "source": [
        "# inplace=True 를 설정하면 DataFrame 타입 값을 return 하지 않고 data 내부를 직접적으로 바꿉니다\n",
        "data.drop_duplicates(subset = ['Text'], inplace=True)\n",
        "print('전체 샘플수 :', (len(data)))"
      ],
      "metadata": {
        "colab": {
          "base_uri": "https://localhost:8080/"
        },
        "id": "z2N-c0NukjMB",
        "outputId": "1921549a-a438-4f7d-bd49-436ef980fa03"
      },
      "execution_count": 8,
      "outputs": [
        {
          "output_type": "stream",
          "name": "stdout",
          "text": [
            "전체 샘플수 : 88426\n"
          ]
        }
      ]
    },
    {
      "cell_type": "code",
      "source": [
        "print(data.isnull().sum())"
      ],
      "metadata": {
        "colab": {
          "base_uri": "https://localhost:8080/"
        },
        "id": "SBWp5x8NkkxF",
        "outputId": "429d2286-3288-42e2-f5e2-05cc96af2825"
      },
      "execution_count": 9,
      "outputs": [
        {
          "output_type": "stream",
          "name": "stdout",
          "text": [
            "Text       0\n",
            "Summary    1\n",
            "dtype: int64\n"
          ]
        }
      ]
    },
    {
      "cell_type": "code",
      "source": [
        "data.dropna(axis=0, inplace=True)\n",
        "print('전체 샘플수 :', (len(data)))"
      ],
      "metadata": {
        "colab": {
          "base_uri": "https://localhost:8080/"
        },
        "id": "EQ5bUo5IkyBj",
        "outputId": "db6b57ae-2110-43c2-b99a-80906d8bd46d"
      },
      "execution_count": 10,
      "outputs": [
        {
          "output_type": "stream",
          "name": "stdout",
          "text": [
            "전체 샘플수 : 88425\n"
          ]
        }
      ]
    },
    {
      "cell_type": "markdown",
      "source": [
        "###**텍스트 정규화와 불용어 제거**\n",
        "---\n",
        "살아남은 88,425개의 샘플에는 수많은 단어들이 있어요. 그런데 사실 그 단어들 중에서는 같은 의미인데도 다른 표현으로 쓰여 마치 다른 단어들처럼 간주되는 경우가 있어요.\n",
        "\n",
        "예를 들어서 it'll은 it will과 같고, mustn't과 must not은 사실 같은 표현이죠. 이런 경우 기계가 굳이 이들을 마치 다른 단어로 간주하게 해서 연산량을 늘리는 것보다는 기계 학습 전에 미리 같은 표현으로 통일시켜주는 것이 기계의 연산량을 줄일 수 있는 방법이에요.\n",
        "\n",
        "이러한 방법론을 텍스트 처리에서는 텍스트 정규화(text normalization) 라고 해요.\n",
        "\n",
        "여기서는 텍스트 정규화를 위한 사전(dictionary)을 아래와 같이 구성할 거예요."
      ],
      "metadata": {
        "id": "u80uL7NGlcVI"
      }
    },
    {
      "cell_type": "code",
      "source": [
        "contractions = {\"ain't\": \"is not\", \"aren't\": \"are not\",\"can't\": \"cannot\", \"'cause\": \"because\", \"could've\": \"could have\", \"couldn't\": \"could not\",\n",
        "                           \"didn't\": \"did not\",  \"doesn't\": \"does not\", \"don't\": \"do not\", \"hadn't\": \"had not\", \"hasn't\": \"has not\", \"haven't\": \"have not\",\n",
        "                           \"he'd\": \"he would\",\"he'll\": \"he will\", \"he's\": \"he is\", \"how'd\": \"how did\", \"how'd'y\": \"how do you\", \"how'll\": \"how will\", \"how's\": \"how is\",\n",
        "                           \"I'd\": \"I would\", \"I'd've\": \"I would have\", \"I'll\": \"I will\", \"I'll've\": \"I will have\",\"I'm\": \"I am\", \"I've\": \"I have\", \"i'd\": \"i would\",\n",
        "                           \"i'd've\": \"i would have\", \"i'll\": \"i will\",  \"i'll've\": \"i will have\",\"i'm\": \"i am\", \"i've\": \"i have\", \"isn't\": \"is not\", \"it'd\": \"it would\",\n",
        "                           \"it'd've\": \"it would have\", \"it'll\": \"it will\", \"it'll've\": \"it will have\",\"it's\": \"it is\", \"let's\": \"let us\", \"ma'am\": \"madam\",\n",
        "                           \"mayn't\": \"may not\", \"might've\": \"might have\",\"mightn't\": \"might not\",\"mightn't've\": \"might not have\", \"must've\": \"must have\",\n",
        "                           \"mustn't\": \"must not\", \"mustn't've\": \"must not have\", \"needn't\": \"need not\", \"needn't've\": \"need not have\",\"o'clock\": \"of the clock\",\n",
        "                           \"oughtn't\": \"ought not\", \"oughtn't've\": \"ought not have\", \"shan't\": \"shall not\", \"sha'n't\": \"shall not\", \"shan't've\": \"shall not have\",\n",
        "                           \"she'd\": \"she would\", \"she'd've\": \"she would have\", \"she'll\": \"she will\", \"she'll've\": \"she will have\", \"she's\": \"she is\",\n",
        "                           \"should've\": \"should have\", \"shouldn't\": \"should not\", \"shouldn't've\": \"should not have\", \"so've\": \"so have\",\"so's\": \"so as\",\n",
        "                           \"this's\": \"this is\",\"that'd\": \"that would\", \"that'd've\": \"that would have\", \"that's\": \"that is\", \"there'd\": \"there would\",\n",
        "                           \"there'd've\": \"there would have\", \"there's\": \"there is\", \"here's\": \"here is\",\"they'd\": \"they would\", \"they'd've\": \"they would have\",\n",
        "                           \"they'll\": \"they will\", \"they'll've\": \"they will have\", \"they're\": \"they are\", \"they've\": \"they have\", \"to've\": \"to have\",\n",
        "                           \"wasn't\": \"was not\", \"we'd\": \"we would\", \"we'd've\": \"we would have\", \"we'll\": \"we will\", \"we'll've\": \"we will have\", \"we're\": \"we are\",\n",
        "                           \"we've\": \"we have\", \"weren't\": \"were not\", \"what'll\": \"what will\", \"what'll've\": \"what will have\", \"what're\": \"what are\",\n",
        "                           \"what's\": \"what is\", \"what've\": \"what have\", \"when's\": \"when is\", \"when've\": \"when have\", \"where'd\": \"where did\", \"where's\": \"where is\",\n",
        "                           \"where've\": \"where have\", \"who'll\": \"who will\", \"who'll've\": \"who will have\", \"who's\": \"who is\", \"who've\": \"who have\",\n",
        "                           \"why's\": \"why is\", \"why've\": \"why have\", \"will've\": \"will have\", \"won't\": \"will not\", \"won't've\": \"will not have\",\n",
        "                           \"would've\": \"would have\", \"wouldn't\": \"would not\", \"wouldn't've\": \"would not have\", \"y'all\": \"you all\",\n",
        "                           \"y'all'd\": \"you all would\",\"y'all'd've\": \"you all would have\",\"y'all're\": \"you all are\",\"y'all've\": \"you all have\",\n",
        "                           \"you'd\": \"you would\", \"you'd've\": \"you would have\", \"you'll\": \"you will\", \"you'll've\": \"you will have\",\n",
        "                           \"you're\": \"you are\", \"you've\": \"you have\"}\n",
        "\n",
        "print(\"정규화 사전의 수: \", len(contractions))"
      ],
      "metadata": {
        "colab": {
          "base_uri": "https://localhost:8080/"
        },
        "id": "kt5bH7KckzwP",
        "outputId": "9f92485e-4cdf-40f4-d97d-a349870bdbbd"
      },
      "execution_count": 11,
      "outputs": [
        {
          "output_type": "stream",
          "name": "stdout",
          "text": [
            "정규화 사전의 수:  120\n"
          ]
        }
      ]
    },
    {
      "cell_type": "markdown",
      "source": [
        "이제 정규화 준비까지 마쳤어요.\n",
        "\n",
        "하지만 아직 끝난 게 아니에요. 일반적으로 텍스트에는 자주 등장하지만 자연어 처리를 할 때 실질적으로 별 도움이 되지 않는 단어들이 존재해요. 이를 불용어(stopwords)라고 불러요. 때로는 불용어를 제거하는 것이 자연어 처리의 성능을 높이는 방법일 수 있어요. 여기서는 NLTK에서 제공하는 불용어 리스트를 참조해, 샘플에서 불용어를 제거할 거예요."
      ],
      "metadata": {
        "id": "8jKuTAZ1lp64"
      }
    },
    {
      "cell_type": "code",
      "source": [
        "print('불용어 개수 :', len(stopwords.words('english') ))\n",
        "print(stopwords.words('english'))"
      ],
      "metadata": {
        "colab": {
          "base_uri": "https://localhost:8080/"
        },
        "id": "bmy5XcYklnqS",
        "outputId": "2869e8fe-d3fa-4184-b4ce-a430bd9bef59"
      },
      "execution_count": 12,
      "outputs": [
        {
          "output_type": "stream",
          "name": "stdout",
          "text": [
            "불용어 개수 : 179\n",
            "['i', 'me', 'my', 'myself', 'we', 'our', 'ours', 'ourselves', 'you', \"you're\", \"you've\", \"you'll\", \"you'd\", 'your', 'yours', 'yourself', 'yourselves', 'he', 'him', 'his', 'himself', 'she', \"she's\", 'her', 'hers', 'herself', 'it', \"it's\", 'its', 'itself', 'they', 'them', 'their', 'theirs', 'themselves', 'what', 'which', 'who', 'whom', 'this', 'that', \"that'll\", 'these', 'those', 'am', 'is', 'are', 'was', 'were', 'be', 'been', 'being', 'have', 'has', 'had', 'having', 'do', 'does', 'did', 'doing', 'a', 'an', 'the', 'and', 'but', 'if', 'or', 'because', 'as', 'until', 'while', 'of', 'at', 'by', 'for', 'with', 'about', 'against', 'between', 'into', 'through', 'during', 'before', 'after', 'above', 'below', 'to', 'from', 'up', 'down', 'in', 'out', 'on', 'off', 'over', 'under', 'again', 'further', 'then', 'once', 'here', 'there', 'when', 'where', 'why', 'how', 'all', 'any', 'both', 'each', 'few', 'more', 'most', 'other', 'some', 'such', 'no', 'nor', 'not', 'only', 'own', 'same', 'so', 'than', 'too', 'very', 's', 't', 'can', 'will', 'just', 'don', \"don't\", 'should', \"should've\", 'now', 'd', 'll', 'm', 'o', 're', 've', 'y', 'ain', 'aren', \"aren't\", 'couldn', \"couldn't\", 'didn', \"didn't\", 'doesn', \"doesn't\", 'hadn', \"hadn't\", 'hasn', \"hasn't\", 'haven', \"haven't\", 'isn', \"isn't\", 'ma', 'mightn', \"mightn't\", 'mustn', \"mustn't\", 'needn', \"needn't\", 'shan', \"shan't\", 'shouldn', \"shouldn't\", 'wasn', \"wasn't\", 'weren', \"weren't\", 'won', \"won't\", 'wouldn', \"wouldn't\"]\n"
          ]
        }
      ]
    },
    {
      "cell_type": "markdown",
      "source": [
        "NLTK에서 미리 정의하여 제공하고 있는 불용어는 총 179개라는 것을 볼 수 있죠. 이를 사용하여 불용어를 제거할 거예요. 이 작업 외에도 모든 영어 문자는 소문자로 만들고, 섞여있는 html 태그를 제거하고, 정규 표현식을 통해 각종 특수문자를 제거해서 정말 필요한 내용만 잘 학습할 수 있도록 처리할 거예요.\n",
        "\n",
        "함수의 하단을 보면, NLTK를 이용해 불용어를 제거하는 파트가 있는데, 이는 Text 전처리 시에서만 호출하고 이미 상대적으로 문장 길이가 짧은 Summary 전처리할 때는 호출하지 않을 예정이에요. Abstractive한 문장 요약 결과문이 자연스러운 문장이 되려면 이 불용어들이 Summary에는 남아 있는 게 더 좋을 것 같습니다. 이 처리를 위해서 함수의 인자로 remove_stopwords를 추가하고, if문을 추가했어요."
      ],
      "metadata": {
        "id": "pKjuZAlSltTp"
      }
    },
    {
      "cell_type": "code",
      "source": [
        "# 데이터 전처리 함수\n",
        "def preprocess_sentence(sentence, remove_stopwords=True):\n",
        "    sentence = sentence.lower() # 텍스트 소문자화\n",
        "    sentence = BeautifulSoup(sentence, \"lxml\").text # <br />, <a href = ...> 등의 html 태그 제거\n",
        "    sentence = re.sub(r'\\([^)]*\\)', '', sentence) # 괄호로 닫힌 문자열 (...) 제거 Ex) my husband (and myself!) for => my husband for\n",
        "    sentence = re.sub('\"','', sentence) # 쌍따옴표 \" 제거\n",
        "    sentence = ' '.join([contractions[t] if t in contractions else t for t in sentence.split(\" \")]) # 약어 정규화\n",
        "    sentence = re.sub(r\"'s\\b\",\"\", sentence) # 소유격 제거. Ex) roland's -> roland\n",
        "    sentence = re.sub(\"[^a-zA-Z]\", \" \", sentence) # 영어 외 문자(숫자, 특수문자 등) 공백으로 변환\n",
        "    sentence = re.sub('[m]{2,}', 'mm', sentence) # m이 3개 이상이면 2개로 변경. Ex) ummmmmmm yeah -> umm yeah\n",
        "\n",
        "    # 불용어 제거 (Text)\n",
        "    if remove_stopwords:\n",
        "        tokens = ' '.join(word for word in sentence.split() if not word in stopwords.words('english') if len(word) > 1)\n",
        "    # 불용어 미제거 (Summary)\n",
        "    else:\n",
        "        tokens = ' '.join(word for word in sentence.split() if len(word) > 1)\n",
        "    return tokens\n",
        "print('=3')"
      ],
      "metadata": {
        "colab": {
          "base_uri": "https://localhost:8080/"
        },
        "id": "yEwEriXglrsz",
        "outputId": "e5da200f-c1a9-458e-9631-e5623b2fb205"
      },
      "execution_count": 13,
      "outputs": [
        {
          "output_type": "stream",
          "name": "stdout",
          "text": [
            "=3\n"
          ]
        }
      ]
    },
    {
      "cell_type": "markdown",
      "source": [
        "전처리 전, 후의 결과를 확인하기 위해서 임의의 text와 summary를 만들어 함수를 호출해 볼까요."
      ],
      "metadata": {
        "id": "O1UsuwgIlxyL"
      }
    },
    {
      "cell_type": "code",
      "source": [
        "temp_text = 'Everything I bought was great, infact I ordered twice and the third ordered was<br />for my mother and father.'\n",
        "temp_summary = 'Great way to start (or finish) the day!!!'\n",
        "\n",
        "print(\"text: \", preprocess_sentence(temp_text))\n",
        "print(\"summary:\", preprocess_sentence(temp_summary, False))  # 불용어를 제거하지 않습니다."
      ],
      "metadata": {
        "colab": {
          "base_uri": "https://localhost:8080/"
        },
        "id": "sd1l5D-blvSz",
        "outputId": "a7463be7-a149-454c-f190-e7ebcb45b305"
      },
      "execution_count": 14,
      "outputs": [
        {
          "output_type": "stream",
          "name": "stdout",
          "text": [
            "text:  everything bought great infact ordered twice third ordered wasfor mother father\n",
            "summary: great way to start the day\n"
          ]
        }
      ]
    },
    {
      "cell_type": "markdown",
      "source": [
        "결과를 보면 기본적으로 모든 알파벳이 소문자로 변환되고, <br />과 같은 html 태그가 제거되었죠. (or finish)와 같은 괄호로 묶였던 단어 시퀀스가 제거된 것도 확인할 수 있어요. 또한 특수문자가 제거되면서 영어만 남았어요.\n",
        "\n",
        "이제 함수가 잘 작동하는 것을 확인했으니, 훈련 데이터 전체에 대해서 전처리를 수행해볼게요. 이때, Text의 경우에는 불용어를 제거하고, Summary의 경우에는 불용어를 제거하지 않을 것이므로 따로 호출해서 진행해야 해요. 먼저 Text를 전처리하고, 결과를 확인하기 위해서 상위 5개의 줄을 출력해볼게요."
      ],
      "metadata": {
        "id": "pM2v2eIwl14-"
      }
    },
    {
      "cell_type": "code",
      "source": [
        "import re\n",
        "\n",
        "def preprocess_sentence(sentence, remove_stopwords=True):\n",
        "    # 태그 제거\n",
        "    sentence = re.sub(r'<br />', ' ', sentence)\n",
        "    # 기타 특수문자 제거\n",
        "    sentence = re.sub(r'[^a-zA-Z\\s]', '', sentence)\n",
        "    # 소문자로 변환\n",
        "    sentence = sentence.lower()\n",
        "    # 필요하면 불용어 제거 코드 추가\n",
        "\n",
        "    return sentence.strip()\n",
        "\n",
        "# 전체 Text 데이터에 대한 전처리\n",
        "clean_text = [preprocess_sentence(text) for text in data['Text']]\n",
        "print(\"Text 전처리 후 결과: \", clean_text[:5])"
      ],
      "metadata": {
        "colab": {
          "base_uri": "https://localhost:8080/"
        },
        "id": "goeWjR-9lzq4",
        "outputId": "beba169e-322f-47da-c3e3-cb3b102ac1da"
      },
      "execution_count": 15,
      "outputs": [
        {
          "output_type": "stream",
          "name": "stdout",
          "text": [
            "Text 전처리 후 결과:  ['i have bought several of the vitality canned dog food products and have found them all to be of good quality the product looks more like a stew than a processed meat and it smells better my labrador is finicky and she appreciates this product better than  most', 'product arrived labeled as jumbo salted peanutsthe peanuts were actually small sized unsalted not sure if this was an error or if the vendor intended to represent the product as jumbo', 'this is a confection that has been around a few centuries  it is a light pillowy citrus gelatin with nuts  in this case filberts and it is cut into tiny squares and then liberally coated with powdered sugar  and it is a tiny mouthful of heaven  not too chewy and very flavorful  i highly recommend this yummy treat  if you are familiar with the story of cs lewis the lion the witch and the wardrobe  this is the treat that seduces edmund into selling out his brother and sisters to the witch', 'if you are looking for the secret ingredient in robitussin i believe i have found it  i got this in addition to the root beer extract i ordered which was good and made some cherry soda  the flavor is very medicinal', 'great taffy at a great price  there was a wide assortment of yummy taffy  delivery was very quick  if your a taffy lover this is a deal']\n"
          ]
        }
      ]
    },
    {
      "cell_type": "markdown",
      "source": [
        "이제 Summary에 대해서 전처리 함수를 호출해 줄 때는, 불용어 제거를 수행하지 않는다는 의미에서 두 번째 인자로 False를 넣어줄게요."
      ],
      "metadata": {
        "id": "N9TqProTnSkV"
      }
    },
    {
      "cell_type": "code",
      "source": [
        "# 전체 Summary 데이터에 대한 전처리\n",
        "clean_summary = [preprocess_sentence(summary, False) for summary in data['Summary']]\n",
        "\n",
        "# 전처리 후 출력\n",
        "print(\"Summary 전처리 후 결과:\", clean_summary[:5])"
      ],
      "metadata": {
        "colab": {
          "base_uri": "https://localhost:8080/"
        },
        "id": "aLd00Y9unBEq",
        "outputId": "fe335c6e-e9d8-447e-f245-86d3278d1eea"
      },
      "execution_count": 16,
      "outputs": [
        {
          "output_type": "stream",
          "name": "stdout",
          "text": [
            "Summary 전처리 후 결과: ['good quality dog food', 'not as advertised', 'delight says it all', 'cough medicine', 'great taffy']\n"
          ]
        }
      ]
    },
    {
      "cell_type": "markdown",
      "source": [
        "이렇게 텍스트 정제의 과정을 거친 후에는 다시 한번 빈(empty) 샘플이 생겼는지 확인해보는 것이 좋아요. 정제 전에는 데이터가 존재했지만, 정제 과정에서 문장의 모든 단어가 사라지는 경우가 있을 수 있어요. 이렇게 되면 샘플 자체가 빈 값을 가지게 되겠죠.\n",
        "\n",
        "보다 쉽게 확인하기 위해 데이터들을 데이터프레임에 재저장할게요. 빈(empty) 값을 가진 샘플들이 있다면, 모두 Null 값을 가진 샘플로 대체해요."
      ],
      "metadata": {
        "id": "fc9aZH5wnYNj"
      }
    },
    {
      "cell_type": "code",
      "source": [
        "data['Text'] = clean_text\n",
        "data['Summary'] = clean_summary\n",
        "\n",
        "# 빈 값을 Null 값으로 변환\n",
        "data.replace('', np.nan, inplace=True)\n",
        "print('=3')"
      ],
      "metadata": {
        "colab": {
          "base_uri": "https://localhost:8080/"
        },
        "id": "1gKKw7cCnT78",
        "outputId": "962a5c62-3818-4bc4-ea41-f135b15c5489"
      },
      "execution_count": 17,
      "outputs": [
        {
          "output_type": "stream",
          "name": "stdout",
          "text": [
            "=3\n"
          ]
        }
      ]
    },
    {
      "cell_type": "code",
      "source": [
        "data.isnull().sum()"
      ],
      "metadata": {
        "colab": {
          "base_uri": "https://localhost:8080/"
        },
        "id": "5ZX3W_uJndiv",
        "outputId": "85fadfbb-40f1-4140-93de-f55abf9bf985"
      },
      "execution_count": 18,
      "outputs": [
        {
          "output_type": "execute_result",
          "data": {
            "text/plain": [
              "Text        0\n",
              "Summary    25\n",
              "dtype: int64"
            ]
          },
          "metadata": {},
          "execution_count": 18
        }
      ]
    },
    {
      "cell_type": "code",
      "source": [
        "data.dropna(axis=0, inplace=True)\n",
        "print('전체 샘플수 :', (len(data)))"
      ],
      "metadata": {
        "colab": {
          "base_uri": "https://localhost:8080/"
        },
        "id": "Y8NXGRC6newk",
        "outputId": "c88004f1-997d-4ec9-d9d9-630d04deb3db"
      },
      "execution_count": 19,
      "outputs": [
        {
          "output_type": "stream",
          "name": "stdout",
          "text": [
            "전체 샘플수 : 88400\n"
          ]
        }
      ]
    },
    {
      "cell_type": "markdown",
      "source": [
        "# **3-6. 데이터 전처리하기 (2) 훈련데이터와 테스트데이터 나누기**\n",
        "\n",
        "학습을 진행하기 위해서는 학습에 사용할 데이터의 크기를 결정하고, 문장의 시작과 끝을 표시해 줘야 해요.\n",
        "\n",
        "####**샘플의 최대 길이 정하기**\n",
        "---\n",
        "필요 없는 단어를 모두 솎아낸 데이터를 가지게 되었으니, 이제 훈련에 사용할 샘플의 최대 길이를 정해줄 차례에요.\n",
        "\n",
        "Text와 Summary의 최소, 최대, 평균 길이를 구하고 또한 길이 분포를 시각화해서 볼게요."
      ],
      "metadata": {
        "id": "7VnN5Mb7ntrf"
      }
    },
    {
      "cell_type": "code",
      "source": [
        "# 길이 분포 출력\n",
        "import matplotlib.pyplot as plt\n",
        "\n",
        "text_len = [len(s.split()) for s in data['Text']]\n",
        "summary_len = [len(s.split()) for s in data['Summary']]\n",
        "\n",
        "print('텍스트의 최소 길이 : {}'.format(np.min(text_len)))\n",
        "print('텍스트의 최대 길이 : {}'.format(np.max(text_len)))\n",
        "print('텍스트의 평균 길이 : {}'.format(np.mean(text_len)))\n",
        "print('요약의 최소 길이 : {}'.format(np.min(summary_len)))\n",
        "print('요약의 최대 길이 : {}'.format(np.max(summary_len)))\n",
        "print('요약의 평균 길이 : {}'.format(np.mean(summary_len)))\n",
        "\n",
        "plt.subplot(1,2,1)\n",
        "plt.boxplot(text_len)\n",
        "plt.title('Text')\n",
        "plt.subplot(1,2,2)\n",
        "plt.boxplot(summary_len)\n",
        "plt.title('Summary')\n",
        "plt.tight_layout()\n",
        "plt.show()\n",
        "\n",
        "plt.title('Text')\n",
        "plt.hist(text_len, bins = 40)\n",
        "plt.xlabel('length of samples')\n",
        "plt.ylabel('number of samples')\n",
        "plt.show()\n",
        "\n",
        "plt.title('Summary')\n",
        "plt.hist(summary_len, bins = 40)\n",
        "plt.xlabel('length of samples')\n",
        "plt.ylabel('number of samples')\n",
        "plt.show()"
      ],
      "metadata": {
        "colab": {
          "base_uri": "https://localhost:8080/",
          "height": 1000
        },
        "id": "2Dvf9Rrenf_u",
        "outputId": "9458059d-15af-4359-dad5-ca9e67003ba6"
      },
      "execution_count": 20,
      "outputs": [
        {
          "output_type": "stream",
          "name": "stdout",
          "text": [
            "텍스트의 최소 길이 : 5\n",
            "텍스트의 최대 길이 : 2363\n",
            "텍스트의 평균 길이 : 79.91885746606334\n",
            "요약의 최소 길이 : 1\n",
            "요약의 최대 길이 : 29\n",
            "요약의 평균 길이 : 4.071957013574661\n"
          ]
        },
        {
          "output_type": "display_data",
          "data": {
            "text/plain": [
              "<Figure size 640x480 with 2 Axes>"
            ],
            "image/png": "[encoded data removed]"
          },
          "metadata": {}
        },
        {
          "output_type": "display_data",
          "data": {
            "text/plain": [
              "<Figure size 640x480 with 1 Axes>"
            ],
            "image/png": "[encoded data removed]"
          },
          "metadata": {}
        },
        {
          "output_type": "display_data",
          "data": {
            "text/plain": [
              "<Figure size 640x480 with 1 Axes>"
            ],
            "image/png": "[encoded data removed]"
          },
          "metadata": {}
        }
      ]
    },
    {
      "cell_type": "markdown",
      "source": [
        "위의 그래프처럼, 많은 양의 데이터를 다룰 때는 데이터를 시각화하여 보는 것이 도움이 돼요. 위에서부터 차례대로 그래프는 각각 실제 텍스트와 요약의 길이 분포, 실제 텍스트 샘플 길이별 개수, 요약본 샘플 길이별 개수를 나타내고 있어요.\n",
        "\n",
        "Text의 경우 최소 길이가 2, 최대 길이가 1,235로 그 차이가 굉장히 크죠. 하지만 평균 길이는 38로 시각화된 그래프로 봤을 때는 대체적으로는 100 내외의 길이를 가진다는 것을 확인할 수 있어요.\n",
        "\n",
        "Summary의 경우 최소 길이가 1, 최대 길이가 28, 그리고 평균 길이가 4로 Text에 비해 상대적으로 길이가 매우 짧아요. 그래프로 봤을 때에도 대체적으로 10이하의 길이를 가지고 있네요.\n",
        "\n",
        "이로부터 Text의 최대 길이와 Summary의 적절한 최대 길이를 임의로 정해볼게요."
      ],
      "metadata": {
        "id": "9m4v1TlRogAR"
      }
    },
    {
      "cell_type": "code",
      "source": [
        "text_max_len = 50\n",
        "summary_max_len = 8\n",
        "print('=3')"
      ],
      "metadata": {
        "colab": {
          "base_uri": "https://localhost:8080/"
        },
        "id": "sJFRDRNioSus",
        "outputId": "b39293ca-2d50-403a-b62c-4cba9490810f"
      },
      "execution_count": 21,
      "outputs": [
        {
          "output_type": "stream",
          "name": "stdout",
          "text": [
            "=3\n"
          ]
        }
      ]
    },
    {
      "cell_type": "markdown",
      "source": [
        "각각 50과 8로 정했는데 이 길이를 선택했을 때, 얼마나 많은 샘플들을 자르지 않고 포함할 수 있는지 통계로 확인하는 편이 객관적으로 길이를 결정하는 데 도움이 될거예요. 훈련 데이터와 샘플의 길이를 입력하면, 데이터의 몇 %가 해당하는지 계산하는 함수를 만들어서 좀 더 정확하게 판단해볼게요.\n",
        "\n",
        "\n",
        "\n",
        "\n"
      ],
      "metadata": {
        "id": "EQctN6EXo18C"
      }
    },
    {
      "cell_type": "code",
      "source": [
        "def below_threshold_len(max_len, nested_list):\n",
        "  cnt = 0\n",
        "  for s in nested_list:\n",
        "    if(len(s.split()) <= max_len):\n",
        "        cnt = cnt + 1\n",
        "  print('전체 샘플 중 길이가 %s 이하인 샘플의 비율: %s'%(max_len, (cnt / len(nested_list))))\n",
        "print('=3')"
      ],
      "metadata": {
        "colab": {
          "base_uri": "https://localhost:8080/"
        },
        "id": "5He_vAo5o0Ty",
        "outputId": "54acc078-4caa-4a45-9296-58fa4a607560"
      },
      "execution_count": 22,
      "outputs": [
        {
          "output_type": "stream",
          "name": "stdout",
          "text": [
            "=3\n"
          ]
        }
      ]
    },
    {
      "cell_type": "markdown",
      "source": [
        "이렇게 만든 함수를 Text와 Summary에 적용해 우리가 결정한 임의의 길이가 몇%의 샘플까지 포함하는지 볼 수 있겠죠."
      ],
      "metadata": {
        "id": "-WjiTKhlo6p2"
      }
    },
    {
      "cell_type": "code",
      "source": [
        "below_threshold_len(text_max_len, data['Text'])\n",
        "below_threshold_len(summary_max_len,  data['Summary'])"
      ],
      "metadata": {
        "colab": {
          "base_uri": "https://localhost:8080/"
        },
        "id": "yeMS2Ekio5D6",
        "outputId": "963ca198-a78b-431f-a69b-e1d776609597"
      },
      "execution_count": 23,
      "outputs": [
        {
          "output_type": "stream",
          "name": "stdout",
          "text": [
            "전체 샘플 중 길이가 50 이하인 샘플의 비율: 0.4394683257918552\n",
            "전체 샘플 중 길이가 8 이하인 샘플의 비율: 0.9383484162895928\n"
          ]
        }
      ]
    },
    {
      "cell_type": "markdown",
      "source": [
        "각각 50과 8로 패딩을 하게 되면 해당 길이보다 긴 샘플들은 내용이 잘리게 되는데, Text 열의 경우에는 약 23%의 샘플들이 내용이 망가지게 된다고 하네요.\n",
        "\n",
        "우리는 정해진 길이에 맞춰 자르는 것이 아니라, 정해진 길이보다 길면 제외하는 방법으로 데이터를 정제할게요.\n"
      ],
      "metadata": {
        "id": "Xemq3xcGo-O5"
      }
    },
    {
      "cell_type": "code",
      "source": [
        "data = data[data['Text'].apply(lambda x: len(x.split()) <= text_max_len)]\n",
        "data = data[data['Summary'].apply(lambda x: len(x.split()) <= summary_max_len)]\n",
        "\n",
        "print('전체 샘플수 :', len(data))"
      ],
      "metadata": {
        "colab": {
          "base_uri": "https://localhost:8080/"
        },
        "id": "79bl7f2vo8cn",
        "outputId": "5a0c8340-b8ca-4c11-a3ef-7bec06b5cc48"
      },
      "execution_count": 24,
      "outputs": [
        {
          "output_type": "stream",
          "name": "stdout",
          "text": [
            "전체 샘플수 : 37781\n"
          ]
        }
      ]
    },
    {
      "cell_type": "markdown",
      "source": [
        "####**시작 토큰과 종료 토큰 추가하기**\n",
        "---\n",
        "앞서 시작 토큰과 종료 토큰에 대해서 언급했던 것을 기억하시나요? 디코더는 시작 토큰을 입력받아 문장을 생성하기 시작하고, 종료 토큰을 예측한 순간에 문장 생성을 멈추는 거였죠.\n",
        "\n",
        "![image.png](data:image/png;base64,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)content img\n",
        "[시작 토큰 SOS와 종료 토큰 EOS는 각각 start of a sequence와 end of a sequence를 나타낸다]\n",
        "https://arxiv.org/pdf/1812.02303.pdf\n",
        "seq2seq 훈련을 위해서는 디코더의 입력과 레이블에 시작 토큰과 종료 토큰을 추가할 필요가 있어요. 이번 실습에서는 시작 토큰은 sostoken, 종료 토큰은 eostoken이라 임의로 명명하고 앞, 뒤로 추가할 거예요. 디코더의 입력에 해당하면서 시작 토큰이 맨 앞에 있는 문장의 이름을 decoder_input, 디코더의 출력 또는 레이블에 해당되면서 종료 토큰이 맨 뒤에 붙는 문장의 이름을 decoder_target이라고 이름을 정했어요. 두 개의 문장 모두 Summary 열로부터 만들 거예요."
      ],
      "metadata": {
        "id": "L1V4CBa1pquR"
      }
    },
    {
      "cell_type": "code",
      "source": [
        "# 요약 데이터에는 시작 토큰과 종료 토큰을 추가한다.\n",
        "data['decoder_input'] = data['Summary'].apply(lambda x : 'sostoken '+ x)\n",
        "data['decoder_target'] = data['Summary'].apply(lambda x : x + ' eostoken')\n",
        "data.head()"
      ],
      "metadata": {
        "colab": {
          "base_uri": "https://localhost:8080/",
          "height": 293
        },
        "id": "LznbPZgrp3TJ",
        "outputId": "2968ff37-122a-4030-976c-c45aefb321a5"
      },
      "execution_count": 25,
      "outputs": [
        {
          "output_type": "execute_result",
          "data": {
            "text/plain": [
              "                                                Text  \\\n",
              "0  i have bought several of the vitality canned d...   \n",
              "1  product arrived labeled as jumbo salted peanut...   \n",
              "3  if you are looking for the secret ingredient i...   \n",
              "4  great taffy at a great price  there was a wide...   \n",
              "6  this saltwater taffy had great flavors and was...   \n",
              "\n",
              "                                       Summary  \\\n",
              "0                        good quality dog food   \n",
              "1                            not as advertised   \n",
              "3                               cough medicine   \n",
              "4                                  great taffy   \n",
              "6  great  just as good as the expensive brands   \n",
              "\n",
              "                                       decoder_input  \\\n",
              "0                     sostoken good quality dog food   \n",
              "1                         sostoken not as advertised   \n",
              "3                            sostoken cough medicine   \n",
              "4                               sostoken great taffy   \n",
              "6  sostoken great  just as good as the expensive ...   \n",
              "\n",
              "                                      decoder_target  \n",
              "0                     good quality dog food eostoken  \n",
              "1                         not as advertised eostoken  \n",
              "3                            cough medicine eostoken  \n",
              "4                               great taffy eostoken  \n",
              "6  great  just as good as the expensive brands eo...  "
            ],
            "text/html": [
              "\n",
              "  <div id=\"df-7975e322-6876-49f8-a997-0c1014496684\" class=\"colab-df-container\">\n",
              "    <div>\n",
              "<style scoped>\n",
              "    .dataframe tbody tr th:only-of-type {\n",
              "        vertical-align: middle;\n",
              "    }\n",
              "\n",
              "    .dataframe tbody tr th {\n",
              "        vertical-align: top;\n",
              "    }\n",
              "\n",
              "    .dataframe thead th {\n",
              "        text-align: right;\n",
              "    }\n",
              "</style>\n",
              "<table border=\"1\" class=\"dataframe\">\n",
              "  <thead>\n",
              "    <tr style=\"text-align: right;\">\n",
              "      <th></th>\n",
              "      <th>Text</th>\n",
              "      <th>Summary</th>\n",
              "      <th>decoder_input</th>\n",
              "      <th>decoder_target</th>\n",
              "    </tr>\n",
              "  </thead>\n",
              "  <tbody>\n",
              "    <tr>\n",
              "      <th>0</th>\n",
              "      <td>i have bought several of the vitality canned d...</td>\n",
              "      <td>good quality dog food</td>\n",
              "      <td>sostoken good quality dog food</td>\n",
              "      <td>good quality dog food eostoken</td>\n",
              "    </tr>\n",
              "    <tr>\n",
              "      <th>1</th>\n",
              "      <td>product arrived labeled as jumbo salted peanut...</td>\n",
              "      <td>not as advertised</td>\n",
              "      <td>sostoken not as advertised</td>\n",
              "      <td>not as advertised eostoken</td>\n",
              "    </tr>\n",
              "    <tr>\n",
              "      <th>3</th>\n",
              "      <td>if you are looking for the secret ingredient i...</td>\n",
              "      <td>cough medicine</td>\n",
              "      <td>sostoken cough medicine</td>\n",
              "      <td>cough medicine eostoken</td>\n",
              "    </tr>\n",
              "    <tr>\n",
              "      <th>4</th>\n",
              "      <td>great taffy at a great price  there was a wide...</td>\n",
              "      <td>great taffy</td>\n",
              "      <td>sostoken great taffy</td>\n",
              "      <td>great taffy eostoken</td>\n",
              "    </tr>\n",
              "    <tr>\n",
              "      <th>6</th>\n",
              "      <td>this saltwater taffy had great flavors and was...</td>\n",
              "      <td>great  just as good as the expensive brands</td>\n",
              "      <td>sostoken great  just as good as the expensive ...</td>\n",
              "      <td>great  just as good as the expensive brands eo...</td>\n",
              "    </tr>\n",
              "  </tbody>\n",
              "</table>\n",
              "</div>\n",
              "    <div class=\"colab-df-buttons\">\n",
              "\n",
              "  <div class=\"colab-df-container\">\n",
              "    <button class=\"colab-df-convert\" onclick=\"convertToInteractive('df-7975e322-6876-49f8-a997-0c1014496684')\"\n",
              "            title=\"Convert this dataframe to an interactive table.\"\n",
              "            style=\"display:none;\">\n",
              "\n",
              "  <svg xmlns=\"http://www.w3.org/2000/svg\" height=\"24px\" viewBox=\"0 -960 960 960\">\n",
              "    <path d=\"M120-120v-720h720v720H120Zm60-500h600v-160H180v160Zm220 220h160v-160H400v160Zm0 220h160v-160H400v160ZM180-400h160v-160H180v160Zm440 0h160v-160H620v160ZM180-180h160v-160H180v160Zm440 0h160v-160H620v160Z\"/>\n",
              "  </svg>\n",
              "    </button>\n",
              "\n",
              "  <style>\n",
              "    .colab-df-container {\n",
              "      display:flex;\n",
              "      gap: 12px;\n",
              "    }\n",
              "\n",
              "    .colab-df-convert {\n",
              "      background-color: #E8F0FE;\n",
              "      border: none;\n",
              "      border-radius: 50%;\n",
              "      cursor: pointer;\n",
              "      display: none;\n",
              "      fill: #1967D2;\n",
              "      height: 32px;\n",
              "      padding: 0 0 0 0;\n",
              "      width: 32px;\n",
              "    }\n",
              "\n",
              "    .colab-df-convert:hover {\n",
              "      background-color: #E2EBFA;\n",
              "      box-shadow: 0px 1px 2px rgba(60, 64, 67, 0.3), 0px 1px 3px 1px rgba(60, 64, 67, 0.15);\n",
              "      fill: #174EA6;\n",
              "    }\n",
              "\n",
              "    .colab-df-buttons div {\n",
              "      margin-bottom: 4px;\n",
              "    }\n",
              "\n",
              "    [theme=dark] .colab-df-convert {\n",
              "      background-color: #3B4455;\n",
              "      fill: #D2E3FC;\n",
              "    }\n",
              "\n",
              "    [theme=dark] .colab-df-convert:hover {\n",
              "      background-color: #434B5C;\n",
              "      box-shadow: 0px 1px 3px 1px rgba(0, 0, 0, 0.15);\n",
              "      filter: drop-shadow(0px 1px 2px rgba(0, 0, 0, 0.3));\n",
              "      fill: #FFFFFF;\n",
              "    }\n",
              "  </style>\n",
              "\n",
              "    <script>\n",
              "      const buttonEl =\n",
              "        document.querySelector('#df-7975e322-6876-49f8-a997-0c1014496684 button.colab-df-convert');\n",
              "      buttonEl.style.display =\n",
              "        google.colab.kernel.accessAllowed ? 'block' : 'none';\n",
              "\n",
              "      async function convertToInteractive(key) {\n",
              "        const element = document.querySelector('#df-7975e322-6876-49f8-a997-0c1014496684');\n",
              "        const dataTable =\n",
              "          await google.colab.kernel.invokeFunction('convertToInteractive',\n",
              "                                                    [key], {});\n",
              "        if (!dataTable) return;\n",
              "\n",
              "        const docLinkHtml = 'Like what you see? Visit the ' +\n",
              "          '<a target=\"_blank\" href=https://colab.research.google.com/notebooks/data_table.ipynb>data table notebook</a>'\n",
              "          + ' to learn more about interactive tables.';\n",
              "        element.innerHTML = '';\n",
              "        dataTable['output_type'] = 'display_data';\n",
              "        await google.colab.output.renderOutput(dataTable, element);\n",
              "        const docLink = document.createElement('div');\n",
              "        docLink.innerHTML = docLinkHtml;\n",
              "        element.appendChild(docLink);\n",
              "      }\n",
              "    </script>\n",
              "  </div>\n",
              "\n",
              "\n",
              "<div id=\"df-c9e90f96-a0a1-4f08-b1b0-4c8eec762ba5\">\n",
              "  <button class=\"colab-df-quickchart\" onclick=\"quickchart('df-c9e90f96-a0a1-4f08-b1b0-4c8eec762ba5')\"\n",
              "            title=\"Suggest charts.\"\n",
              "            style=\"display:none;\">\n",
              "\n",
              "<svg xmlns=\"http://www.w3.org/2000/svg\" height=\"24px\"viewBox=\"0 0 24 24\"\n",
              "     width=\"24px\">\n",
              "    <g>\n",
              "        <path d=\"M19 3H5c-1.1 0-2 .9-2 2v14c0 1.1.9 2 2 2h14c1.1 0 2-.9 2-2V5c0-1.1-.9-2-2-2zM9 17H7v-7h2v7zm4 0h-2V7h2v10zm4 0h-2v-4h2v4z\"/>\n",
              "    </g>\n",
              "</svg>\n",
              "  </button>\n",
              "\n",
              "<style>\n",
              "  .colab-df-quickchart {\n",
              "      --bg-color: #E8F0FE;\n",
              "      --fill-color: #1967D2;\n",
              "      --hover-bg-color: #E2EBFA;\n",
              "      --hover-fill-color: #174EA6;\n",
              "      --disabled-fill-color: #AAA;\n",
              "      --disabled-bg-color: #DDD;\n",
              "  }\n",
              "\n",
              "  [theme=dark] .colab-df-quickchart {\n",
              "      --bg-color: #3B4455;\n",
              "      --fill-color: #D2E3FC;\n",
              "      --hover-bg-color: #434B5C;\n",
              "      --hover-fill-color: #FFFFFF;\n",
              "      --disabled-bg-color: #3B4455;\n",
              "      --disabled-fill-color: #666;\n",
              "  }\n",
              "\n",
              "  .colab-df-quickchart {\n",
              "    background-color: var(--bg-color);\n",
              "    border: none;\n",
              "    border-radius: 50%;\n",
              "    cursor: pointer;\n",
              "    display: none;\n",
              "    fill: var(--fill-color);\n",
              "    height: 32px;\n",
              "    padding: 0;\n",
              "    width: 32px;\n",
              "  }\n",
              "\n",
              "  .colab-df-quickchart:hover {\n",
              "    background-color: var(--hover-bg-color);\n",
              "    box-shadow: 0 1px 2px rgba(60, 64, 67, 0.3), 0 1px 3px 1px rgba(60, 64, 67, 0.15);\n",
              "    fill: var(--button-hover-fill-color);\n",
              "  }\n",
              "\n",
              "  .colab-df-quickchart-complete:disabled,\n",
              "  .colab-df-quickchart-complete:disabled:hover {\n",
              "    background-color: var(--disabled-bg-color);\n",
              "    fill: var(--disabled-fill-color);\n",
              "    box-shadow: none;\n",
              "  }\n",
              "\n",
              "  .colab-df-spinner {\n",
              "    border: 2px solid var(--fill-color);\n",
              "    border-color: transparent;\n",
              "    border-bottom-color: var(--fill-color);\n",
              "    animation:\n",
              "      spin 1s steps(1) infinite;\n",
              "  }\n",
              "\n",
              "  @keyframes spin {\n",
              "    0% {\n",
              "      border-color: transparent;\n",
              "      border-bottom-color: var(--fill-color);\n",
              "      border-left-color: var(--fill-color);\n",
              "    }\n",
              "    20% {\n",
              "      border-color: transparent;\n",
              "      border-left-color: var(--fill-color);\n",
              "      border-top-color: var(--fill-color);\n",
              "    }\n",
              "    30% {\n",
              "      border-color: transparent;\n",
              "      border-left-color: var(--fill-color);\n",
              "      border-top-color: var(--fill-color);\n",
              "      border-right-color: var(--fill-color);\n",
              "    }\n",
              "    40% {\n",
              "      border-color: transparent;\n",
              "      border-right-color: var(--fill-color);\n",
              "      border-top-color: var(--fill-color);\n",
              "    }\n",
              "    60% {\n",
              "      border-color: transparent;\n",
              "      border-right-color: var(--fill-color);\n",
              "    }\n",
              "    80% {\n",
              "      border-color: transparent;\n",
              "      border-right-color: var(--fill-color);\n",
              "      border-bottom-color: var(--fill-color);\n",
              "    }\n",
              "    90% {\n",
              "      border-color: transparent;\n",
              "      border-bottom-color: var(--fill-color);\n",
              "    }\n",
              "  }\n",
              "</style>\n",
              "\n",
              "  <script>\n",
              "    async function quickchart(key) {\n",
              "      const quickchartButtonEl =\n",
              "        document.querySelector('#' + key + ' button');\n",
              "      quickchartButtonEl.disabled = true;  // To prevent multiple clicks.\n",
              "      quickchartButtonEl.classList.add('colab-df-spinner');\n",
              "      try {\n",
              "        const charts = await google.colab.kernel.invokeFunction(\n",
              "            'suggestCharts', [key], {});\n",
              "      } catch (error) {\n",
              "        console.error('Error during call to suggestCharts:', error);\n",
              "      }\n",
              "      quickchartButtonEl.classList.remove('colab-df-spinner');\n",
              "      quickchartButtonEl.classList.add('colab-df-quickchart-complete');\n",
              "    }\n",
              "    (() => {\n",
              "      let quickchartButtonEl =\n",
              "        document.querySelector('#df-c9e90f96-a0a1-4f08-b1b0-4c8eec762ba5 button');\n",
              "      quickchartButtonEl.style.display =\n",
              "        google.colab.kernel.accessAllowed ? 'block' : 'none';\n",
              "    })();\n",
              "  </script>\n",
              "</div>\n",
              "    </div>\n",
              "  </div>\n"
            ]
          },
          "metadata": {},
          "execution_count": 25
        }
      ]
    },
    {
      "cell_type": "markdown",
      "source": [
        "앞뒤로 토큰이 잘 붙었죠? 인코더의 입력, 디코더의 입력과 레이블을 각각 다시 Numpy 타입으로 저장해 줄게요."
      ],
      "metadata": {
        "id": "ODeJ_jCGp5h3"
      }
    },
    {
      "cell_type": "code",
      "source": [
        "encoder_input = np.array(data['Text']) # 인코더의 입력\n",
        "decoder_input = np.array(data['decoder_input']) # 디코더의 입력\n",
        "decoder_target = np.array(data['decoder_target']) # 디코더의 레이블\n",
        "print('=3')"
      ],
      "metadata": {
        "colab": {
          "base_uri": "https://localhost:8080/"
        },
        "id": "QNJ4aqhMp3jk",
        "outputId": "917c1520-851e-430b-8a44-7ae850ea1d01"
      },
      "execution_count": 26,
      "outputs": [
        {
          "output_type": "stream",
          "name": "stdout",
          "text": [
            "=3\n"
          ]
        }
      ]
    },
    {
      "cell_type": "markdown",
      "source": [
        "이제 훈련 데이터와 테스트 데이터를 분리할거에요.\n",
        "\n",
        "훈련 데이터와 테스트 데이터를 분리하는 방법은 분리 패키지를 사용하는 방법, 또는 직접 코딩을 통해서 분리하는 방법 등 여러 가지 방법이 있을 텐데 여기서는 직접 해볼게요. 우선, encoder_input과 크기와 형태가 같은 순서가 섞인 정수 시퀀스를 만들어줄게요."
      ],
      "metadata": {
        "id": "rVsEK5U8p8xg"
      }
    },
    {
      "cell_type": "code",
      "source": [
        "indices = np.arange(encoder_input.shape[0])\n",
        "np.random.shuffle(indices)\n",
        "print(indices)"
      ],
      "metadata": {
        "colab": {
          "base_uri": "https://localhost:8080/"
        },
        "id": "llI8OXFQp64s",
        "outputId": "59cf8902-bcf1-451e-f8cc-62d9942ba4c5"
      },
      "execution_count": 27,
      "outputs": [
        {
          "output_type": "stream",
          "name": "stdout",
          "text": [
            "[ 7475  6273  6519 ... 24921 18506 26635]\n"
          ]
        }
      ]
    },
    {
      "cell_type": "markdown",
      "source": [
        "이 정수 시퀀스를 이용해 다시 데이터의 샘플 순서를 정의해 주면 잘 섞인 샘플이 되겠죠."
      ],
      "metadata": {
        "id": "1nORFrwPqAIH"
      }
    },
    {
      "cell_type": "code",
      "source": [
        "encoder_input = encoder_input[indices]\n",
        "decoder_input = decoder_input[indices]\n",
        "decoder_target = decoder_target[indices]\n",
        "print('=3')"
      ],
      "metadata": {
        "colab": {
          "base_uri": "https://localhost:8080/"
        },
        "id": "RbQgi1mkp-Q5",
        "outputId": "80272caf-1d53-4ca8-adb9-0c39a39c208b"
      },
      "execution_count": 28,
      "outputs": [
        {
          "output_type": "stream",
          "name": "stdout",
          "text": [
            "=3\n"
          ]
        }
      ]
    },
    {
      "cell_type": "markdown",
      "source": [
        "이제 섞인 데이터를 8:2의 비율로 훈련 데이터와 테스트 데이터로 분리해 줄게요. 전체 데이터의 크기에서 0.2를 곱해서 테스트 데이터의 크기를 정의해 줄게요."
      ],
      "metadata": {
        "id": "gbNSoKmRqDJK"
      }
    },
    {
      "cell_type": "code",
      "source": [
        "n_of_val = int(len(encoder_input)*0.2)\n",
        "print('테스트 데이터의 수 :', n_of_val)"
      ],
      "metadata": {
        "colab": {
          "base_uri": "https://localhost:8080/"
        },
        "id": "T7rBftb5qB4_",
        "outputId": "3ec86776-52e3-44c0-de1a-ef650facf4bf"
      },
      "execution_count": 29,
      "outputs": [
        {
          "output_type": "stream",
          "name": "stdout",
          "text": [
            "테스트 데이터의 수 : 7556\n"
          ]
        }
      ]
    },
    {
      "cell_type": "markdown",
      "source": [
        "이렇게 정의한 테스트 데이터의 개수를 이용해 전체 데이터를 양분할게요. :표시의 위치에 주의해 주세요."
      ],
      "metadata": {
        "id": "NCq7yohaqGMw"
      }
    },
    {
      "cell_type": "code",
      "source": [
        "encoder_input_train = encoder_input[:-n_of_val]\n",
        "decoder_input_train = decoder_input[:-n_of_val]\n",
        "decoder_target_train = decoder_target[:-n_of_val]\n",
        "\n",
        "encoder_input_test = encoder_input[-n_of_val:]\n",
        "decoder_input_test = decoder_input[-n_of_val:]\n",
        "decoder_target_test = decoder_target[-n_of_val:]\n",
        "\n",
        "print('훈련 데이터의 개수 :', len(encoder_input_train))\n",
        "print('훈련 레이블의 개수 :', len(decoder_input_train))\n",
        "print('테스트 데이터의 개수 :', len(encoder_input_test))\n",
        "print('테스트 레이블의 개수 :', len(decoder_input_test))"
      ],
      "metadata": {
        "colab": {
          "base_uri": "https://localhost:8080/"
        },
        "id": "fbUuyxBMqE0R",
        "outputId": "57f9eb54-41e2-44b4-b123-37ea3d82ee9f"
      },
      "execution_count": 30,
      "outputs": [
        {
          "output_type": "stream",
          "name": "stdout",
          "text": [
            "훈련 데이터의 개수 : 30225\n",
            "훈련 레이블의 개수 : 30225\n",
            "테스트 데이터의 개수 : 7556\n",
            "테스트 레이블의 개수 : 7556\n"
          ]
        }
      ]
    },
    {
      "cell_type": "markdown",
      "source": [
        "## **3-7. 데이터 전처리하기 (3) 정수 인코딩**\n",
        "\n",
        "#### **단어 집합(vocabulary) 만들기 및 정수 인코딩**\n",
        "---\n",
        "이제 기계가 텍스트를 숫자로 처리할 수 있도록 훈련 데이터와 테스트 데이터의 단어들을 모두 정수로 바꾸어 주어야 해요. 이를 위해서는 각 단어에 고유한 정수를 맵핑하는 작업이 필요해요. 이 과정을 단어 집합(vocabulary) 을 만든다고 표현해요. 훈련 데이터에 대해서 단어 집합을 만들어볼게요. 우선, 원문에 해당되는 encoder_input_train에 대해서 단어 집합을 만들게요.\n",
        "\n",
        "Keras의 토크나이저를 사용하면, 입력된 훈련 데이터로부터 단어 집합을 만들 수 있어요."
      ],
      "metadata": {
        "id": "F-u5AshcqILr"
      }
    },
    {
      "cell_type": "code",
      "source": [
        "src_tokenizer = Tokenizer() # 토크나이저 정의\n",
        "src_tokenizer.fit_on_texts(encoder_input_train) # 입력된 데이터로부터 단어 집합 생성\n",
        "print('=3')"
      ],
      "metadata": {
        "colab": {
          "base_uri": "https://localhost:8080/"
        },
        "id": "90xLuabQqHs5",
        "outputId": "32d6c7f7-9a9d-4a41-9771-a321fcdf214c"
      },
      "execution_count": 31,
      "outputs": [
        {
          "output_type": "stream",
          "name": "stdout",
          "text": [
            "=3\n"
          ]
        }
      ]
    },
    {
      "cell_type": "markdown",
      "source": [
        "이제 단어 집합이 생성되는 동시에 각 단어에 고유한 정수가 부여되었어요. 현재 생성된 단어 집합은 src_tokenizer.word_index에 저장되어 있어요. 그런데 우리는 이렇게 만든 단어 집합에 있는 모든 단어를 사용하는 것이 아니라, 빈도수가 낮은 단어들은 훈련 데이터에서 제외하고 진행하려고 해요.\n",
        "\n",
        "등장 빈도수가 7회 미만인 단어들이 이 데이터에서 얼만큼의 비중을 차지하는지 확인해볼게요.\n",
        "\n",
        "src_tokenizer.word_counts.items()에는 단어와 각 단어의 등장 빈도수가 저장돼 있는데, 이를 통해서 통계적인 정보를 얻을 수 있어요."
      ],
      "metadata": {
        "id": "BbS0orbSHjVx"
      }
    },
    {
      "cell_type": "code",
      "source": [
        "threshold = 7\n",
        "total_cnt = len(src_tokenizer.word_index) # 단어의 수\n",
        "rare_cnt = 0 # 등장 빈도수가 threshold보다 작은 단어의 개수를 카운트\n",
        "total_freq = 0 # 훈련 데이터의 전체 단어 빈도수 총 합\n",
        "rare_freq = 0 # 등장 빈도수가 threshold보다 작은 단어의 등장 빈도수의 총 합\n",
        "\n",
        "# 단어와 빈도수의 쌍(pair)을 key와 value로 받는다.\n",
        "for key, value in src_tokenizer.word_counts.items():\n",
        "    total_freq = total_freq + value\n",
        "\n",
        "    # 단어의 등장 빈도수가 threshold보다 작으면\n",
        "    if(value < threshold):\n",
        "        rare_cnt = rare_cnt + 1\n",
        "        rare_freq = rare_freq + value\n",
        "\n",
        "print('단어 집합(vocabulary)의 크기 :', total_cnt)\n",
        "print('등장 빈도가 %s번 이하인 희귀 단어의 수: %s'%(threshold - 1, rare_cnt))\n",
        "print('단어 집합에서 희귀 단어를 제외시킬 경우의 단어 집합의 크기 %s'%(total_cnt - rare_cnt))\n",
        "print(\"단어 집합에서 희귀 단어의 비율:\", (rare_cnt / total_cnt)*100)\n",
        "print(\"전체 등장 빈도에서 희귀 단어 등장 빈도 비율:\", (rare_freq / total_freq)*100)"
      ],
      "metadata": {
        "colab": {
          "base_uri": "https://localhost:8080/"
        },
        "id": "oY39HeiXHhmp",
        "outputId": "5d9bf076-e19d-4e72-f010-f141e05ba34c"
      },
      "execution_count": 32,
      "outputs": [
        {
          "output_type": "stream",
          "name": "stdout",
          "text": [
            "단어 집합(vocabulary)의 크기 : 24845\n",
            "등장 빈도가 6번 이하인 희귀 단어의 수: 19874\n",
            "단어 집합에서 희귀 단어를 제외시킬 경우의 단어 집합의 크기 4971\n",
            "단어 집합에서 희귀 단어의 비율: 79.99195009056149\n",
            "전체 등장 빈도에서 희귀 단어 등장 빈도 비율: 3.392149868385446\n"
          ]
        }
      ]
    },
    {
      "cell_type": "markdown",
      "source": [
        "encoder_input_train에는 3만여 개의 단어가 있네요. 그 아래의 통계 정보들을 해석해볼까요?\n",
        "\n",
        "등장 빈도가 threshold 값인 7회 미만, 즉 6회 이하인 단어들은 단어 집합에서 무려 70% 이상을 차지하네요. 하지만 실제로 훈련 데이터에서 등장 빈도로 차지하는 비중은 상대적으로 적은 수치인 3.39%밖에 되지 않아요.\n",
        "\n",
        "그래서 등장 빈도가 6회 이하인 단어들은 정수 인코딩 과정에서 빼고, 훈련 데이터에서 제거하고자 합니다. 위에서 이를 제외한 단어 집합의 크기를 8천여 개로 계산했는데, 이와 비슷한 값으로 어림잡아 단어 집합의 크기를 8,000으로 제한해볼게요. 토크나이저를 정의할 때 num_words의 값을 정해주면, 단어 집합의 크기를 제한할 수 있어요."
      ],
      "metadata": {
        "id": "R54UcUkyH8qh"
      }
    },
    {
      "cell_type": "code",
      "source": [
        "src_vocab = 8000\n",
        "src_tokenizer = Tokenizer(num_words=src_vocab) # 단어 집합의 크기를 8,000으로 제한\n",
        "src_tokenizer.fit_on_texts(encoder_input_train) # 단어 집합 재생성\n",
        "print('=3')"
      ],
      "metadata": {
        "colab": {
          "base_uri": "https://localhost:8080/"
        },
        "id": "R9yWnw5kH6o8",
        "outputId": "d251df47-f8d7-452b-e2bf-929f08421621"
      },
      "execution_count": 33,
      "outputs": [
        {
          "output_type": "stream",
          "name": "stdout",
          "text": [
            "=3\n"
          ]
        }
      ]
    },
    {
      "cell_type": "markdown",
      "source": [
        "texts_to_sequences()는 생성된 단어 집합에 기반하여 입력으로 주어진 텍스트 데이터의 단어들을 모두 정수로 변환하는 정수 인코딩을 수행해요. 현재 단어 집합의 크기를 8,000으로 제한했으니까 이제 8,000이 넘는 숫자들은 정수 인코딩 후에는 데이터에 존재하지 않아요."
      ],
      "metadata": {
        "id": "mrtZA4IyIJzc"
      }
    },
    {
      "cell_type": "code",
      "source": [
        "# 텍스트 시퀀스를 정수 시퀀스로 변환\n",
        "encoder_input_train = src_tokenizer.texts_to_sequences(encoder_input_train)\n",
        "encoder_input_test = src_tokenizer.texts_to_sequences(encoder_input_test)\n",
        "\n",
        "# 잘 진행되었는지 샘플 출력\n",
        "print(encoder_input_train[:3])"
      ],
      "metadata": {
        "colab": {
          "base_uri": "https://localhost:8080/"
        },
        "id": "1rOtM75VH_Pf",
        "outputId": "bcafcb0b-d953-4b54-a35e-98e99055d87b"
      },
      "execution_count": 34,
      "outputs": [
        {
          "output_type": "stream",
          "name": "stdout",
          "text": [
            "[[17, 13, 1, 45, 246, 130, 921, 122, 2, 19, 76, 148, 246, 130, 598, 3, 77, 33, 51, 207, 14, 15, 17, 2, 30, 26], [6, 34, 8, 1, 45, 582, 139, 44, 19, 76, 5, 8, 262, 3, 356, 3, 44, 30, 5, 181, 239, 10, 336, 12, 1, 356, 742, 14, 6, 43, 42, 156, 7, 564], [93, 16, 241, 2, 265, 2, 59, 1, 1187, 1136, 28, 5, 48, 54, 749, 35, 7, 5, 11, 578, 138, 1, 1187, 1136, 815, 8, 51, 16, 10, 234, 29, 79, 14, 1, 494, 596, 77, 9, 1, 33, 71]]\n"
          ]
        }
      ]
    },
    {
      "cell_type": "markdown",
      "source": [
        "이제 더 이상 텍스트 데이터가 아니라 정수가 나오고 있어요.\n",
        "\n",
        "Summary 데이터에 대해서도 동일한 작업을 수행할게요. 케라스의 토크나이저를 사용하여 decoder_input_train을 입력으로 전체 단어 집합과 각 단어에 대한 빈도수를 계산해요."
      ],
      "metadata": {
        "id": "aNjo8WFfIig8"
      }
    },
    {
      "cell_type": "code",
      "source": [
        "tar_tokenizer = Tokenizer()\n",
        "tar_tokenizer.fit_on_texts(decoder_input_train)\n",
        "print('=3')"
      ],
      "metadata": {
        "colab": {
          "base_uri": "https://localhost:8080/"
        },
        "id": "RdzPu9oJIhwg",
        "outputId": "5a3b07d3-fb6d-4576-da8e-faa796a733c1"
      },
      "execution_count": 35,
      "outputs": [
        {
          "output_type": "stream",
          "name": "stdout",
          "text": [
            "=3\n"
          ]
        }
      ]
    },
    {
      "cell_type": "markdown",
      "source": [
        "이제 단어 집합이 생성되는 동시에 각 단어에 고유한 정수가 부여되었어요. 이는 tar_tokenizer.word_index에 저장되어 있어요. tar_tokenizer.word_counts.items()에는 단어와 각 단어의 등장 빈도수가 저장돼 있는데, 이를 통해서 통계적인 정보를 얻어서, 등장 빈도수가 6회 미만인 단어들이 이 데이터에서 얼만큼의 비중을 차지하는지 확인해볼게요."
      ],
      "metadata": {
        "id": "WCUoyuYYItaH"
      }
    },
    {
      "cell_type": "code",
      "source": [
        "threshold = 6\n",
        "total_cnt = len(tar_tokenizer.word_index) # 단어의 수\n",
        "rare_cnt = 0 # 등장 빈도수가 threshold보다 작은 단어의 개수를 카운트\n",
        "total_freq = 0 # 훈련 데이터의 전체 단어 빈도수 총 합\n",
        "rare_freq = 0 # 등장 빈도수가 threshold보다 작은 단어의 등장 빈도수의 총 합\n",
        "\n",
        "# 단어와 빈도수의 쌍(pair)을 key와 value로 받는다.\n",
        "for key, value in tar_tokenizer.word_counts.items():\n",
        "    total_freq = total_freq + value\n",
        "\n",
        "    # 단어의 등장 빈도수가 threshold보다 작으면\n",
        "    if(value < threshold):\n",
        "        rare_cnt = rare_cnt + 1\n",
        "        rare_freq = rare_freq + value\n",
        "\n",
        "print('단어 집합(vocabulary)의 크기 :', total_cnt)\n",
        "print('등장 빈도가 %s번 이하인 희귀 단어의 수: %s'%(threshold - 1, rare_cnt))\n",
        "print('단어 집합에서 희귀 단어를 제외시킬 경우의 단어 집합의 크기 %s'%(total_cnt - rare_cnt))\n",
        "print(\"단어 집합에서 희귀 단어의 비율:\", (rare_cnt / total_cnt)*100)\n",
        "print(\"전체 등장 빈도에서 희귀 단어 등장 빈도 비율:\", (rare_freq / total_freq)*100)"
      ],
      "metadata": {
        "colab": {
          "base_uri": "https://localhost:8080/"
        },
        "id": "hrz7hkC7Ilcv",
        "outputId": "c5c61b04-2f01-4f6f-bccd-7f4e965ef33d"
      },
      "execution_count": 36,
      "outputs": [
        {
          "output_type": "stream",
          "name": "stdout",
          "text": [
            "단어 집합(vocabulary)의 크기 : 8178\n",
            "등장 빈도가 5번 이하인 희귀 단어의 수: 6606\n",
            "단어 집합에서 희귀 단어를 제외시킬 경우의 단어 집합의 크기 1572\n",
            "단어 집합에서 희귀 단어의 비율: 80.77769625825385\n",
            "전체 등장 빈도에서 희귀 단어 등장 빈도 비율: 8.495682975426169\n"
          ]
        }
      ]
    },
    {
      "cell_type": "code",
      "source": [
        "tar_vocab = 2000\n",
        "tar_tokenizer = Tokenizer(num_words=tar_vocab)\n",
        "tar_tokenizer.fit_on_texts(decoder_input_train)\n",
        "tar_tokenizer.fit_on_texts(decoder_target_train)\n",
        "\n",
        "# 텍스트 시퀀스를 정수 시퀀스로 변환\n",
        "decoder_input_train = tar_tokenizer.texts_to_sequences(decoder_input_train)\n",
        "decoder_target_train = tar_tokenizer.texts_to_sequences(decoder_target_train)\n",
        "decoder_input_test = tar_tokenizer.texts_to_sequences(decoder_input_test)\n",
        "decoder_target_test = tar_tokenizer.texts_to_sequences(decoder_target_test)\n",
        "\n",
        "# 잘 변환되었는지 확인\n",
        "print('input')\n",
        "print('input ',decoder_input_train[:5])\n",
        "print('target')\n",
        "print('decoder ',decoder_target_train[:5])"
      ],
      "metadata": {
        "colab": {
          "base_uri": "https://localhost:8080/"
        },
        "id": "YRHeOJozIvSo",
        "outputId": "6d77e18e-4533-4926-f4ad-41a99b2a9d86"
      },
      "execution_count": 37,
      "outputs": [
        {
          "output_type": "stream",
          "name": "stdout",
          "text": [
            "input\n",
            "input  [[1, 6, 90, 67, 35], [1, 5, 6, 45, 244], [1, 363, 139], [1, 3], [1, 20, 4]]\n",
            "target\n",
            "decoder  [[6, 90, 67, 35, 2], [5, 6, 45, 244, 2], [363, 139, 2], [3, 2], [20, 4, 2]]\n"
          ]
        }
      ]
    },
    {
      "cell_type": "markdown",
      "source": [
        "정상적으로 정수 인코딩 작업이 끝났어요. 현재 decoder_input_train과 decoder_target_train에는 더 이상 숫자 2,000이 넘는 숫자들은 존재하지 않아요. 그런데 다음 작업인 패딩 하기로 넘어가기 전에 한 가지 점검해야 할 것이 있어요.\n",
        "\n",
        "전체 데이터에서 빈도수가 낮은 단어가 삭제되었다는 것은 빈도수가 낮은 단어만으로 구성되었던 샘플들은 이제 빈(empty) 샘플이 되었을 가능성이 있어요. 이 현상은 길이가 상대적으로 길었던 원문(Text)의 경우에는 문제가 별로 없겠지만, 애초에 평균 길이가 4밖에 되지 않았던 요약문(Summary)의 경우에는 이 현상이 굉장히 두드러졌을 가능성이 높겠죠.\n",
        "\n",
        "요약문에서 길이가 0이 된 샘플들의 인덱스를 받아와볼게요. 여기서 주의할 점은 요약문인 decoder_input에는 sostoken 또는 decoder_target에는 eostoken이 추가된 상태이고, 이 두 토큰은 모든 샘플에서 등장하므로 빈도수가 샘플 수와 동일하게 매우 높으므로 단어 집합 제한에도 삭제되지 않아요. 그래서 이제 길이가 0이 된 요약문의 실제 길이는 1로 나올 거예요. 길이 0이 된 decoder_input에는 sostoken, decoder_target에는 eostoken만 남아 있을 테니까요.\n",
        "\n",
        "훈련 데이터와 테스트 데이터에 대해서 요약문의 길이가 1인 경우의 인덱스를 각각 drop_train과 drop_test에 라는 변수에 저장해볼게요. 이 샘플들은 모두 삭제할 거예요."
      ],
      "metadata": {
        "id": "nsMWUGfuI5x4"
      }
    },
    {
      "cell_type": "code",
      "source": [
        "drop_train = [index for index, sentence in enumerate(decoder_input_train) if len(sentence) == 1]\n",
        "drop_test = [index for index, sentence in enumerate(decoder_input_test) if len(sentence) == 1]\n",
        "\n",
        "print('삭제할 훈련 데이터의 개수 :', len(drop_train))\n",
        "print('삭제할 테스트 데이터의 개수 :', len(drop_test))\n",
        "\n",
        "encoder_input_train = [sentence for index, sentence in enumerate(encoder_input_train) if index not in drop_train]\n",
        "decoder_input_train = [sentence for index, sentence in enumerate(decoder_input_train) if index not in drop_train]\n",
        "decoder_target_train = [sentence for index, sentence in enumerate(decoder_target_train) if index not in drop_train]\n",
        "\n",
        "encoder_input_test = [sentence for index, sentence in enumerate(encoder_input_test) if index not in drop_test]\n",
        "decoder_input_test = [sentence for index, sentence in enumerate(decoder_input_test) if index not in drop_test]\n",
        "decoder_target_test = [sentence for index, sentence in enumerate(decoder_target_test) if index not in drop_test]\n",
        "\n",
        "print('훈련 데이터의 개수 :', len(encoder_input_train))\n",
        "print('훈련 레이블의 개수 :', len(decoder_input_train))\n",
        "print('테스트 데이터의 개수 :', len(encoder_input_test))\n",
        "print('테스트 레이블의 개수 :', len(decoder_input_test))"
      ],
      "metadata": {
        "colab": {
          "base_uri": "https://localhost:8080/"
        },
        "id": "pZwix82XI0bH",
        "outputId": "c43c1da7-095c-41a5-845a-c6cfe75f78b1"
      },
      "execution_count": 38,
      "outputs": [
        {
          "output_type": "stream",
          "name": "stdout",
          "text": [
            "삭제할 훈련 데이터의 개수 : 876\n",
            "삭제할 테스트 데이터의 개수 : 238\n",
            "훈련 데이터의 개수 : 29349\n",
            "훈련 레이블의 개수 : 29349\n",
            "테스트 데이터의 개수 : 7318\n",
            "테스트 레이블의 개수 : 7318\n"
          ]
        }
      ]
    },
    {
      "cell_type": "markdown",
      "source": [
        "**패딩하기**\n",
        "\n",
        "텍스트 시퀀스를 정수 시퀀스로 변환했다면, 이제 서로 다른 길이의 샘플들을 병렬 처리하기 위해 같은 길이로 맞춰주는 패딩 작업을 해주어야 해야 해요. 아까 정해두었던 최대 길이로 패딩 해 줄 거에요. 최대 길이보다 짧은 데이터들은 뒤의 공간에 숫자 0을 넣어 최대 길이로 길이를 맞춰줄게요."
      ],
      "metadata": {
        "id": "K6Y-73tPJO-3"
      }
    },
    {
      "cell_type": "code",
      "source": [
        "encoder_input_train = pad_sequences(encoder_input_train, maxlen=text_max_len, padding='post')\n",
        "encoder_input_test = pad_sequences(encoder_input_test, maxlen=text_max_len, padding='post')\n",
        "decoder_input_train = pad_sequences(decoder_input_train, maxlen=summary_max_len, padding='post')\n",
        "decoder_target_train = pad_sequences(decoder_target_train, maxlen=summary_max_len, padding='post')\n",
        "decoder_input_test = pad_sequences(decoder_input_test, maxlen=summary_max_len, padding='post')\n",
        "decoder_target_test = pad_sequences(decoder_target_test, maxlen=summary_max_len, padding='post')\n",
        "print('=3')"
      ],
      "metadata": {
        "colab": {
          "base_uri": "https://localhost:8080/"
        },
        "id": "34XYBmbrJJ-F",
        "outputId": "2d3eaa10-03f0-43c1-ffa8-5f0100eeea6d"
      },
      "execution_count": 39,
      "outputs": [
        {
          "output_type": "stream",
          "name": "stdout",
          "text": [
            "=3\n"
          ]
        }
      ]
    },
    {
      "cell_type": "markdown",
      "source": [
        "## **1-3. 모델 설계하기**\n",
        "\n",
        "이제는 모델을 설계할 시간이에요. 우선 함수형 API를 이용해서 인코더를 설계해 볼게요.\n"
      ],
      "metadata": {
        "id": "aY8zciKNJeDZ"
      }
    },
    {
      "cell_type": "code",
      "source": [
        "from tensorflow.keras.layers import Input, LSTM, Embedding, Dense, Concatenate, TimeDistributed\n",
        "from tensorflow.keras.models import Model\n",
        "from tensorflow.keras.callbacks import EarlyStopping, ModelCheckpoint\n",
        "\n",
        "\n",
        "# 인코더 설계 시작\n",
        "embedding_dim = 128\n",
        "hidden_size = 256\n",
        "\n",
        "# 인코더\n",
        "encoder_inputs = Input(shape=(text_max_len,))\n",
        "\n",
        "# 인코더의 임베딩 층\n",
        "enc_emb = Embedding(src_vocab, embedding_dim)(encoder_inputs)\n",
        "\n",
        "# 인코더의 LSTM 1\n",
        "# encoder_lstm1 = LSTM(hidden_size, return_sequences=True, return_state=True ,dropout = 0.4, recurrent_dropout = 0.4)\n",
        "encoder_lstm1 = LSTM(hidden_size, return_sequences=True, return_state=True ,dropout = 0.4)\n",
        "encoder_output1, state_h1, state_c1 = encoder_lstm1(enc_emb)\n",
        "\n",
        "# 인코더의 LSTM 2\n",
        "encoder_lstm2 = LSTM(hidden_size, return_sequences=True, return_state=True, dropout=0.4)\n",
        "encoder_output2, state_h2, state_c2 = encoder_lstm2(encoder_output1)  # LSTM 1의 출력을 LSTM 2의 입력으로 사용\n",
        "\n",
        "# 인코더의 LSTM 3\n",
        "encoder_lstm3 = LSTM(hidden_size, return_sequences=True, return_state=True, dropout=0.4)\n",
        "encoder_output3, state_h3, state_c3 = encoder_lstm3(encoder_output2)  # LSTM 2의 출력을 LSTM 3의 입력으로 사용"
      ],
      "metadata": {
        "id": "ZAED9P6UJSuS"
      },
      "execution_count": 40,
      "outputs": []
    },
    {
      "cell_type": "markdown",
      "source": [
        "임베딩 벡터의 차원은 128로 정의하고, hidden state의 크기를 256으로 정의했어요. hidden state는 LSTM에서 얼만큼의 수용력(capacity)를 가질지를 정하는 파라미터에요. 이 파라미터는 LSTM의 용량의 크기나, LSTM에서의 뉴런의 개수라고 이해하면 돼요. 다른 신경망과 마찬가지로, 무조건 용량을 많이 준다고 해서 성능이 반드시 올라가는 것은 아니에요.\n",
        "\n",
        "인코더의 LSTM은 총 3개의 층으로 구성해서 모델의 복잡도를 높였어요. hidden state의 크기를 늘리는 것이 LSTM 층 1개의 용량을 늘린다면, 3개의 층을 사용하는 것은 모델의 용량을 늘린다고 볼 수 있죠. 3개의 층을 지나서 인코더로부터 나온 출력 벡터는 디코더로 보내줘야겠죠?\n",
        "\n",
        "또한 LSTM은 dropout 뿐 아니라 recurrent dropout까지 사용할 수 있어요. 일반적인 dropout은 레이어의 weight를 랜덤으로 생략하여 모델의 과적합(overfitting)을 해결해주는 방법이에요.\n",
        "\n",
        "반면 recurrent dropout은 dropout을 레이어가 아닌 time step마다 해주는 방식이에요. 즉 time step의 입력을 랜덤으로 생략해 주는 거죠. recurrent dropout은 일반적인 dropout와 같이 regularization을 해주는 효과가 있고, 과적합을 방지할 수 있다고 해요.\n",
        "\n",
        "아래 그림은 일반적인 dropout과, dropout과 recurrent dropout을 동시에 사용한 것을 시각적으로 표현한 것입니다. 색이 있는 화살표는 dropout을 나타낸 것이에요. (색이 다른 것은 다른 dropout mask를 사용했다는 표시인데, 지금은 그냥 넘어가셔도 됩니다.) 코드를 수정해서 LSTM에 dropout과 recurrent dropout을 모두 사용할 수 있습니다. 그렇게 되면 오른쪽 그림과 같은 형태가 되겠군요. 참고로 dropout과 recurrent dropout을 모두 사용한 것을 Variational Dropout이라고도 해요."
      ],
      "metadata": {
        "id": "MV1tFrOCKufa"
      }
    },
    {
      "cell_type": "markdown",
      "source": [
        "이제 디코더를 설계해볼게요!"
      ],
      "metadata": {
        "id": "MgaJdICWM8uJ"
      }
    },
    {
      "cell_type": "code",
      "source": [
        "# 디코더 설계\n",
        "decoder_inputs = Input(shape=(None,))\n",
        "\n",
        "# 디코더의 임베딩 층\n",
        "dec_emb_layer = Embedding(tar_vocab, embedding_dim)\n",
        "dec_emb = dec_emb_layer(decoder_inputs)\n",
        "\n",
        "# 디코더의 LSTM\n",
        "# decoder_lstm = LSTM(hidden_size, return_sequences=True, return_state=True, dropout=0.4, recurrent_dropout=0.2)\n",
        "decoder_lstm = LSTM(hidden_size, return_sequences=True, return_state=True, dropout=0.4)\n",
        "decoder_outputs, _, _ = decoder_lstm(dec_emb, initial_state=[state_h3, state_c3])"
      ],
      "metadata": {
        "id": "Ip2eMWKCKr4F"
      },
      "execution_count": 41,
      "outputs": []
    },
    {
      "cell_type": "markdown",
      "source": [
        "디코더의 임베딩 층과 LSTM을 설계하는 것은 인코더와 거의 동일해요. 하지만 LSTM의 입력을 정의할 때, initial_state의 인자값으로 인코더의 hidden state와 cell state의 값을 넣어줘야 해요.\n",
        "\n",
        "디코더의 출력층을 설계해볼게요."
      ],
      "metadata": {
        "id": "olgjBoEfOBDH"
      }
    },
    {
      "cell_type": "code",
      "source": [
        "# 디코더의 출력층\n",
        "decoder_softmax_layer = Dense(tar_vocab, activation='softmax')\n",
        "decoder_softmax_outputs = decoder_softmax_layer(decoder_outputs)\n",
        "\n",
        "# 모델 정의\n",
        "model = Model([encoder_inputs, decoder_inputs], decoder_softmax_outputs)\n",
        "model.summary()"
      ],
      "metadata": {
        "colab": {
          "base_uri": "https://localhost:8080/"
        },
        "id": "Y7sHGHNGNAA4",
        "outputId": "9e85126d-1912-4ec9-9b78-0c89cf8d9e24"
      },
      "execution_count": 42,
      "outputs": [
        {
          "output_type": "stream",
          "name": "stdout",
          "text": [
            "Model: \"model\"\n",
            "__________________________________________________________________________________________________\n",
            " Layer (type)                Output Shape                 Param #   Connected to                  \n",
            "==================================================================================================\n",
            " input_1 (InputLayer)        [(None, 50)]                 0         []                            \n",
            "                                                                                                  \n",
            " embedding (Embedding)       (None, 50, 128)              1024000   ['input_1[0][0]']             \n",
            "                                                                                                  \n",
            " lstm (LSTM)                 [(None, 50, 256),            394240    ['embedding[0][0]']           \n",
            "                              (None, 256),                                                        \n",
            "                              (None, 256)]                                                        \n",
            "                                                                                                  \n",
            " input_2 (InputLayer)        [(None, None)]               0         []                            \n",
            "                                                                                                  \n",
            " lstm_1 (LSTM)               [(None, 50, 256),            525312    ['lstm[0][0]']                \n",
            "                              (None, 256),                                                        \n",
            "                              (None, 256)]                                                        \n",
            "                                                                                                  \n",
            " embedding_1 (Embedding)     (None, None, 128)            256000    ['input_2[0][0]']             \n",
            "                                                                                                  \n",
            " lstm_2 (LSTM)               [(None, 50, 256),            525312    ['lstm_1[0][0]']              \n",
            "                              (None, 256),                                                        \n",
            "                              (None, 256)]                                                        \n",
            "                                                                                                  \n",
            " lstm_3 (LSTM)               [(None, None, 256),          394240    ['embedding_1[0][0]',         \n",
            "                              (None, 256),                           'lstm_2[0][1]',              \n",
            "                              (None, 256)]                           'lstm_2[0][2]']              \n",
            "                                                                                                  \n",
            " dense (Dense)               (None, None, 2000)           514000    ['lstm_3[0][0]']              \n",
            "                                                                                                  \n",
            "==================================================================================================\n",
            "Total params: 3633104 (13.86 MB)\n",
            "Trainable params: 3633104 (13.86 MB)\n",
            "Non-trainable params: 0 (0.00 Byte)\n",
            "__________________________________________________________________________________________________\n"
          ]
        }
      ]
    },
    {
      "cell_type": "markdown",
      "source": [
        "디코더의 출력층에서는 Summary의 단어장인 tar_vocab의 수많은 선택지 중 하나의 단어를 선택하는 다중 클래스 분류 문제를 풀어야 해요. 그렇기 때문에 Dense의 인자로 tar_vocab을 주고, 활성화 함수로 소프트맥스 함수를 사용하고 있어요.\n",
        "\n",
        "지금까지 설계한 것은 인코더의 hidden state와 cell state를 디코더의 초기 state로 사용하는 가장 기본적인 seq2seq에요. 그런데 디코더의 출력층을 설계를 살짝 바꿔서 성능을 높일 수 있는 방법이 있어요! 바로 어텐션 메커니즘이에요."
      ],
      "metadata": {
        "id": "M8U7rG-DOHHx"
      }
    },
    {
      "cell_type": "markdown",
      "source": [
        "####**어텐션 메커니즘**\n",
        "---\n",
        "어텐션 메커니즘을 수행하는 어텐션 함수를 설계하는 것은 또 다른 새로운 신경망을 설계해야 한다는 뜻이에요. 어텐션 함수를 설계해보는 것은 다음 기회로 미루기로 하고, 여기서는 TensorFlow에 이미 구현된 어텐션 함수를 가져와서 디코더의 출력층에 어떤 방식으로 결합하는지 배워볼게요. 참고로 여기서 사용하는 어텐션 함수는 Bahdanau 스타일의 어텐션입니다. 이 어텐션에 대한 자세한 설명은 텐서플로우 홈페이지를 참고하세요.\n",
        "\n",
        "아래와 같이 어텐션 층을 만들고, 위에서 설계한 디코더의 출력층을 수정해 봅시다."
      ],
      "metadata": {
        "id": "bp2C0vv4OJHu"
      }
    },
    {
      "cell_type": "code",
      "source": [
        "from tensorflow.keras.layers import AdditiveAttention\n",
        "\n",
        "# 어텐션 층(어텐션 함수)\n",
        "attn_layer = AdditiveAttention(name='attention_layer')\n",
        "\n",
        "# 인코더와 디코더의 모든 time step의 hidden state를 어텐션 층에 전달하고 결과를 리턴\n",
        "attn_out = attn_layer([decoder_outputs, encoder_output3])  # decoder_outputs2 -> decoder_outputs\n",
        "\n",
        "# 어텐션의 결과와 디코더의 hidden state들을 연결\n",
        "decoder_concat_input = Concatenate(axis=-1, name='concat_layer')([decoder_outputs, attn_out])\n",
        "\n",
        "# 디코더의 출력층\n",
        "decoder_softmax_layer = Dense(tar_vocab, activation='softmax')\n",
        "decoder_softmax_outputs = decoder_softmax_layer(decoder_concat_input)\n",
        "\n",
        "# 모델 정의\n",
        "model = Model([encoder_inputs, decoder_inputs], decoder_softmax_outputs)\n",
        "model.summary()"
      ],
      "metadata": {
        "colab": {
          "base_uri": "https://localhost:8080/"
        },
        "id": "cMQu_1tmOFAK",
        "outputId": "376216ee-3366-4d07-bfc9-2e20a2d39e00"
      },
      "execution_count": 65,
      "outputs": [
        {
          "output_type": "stream",
          "name": "stdout",
          "text": [
            "Model: \"model_11\"\n",
            "__________________________________________________________________________________________________\n",
            " Layer (type)                Output Shape                 Param #   Connected to                  \n",
            "==================================================================================================\n",
            " input_1 (InputLayer)        [(None, 50)]                 0         []                            \n",
            "                                                                                                  \n",
            " embedding (Embedding)       (None, 50, 128)              1024000   ['input_1[0][0]']             \n",
            "                                                                                                  \n",
            " lstm (LSTM)                 [(None, 50, 256),            394240    ['embedding[0][0]']           \n",
            "                              (None, 256),                                                        \n",
            "                              (None, 256)]                                                        \n",
            "                                                                                                  \n",
            " input_2 (InputLayer)        [(None, None)]               0         []                            \n",
            "                                                                                                  \n",
            " lstm_1 (LSTM)               [(None, 50, 256),            525312    ['lstm[0][0]']                \n",
            "                              (None, 256),                                                        \n",
            "                              (None, 256)]                                                        \n",
            "                                                                                                  \n",
            " embedding_1 (Embedding)     (None, None, 128)            256000    ['input_2[0][0]']             \n",
            "                                                                                                  \n",
            " lstm_2 (LSTM)               [(None, 50, 256),            525312    ['lstm_1[0][0]']              \n",
            "                              (None, 256),                                                        \n",
            "                              (None, 256)]                                                        \n",
            "                                                                                                  \n",
            " lstm_3 (LSTM)               [(None, None, 256),          394240    ['embedding_1[0][0]',         \n",
            "                              (None, 256),                           'lstm_2[0][1]',              \n",
            "                              (None, 256)]                           'lstm_2[0][2]']              \n",
            "                                                                                                  \n",
            " attention_layer (AdditiveA  (None, None, 256)            256       ['lstm_3[0][0]',              \n",
            " ttention)                                                           'lstm_2[0][0]']              \n",
            "                                                                                                  \n",
            " concat_layer (Concatenate)  (None, None, 512)            0         ['lstm_3[0][0]',              \n",
            "                                                                     'attention_layer[0][0]']     \n",
            "                                                                                                  \n",
            " dense_7 (Dense)             (None, None, 2000)           1026000   ['concat_layer[0][0]']        \n",
            "                                                                                                  \n",
            "==================================================================================================\n",
            "Total params: 4145360 (15.81 MB)\n",
            "Trainable params: 4145360 (15.81 MB)\n",
            "Non-trainable params: 0 (0.00 Byte)\n",
            "__________________________________________________________________________________________________\n"
          ]
        }
      ]
    },
    {
      "cell_type": "markdown",
      "source": [
        "## **1-4. 모델 훈련하기**\n",
        "---\n",
        "설계한 모델을 가지고 훈련을 진행해볼게요."
      ],
      "metadata": {
        "id": "jQGPhdY9Oe7b"
      }
    },
    {
      "cell_type": "code",
      "source": [
        "model.compile(optimizer='rmsprop', loss='sparse_categorical_crossentropy')\n",
        "es = EarlyStopping(monitor='val_loss', patience=2, verbose=1)\n",
        "history = model.fit(x=[encoder_input_train, decoder_input_train], y=decoder_target_train, \\\n",
        "          validation_data=([encoder_input_test, decoder_input_test], decoder_target_test), \\\n",
        "          batch_size=256, callbacks=[es], epochs=50)"
      ],
      "metadata": {
        "id": "TWusu5sQOOFm"
      },
      "execution_count": null,
      "outputs": []
    },
    {
      "cell_type": "markdown",
      "source": [
        "'조기 종료'를 뜻하는 EarlyStopping은 특정 조건이 충족되면 훈련을 멈추는 역할을 해요.\n",
        "\n",
        "es = EarlyStopping(monitor='val_loss', patience=2, verbose=1)\n",
        "\n",
        "위 코드에서는 val_loss(검증 데이터의 손실)을 관찰하다가, 검증 데이터의 손실이 줄어들지 않고 증가하는 현상이 2회(patience=2) 관측되면 학습을 멈추도록 설정돼 있어요. EarlyStopping이 작동한다면 epochs가 아무리 크게 설정되어 있어도 모델 훈련을 최적점에서 멈출 수 있겠네요."
      ],
      "metadata": {
        "id": "MfWbrEVQPpM0"
      }
    },
    {
      "cell_type": "markdown",
      "source": [
        "이제 훈련 데이터의 손실과 검증 데이터의 손실이 줄어드는 과정을 시각화 해봐요."
      ],
      "metadata": {
        "id": "oJMC8CFyP3lw"
      }
    },
    {
      "cell_type": "code",
      "source": [
        "plt.plot(history.history['loss'], label='train')\n",
        "plt.plot(history.history['val_loss'], label='test')\n",
        "plt.legend()\n",
        "plt.show()"
      ],
      "metadata": {
        "colab": {
          "base_uri": "https://localhost:8080/",
          "height": 430
        },
        "id": "0EVn5eH3PqCB",
        "outputId": "56d713b5-42bb-48ee-986d-262575ffe251"
      },
      "execution_count": 45,
      "outputs": [
        {
          "output_type": "display_data",
          "data": {
            "text/plain": [
              "<Figure size 640x480 with 1 Axes>"
            ],
            "image/png": "[encoded data removed]"
          },
          "metadata": {}
        }
      ]
    },
    {
      "cell_type": "markdown",
      "source": [
        "## **1-5. 인퍼런스 모델 구현하기**\n",
        "\n",
        "테스트 단계에서는 정수 인덱스 행렬로 존재하던 텍스트 데이터를 실제 데이터로 복원해야 하므로, 필요한 3개의 사전을 아래와 같이 미리 준비해 둡니다."
      ],
      "metadata": {
        "id": "41GA4u0AQglV"
      }
    },
    {
      "cell_type": "code",
      "source": [
        "src_index_to_word = src_tokenizer.index_word # 원문 단어 집합에서 정수 -> 단어를 얻음\n",
        "tar_word_to_index = tar_tokenizer.word_index # 요약 단어 집합에서 단어 -> 정수를 얻음\n",
        "tar_index_to_word = tar_tokenizer.index_word # 요약 단어 집합에서 정수 -> 단어를 얻음\n",
        "\n",
        "print('=3')"
      ],
      "metadata": {
        "colab": {
          "base_uri": "https://localhost:8080/"
        },
        "id": "pas8UgYLQmHh",
        "outputId": "decdae9e-06e0-4ead-bc81-9876ece378c4"
      },
      "execution_count": 46,
      "outputs": [
        {
          "output_type": "stream",
          "name": "stdout",
          "text": [
            "=3\n"
          ]
        }
      ]
    },
    {
      "cell_type": "markdown",
      "source": [
        "seq2seq는 훈련할 때와 실제 동작할 때(인퍼런스 단계)의 방식이 다르므로 그에 맞게 모델 설계를 별개로 진행해야 한다는 것, 알고 계시나요?\n",
        "\n",
        "훈련 단계에서는 디코더의 입력부에 정답이 되는 문장 전체를 한꺼번에 넣고 디코더의 출력과 한 번에 비교할 수 있으므로, 인코더와 디코더를 엮은 통짜 모델 하나만 준비했습니다.\n",
        "\n",
        "그러나 정답 문장이 없는 인퍼런스 단계에서는 만들어야 할 문장의 길이만큼 디코더가 반복 구조로 동작해야 하기 때문에 부득이하게 인퍼런스를 위한 모델 설계를 별도로 해주어야 합니다. 이때는 인코더 모델과 디코더 모델을 분리해서 설계합니다."
      ],
      "metadata": {
        "id": "YTxaR1jpQtRK"
      }
    },
    {
      "cell_type": "code",
      "source": [
        "# 인코더 설계\n",
        "encoder_model = Model(inputs=encoder_inputs, outputs=[encoder_output3, state_h3, state_c3])\n",
        "\n",
        "# 이전 시점의 상태들을 저장하는 텐서\n",
        "decoder_state_input_h = Input(shape=(hidden_size,))\n",
        "decoder_state_input_c = Input(shape=(hidden_size,))\n",
        "\n",
        "dec_emb2 = dec_emb_layer(decoder_inputs)\n",
        "\n",
        "# 문장의 다음 단어를 예측하기 위해서 초기 상태(initial_state)를 이전 시점의 상태로 사용\n",
        "decoder_outputs2, state_h2, state_c2 = decoder_lstm(dec_emb2, initial_state=[decoder_state_input_h, decoder_state_input_c])\n",
        "\n",
        "print('=3')"
      ],
      "metadata": {
        "colab": {
          "base_uri": "https://localhost:8080/"
        },
        "id": "ynGkGJnGQnfU",
        "outputId": "d69c4f9d-045e-4273-e1d5-92bacd60d110"
      },
      "execution_count": 66,
      "outputs": [
        {
          "output_type": "stream",
          "name": "stdout",
          "text": [
            "=3\n"
          ]
        }
      ]
    },
    {
      "cell_type": "code",
      "source": [
        "from tensorflow.keras.layers import AdditiveAttention, Concatenate\n",
        "\n",
        "# 어텐션 함수\n",
        "decoder_hidden_state_input = Input(shape=(text_max_len, hidden_size))\n",
        "attn_layer = AdditiveAttention(name='attention_layer')\n",
        "\n",
        "# 어텐션의 결과를 얻기 위해 디코더의 출력과 인코더의 hidden state를 입력으로 사용\n",
        "attn_out_inf = attn_layer([decoder_outputs2, decoder_hidden_state_input])\n",
        "\n",
        "# 어텐션의 결과와 디코더의 hidden state를 결합\n",
        "decoder_inf_concat = Concatenate(axis=-1, name='concat')([decoder_outputs2, attn_out_inf])\n",
        "\n",
        "# 디코더의 출력층\n",
        "decoder_final_output_layer = Dense(tar_vocab, activation='softmax')\n",
        "decoder_final_outputs = decoder_final_output_layer(decoder_inf_concat)\n",
        "\n",
        "# 최종 디코더 모델\n",
        "decoder_model = Model(\n",
        "    [decoder_inputs, decoder_hidden_state_input, decoder_state_input_h, decoder_state_input_c],\n",
        "    [decoder_final_outputs, state_h2, state_c2])\n",
        "\n",
        "print('=3')"
      ],
      "metadata": {
        "colab": {
          "base_uri": "https://localhost:8080/"
        },
        "id": "85ePrOrJQ0k3",
        "outputId": "9de27807-3858-493b-9846-2a1eb5be52a4"
      },
      "execution_count": 67,
      "outputs": [
        {
          "output_type": "stream",
          "name": "stdout",
          "text": [
            "=3\n"
          ]
        }
      ]
    },
    {
      "cell_type": "code",
      "source": [
        "def decode_sequence(input_seq):\n",
        "    # 입력으로부터 인코더의 상태를 얻음\n",
        "    e_out, e_h, e_c = encoder_model.predict(input_seq)\n",
        "\n",
        "     # <SOS>에 해당하는 토큰 생성\n",
        "    target_seq = np.zeros((1,1))\n",
        "    target_seq[0, 0] = tar_word_to_index['sostoken']\n",
        "\n",
        "    stop_condition = False\n",
        "    decoded_sentence = ''\n",
        "    while not stop_condition: # stop_condition이 True가 될 때까지 루프 반복\n",
        "\n",
        "        output_tokens, h, c = decoder_model.predict([target_seq] + [e_out, e_h, e_c])\n",
        "        sampled_token_index = np.argmax(output_tokens[0, -1, :])\n",
        "        sampled_token = tar_index_to_word[sampled_token_index]\n",
        "\n",
        "        if (sampled_token!='eostoken'):\n",
        "            decoded_sentence += ' '+sampled_token\n",
        "\n",
        "        #  <eos>에 도달하거나 최대 길이를 넘으면 중단.\n",
        "        if (sampled_token == 'eostoken'  or len(decoded_sentence.split()) >= (summary_max_len-1)):\n",
        "            stop_condition = True\n",
        "\n",
        "        # 길이가 1인 타겟 시퀀스를 업데이트\n",
        "        target_seq = np.zeros((1,1))\n",
        "        target_seq[0, 0] = sampled_token_index\n",
        "\n",
        "        # 상태를 업데이트 합니다.\n",
        "        e_h, e_c = h, c\n",
        "\n",
        "    return decoded_sentence\n",
        "print('=3')"
      ],
      "metadata": {
        "colab": {
          "base_uri": "https://localhost:8080/"
        },
        "id": "TKGfBJpBRSdJ",
        "outputId": "42458c1e-0d21-4d95-902c-ab201bc2dabb"
      },
      "execution_count": 70,
      "outputs": [
        {
          "output_type": "stream",
          "name": "stdout",
          "text": [
            "=3\n"
          ]
        }
      ]
    },
    {
      "cell_type": "code",
      "source": [
        "# 원문의 정수 시퀀스를 텍스트 시퀀스로 변환\n",
        "def seq2text(input_seq):\n",
        "    temp=''\n",
        "    for i in input_seq:\n",
        "        if (i!=0):\n",
        "            temp = temp + src_index_to_word[i]+' '\n",
        "    return temp\n",
        "\n",
        "# 요약문의 정수 시퀀스를 텍스트 시퀀스로 변환\n",
        "def seq2summary(input_seq):\n",
        "    temp = ''\n",
        "    for i in input_seq:\n",
        "        if (i != 0 and i != tar_word_to_index['sostoken'] and i != tar_word_to_index['eostoken']):\n",
        "            temp = temp + tar_index_to_word[i] + ' '\n",
        "    return temp\n",
        "\n",
        "print('=3')"
      ],
      "metadata": {
        "colab": {
          "base_uri": "https://localhost:8080/"
        },
        "id": "D67uovQ7aBDH",
        "outputId": "e0ee2cdf-2d70-4e87-9226-897503d95123"
      },
      "execution_count": 72,
      "outputs": [
        {
          "output_type": "stream",
          "name": "stdout",
          "text": [
            "=3\n"
          ]
        }
      ]
    },
    {
      "cell_type": "code",
      "source": [
        "for i in range(50, 100):\n",
        "    print(\"원문 :\", seq2text(encoder_input_test[i]))\n",
        "    print(\"실제 요약 :\", seq2summary(decoder_input_test[i]))\n",
        "    print(\"예측 요약 :\", decode_sequence(encoder_input_test[i].reshape(1, text_max_len)))\n",
        "    print(\"\\n\")"
      ],
      "metadata": {
        "colab": {
          "base_uri": "https://localhost:8080/"
        },
        "id": "3UZ5fXXaaFl2",
        "outputId": "58cf21c3-5374-4ae0-8184-22c7ec5848ab"
      },
      "execution_count": 73,
      "outputs": [
        {
          "output_type": "stream",
          "name": "stdout",
          "text": [
            "원문 : ive had trouble finding this variety of soup at the local im glad amazon has it and at the right \n",
            "실제 요약 : yum \n",
            "1/1 [==============================] - 3s 3s/step\n",
            "1/1 [==============================] - 1s 950ms/step\n",
            "1/1 [==============================] - 0s 93ms/step\n",
            "1/1 [==============================] - 0s 49ms/step\n",
            "1/1 [==============================] - 0s 42ms/step\n",
            "1/1 [==============================] - 0s 35ms/step\n",
            "1/1 [==============================] - 0s 38ms/step\n",
            "1/1 [==============================] - 0s 39ms/step\n",
            "예측 요약 :  acid rasberry celsius daughter cal cal j\n",
            "\n",
            "\n",
            "원문 : it felt weird ordering bags of chips off the internet that i had never even tried before but i am so glad i did they are delicious ive tried flavors so far have loved each one these are a win \n",
            "실제 요약 : yummm \n",
            "1/1 [==============================] - 0s 44ms/step\n",
            "1/1 [==============================] - 0s 53ms/step\n",
            "1/1 [==============================] - 0s 69ms/step\n",
            "1/1 [==============================] - 0s 49ms/step\n",
            "1/1 [==============================] - 0s 84ms/step\n",
            "1/1 [==============================] - 0s 51ms/step\n",
            "1/1 [==============================] - 0s 37ms/step\n",
            "1/1 [==============================] - 0s 56ms/step\n",
            "예측 요약 :  hawaiian alternative alternative darn darn a rich\n",
            "\n",
            "\n",
            "원문 : i love these buying the bigger pack is definitely worth it i share with all my friends and everyone loves them we each have our own favorite flavors these are a delicious and addicting candy \n",
            "실제 요약 : delicious \n",
            "1/1 [==============================] - 0s 36ms/step\n",
            "1/1 [==============================] - 0s 70ms/step\n",
            "1/1 [==============================] - 0s 41ms/step\n",
            "1/1 [==============================] - 0s 69ms/step\n",
            "1/1 [==============================] - 0s 77ms/step\n",
            "1/1 [==============================] - 0s 43ms/step\n",
            "1/1 [==============================] - 0s 143ms/step\n",
            "1/1 [==============================] - 0s 35ms/step\n",
            "예측 요약 :  ones rasberry found filling farms mostly ones\n",
            "\n",
            "\n",
            "원문 : i love chocolate and seem to crave some every day so this bar is just perfect and satisfying it taste just like an oreo yum \n",
            "실제 요약 : delicious \n",
            "1/1 [==============================] - 0s 37ms/step\n",
            "1/1 [==============================] - 0s 87ms/step\n",
            "1/1 [==============================] - 0s 59ms/step\n",
            "1/1 [==============================] - 0s 26ms/step\n",
            "1/1 [==============================] - 0s 27ms/step\n",
            "1/1 [==============================] - 0s 26ms/step\n",
            "1/1 [==============================] - 0s 24ms/step\n",
            "1/1 [==============================] - 0s 24ms/step\n",
            "예측 요약 :  ones rasberry filling lime easily ones ones\n",
            "\n",
            "\n",
            "원문 : the bananas have a great chewy texture and the dark chocolate melts nicely in your mouth blending nicely with the banana flavors yum \n",
            "실제 요약 : chewy chocolate goodness \n",
            "1/1 [==============================] - 0s 26ms/step\n",
            "1/1 [==============================] - 0s 27ms/step\n",
            "1/1 [==============================] - 0s 25ms/step\n",
            "1/1 [==============================] - 0s 27ms/step\n",
            "1/1 [==============================] - 0s 31ms/step\n",
            "1/1 [==============================] - 0s 27ms/step\n",
            "1/1 [==============================] - 0s 26ms/step\n",
            "1/1 [==============================] - 0s 25ms/step\n",
            "예측 요약 :  ones superfood found brewer brewer easily ones\n",
            "\n",
            "\n",
            "원문 : this is a great hot sauce with a kick my boyfriend likes to it with and everyone seems to like it not to hot just the right kick for that extra flavor \n",
            "실제 요약 : great hot sauce \n",
            "1/1 [==============================] - 0s 25ms/step\n",
            "1/1 [==============================] - 0s 27ms/step\n",
            "1/1 [==============================] - 0s 32ms/step\n",
            "1/1 [==============================] - 0s 25ms/step\n",
            "1/1 [==============================] - 0s 25ms/step\n",
            "1/1 [==============================] - 0s 25ms/step\n",
            "1/1 [==============================] - 0s 23ms/step\n",
            "1/1 [==============================] - 0s 24ms/step\n",
            "예측 요약 :  craving rasberry lime lime saltines saltines saltines\n",
            "\n",
            "\n",
            "원문 : i love stephens chocolate raspberry it is the best ive ever had other brands ive tried were bitter and just not as tasty it in smooth no lumps my order arrived quickly just as promised im a very happy consumer of this product and the supplier \n",
            "실제 요약 : delicious hot chocolate \n",
            "1/1 [==============================] - 0s 24ms/step\n",
            "1/1 [==============================] - 0s 25ms/step\n",
            "1/1 [==============================] - 0s 26ms/step\n",
            "1/1 [==============================] - 0s 23ms/step\n",
            "1/1 [==============================] - 0s 27ms/step\n",
            "1/1 [==============================] - 0s 24ms/step\n",
            "1/1 [==============================] - 0s 24ms/step\n",
            "1/1 [==============================] - 0s 26ms/step\n",
            "예측 요약 :  handy gloria barely lean saltines hibiscus vita\n",
            "\n",
            "\n",
            "원문 : i can never find agave nectar in large bottles and when i saw the price and quantity for these two bottles i had to jump on them it was a good find im glad i have them \n",
            "실제 요약 : agave nectar \n",
            "1/1 [==============================] - 0s 21ms/step\n",
            "1/1 [==============================] - 0s 26ms/step\n",
            "1/1 [==============================] - 0s 24ms/step\n",
            "1/1 [==============================] - 0s 24ms/step\n",
            "1/1 [==============================] - 0s 24ms/step\n",
            "1/1 [==============================] - 0s 24ms/step\n",
            "1/1 [==============================] - 0s 23ms/step\n",
            "1/1 [==============================] - 0s 25ms/step\n",
            "예측 요약 :  sure sure yeah edible edible ive curry\n",
            "\n",
            "\n",
            "원문 : our cats like it and it doesnt bother my cats stomach which is great because he has trouble with a lot of food \n",
            "실제 요약 : our standard \n",
            "1/1 [==============================] - 0s 26ms/step\n",
            "1/1 [==============================] - 0s 28ms/step\n",
            "1/1 [==============================] - 0s 24ms/step\n",
            "1/1 [==============================] - 0s 26ms/step\n",
            "1/1 [==============================] - 0s 23ms/step\n",
            "1/1 [==============================] - 0s 24ms/step\n",
            "1/1 [==============================] - 0s 24ms/step\n",
            "1/1 [==============================] - 0s 24ms/step\n",
            "예측 요약 :  sized rasberry hands cuppa never cuppa yummmmm\n",
            "\n",
            "\n",
            "원문 : we ordered a popcorn machine as a and use these packets they are great tasting easy and it takes all the of how much of any ingredient you should add they have it all worked out for you save yourself some and order these \n",
            "실제 요약 : great taste \n",
            "1/1 [==============================] - 0s 23ms/step\n",
            "1/1 [==============================] - 0s 33ms/step\n",
            "1/1 [==============================] - 0s 36ms/step\n",
            "1/1 [==============================] - 0s 42ms/step\n",
            "1/1 [==============================] - 0s 35ms/step\n",
            "1/1 [==============================] - 0s 45ms/step\n",
            "1/1 [==============================] - 0s 38ms/step\n",
            "1/1 [==============================] - 0s 37ms/step\n",
            "예측 요약 :  machine grandma all all yum all all\n",
            "\n",
            "\n",
            "원문 : this is excellent sugar for coffee tea and etc it certainly compared favorably with other sugar cubes and is at a very good price it is a great price from amazon for the lb box \n",
            "실제 요약 : great sugar \n",
            "1/1 [==============================] - 0s 45ms/step\n",
            "1/1 [==============================] - 0s 43ms/step\n",
            "1/1 [==============================] - 0s 43ms/step\n",
            "1/1 [==============================] - 0s 35ms/step\n",
            "1/1 [==============================] - 0s 36ms/step\n",
            "1/1 [==============================] - 0s 37ms/step\n",
            "1/1 [==============================] - 0s 43ms/step\n",
            "1/1 [==============================] - 0s 59ms/step\n",
            "예측 요약 :  wait stuff alternative easily easily easily easily\n",
            "\n",
            "\n",
            "원문 : great gum i can chew it for hours and it still tastes great too bad it isnt as widely available as it used to be \n",
            "실제 요약 : minty sweet rocks \n",
            "1/1 [==============================] - 0s 41ms/step\n",
            "1/1 [==============================] - 0s 42ms/step\n",
            "1/1 [==============================] - 0s 38ms/step\n",
            "1/1 [==============================] - 0s 39ms/step\n",
            "1/1 [==============================] - 0s 39ms/step\n",
            "1/1 [==============================] - 0s 39ms/step\n",
            "1/1 [==============================] - 0s 36ms/step\n",
            "1/1 [==============================] - 0s 40ms/step\n",
            "예측 요약 :  yuban rasberry lime sushi decadent sushi decadent\n",
            "\n",
            "\n",
            "원문 : i take any bread or leftover rolls that have gotten a little hard or not to fresh add olive oil and emerils italian it in the toaster oven and according to my grand kids it makes the best croutons ever \n",
            "실제 요약 : best \n",
            "1/1 [==============================] - 0s 37ms/step\n",
            "1/1 [==============================] - 0s 38ms/step\n",
            "1/1 [==============================] - 0s 41ms/step\n",
            "1/1 [==============================] - 0s 42ms/step\n",
            "1/1 [==============================] - 0s 38ms/step\n",
            "1/1 [==============================] - 0s 39ms/step\n",
            "1/1 [==============================] - 0s 40ms/step\n",
            "1/1 [==============================] - 0s 40ms/step\n",
            "예측 요약 :  cheddar of brewer brewer saltines all all\n",
            "\n",
            "\n",
            "원문 : i like this coconut water its tasty and refreshing and the only thing i can taste is coconut would buy again although it seems the price has jumped up since my purchase just waiting for it to go back down \n",
            "실제 요약 : good product \n",
            "1/1 [==============================] - 0s 47ms/step\n",
            "1/1 [==============================] - 0s 39ms/step\n",
            "1/1 [==============================] - 0s 41ms/step\n",
            "1/1 [==============================] - 0s 40ms/step\n",
            "1/1 [==============================] - 0s 38ms/step\n",
            "1/1 [==============================] - 0s 37ms/step\n",
            "1/1 [==============================] - 0s 36ms/step\n",
            "1/1 [==============================] - 0s 32ms/step\n",
            "예측 요약 :  yuban newmans girls girls girls girls non\n",
            "\n",
            "\n",
            "원문 : cant find this or anything like it in our stores anymore good to know i can get it on here \n",
            "실제 요약 : tasty \n",
            "1/1 [==============================] - 0s 24ms/step\n",
            "1/1 [==============================] - 0s 23ms/step\n",
            "1/1 [==============================] - 0s 26ms/step\n",
            "1/1 [==============================] - 0s 33ms/step\n",
            "1/1 [==============================] - 0s 27ms/step\n",
            "1/1 [==============================] - 0s 23ms/step\n",
            "1/1 [==============================] - 0s 22ms/step\n",
            "1/1 [==============================] - 0s 22ms/step\n",
            "예측 요약 :  wait alternative stars edible edible wheat dental\n",
            "\n",
            "\n",
            "원문 : i have an older dog who began having digestive problems some time ago natural balance products have resolved the digestive issues completely the price ease and of delivery make this an easy purchase decision \n",
            "실제 요약 : great product terrific service \n",
            "1/1 [==============================] - 0s 22ms/step\n",
            "1/1 [==============================] - 0s 23ms/step\n",
            "1/1 [==============================] - 0s 25ms/step\n",
            "1/1 [==============================] - 0s 23ms/step\n",
            "1/1 [==============================] - 0s 37ms/step\n",
            "1/1 [==============================] - 0s 23ms/step\n",
            "1/1 [==============================] - 0s 26ms/step\n",
            "1/1 [==============================] - 0s 26ms/step\n",
            "예측 요약 :  lavazza alternative alternative lime lime easily steak\n",
            "\n",
            "\n",
            "원문 : potential customers for this item need to know that this is not the sugarfree form of general food chai latte we are talking calories per serving here rather than for the sugarfree form in the small can this chai latte is good but its also high calorie \n",
            "실제 요약 : be \n",
            "1/1 [==============================] - 0s 25ms/step\n",
            "1/1 [==============================] - 0s 32ms/step\n",
            "1/1 [==============================] - 0s 24ms/step\n",
            "1/1 [==============================] - 0s 24ms/step\n",
            "1/1 [==============================] - 0s 24ms/step\n",
            "1/1 [==============================] - 0s 24ms/step\n",
            "1/1 [==============================] - 0s 31ms/step\n",
            "1/1 [==============================] - 0s 23ms/step\n",
            "예측 요약 :  sure sure yeah fan tasteless tasteless service\n",
            "\n",
            "\n",
            "원문 : a man i used to work for brought this coffee back from his trip to germany by the second cup i was ruined for any other kind incredible coffee i have started giving it out as gifts and it is a great hit \n",
            "실제 요약 : best coffee ever \n",
            "1/1 [==============================] - 0s 24ms/step\n",
            "1/1 [==============================] - 0s 23ms/step\n",
            "1/1 [==============================] - 0s 22ms/step\n",
            "1/1 [==============================] - 0s 26ms/step\n",
            "1/1 [==============================] - 0s 24ms/step\n",
            "1/1 [==============================] - 0s 22ms/step\n",
            "1/1 [==============================] - 0s 22ms/step\n",
            "1/1 [==============================] - 0s 26ms/step\n",
            "예측 요약 :  craving stuff lime lime easily easily absolute\n",
            "\n",
            "\n",
            "원문 : i paid twice this with my vet great price and my dogs love them \n",
            "실제 요약 : great price \n",
            "1/1 [==============================] - 0s 24ms/step\n",
            "1/1 [==============================] - 0s 24ms/step\n",
            "1/1 [==============================] - 0s 22ms/step\n",
            "1/1 [==============================] - 0s 25ms/step\n",
            "1/1 [==============================] - 0s 23ms/step\n",
            "1/1 [==============================] - 0s 23ms/step\n",
            "1/1 [==============================] - 0s 23ms/step\n",
            "1/1 [==============================] - 0s 24ms/step\n",
            "예측 요약 :  lavazza alternative alternative lime ive ive ive\n",
            "\n",
            "\n",
            "원문 : the is really good ive tried all but the couscous so far and they all taste great \n",
            "실제 요약 : good stuff \n",
            "1/1 [==============================] - 0s 22ms/step\n",
            "1/1 [==============================] - 0s 22ms/step\n",
            "1/1 [==============================] - 0s 26ms/step\n",
            "1/1 [==============================] - 0s 23ms/step\n",
            "1/1 [==============================] - 0s 24ms/step\n",
            "1/1 [==============================] - 0s 26ms/step\n",
            "1/1 [==============================] - 0s 23ms/step\n",
            "1/1 [==============================] - 0s 24ms/step\n",
            "예측 요약 :  yum barely barely yum barely barely foods\n",
            "\n",
            "\n",
            "원문 : me crazy is sooo good my husband who normally adds cream to disguise the bitterness drinks it without cream let my mom and cousin try it and they too love it definitely worth trying \n",
            "실제 요약 : good \n",
            "1/1 [==============================] - 0s 23ms/step\n",
            "1/1 [==============================] - 0s 25ms/step\n",
            "1/1 [==============================] - 0s 25ms/step\n",
            "1/1 [==============================] - 0s 28ms/step\n",
            "1/1 [==============================] - 0s 29ms/step\n",
            "1/1 [==============================] - 0s 27ms/step\n",
            "1/1 [==============================] - 0s 24ms/step\n",
            "1/1 [==============================] - 0s 23ms/step\n",
            "예측 요약 :  purchase stuff daughter edible edible easily ive\n",
            "\n",
            "\n",
            "원문 : these chocolate bottles are delicious i got them for my husband as a gift and he loves them planning to get some more as christmas gifts the shipping was really fast too \n",
            "실제 요약 : chocolate bottles \n",
            "1/1 [==============================] - 0s 23ms/step\n",
            "1/1 [==============================] - 0s 25ms/step\n",
            "1/1 [==============================] - 0s 25ms/step\n",
            "1/1 [==============================] - 0s 28ms/step\n",
            "1/1 [==============================] - 0s 28ms/step\n",
            "1/1 [==============================] - 0s 27ms/step\n",
            "1/1 [==============================] - 0s 24ms/step\n",
            "1/1 [==============================] - 0s 24ms/step\n",
            "예측 요약 :  ones rasberry found filling farms mostly ones\n",
            "\n",
            "\n",
            "원문 : good pastrami is worth trying however good pastrami should be lean also this pastrami had great tast but you had to cut off massive amounts of fat this is wonderfully tasting but there are much better out there that are much an as goo of tasting \n",
            "실제 요약 : ok \n",
            "1/1 [==============================] - 0s 24ms/step\n",
            "1/1 [==============================] - 0s 24ms/step\n",
            "1/1 [==============================] - 0s 30ms/step\n",
            "1/1 [==============================] - 0s 23ms/step\n",
            "1/1 [==============================] - 0s 23ms/step\n",
            "1/1 [==============================] - 0s 27ms/step\n",
            "1/1 [==============================] - 0s 25ms/step\n",
            "1/1 [==============================] - 0s 28ms/step\n",
            "예측 요약 :  live excellant edible rings rings rings rings\n",
            "\n",
            "\n",
            "원문 : ive never had anything glutenfree before and these bars are awesome note you really have to like cranberries because it can overpower the almond taste \n",
            "실제 요약 : kind plus cranberry \n",
            "1/1 [==============================] - 0s 25ms/step\n",
            "1/1 [==============================] - 0s 31ms/step\n",
            "1/1 [==============================] - 0s 24ms/step\n",
            "1/1 [==============================] - 0s 27ms/step\n",
            "1/1 [==============================] - 0s 25ms/step\n",
            "1/1 [==============================] - 0s 34ms/step\n",
            "1/1 [==============================] - 0s 24ms/step\n",
            "1/1 [==============================] - 0s 28ms/step\n",
            "예측 요약 :  ones sure found darn yum metromint wafers\n",
            "\n",
            "\n",
            "원문 : this mix is wonderful it makes having cookies easy even for gf needs i dont have any trouble with dairy though so i do add in a few more choco chips \n",
            "실제 요약 : great texture flavor \n",
            "1/1 [==============================] - 0s 23ms/step\n",
            "1/1 [==============================] - 0s 26ms/step\n",
            "1/1 [==============================] - 0s 23ms/step\n",
            "1/1 [==============================] - 0s 24ms/step\n",
            "1/1 [==============================] - 0s 27ms/step\n",
            "1/1 [==============================] - 0s 32ms/step\n",
            "1/1 [==============================] - 0s 23ms/step\n",
            "1/1 [==============================] - 0s 24ms/step\n",
            "예측 요약 :  cheddar of yum yummmmm yummmmm enjoy all\n",
            "\n",
            "\n",
            "원문 : this tea is very delicious i mean very its the perfect drink for me after a long work day it is relaxing and will put you right to sleep \n",
            "실제 요약 : delicious relaxing \n",
            "1/1 [==============================] - 0s 24ms/step\n",
            "1/1 [==============================] - 0s 25ms/step\n",
            "1/1 [==============================] - 0s 27ms/step\n",
            "1/1 [==============================] - 0s 27ms/step\n",
            "1/1 [==============================] - 0s 23ms/step\n",
            "1/1 [==============================] - 0s 25ms/step\n",
            "1/1 [==============================] - 0s 27ms/step\n",
            "1/1 [==============================] - 0s 27ms/step\n",
            "예측 요약 :  wait stuff stores steak easily easily steak\n",
            "\n",
            "\n",
            "원문 : the order arrived as advertised i have had only a few chances to use it but it is awesome the flavor is exactly what i hoped for it may take me a while to finish the entire gallon but i will order again \n",
            "실제 요약 : sesame oil \n",
            "1/1 [==============================] - 0s 22ms/step\n",
            "1/1 [==============================] - 0s 25ms/step\n",
            "1/1 [==============================] - 0s 35ms/step\n",
            "1/1 [==============================] - 0s 24ms/step\n",
            "1/1 [==============================] - 0s 26ms/step\n",
            "1/1 [==============================] - 0s 23ms/step\n",
            "1/1 [==============================] - 0s 30ms/step\n",
            "1/1 [==============================] - 0s 23ms/step\n",
            "예측 요약 :  yuban cal alternative tasteless tasteless office office\n",
            "\n",
            "\n",
            "원문 : i love this stuff the pomegranate flavor is my favorite i drink everyday just to get my morning started \n",
            "실제 요약 : yummy \n",
            "1/1 [==============================] - 0s 22ms/step\n",
            "1/1 [==============================] - 0s 24ms/step\n",
            "1/1 [==============================] - 0s 26ms/step\n",
            "1/1 [==============================] - 0s 28ms/step\n",
            "1/1 [==============================] - 0s 25ms/step\n",
            "1/1 [==============================] - 0s 35ms/step\n",
            "1/1 [==============================] - 0s 24ms/step\n",
            "1/1 [==============================] - 0s 28ms/step\n",
            "예측 요약 :  craving rasberry lime lime easily easily absolute\n",
            "\n",
            "\n",
            "원문 : i like the peppered flavor a lot better than the original or plain it does have a good cracked pepper flavor i also think the quality is better than most other brands that i have tried i like the oz packages and great value compared to buying individually \n",
            "실제 요약 : good jerky \n",
            "1/1 [==============================] - 0s 24ms/step\n",
            "1/1 [==============================] - 0s 24ms/step\n",
            "1/1 [==============================] - 0s 37ms/step\n",
            "1/1 [==============================] - 0s 24ms/step\n",
            "1/1 [==============================] - 0s 28ms/step\n",
            "1/1 [==============================] - 0s 29ms/step\n",
            "1/1 [==============================] - 0s 24ms/step\n",
            "1/1 [==============================] - 0s 23ms/step\n",
            "예측 요약 :  yum excellant barely office office office office\n",
            "\n",
            "\n",
            "원문 : this is exactly what i expected the flavor is just enough and not overwhelming it grinds up perfectly in my grind and brew coffee maker \n",
            "실제 요약 : delicious \n",
            "1/1 [==============================] - 0s 42ms/step\n",
            "1/1 [==============================] - 0s 39ms/step\n",
            "1/1 [==============================] - 0s 38ms/step\n",
            "1/1 [==============================] - 0s 38ms/step\n",
            "1/1 [==============================] - 0s 53ms/step\n",
            "1/1 [==============================] - 0s 38ms/step\n",
            "1/1 [==============================] - 0s 36ms/step\n",
            "1/1 [==============================] - 0s 40ms/step\n",
            "예측 요약 :  craving biscuit daughter edible edible ive root\n",
            "\n",
            "\n",
            "원문 : i love this spice but the price is too high for the amount i saw another source for much less for the same quantity \n",
            "실제 요약 : too much \n",
            "1/1 [==============================] - 0s 34ms/step\n",
            "1/1 [==============================] - 0s 35ms/step\n",
            "1/1 [==============================] - 0s 39ms/step\n",
            "1/1 [==============================] - 0s 56ms/step\n",
            "1/1 [==============================] - 0s 52ms/step\n",
            "1/1 [==============================] - 0s 41ms/step\n",
            "1/1 [==============================] - 0s 45ms/step\n",
            "1/1 [==============================] - 0s 38ms/step\n",
            "예측 요약 :  sure rasberry lime lime lime decadent absolute\n",
            "\n",
            "\n",
            "원문 : i love salt but holy crap is this mix salty when i make my own bloody i dont add any salt at all i havent even finished my drink and my mouth feels like i ate an entire bag of sunflower seeds its almost undrinkable in my opinion \n",
            "실제 요약 : way too salty \n",
            "1/1 [==============================] - 0s 44ms/step\n",
            "1/1 [==============================] - 0s 45ms/step\n",
            "1/1 [==============================] - 0s 41ms/step\n",
            "1/1 [==============================] - 0s 38ms/step\n",
            "1/1 [==============================] - 0s 41ms/step\n",
            "1/1 [==============================] - 0s 52ms/step\n",
            "1/1 [==============================] - 0s 35ms/step\n",
            "1/1 [==============================] - 0s 46ms/step\n",
            "예측 요약 :  cheddar roll darn yum tofu farms office\n",
            "\n",
            "\n",
            "원문 : i added it sliced into veggies and onions made a appetizer no real cooking and great lunch and dinner for myself \n",
            "실제 요약 : actually good \n",
            "1/1 [==============================] - 0s 41ms/step\n",
            "1/1 [==============================] - 0s 38ms/step\n",
            "1/1 [==============================] - 0s 39ms/step\n",
            "1/1 [==============================] - 0s 39ms/step\n",
            "1/1 [==============================] - 0s 45ms/step\n",
            "1/1 [==============================] - 0s 36ms/step\n",
            "1/1 [==============================] - 0s 47ms/step\n",
            "1/1 [==============================] - 0s 41ms/step\n",
            "예측 요약 :  sure rasberry daughter daughter edible easily yummmmm\n",
            "\n",
            "\n",
            "원문 : okay so the doctor didnt order these but i read about a lot of their benefits and love adding them to smoothies etc the product came fresh and is definitely a good buy will be ordering again \n",
            "실제 요약 : just what the doctor ordered \n",
            "1/1 [==============================] - 0s 35ms/step\n",
            "1/1 [==============================] - 0s 40ms/step\n",
            "1/1 [==============================] - 0s 42ms/step\n",
            "1/1 [==============================] - 0s 42ms/step\n",
            "1/1 [==============================] - 0s 24ms/step\n",
            "1/1 [==============================] - 0s 26ms/step\n",
            "1/1 [==============================] - 0s 25ms/step\n",
            "1/1 [==============================] - 0s 23ms/step\n",
            "예측 요약 :  sure adult darn else else already else\n",
            "\n",
            "\n",
            "원문 : im not a big granola fan but this stuff is very good its not too sweet and not too chocolaty a handful is just right for a quick pickmeup between meals \n",
            "실제 요약 : just right \n",
            "1/1 [==============================] - 0s 22ms/step\n",
            "1/1 [==============================] - 0s 26ms/step\n",
            "1/1 [==============================] - 0s 25ms/step\n",
            "1/1 [==============================] - 0s 26ms/step\n",
            "1/1 [==============================] - 0s 22ms/step\n",
            "1/1 [==============================] - 0s 23ms/step\n",
            "1/1 [==============================] - 0s 23ms/step\n",
            "1/1 [==============================] - 0s 25ms/step\n",
            "예측 요약 :  altoids stuff yeah edible curry office curry\n",
            "\n",
            "\n",
            "원문 : great product actually weve used it all now great to on veggies as well as cooking in meals highly recommends \n",
            "실제 요약 : loved it \n",
            "1/1 [==============================] - 0s 23ms/step\n",
            "1/1 [==============================] - 0s 23ms/step\n",
            "1/1 [==============================] - 0s 23ms/step\n",
            "1/1 [==============================] - 0s 22ms/step\n",
            "1/1 [==============================] - 0s 22ms/step\n",
            "1/1 [==============================] - 0s 22ms/step\n",
            "1/1 [==============================] - 0s 24ms/step\n",
            "1/1 [==============================] - 0s 24ms/step\n",
            "예측 요약 :  ones rasberry daughter easily easily easily easily\n",
            "\n",
            "\n",
            "원문 : if you enjoy martinis then this product is for you why waste all those olives when you can purchase just the juice try this product and i sure you will agree \n",
            "실제 요약 : olive juice \n",
            "1/1 [==============================] - 0s 25ms/step\n",
            "1/1 [==============================] - 0s 25ms/step\n",
            "1/1 [==============================] - 0s 22ms/step\n",
            "1/1 [==============================] - 0s 27ms/step\n",
            "1/1 [==============================] - 0s 26ms/step\n",
            "1/1 [==============================] - 0s 27ms/step\n",
            "1/1 [==============================] - 0s 35ms/step\n",
            "1/1 [==============================] - 0s 23ms/step\n",
            "예측 요약 :  boxes yeah yeah yeah yeah curry curry\n",
            "\n",
            "\n",
            "원문 : great flavor and trust me this stuff delivers exactly what it says get an ice bath ready and wear loose \n",
            "실제 요약 : the best of the hot sauces \n",
            "1/1 [==============================] - 0s 21ms/step\n",
            "1/1 [==============================] - 0s 26ms/step\n",
            "1/1 [==============================] - 0s 22ms/step\n",
            "1/1 [==============================] - 0s 22ms/step\n",
            "1/1 [==============================] - 0s 24ms/step\n",
            "1/1 [==============================] - 0s 27ms/step\n",
            "1/1 [==============================] - 0s 26ms/step\n",
            "1/1 [==============================] - 0s 24ms/step\n",
            "예측 요약 :  craving rasberry rasberry daughter easily easily easily\n",
            "\n",
            "\n",
            "원문 : i the use of natural ingredients but thats where the stops the smell is unbelievably bad salmon and my dog who is a treat nut is not too crazy about them either honestly they just smelled like fish \n",
            "실제 요약 : my daughter them the \n",
            "1/1 [==============================] - 0s 22ms/step\n",
            "1/1 [==============================] - 0s 22ms/step\n",
            "1/1 [==============================] - 0s 24ms/step\n",
            "1/1 [==============================] - 0s 27ms/step\n",
            "1/1 [==============================] - 0s 26ms/step\n",
            "1/1 [==============================] - 0s 25ms/step\n",
            "1/1 [==============================] - 0s 26ms/step\n",
            "1/1 [==============================] - 0s 22ms/step\n",
            "예측 요약 :  hawaiian rasberry alternative edible edible ive root\n",
            "\n",
            "\n",
            "원문 : better than organic oats advertised elsewhere takes lots of water these are not minute oats so my oatmeal cookies come out right not all crumbly and soggy instant oats have their place but not in cookies \n",
            "실제 요약 : good quality delivered on time edible \n",
            "1/1 [==============================] - 0s 21ms/step\n",
            "1/1 [==============================] - 0s 21ms/step\n",
            "1/1 [==============================] - 0s 24ms/step\n",
            "1/1 [==============================] - 0s 27ms/step\n",
            "1/1 [==============================] - 0s 27ms/step\n",
            "1/1 [==============================] - 0s 33ms/step\n",
            "1/1 [==============================] - 0s 28ms/step\n",
            "1/1 [==============================] - 0s 25ms/step\n",
            "예측 요약 :  sure excellant found edible farms service service\n",
            "\n",
            "\n",
            "원문 : i was hoping for more fruit flavor in this tea so i was somewhat disappointed in flavor results of this tea \n",
            "실제 요약 : not what i expected \n",
            "1/1 [==============================] - 0s 31ms/step\n",
            "1/1 [==============================] - 0s 25ms/step\n",
            "1/1 [==============================] - 0s 29ms/step\n",
            "1/1 [==============================] - 0s 23ms/step\n",
            "1/1 [==============================] - 0s 27ms/step\n",
            "1/1 [==============================] - 0s 28ms/step\n",
            "1/1 [==============================] - 0s 26ms/step\n",
            "1/1 [==============================] - 0s 23ms/step\n",
            "예측 요약 :  wait rasberry alternative easily easily easily steak\n",
            "\n",
            "\n",
            "원문 : imagine tabasco sauce out all that vinegary crap what i really like about is that it is a perfect way to add heat without significantly changing the taste i find myself using it in all types of cooking glad to find it in my local grocery store lately \n",
            "실제 요약 : sauce is super awesome \n",
            "1/1 [==============================] - 0s 23ms/step\n",
            "1/1 [==============================] - 0s 22ms/step\n",
            "1/1 [==============================] - 0s 27ms/step\n",
            "1/1 [==============================] - 0s 24ms/step\n",
            "1/1 [==============================] - 0s 25ms/step\n",
            "1/1 [==============================] - 0s 32ms/step\n",
            "1/1 [==============================] - 0s 23ms/step\n",
            "1/1 [==============================] - 0s 28ms/step\n",
            "예측 요약 :  machine rasberry indian indian reason shipped shipped\n",
            "\n",
            "\n",
            "원문 : glad to find this for a birthday present as hard to find decaf ones in store makes good ice slushy and milk cold for those who can not take decaf these are and making them at home sure beats starbucks prices \n",
            "실제 요약 : good to find decafe one \n",
            "1/1 [==============================] - 0s 26ms/step\n",
            "1/1 [==============================] - 0s 28ms/step\n",
            "1/1 [==============================] - 0s 25ms/step\n",
            "1/1 [==============================] - 0s 30ms/step\n",
            "1/1 [==============================] - 0s 22ms/step\n",
            "1/1 [==============================] - 0s 27ms/step\n",
            "1/1 [==============================] - 0s 27ms/step\n",
            "1/1 [==============================] - 0s 26ms/step\n",
            "예측 요약 :  craving rasberry lime lime easily easily absolute\n",
            "\n",
            "\n",
            "원문 : i love dark chocolate covered cranberries and these were the worst ive ever had the chocolate was poor quality and tasted dry and waxy they are not melt in you mouth enjoyable as they should be very disappointing \n",
            "실제 요약 : dry and \n",
            "1/1 [==============================] - 0s 21ms/step\n",
            "1/1 [==============================] - 0s 27ms/step\n",
            "1/1 [==============================] - 0s 22ms/step\n",
            "1/1 [==============================] - 0s 33ms/step\n",
            "1/1 [==============================] - 0s 23ms/step\n",
            "1/1 [==============================] - 0s 26ms/step\n",
            "1/1 [==============================] - 0s 24ms/step\n",
            "1/1 [==============================] - 0s 27ms/step\n",
            "예측 요약 :  machine of found angel angel replacement enjoy\n",
            "\n",
            "\n",
            "원문 : chocolate covered marzipan from europe what more needs to be said this is awesome stuff back in the days like the s my aunt would always bring me this chocolate when she would go this chocolate also brings back happy memories \n",
            "실제 요약 : yummy \n",
            "1/1 [==============================] - 0s 27ms/step\n",
            "1/1 [==============================] - 0s 23ms/step\n",
            "1/1 [==============================] - 0s 22ms/step\n",
            "1/1 [==============================] - 0s 26ms/step\n",
            "1/1 [==============================] - 0s 28ms/step\n",
            "1/1 [==============================] - 0s 22ms/step\n",
            "1/1 [==============================] - 0s 25ms/step\n",
            "1/1 [==============================] - 0s 22ms/step\n",
            "예측 요약 :  ones superfood lime lime easily easily easily\n",
            "\n",
            "\n",
            "원문 : this is the only coffee creamer that i will drink in my coffee i use about one can every two weeks or so i love it \n",
            "실제 요약 : i love this coffee creamer \n",
            "1/1 [==============================] - 0s 23ms/step\n",
            "1/1 [==============================] - 0s 23ms/step\n",
            "1/1 [==============================] - 0s 25ms/step\n",
            "1/1 [==============================] - 0s 27ms/step\n",
            "1/1 [==============================] - 0s 23ms/step\n",
            "1/1 [==============================] - 0s 23ms/step\n",
            "1/1 [==============================] - 0s 24ms/step\n",
            "1/1 [==============================] - 0s 22ms/step\n",
            "예측 요약 :  craving stuff lime lime easily easily absolute\n",
            "\n",
            "\n",
            "원문 : bulk paprika is a black cloud above the food industry ready to all over the spice section of your local grocers i suggest you take cover immediately or least in a sturdy \n",
            "실제 요약 : hot item \n",
            "1/1 [==============================] - 0s 24ms/step\n",
            "1/1 [==============================] - 0s 21ms/step\n",
            "1/1 [==============================] - 0s 24ms/step\n",
            "1/1 [==============================] - 0s 22ms/step\n",
            "1/1 [==============================] - 0s 23ms/step\n",
            "1/1 [==============================] - 0s 22ms/step\n",
            "1/1 [==============================] - 0s 26ms/step\n",
            "1/1 [==============================] - 0s 24ms/step\n",
            "예측 요약 :  wait alternative alternative muffin muffin office office\n",
            "\n",
            "\n",
            "원문 : a really good coffee nicely roasted and with a great taste strong flavor i found i used a slightly smaller amount as finely ground beans a of excellent coffee if you like dark roasted should try this one \n",
            "실제 요약 : coffee is excellent \n",
            "1/1 [==============================] - 0s 22ms/step\n",
            "1/1 [==============================] - 0s 22ms/step\n",
            "1/1 [==============================] - 0s 26ms/step\n",
            "1/1 [==============================] - 0s 22ms/step\n",
            "1/1 [==============================] - 0s 26ms/step\n",
            "1/1 [==============================] - 0s 26ms/step\n",
            "1/1 [==============================] - 0s 23ms/step\n",
            "1/1 [==============================] - 0s 25ms/step\n",
            "예측 요약 :  craving stuff theyre lime lime easily absolute\n",
            "\n",
            "\n",
            "원문 : i like this soup it is a little salty for me but still makes a quick meal when i dont feel like cooking \n",
            "실제 요약 : good soup \n",
            "1/1 [==============================] - 0s 25ms/step\n",
            "1/1 [==============================] - 0s 24ms/step\n",
            "1/1 [==============================] - 0s 23ms/step\n",
            "1/1 [==============================] - 0s 22ms/step\n",
            "1/1 [==============================] - 0s 26ms/step\n",
            "1/1 [==============================] - 0s 23ms/step\n",
            "1/1 [==============================] - 0s 25ms/step\n",
            "1/1 [==============================] - 0s 21ms/step\n",
            "예측 요약 :  boxes acid barely yum barely office office\n",
            "\n",
            "\n",
            "원문 : level is what used to be their breakfast blend its an awesome brew and can be purchased at most super wal for bag \n",
            "실제 요약 : my favorite \n",
            "1/1 [==============================] - 0s 22ms/step\n",
            "1/1 [==============================] - 0s 34ms/step\n",
            "1/1 [==============================] - 0s 40ms/step\n",
            "1/1 [==============================] - 0s 40ms/step\n",
            "1/1 [==============================] - 0s 38ms/step\n",
            "1/1 [==============================] - 0s 49ms/step\n",
            "1/1 [==============================] - 0s 43ms/step\n",
            "1/1 [==============================] - 0s 45ms/step\n",
            "예측 요약 :  craving rasberry lime lime easily easily absolute\n",
            "\n",
            "\n"
          ]
        }
      ]
    }
  ]
}