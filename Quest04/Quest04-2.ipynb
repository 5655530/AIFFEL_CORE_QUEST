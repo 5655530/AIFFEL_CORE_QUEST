{
  "nbformat": 4,
  "nbformat_minor": 0,
  "metadata": {
    "colab": {
      "provenance": [],
      "include_colab_link": true
    },
    "kernelspec": {
      "name": "python3",
      "display_name": "Python 3"
    },
    "language_info": {
      "name": "python"
    }
  },
  "cells": [
    {
      "cell_type": "markdown",
      "metadata": {
        "id": "view-in-github",
        "colab_type": "text"
      },
      "source": [
        "<a href=\"https://colab.research.google.com/github/5655530/AIFFEL_CORE_QUEST/blob/main/Quest04/Quest04-2.ipynb\" target=\"_parent\"><img src=\"https://colab.research.google.com/assets/colab-badge.svg\" alt=\"Open In Colab\"/></a>"
      ]
    },
    {
      "cell_type": "code",
      "execution_count": null,
      "metadata": {
        "id": "nbeHqJG_5WAi"
      },
      "outputs": [],
      "source": [
        "import time #sleep함수 이용하기 위해 import\n",
        "\n",
        "def fish_compre(fish_list) : #생선리스트 컴프리헨션으로 출력하는 함수 생성\n",
        "  return [f\"{fish['이름']} is swimming at {fish['speed']} m/s\" for fish in fish_list]\n",
        "\n",
        "def fish_gen(fish_list) : #생선리스트 제너레이터로 출력하는 함수 생성\n",
        "  for fish in fish_list:\n",
        "    yield f\"{fish['이름']} is swimming at {fish['speed']} m/s\"\n",
        "\n",
        "\n",
        "fish_list = []\n",
        "fish_list_input = list(map(str, input().split()))\n",
        "\n",
        "for x in range(len(fish_list_input)//2) :\n",
        "  fish_list.append({\"이름\": fish_list_input[x * 2], \"speed\": fish_list_input[x * 2 + 1] })\n",
        "\n",
        "print(\"Using Comprehension:\")\n",
        "compre_result =fish_compre(fish_list)\n",
        "for result in compre_result : #생선 리스트 컴프리헨션으로 출력\n",
        "    print(result)\n",
        "    time.sleep(2) #2초 간격으로 출력\n",
        "\n",
        "print(\"Using  Generator:\")\n",
        "gen_result =fish_gen(fish_list) #생선 리스트 제너레이터로 출력\n",
        "for result in compre_result :\n",
        "    print(result)\n",
        "    time.sleep(2) #2초 간격으로 출력\n"
      ]
    }
  ]
}