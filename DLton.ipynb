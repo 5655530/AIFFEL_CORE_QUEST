{
  "cells": [
    {
      "cell_type": "markdown",
      "metadata": {
        "id": "view-in-github",
        "colab_type": "text"
      },
      "source": [
        "<a href=\"https://colab.research.google.com/github/5655530/AIFFEL_CORE_QUEST/blob/main/DLton.ipynb\" target=\"_parent\"><img src=\"https://colab.research.google.com/assets/colab-badge.svg\" alt=\"Open In Colab\"/></a>"
      ]
    },
    {
      "cell_type": "code",
      "source": [
        "!pip install tensorflow-addons"
      ],
      "metadata": {
        "colab": {
          "base_uri": "https://localhost:8080/"
        },
        "id": "Q0EnApWOZ9lT",
        "outputId": "cf09c7f1-7120-4bb4-d159-faa6b7775031"
      },
      "execution_count": null,
      "outputs": [
        {
          "output_type": "stream",
          "name": "stdout",
          "text": [
            "Collecting tensorflow-addons\n",
            "  Downloading tensorflow_addons-0.21.0-cp310-cp310-manylinux_2_17_x86_64.manylinux2014_x86_64.whl (612 kB)\n",
            "\u001b[2K     \u001b[90m━━━━━━━━━━━━━━━━━━━━━━━━━━━━━━━━━━━━━━━\u001b[0m \u001b[32m612.1/612.1 kB\u001b[0m \u001b[31m5.0 MB/s\u001b[0m eta \u001b[36m0:00:00\u001b[0m\n",
            "\u001b[?25hRequirement already satisfied: packaging in /usr/local/lib/python3.10/dist-packages (from tensorflow-addons) (23.1)\n",
            "Collecting typeguard<3.0.0,>=2.7 (from tensorflow-addons)\n",
            "  Downloading typeguard-2.13.3-py3-none-any.whl (17 kB)\n",
            "Installing collected packages: typeguard, tensorflow-addons\n",
            "Successfully installed tensorflow-addons-0.21.0 typeguard-2.13.3\n"
          ]
        }
      ]
    },
    {
      "cell_type": "code",
      "source": [
        "!pip install transformers"
      ],
      "metadata": {
        "colab": {
          "base_uri": "https://localhost:8080/"
        },
        "id": "jIjnDmxraWUa",
        "outputId": "3c64ed49-361a-4de8-fb07-ebae1f931ee4"
      },
      "execution_count": null,
      "outputs": [
        {
          "output_type": "stream",
          "name": "stdout",
          "text": [
            "Collecting transformers\n",
            "  Downloading transformers-4.32.1-py3-none-any.whl (7.5 MB)\n",
            "\u001b[2K     \u001b[90m━━━━━━━━━━━━━━━━━━━━━━━━━━━━━━━━━━━━━━━━\u001b[0m \u001b[32m7.5/7.5 MB\u001b[0m \u001b[31m21.8 MB/s\u001b[0m eta \u001b[36m0:00:00\u001b[0m\n",
            "\u001b[?25hRequirement already satisfied: filelock in /usr/local/lib/python3.10/dist-packages (from transformers) (3.12.2)\n",
            "Collecting huggingface-hub<1.0,>=0.15.1 (from transformers)\n",
            "  Downloading huggingface_hub-0.16.4-py3-none-any.whl (268 kB)\n",
            "\u001b[2K     \u001b[90m━━━━━━━━━━━━━━━━━━━━━━━━━━━━━━━━━━━━━━\u001b[0m \u001b[32m268.8/268.8 kB\u001b[0m \u001b[31m22.1 MB/s\u001b[0m eta \u001b[36m0:00:00\u001b[0m\n",
            "\u001b[?25hRequirement already satisfied: numpy>=1.17 in /usr/local/lib/python3.10/dist-packages (from transformers) (1.23.5)\n",
            "Requirement already satisfied: packaging>=20.0 in /usr/local/lib/python3.10/dist-packages (from transformers) (23.1)\n",
            "Requirement already satisfied: pyyaml>=5.1 in /usr/local/lib/python3.10/dist-packages (from transformers) (6.0.1)\n",
            "Requirement already satisfied: regex!=2019.12.17 in /usr/local/lib/python3.10/dist-packages (from transformers) (2023.6.3)\n",
            "Requirement already satisfied: requests in /usr/local/lib/python3.10/dist-packages (from transformers) (2.31.0)\n",
            "Collecting tokenizers!=0.11.3,<0.14,>=0.11.1 (from transformers)\n",
            "  Downloading tokenizers-0.13.3-cp310-cp310-manylinux_2_17_x86_64.manylinux2014_x86_64.whl (7.8 MB)\n",
            "\u001b[2K     \u001b[90m━━━━━━━━━━━━━━━━━━━━━━━━━━━━━━━━━━━━━━━━\u001b[0m \u001b[32m7.8/7.8 MB\u001b[0m \u001b[31m57.2 MB/s\u001b[0m eta \u001b[36m0:00:00\u001b[0m\n",
            "\u001b[?25hCollecting safetensors>=0.3.1 (from transformers)\n",
            "  Downloading safetensors-0.3.3-cp310-cp310-manylinux_2_17_x86_64.manylinux2014_x86_64.whl (1.3 MB)\n",
            "\u001b[2K     \u001b[90m━━━━━━━━━━━━━━━━━━━━━━━━━━━━━━━━━━━━━━━━\u001b[0m \u001b[32m1.3/1.3 MB\u001b[0m \u001b[31m64.0 MB/s\u001b[0m eta \u001b[36m0:00:00\u001b[0m\n",
            "\u001b[?25hRequirement already satisfied: tqdm>=4.27 in /usr/local/lib/python3.10/dist-packages (from transformers) (4.66.1)\n",
            "Requirement already satisfied: fsspec in /usr/local/lib/python3.10/dist-packages (from huggingface-hub<1.0,>=0.15.1->transformers) (2023.6.0)\n",
            "Requirement already satisfied: typing-extensions>=3.7.4.3 in /usr/local/lib/python3.10/dist-packages (from huggingface-hub<1.0,>=0.15.1->transformers) (4.7.1)\n",
            "Requirement already satisfied: charset-normalizer<4,>=2 in /usr/local/lib/python3.10/dist-packages (from requests->transformers) (3.2.0)\n",
            "Requirement already satisfied: idna<4,>=2.5 in /usr/local/lib/python3.10/dist-packages (from requests->transformers) (3.4)\n",
            "Requirement already satisfied: urllib3<3,>=1.21.1 in /usr/local/lib/python3.10/dist-packages (from requests->transformers) (2.0.4)\n",
            "Requirement already satisfied: certifi>=2017.4.17 in /usr/local/lib/python3.10/dist-packages (from requests->transformers) (2023.7.22)\n",
            "Installing collected packages: tokenizers, safetensors, huggingface-hub, transformers\n",
            "Successfully installed huggingface-hub-0.16.4 safetensors-0.3.3 tokenizers-0.13.3 transformers-4.32.1\n"
          ]
        }
      ]
    },
    {
      "cell_type": "code",
      "source": [
        "def uniform_soup(model_paths, test_ds, model_fun, evaluate_fun, disable_tqdm = False):\n",
        "    \"\"\"\n",
        "    \"Uniform Soup\" 모델과 테스트 데이터셋(test set)에서의 정확도를 반환\n",
        "    Args:\n",
        "    model_paths: 저장된 모델의 경로들의 리스트\n",
        "    test_ds: 테스트 데이터셋 (TFDS 포맷)\n",
        "    model_fun: 모델을 생성하는 함수\n",
        "    evaluate_fun: 모델을 평가하는 함수\n",
        "    disable_tqdm: TQDM 진행바(progress bar)를 비활성화할지 결정하는 값\n",
        "    \"\"\"\n",
        "    # 각 모델의 가중치를 저장할 것입니다.\n",
        "    soups = []\n",
        "\n",
        "    # TensorFlow 백엔드의 세션을 초기\n",
        "    tf.keras.backend.clear_session()\n",
        "    # model_fun 함수를 사용하여 새로운 모델 인스턴스를 생성\n",
        "    model = model_fun()\n",
        "\n",
        "    # model_paths에 있는 모든 모델에 대해 다음을 수행\n",
        "    for path in tqdm(model_paths, disable=disable_tqdm):\n",
        "\n",
        "        # 해당 경로의 모델 가중치를 로드\n",
        "        model.load_weights(path)\n",
        "\n",
        "        # 로드된 모델의 가중치를 numpy 배열로 변환\n",
        "        soup = [np.array(weights) for weights in model.weights]\n",
        "        # 변환된 가중치를 soups 리스트에 추가\n",
        "        soups.append(soup)\n",
        "\n",
        "    # 모든 모델의 가중치를 평균내어 mean_soup을 계산\n",
        "    mean_soup = np.array(soups).mean(axis = 0)\n",
        "\n",
        "    # 새로운 평균 가중치(mean_soup)를 기존 모델의 가중치로 설정\n",
        "    for w1, w2 in zip(model.weights, mean_soup ):\n",
        "        tf.keras.backend.set_value(w1, w2)\n",
        "\n",
        "    # 평균 가중치를 적용한 모델의 성능을 테스트 데이터셋에서 평가\n",
        "    accuracy =  evaluate_fun(model, test_ds)\n",
        "    # 평가된 정확도와 모델을 반환합니다.\n",
        "    return model, accuracy"
      ],
      "metadata": {
        "id": "ER954V2waS78"
      },
      "execution_count": 22,
      "outputs": []
    },
    {
      "cell_type": "code",
      "source": [
        "def greedy_soup(model_paths, test_ds, model_fun, evaluate_fun):\n",
        "    \"\"\"\n",
        "    Returns Greedy Soup model and accuracy on test set\n",
        "    Args:\n",
        "    model_paths: 저장된 모델의 경로들의 리스트\n",
        "    test_ds: 테스트 데이터셋 (TFDS 포맷)\n",
        "    model_fun: 모델을 생성하는 함수\n",
        "    evaluate_fun: 모델을 평가하는 함수\n",
        "    \"\"\"\n",
        "    # 첫 번째 모델(성능이 가장 좋은 것으로 가정)을 사용하여 초기 'soup'(모델의 조합)을 생성\n",
        "    soups =  [model_paths[0]]\n",
        "\n",
        "    # TensorFlow 백엔드 세션을 초기화\n",
        "    tf.keras.backend.clear_session()\n",
        "    # 새로운 모델 인스턴스를 생성\n",
        "    model = model_fun()\n",
        "\n",
        "    # 가장 성능이 좋은 모델의 가중치를 로드\n",
        "    model.load_weights(model_paths[0])\n",
        "\n",
        "    # 테스트 데이터셋에 대한 초기 모델의 성능을 평가\n",
        "    score_final = evaluate_fun(model,test_ds)\n",
        "\n",
        "    # 남은 모델들에 대해 반복\n",
        "    for path in tqdm(model_paths[1:]):\n",
        "\n",
        "        # 임시 'soup'을 생성하여 현재 모델을 추가\n",
        "        temp_soup =  soups.copy()\n",
        "        temp_soup.append(path)\n",
        "\n",
        "        # 임시 'soup'의 성능을 평가\n",
        "        model, score = uniform_soup(temp_soup,test_ds,model_fun, evaluate_fun, disable_tqdm= True)\n",
        "\n",
        "        # 임시 'soup'의 성능이 현재까지의 최고 성능보다 좋다면, 이를 메인 'soup'에 추가\n",
        "        if score > score_final:\n",
        "            score_final = score\n",
        "            soups.append(path)\n",
        "    # 최종적으로 선택된 모델과 그 성능을 반환\n",
        "    return model, score_final"
      ],
      "metadata": {
        "id": "J6RXKS3FgsEC"
      },
      "execution_count": 23,
      "outputs": []
    },
    {
      "cell_type": "code",
      "source": [
        "import os\n",
        "import random\n",
        "import numpy as np\n",
        "import pandas as pd\n",
        "import tensorflow as tf\n",
        "from tqdm.notebook import tqdm\n",
        "import matplotlib.pyplot as plt\n",
        "import tensorflow_addons as tfa\n",
        "import tensorflow_datasets as tfds\n",
        "import gc  # gc 모듈 추가\n",
        "\n",
        "from sklearn.preprocessing import MinMaxScaler\n",
        "from sklearn.metrics import mean_absolute_error\n",
        "from sklearn.model_selection import train_test_split\n",
        "from transformers import TFAutoModel, AutoTokenizer, DataCollatorWithPadding\n",
        "\n",
        "from tensorflow.keras.applications import MobileNet\n",
        "from tensorflow.keras.layers import Dense, GlobalAveragePooling2D\n",
        "from tensorflow.keras.models import Model\n",
        "\n",
        "## Mapping utility functions\n",
        "\n",
        "\n",
        "def z_score_normalize(image, label): # Z-score로 데이터를 정규화\n",
        "    \"\"\"\n",
        "    TensorFlow Dataset (TFDS)의 map 함수를 사용하여 데이터를 정규화\n",
        "    \"\"\"\n",
        "    image = tf.cast(image, tf.float32)\n",
        "    mean = tf.math.reduce_mean(image)\n",
        "    std_dev = tf.math.reduce_std(image)\n",
        "\n",
        "    image = (image - mean) / (std_dev + 1e-7)  # 작은 상수를 더해 0으로 나누는 것을 방지\n",
        "\n",
        "    return image, label\n",
        "\n",
        "def augment1(image, label): #채도와 밝기를 무작위로 조정\n",
        "    \"\"\"\n",
        "    TensorFlow Dataset (TFDS)의 map 함수를 사용하여 이미지를 무작위로 증강\n",
        "    \"\"\"\n",
        "    image = tf.image.random_saturation(image, 0.7, 1.3)\n",
        "    image = tf.image.random_brightness(image, 0.1)\n",
        "    return image, label\n",
        "\n",
        "def augment2(image, label): #좌우 반전과 밝기를 무작위로 변\n",
        "    \"\"\"\n",
        "    TensorFlow Dataset (TFDS)의 map 함수를 사용하여 이미지를 무작위로 증강\n",
        "    \"\"\"\n",
        "    image = tf.image.random_flip_left_right(image)\n",
        "    image = tf.image.random_brightness(image, 0.1)\n",
        "    return image, label\n",
        "\n",
        "AUTO = tf.data.AUTOTUNE\n",
        "ignore_order = tf.data.Options()\n",
        "\n",
        "class image_config:\n",
        "    BATCH_SIZE = 64\n",
        "    SHUFFLE_BUFFER = 1024\n",
        "    NUM_MODELS = 20\n",
        "\n",
        "## tfds를 이용해 CIFAR-10 데이터셋을 불러옴\n",
        "cifar_train, cifar_test = tfds.load(\"cifar10\", split= [\"train\", \"test\"],  as_supervised=True)\n",
        "\n",
        "\n",
        "## 학습 데이터에 Z-스코어 정규화를 적용\n",
        "cifar_train = cifar_train.map(z_score_normalize, num_parallel_calls=AUTO)\n",
        "## 학습 데이터를 무작위로 셔플\n",
        "cifar_train = cifar_train.shuffle(image_config.SHUFFLE_BUFFER)\n",
        "## 학습 데이터를 배치로 나눔\n",
        "cifar_train = cifar_train.batch(image_config.BATCH_SIZE, drop_remainder= True)\n",
        "cifar_train = cifar_train.prefetch(AUTO)\n",
        "\n",
        "\n",
        "\n",
        "## 테스트 데이터셋에서 라벨만 추출\n",
        "test_ids_ds = cifar_test.map(lambda x,y : y)\n",
        "cifar_test_labels = next(iter(test_ids_ds.batch(len(test_ids_ds)))).numpy()\n",
        "\n",
        "\n",
        "\n",
        "## 테스트 데이터에도 Z-스코어 정규화를 적용\n",
        "cifar_test = cifar_test.map(z_score_normalize, num_parallel_calls=AUTO)\n",
        "## 테스트 데이터를 배치로 나눔\n",
        "cifar_test = cifar_test.batch(image_config.BATCH_SIZE, drop_remainder=False)\n",
        "cifar_test = cifar_test.prefetch(AUTO)\n",
        "\n",
        "\n",
        "def create_cifar_model(weights=\"imagenet\"):\n",
        "    \"\"\"\n",
        "    MoblieNet모델 반환\n",
        "    Args:\n",
        "    weights : 사전 훈련된 가중\n",
        "    \"\"\"\n",
        "    # MobileNet을 불러와서 기본 모델을 생성\n",
        "    base_model = MobileNet(weights=weights, include_top=False, input_shape=(32, 32, 3))\n",
        "\n",
        "    # 모델을 Sequential 객체로 생성\n",
        "    model = tf.keras.Sequential()\n",
        "    model.add(base_model)\n",
        "\n",
        "    # 커스텀 레이어 추가\n",
        "    model.add(tf.keras.layers.GlobalAveragePooling2D())\n",
        "    model.add(tf.keras.layers.Dense(1024, activation='relu'))\n",
        "    model.add(tf.keras.layers.Dense(10, activation='softmax'))\n",
        "\n",
        "    return model\n",
        "\n",
        "\n",
        "def cifar_training(train_ds,\n",
        "                   test_ds,\n",
        "                   epochs,\n",
        "                   learning_rate,\n",
        "                   weight_decay,\n",
        "                   aug_map=None,\n",
        "                   save_dir=\"cifar/\"):\n",
        "    \"\"\"\n",
        "    훈련된 모델의 저장 경로와 테스트 세트에서의 평가 점수가 반환\n",
        "    Args:\n",
        "    train_ds : tfds포멧의 훈련 데이터셋\n",
        "    test_ds : tfds포멧의 훈련 데이터셋\n",
        "    epochs : 정수형, 에폭수\n",
        "    learning_rate : 실수형, 학습률\n",
        "    weight_decay : 실수형, AdamW 옵티마이저의 가중치 갑소값\n",
        "    aug_map: 훈련 데이터셋에 적용할 데이터 증강\n",
        "    save_dir : 모델을 저장할 디렉토리 접두사\n",
        "    \"\"\"\n",
        "    ## 지정 디렉토리가 존재하지 않을경우 모델을 저장하는 디렉토리 생성\n",
        "    if not os.path.isdir(save_dir):\n",
        "        os.makedirs(save_dir)\n",
        "\n",
        "    ## aug가 적용되지 않았을 경우 훈련 데이터에 증강을 적용\n",
        "    is_aug = False\n",
        "    if aug_map is not None:\n",
        "        train_ds = train_ds.unbatch().map(aug_map).batch(image_config.BATCH_SIZE).prefetch(AUTO)\n",
        "        is_aug = True\n",
        "\n",
        "    ## AdamW 옵티마이저 사용 (Adam + 가중치 감쇠 추가)\n",
        "    adamw_optimizer = tfa.optimizers.AdamW(weight_decay=weight_decay,\n",
        "                                           learning_rate=learning_rate)\n",
        "\n",
        "    ## 새로운 모델을 생성하기 전에 TensorFlow의 백엔드 세션을 초기\n",
        "    tf.keras.backend.clear_session()\n",
        "    model = create_cifar_model()\n",
        "\n",
        "    ## 모델 컴파일\n",
        "    model.compile(\n",
        "\n",
        "        optimizer=adamw_optimizer,\n",
        "        loss=\"sparse_categorical_crossentropy\",\n",
        "        metrics=[\"accuracy\"]\n",
        "    )\n",
        "\n",
        "    ## 모델 훈련\n",
        "    model.fit(\n",
        "        train_ds,\n",
        "        epochs=epochs,\n",
        "        verbose=0\n",
        "    )\n",
        "\n",
        "    ## 모델 평가\n",
        "    test_loss, test_score = model.evaluate(test_ds, verbose=1)\n",
        "\n",
        "    ## 훈련된 모델 저장\n",
        "    model_save_path = save_dir + \"cifar-\" + str(epochs) + \"_\" + str(learning_rate) + \"_\" + str(\n",
        "        weight_decay) + \"_\" + str(int(is_aug)) + \".h5\" # 경로생성\n",
        "    if not os.path.isdir(save_dir):\n",
        "        model.save_weights(model_save_path)\n",
        "    else:\n",
        "        ## 동일한 파라미터 설정으로 모델이 이미 저장되어 있을경우\n",
        "        model_save_path = save_dir + \"cifar-\" + str(epochs) + \"_\" + str(learning_rate) + \"_\" + str(weight_decay) + str(\n",
        "            random.choice(np.arange(0, 1000))) + \".h5\" # 새로운 경로 생성\n",
        "        model.save_weights(model_save_path) # 그곳에 모델의 가중치를 저장 (동일한 파라미터로 훈련되었더라도 여러 버전의 모델을 별도로 저장가능)\n",
        "\n",
        "    ## GPU 메모리 정리\n",
        "    del model\n",
        "    gc.collect()\n",
        "    return model_save_path, test_score\n",
        "\n",
        "\n",
        "def cifar_eval(model, test_ds):\n",
        "    \"\"\"\n",
        "    Returns Accuracy of model on test set\n",
        "    Args:\n",
        "    model : Trained tensorflow model\n",
        "    test_ds : Test dataset for evaluation\n",
        "    \"\"\"\n",
        "    # 모델을 사용하여 테스트 데이터셋에 대한 예측을 수행\n",
        "    preds = model.predict(test_ds)\n",
        "    # 예측 결과는 각 클래스에 대한 확률값을 담은 배열\n",
        "    # argmax 함수를 사용하여 가장 확률이 높은 클래스의 인덱스를 찾는다.\n",
        "    preds = preds.argmax(axis=1)\n",
        "    # 실제 테스트 레이블과 예측한 레이블을 비교하여 맞춘 개수를 계산\n",
        "    acc = np.sum(preds == cifar_test_labels) / len(cifar_test_labels)\n",
        "    return acc\n",
        "\n",
        "# 하이퍼 파라미터 후보를 리스트로 정의\n",
        "epochs = [8, 10, 12]\n",
        "learning_rate = [1e-4, 1e-5, 5e-5]\n",
        "weight_decay = [1e-4, 1e-4, 1e-5]\n",
        "augments = [None, augment1, augment2]\n",
        "\n",
        "# 하이퍼파라미터 조합을 무작위로 선택하여 딕셔너리를 생성\n",
        "parameters = [{\n",
        "    \"epochs\": random.choice(epochs),\n",
        "    \"learning_rate\": random.choice(learning_rate),\n",
        "    \"weight_decay\": random.choice(weight_decay),\n",
        "    \"aug_map\": random.choice(augments)\n",
        "} for count in range(image_config.NUM_MODELS)]\n",
        "cifar_params = pd.DataFrame(parameters)\n",
        "\n",
        "# 모델의 저장 경로와 테스트 점수를 저장할 리스트를 초기화\n",
        "model_paths = []\n",
        "test_scores = []\n",
        "\n",
        "# 각 하이퍼파라미터 조합에 대해 모델을 훈련하고 테스트\n",
        "for params in tqdm(parameters):\n",
        "    model_save_path, test_score = cifar_training(cifar_train,\n",
        "                                                 cifar_test,\n",
        "                                                 params[\"epochs\"],\n",
        "                                                 params[\"learning_rate\"],\n",
        "                                                 params[\"weight_decay\"],\n",
        "                                                 params[\"aug_map\"],\n",
        "                                                 save_dir=\"cifar/\")\n",
        "    # 훈련된 모델의 저장 경로와 테스트 점수를 저장\n",
        "    model_paths.append(model_save_path)\n",
        "    test_scores.append(test_score)\n",
        "\n",
        "## 모델의 저장 경로와 테스트 점수를 DataFrame에 추가\n",
        "cifar_params[\"paths\"] = model_paths\n",
        "cifar_params[\"scores\"] = test_scores\n",
        "\n",
        "##  테스트 점수를 기준으로 DataFrame을 정렬\n",
        "cifar_params.sort_values(by=\"scores\", ascending=False, inplace=True)\n",
        "cifar_params.reset_index(drop=True, inplace=True)\n",
        "\n",
        "## 하이퍼파라미터, 모델 경로, 테스트 점수를 CSV 파일로 저장\n",
        "cifar_params.to_csv(\"cifar_params.csv\", index=False)\n",
        "\n",
        "\n",
        "# Greedy_Soup 함수를 호출하여 최적의 모델 조합을 찾고 정확도를 출력\n",
        "greedy_soup_model, greedy_soup_acc = greedy_soup(\n",
        "    cifar_params[\"paths\"].values,\n",
        "    cifar_test,\n",
        "    create_cifar_model,\n",
        "    cifar_eval\n",
        ")\n",
        "print(\"Accuracy of Greedy Soup:\", greedy_soup_acc)"
      ],
      "metadata": {
        "colab": {
          "base_uri": "https://localhost:8080/",
          "height": 712,
          "referenced_widgets": [
            "1f2c86af80ba49729af027f39389887f",
            "b90f091335ee483e88fde78ddf4d9aae",
            "2144f58244fe4901bfb032d7446d8c44",
            "b9cec8d17eef402f9871de109efdbc05",
            "138eacb702244d77bf839df1fe5d9013",
            "348e433107454afb88cefba77b51d74c",
            "241b228a043746b8847175313acfc19c",
            "38e5b527c3f94161a9c084ab07c9efe9",
            "c939f3d44c4c4619b531e45626220a41",
            "84294e8c6ccb430db27f22540bc4ea92",
            "c830842d47d348939855fac5528ccf6f"
          ]
        },
        "id": "owbcbvIIYSqh",
        "outputId": "4811f060-3782-4a08-c7f6-1c9447789a9d"
      },
      "execution_count": null,
      "outputs": [
        {
          "output_type": "display_data",
          "data": {
            "text/plain": [
              "  0%|          | 0/20 [00:00<?, ?it/s]"
            ],
            "application/vnd.jupyter.widget-view+json": {
              "version_major": 2,
              "version_minor": 0,
              "model_id": "1f2c86af80ba49729af027f39389887f"
            }
          },
          "metadata": {}
        },
        {
          "output_type": "stream",
          "name": "stderr",
          "text": [
            "WARNING:tensorflow:`input_shape` is undefined or non-square, or `rows` is not in [128, 160, 192, 224]. Weights for input shape (224, 224) will be loaded as the default.\n"
          ]
        },
        {
          "output_type": "stream",
          "name": "stdout",
          "text": [
            "157/157 [==============================] - 1s 5ms/step - loss: 0.9078 - accuracy: 0.6919\n"
          ]
        },
        {
          "output_type": "stream",
          "name": "stderr",
          "text": [
            "WARNING:tensorflow:`input_shape` is undefined or non-square, or `rows` is not in [128, 160, 192, 224]. Weights for input shape (224, 224) will be loaded as the default.\n"
          ]
        },
        {
          "output_type": "stream",
          "name": "stdout",
          "text": [
            "157/157 [==============================] - 1s 5ms/step - loss: 0.9969 - accuracy: 0.6807\n"
          ]
        },
        {
          "output_type": "stream",
          "name": "stderr",
          "text": [
            "WARNING:tensorflow:`input_shape` is undefined or non-square, or `rows` is not in [128, 160, 192, 224]. Weights for input shape (224, 224) will be loaded as the default.\n"
          ]
        },
        {
          "output_type": "stream",
          "name": "stdout",
          "text": [
            "157/157 [==============================] - 1s 5ms/step - loss: 0.8035 - accuracy: 0.7701\n"
          ]
        },
        {
          "output_type": "stream",
          "name": "stderr",
          "text": [
            "WARNING:tensorflow:`input_shape` is undefined or non-square, or `rows` is not in [128, 160, 192, 224]. Weights for input shape (224, 224) will be loaded as the default.\n"
          ]
        },
        {
          "output_type": "stream",
          "name": "stdout",
          "text": [
            "157/157 [==============================] - 1s 5ms/step - loss: 0.7585 - accuracy: 0.7505\n"
          ]
        },
        {
          "output_type": "stream",
          "name": "stderr",
          "text": [
            "WARNING:tensorflow:`input_shape` is undefined or non-square, or `rows` is not in [128, 160, 192, 224]. Weights for input shape (224, 224) will be loaded as the default.\n"
          ]
        },
        {
          "output_type": "stream",
          "name": "stdout",
          "text": [
            "157/157 [==============================] - 1s 5ms/step - loss: 0.8750 - accuracy: 0.7083\n"
          ]
        },
        {
          "output_type": "stream",
          "name": "stderr",
          "text": [
            "WARNING:tensorflow:`input_shape` is undefined or non-square, or `rows` is not in [128, 160, 192, 224]. Weights for input shape (224, 224) will be loaded as the default.\n"
          ]
        },
        {
          "output_type": "stream",
          "name": "stdout",
          "text": [
            "157/157 [==============================] - 1s 5ms/step - loss: 0.8936 - accuracy: 0.7099\n"
          ]
        },
        {
          "output_type": "stream",
          "name": "stderr",
          "text": [
            "WARNING:tensorflow:`input_shape` is undefined or non-square, or `rows` is not in [128, 160, 192, 224]. Weights for input shape (224, 224) will be loaded as the default.\n"
          ]
        },
        {
          "output_type": "stream",
          "name": "stdout",
          "text": [
            "157/157 [==============================] - 1s 5ms/step - loss: 0.7688 - accuracy: 0.7474\n"
          ]
        },
        {
          "output_type": "stream",
          "name": "stderr",
          "text": [
            "WARNING:tensorflow:`input_shape` is undefined or non-square, or `rows` is not in [128, 160, 192, 224]. Weights for input shape (224, 224) will be loaded as the default.\n"
          ]
        },
        {
          "output_type": "stream",
          "name": "stdout",
          "text": [
            "157/157 [==============================] - 1s 5ms/step - loss: 1.0923 - accuracy: 0.6521\n"
          ]
        },
        {
          "output_type": "stream",
          "name": "stderr",
          "text": [
            "WARNING:tensorflow:`input_shape` is undefined or non-square, or `rows` is not in [128, 160, 192, 224]. Weights for input shape (224, 224) will be loaded as the default.\n"
          ]
        },
        {
          "output_type": "stream",
          "name": "stdout",
          "text": [
            "157/157 [==============================] - 1s 5ms/step - loss: 0.7753 - accuracy: 0.7498\n"
          ]
        },
        {
          "output_type": "stream",
          "name": "stderr",
          "text": [
            "WARNING:tensorflow:`input_shape` is undefined or non-square, or `rows` is not in [128, 160, 192, 224]. Weights for input shape (224, 224) will be loaded as the default.\n"
          ]
        },
        {
          "output_type": "stream",
          "name": "stdout",
          "text": [
            "157/157 [==============================] - 1s 5ms/step - loss: 0.7942 - accuracy: 0.7835\n"
          ]
        },
        {
          "output_type": "stream",
          "name": "stderr",
          "text": [
            "WARNING:tensorflow:`input_shape` is undefined or non-square, or `rows` is not in [128, 160, 192, 224]. Weights for input shape (224, 224) will be loaded as the default.\n"
          ]
        },
        {
          "output_type": "stream",
          "name": "stdout",
          "text": [
            "157/157 [==============================] - 1s 5ms/step - loss: 0.8057 - accuracy: 0.7332\n"
          ]
        },
        {
          "output_type": "stream",
          "name": "stderr",
          "text": [
            "WARNING:tensorflow:`input_shape` is undefined or non-square, or `rows` is not in [128, 160, 192, 224]. Weights for input shape (224, 224) will be loaded as the default.\n"
          ]
        },
        {
          "output_type": "stream",
          "name": "stdout",
          "text": [
            "157/157 [==============================] - 1s 5ms/step - loss: 0.7651 - accuracy: 0.7439\n"
          ]
        },
        {
          "output_type": "stream",
          "name": "stderr",
          "text": [
            "WARNING:tensorflow:`input_shape` is undefined or non-square, or `rows` is not in [128, 160, 192, 224]. Weights for input shape (224, 224) will be loaded as the default.\n"
          ]
        },
        {
          "output_type": "stream",
          "name": "stdout",
          "text": [
            "157/157 [==============================] - 1s 5ms/step - loss: 0.8342 - accuracy: 0.7258\n"
          ]
        },
        {
          "output_type": "stream",
          "name": "stderr",
          "text": [
            "WARNING:tensorflow:`input_shape` is undefined or non-square, or `rows` is not in [128, 160, 192, 224]. Weights for input shape (224, 224) will be loaded as the default.\n"
          ]
        },
        {
          "output_type": "stream",
          "name": "stdout",
          "text": [
            "157/157 [==============================] - 1s 5ms/step - loss: 1.0522 - accuracy: 0.6336\n"
          ]
        },
        {
          "output_type": "stream",
          "name": "stderr",
          "text": [
            "WARNING:tensorflow:`input_shape` is undefined or non-square, or `rows` is not in [128, 160, 192, 224]. Weights for input shape (224, 224) will be loaded as the default.\n"
          ]
        },
        {
          "output_type": "stream",
          "name": "stdout",
          "text": [
            "157/157 [==============================] - 1s 5ms/step - loss: 0.7321 - accuracy: 0.7510\n"
          ]
        },
        {
          "output_type": "stream",
          "name": "stderr",
          "text": [
            "WARNING:tensorflow:`input_shape` is undefined or non-square, or `rows` is not in [128, 160, 192, 224]. Weights for input shape (224, 224) will be loaded as the default.\n"
          ]
        },
        {
          "output_type": "stream",
          "name": "stdout",
          "text": [
            "157/157 [==============================] - 1s 5ms/step - loss: 0.8636 - accuracy: 0.7139\n"
          ]
        },
        {
          "output_type": "stream",
          "name": "stderr",
          "text": [
            "WARNING:tensorflow:`input_shape` is undefined or non-square, or `rows` is not in [128, 160, 192, 224]. Weights for input shape (224, 224) will be loaded as the default.\n"
          ]
        },
        {
          "output_type": "stream",
          "name": "stdout",
          "text": [
            "157/157 [==============================] - 1s 5ms/step - loss: 1.1044 - accuracy: 0.6503\n"
          ]
        },
        {
          "output_type": "stream",
          "name": "stderr",
          "text": [
            "WARNING:tensorflow:`input_shape` is undefined or non-square, or `rows` is not in [128, 160, 192, 224]. Weights for input shape (224, 224) will be loaded as the default.\n"
          ]
        }
      ]
    }
  ],
  "metadata": {
    "colab": {
      "provenance": [],
      "machine_shape": "hm",
      "gpuType": "T4",
      "include_colab_link": true
    },
    "kernelspec": {
      "display_name": "Python 3",
      "name": "python3"
    },
    "language_info": {
      "name": "python"
    },
    "accelerator": "GPU",
    "widgets": {
      "application/vnd.jupyter.widget-state+json": {
        "1f2c86af80ba49729af027f39389887f": {
          "model_module": "@jupyter-widgets/controls",
          "model_name": "HBoxModel",
          "model_module_version": "1.5.0",
          "state": {
            "_dom_classes": [],
            "_model_module": "@jupyter-widgets/controls",
            "_model_module_version": "1.5.0",
            "_model_name": "HBoxModel",
            "_view_count": null,
            "_view_module": "@jupyter-widgets/controls",
            "_view_module_version": "1.5.0",
            "_view_name": "HBoxView",
            "box_style": "",
            "children": [
              "IPY_MODEL_b90f091335ee483e88fde78ddf4d9aae",
              "IPY_MODEL_2144f58244fe4901bfb032d7446d8c44",
              "IPY_MODEL_b9cec8d17eef402f9871de109efdbc05"
            ],
            "layout": "IPY_MODEL_138eacb702244d77bf839df1fe5d9013"
          }
        },
        "b90f091335ee483e88fde78ddf4d9aae": {
          "model_module": "@jupyter-widgets/controls",
          "model_name": "HTMLModel",
          "model_module_version": "1.5.0",
          "state": {
            "_dom_classes": [],
            "_model_module": "@jupyter-widgets/controls",
            "_model_module_version": "1.5.0",
            "_model_name": "HTMLModel",
            "_view_count": null,
            "_view_module": "@jupyter-widgets/controls",
            "_view_module_version": "1.5.0",
            "_view_name": "HTMLView",
            "description": "",
            "description_tooltip": null,
            "layout": "IPY_MODEL_348e433107454afb88cefba77b51d74c",
            "placeholder": "​",
            "style": "IPY_MODEL_241b228a043746b8847175313acfc19c",
            "value": " 85%"
          }
        },
        "2144f58244fe4901bfb032d7446d8c44": {
          "model_module": "@jupyter-widgets/controls",
          "model_name": "FloatProgressModel",
          "model_module_version": "1.5.0",
          "state": {
            "_dom_classes": [],
            "_model_module": "@jupyter-widgets/controls",
            "_model_module_version": "1.5.0",
            "_model_name": "FloatProgressModel",
            "_view_count": null,
            "_view_module": "@jupyter-widgets/controls",
            "_view_module_version": "1.5.0",
            "_view_name": "ProgressView",
            "bar_style": "",
            "description": "",
            "description_tooltip": null,
            "layout": "IPY_MODEL_38e5b527c3f94161a9c084ab07c9efe9",
            "max": 20,
            "min": 0,
            "orientation": "horizontal",
            "style": "IPY_MODEL_c939f3d44c4c4619b531e45626220a41",
            "value": 17
          }
        },
        "b9cec8d17eef402f9871de109efdbc05": {
          "model_module": "@jupyter-widgets/controls",
          "model_name": "HTMLModel",
          "model_module_version": "1.5.0",
          "state": {
            "_dom_classes": [],
            "_model_module": "@jupyter-widgets/controls",
            "_model_module_version": "1.5.0",
            "_model_name": "HTMLModel",
            "_view_count": null,
            "_view_module": "@jupyter-widgets/controls",
            "_view_module_version": "1.5.0",
            "_view_name": "HTMLView",
            "description": "",
            "description_tooltip": null,
            "layout": "IPY_MODEL_84294e8c6ccb430db27f22540bc4ea92",
            "placeholder": "​",
            "style": "IPY_MODEL_c830842d47d348939855fac5528ccf6f",
            "value": " 17/20 [51:21&lt;08:47, 175.82s/it]"
          }
        },
        "138eacb702244d77bf839df1fe5d9013": {
          "model_module": "@jupyter-widgets/base",
          "model_name": "LayoutModel",
          "model_module_version": "1.2.0",
          "state": {
            "_model_module": "@jupyter-widgets/base",
            "_model_module_version": "1.2.0",
            "_model_name": "LayoutModel",
            "_view_count": null,
            "_view_module": "@jupyter-widgets/base",
            "_view_module_version": "1.2.0",
            "_view_name": "LayoutView",
            "align_content": null,
            "align_items": null,
            "align_self": null,
            "border": null,
            "bottom": null,
            "display": null,
            "flex": null,
            "flex_flow": null,
            "grid_area": null,
            "grid_auto_columns": null,
            "grid_auto_flow": null,
            "grid_auto_rows": null,
            "grid_column": null,
            "grid_gap": null,
            "grid_row": null,
            "grid_template_areas": null,
            "grid_template_columns": null,
            "grid_template_rows": null,
            "height": null,
            "justify_content": null,
            "justify_items": null,
            "left": null,
            "margin": null,
            "max_height": null,
            "max_width": null,
            "min_height": null,
            "min_width": null,
            "object_fit": null,
            "object_position": null,
            "order": null,
            "overflow": null,
            "overflow_x": null,
            "overflow_y": null,
            "padding": null,
            "right": null,
            "top": null,
            "visibility": null,
            "width": null
          }
        },
        "348e433107454afb88cefba77b51d74c": {
          "model_module": "@jupyter-widgets/base",
          "model_name": "LayoutModel",
          "model_module_version": "1.2.0",
          "state": {
            "_model_module": "@jupyter-widgets/base",
            "_model_module_version": "1.2.0",
            "_model_name": "LayoutModel",
            "_view_count": null,
            "_view_module": "@jupyter-widgets/base",
            "_view_module_version": "1.2.0",
            "_view_name": "LayoutView",
            "align_content": null,
            "align_items": null,
            "align_self": null,
            "border": null,
            "bottom": null,
            "display": null,
            "flex": null,
            "flex_flow": null,
            "grid_area": null,
            "grid_auto_columns": null,
            "grid_auto_flow": null,
            "grid_auto_rows": null,
            "grid_column": null,
            "grid_gap": null,
            "grid_row": null,
            "grid_template_areas": null,
            "grid_template_columns": null,
            "grid_template_rows": null,
            "height": null,
            "justify_content": null,
            "justify_items": null,
            "left": null,
            "margin": null,
            "max_height": null,
            "max_width": null,
            "min_height": null,
            "min_width": null,
            "object_fit": null,
            "object_position": null,
            "order": null,
            "overflow": null,
            "overflow_x": null,
            "overflow_y": null,
            "padding": null,
            "right": null,
            "top": null,
            "visibility": null,
            "width": null
          }
        },
        "241b228a043746b8847175313acfc19c": {
          "model_module": "@jupyter-widgets/controls",
          "model_name": "DescriptionStyleModel",
          "model_module_version": "1.5.0",
          "state": {
            "_model_module": "@jupyter-widgets/controls",
            "_model_module_version": "1.5.0",
            "_model_name": "DescriptionStyleModel",
            "_view_count": null,
            "_view_module": "@jupyter-widgets/base",
            "_view_module_version": "1.2.0",
            "_view_name": "StyleView",
            "description_width": ""
          }
        },
        "38e5b527c3f94161a9c084ab07c9efe9": {
          "model_module": "@jupyter-widgets/base",
          "model_name": "LayoutModel",
          "model_module_version": "1.2.0",
          "state": {
            "_model_module": "@jupyter-widgets/base",
            "_model_module_version": "1.2.0",
            "_model_name": "LayoutModel",
            "_view_count": null,
            "_view_module": "@jupyter-widgets/base",
            "_view_module_version": "1.2.0",
            "_view_name": "LayoutView",
            "align_content": null,
            "align_items": null,
            "align_self": null,
            "border": null,
            "bottom": null,
            "display": null,
            "flex": null,
            "flex_flow": null,
            "grid_area": null,
            "grid_auto_columns": null,
            "grid_auto_flow": null,
            "grid_auto_rows": null,
            "grid_column": null,
            "grid_gap": null,
            "grid_row": null,
            "grid_template_areas": null,
            "grid_template_columns": null,
            "grid_template_rows": null,
            "height": null,
            "justify_content": null,
            "justify_items": null,
            "left": null,
            "margin": null,
            "max_height": null,
            "max_width": null,
            "min_height": null,
            "min_width": null,
            "object_fit": null,
            "object_position": null,
            "order": null,
            "overflow": null,
            "overflow_x": null,
            "overflow_y": null,
            "padding": null,
            "right": null,
            "top": null,
            "visibility": null,
            "width": null
          }
        },
        "c939f3d44c4c4619b531e45626220a41": {
          "model_module": "@jupyter-widgets/controls",
          "model_name": "ProgressStyleModel",
          "model_module_version": "1.5.0",
          "state": {
            "_model_module": "@jupyter-widgets/controls",
            "_model_module_version": "1.5.0",
            "_model_name": "ProgressStyleModel",
            "_view_count": null,
            "_view_module": "@jupyter-widgets/base",
            "_view_module_version": "1.2.0",
            "_view_name": "StyleView",
            "bar_color": null,
            "description_width": ""
          }
        },
        "84294e8c6ccb430db27f22540bc4ea92": {
          "model_module": "@jupyter-widgets/base",
          "model_name": "LayoutModel",
          "model_module_version": "1.2.0",
          "state": {
            "_model_module": "@jupyter-widgets/base",
            "_model_module_version": "1.2.0",
            "_model_name": "LayoutModel",
            "_view_count": null,
            "_view_module": "@jupyter-widgets/base",
            "_view_module_version": "1.2.0",
            "_view_name": "LayoutView",
            "align_content": null,
            "align_items": null,
            "align_self": null,
            "border": null,
            "bottom": null,
            "display": null,
            "flex": null,
            "flex_flow": null,
            "grid_area": null,
            "grid_auto_columns": null,
            "grid_auto_flow": null,
            "grid_auto_rows": null,
            "grid_column": null,
            "grid_gap": null,
            "grid_row": null,
            "grid_template_areas": null,
            "grid_template_columns": null,
            "grid_template_rows": null,
            "height": null,
            "justify_content": null,
            "justify_items": null,
            "left": null,
            "margin": null,
            "max_height": null,
            "max_width": null,
            "min_height": null,
            "min_width": null,
            "object_fit": null,
            "object_position": null,
            "order": null,
            "overflow": null,
            "overflow_x": null,
            "overflow_y": null,
            "padding": null,
            "right": null,
            "top": null,
            "visibility": null,
            "width": null
          }
        },
        "c830842d47d348939855fac5528ccf6f": {
          "model_module": "@jupyter-widgets/controls",
          "model_name": "DescriptionStyleModel",
          "model_module_version": "1.5.0",
          "state": {
            "_model_module": "@jupyter-widgets/controls",
            "_model_module_version": "1.5.0",
            "_model_name": "DescriptionStyleModel",
            "_view_count": null,
            "_view_module": "@jupyter-widgets/base",
            "_view_module_version": "1.2.0",
            "_view_name": "StyleView",
            "description_width": ""
          }
        }
      }
    }
  },
  "nbformat": 4,
  "nbformat_minor": 0
}