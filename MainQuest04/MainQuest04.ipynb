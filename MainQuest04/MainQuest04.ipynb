{
  "nbformat": 4,
  "nbformat_minor": 0,
  "metadata": {
    "colab": {
      "provenance": [],
      "gpuType": "T4",
      "mount_file_id": "1WITLOnFRz7aurZyXkVM_h7o5SRKZKBoH",
      "authorship_tag": "ABX9TyN3lNBUDXxllPJF2vsHhHAt",
      "include_colab_link": true
    },
    "kernelspec": {
      "name": "python3",
      "display_name": "Python 3"
    },
    "language_info": {
      "name": "python"
    },
    "accelerator": "GPU"
  },
  "cells": [
    {
      "cell_type": "markdown",
      "metadata": {
        "id": "view-in-github",
        "colab_type": "text"
      },
      "source": [
        "<a href=\"https://colab.research.google.com/github/5655530/AIFFEL_CORE_QUEST/blob/main/MainQuest04/MainQuest04.ipynb\" target=\"_parent\"><img src=\"https://colab.research.google.com/assets/colab-badge.svg\" alt=\"Open In Colab\"/></a>"
      ]
    },
    {
      "cell_type": "markdown",
      "source": [
        "# 사용할 버전 확인"
      ],
      "metadata": {
        "id": "cnN5Y-6pnPJk"
      }
    },
    {
      "cell_type": "markdown",
      "source": [
        "## STEP 0. 설계\n",
        "---"
      ],
      "metadata": {
        "id": "U6S7NQn3cWeI"
      }
    },
    {
      "cell_type": "markdown",
      "source": [
        "메인 퀘스트에 참가하여 유의미한 점수를 거두기 위하여 아래와 같은 과정으로 프로젝트를 진행하여 본다.\n",
        "\n",
        "1. 데이터 살펴보기\n",
        "    - 이번 프로젝트의 목표는 주어진 데이터를 모델에 학습시켜, 입력이 주어졌을 때 가위 바위 보를 분류해 내는 것이다.\n",
        "    - 데이터를 읽어들여 온다.\n",
        "2. 데이터 전처리\n",
        "    - 주어진 데이터를 학습하기에 알맞은 크기의 사이즈로 reshape한다.\n",
        "    - 가공한 데이터를 정답에 맞게 가위, 바위, 보로 라벨링 한다.\n",
        "3. 모델링과 하이퍼 파라미터 튜닝\n",
        "    - KerasClassifier를 이용하여 Keras 모델을 Scikit-learn의 분류기 인터페이스로 감싸서 사용할 수 있게 한다.\n",
        "    - 랜덤 서치를 이용하여 모델에 대한 하이퍼 파라미터 튜닝을 진행한다.\n",
        "4. 제출\n",
        "    - LMS에 모델을 제출하고 결과를 확인한다.\n"
      ],
      "metadata": {
        "id": "68ZKRFx3ceGI"
      }
    },
    {
      "cell_type": "code",
      "execution_count": 21,
      "metadata": {
        "colab": {
          "base_uri": "https://localhost:8080/"
        },
        "id": "aPAluNK4Lr7f",
        "outputId": "d0c1cd69-9b03-41e0-bb31-fabba1fe2d0c"
      },
      "outputs": [
        {
          "output_type": "stream",
          "name": "stdout",
          "text": [
            "2.12.0\n",
            "1.22.4\n"
          ]
        }
      ],
      "source": [
        "import tensorflow as tf\n",
        "import numpy as np\n",
        "import tensorflow_datasets as tfds\n",
        "print(tf.__version__)\n",
        "print(np.__version__)"
      ]
    },
    {
      "cell_type": "markdown",
      "source": [
        "# 데이터 불러오기 + Resize 하기\n",
        "* PIL 라이브러리 불러오기"
      ],
      "metadata": {
        "id": "Vzy2VE6Fnj-9"
      }
    },
    {
      "cell_type": "code",
      "source": [
        "from PIL import Image\n",
        "import glob\n",
        "import os\n",
        "\n",
        "print(\"PIL 라이브러리 import 완료!\")"
      ],
      "metadata": {
        "colab": {
          "base_uri": "https://localhost:8080/"
        },
        "id": "IJOt9xJonVfv",
        "outputId": "5051010e-75fe-48aa-b321-a7423c313542"
      },
      "execution_count": 4,
      "outputs": [
        {
          "output_type": "stream",
          "name": "stdout",
          "text": [
            "PIL 라이브러리 import 완료!\n"
          ]
        }
      ]
    },
    {
      "cell_type": "markdown",
      "source": [
        "* 파일 압축 풀기"
      ],
      "metadata": {
        "id": "tG9NiCHipFSp"
      }
    },
    {
      "cell_type": "code",
      "source": [
        "%cd /content/drive/MyDrive/aiffel/rock_scissor_paper/\n",
        "!unzip -qq \"/content/drive/MyDrive/aiffel/rock_scissor_paper/train.zip\""
      ],
      "metadata": {
        "colab": {
          "base_uri": "https://localhost:8080/"
        },
        "id": "Z4yiddlJq4Gi",
        "outputId": "a03b8352-d4e7-4206-d259-cecf5f078e5f"
      },
      "execution_count": 29,
      "outputs": [
        {
          "output_type": "stream",
          "name": "stdout",
          "text": [
            "/content/drive/MyDrive/aiffel/rock_scissor_paper\n"
          ]
        }
      ]
    },
    {
      "cell_type": "markdown",
      "source": [
        "* 이미지 파일 리사이즈 (64, 64)"
      ],
      "metadata": {
        "id": "-gTE2HJunx5-"
      }
    },
    {
      "cell_type": "code",
      "source": [
        "def resize_images(img_path):\n",
        "\timages=glob.glob(img_path + \"/*.jpg\")\n",
        "\timages_png=glob.glob(img_path + \"/*.png\")\n",
        "\n",
        "\tprint(len(images), \" images to be resized.\")\n",
        "\n",
        "    # 파일마다 모두 64x64 사이즈로 바꾸어 저장합니다.\n",
        "\ttarget_size=(64,64)\n",
        "\tfor img in images:\n",
        "\t\told_img=Image.open(img).convert(\"RGB\")\n",
        "\t\tnew_img=old_img.resize(target_size,Image.ANTIALIAS)\n",
        "\t\tnew_img.save(img, \"JPEG\")\n",
        "\n",
        "\tfor img in images_png:\n",
        "\t\told_img=Image.open(img).convert(\"RGB\")\n",
        "\t\tnew_img=old_img.resize(target_size,Image.ANTIALIAS)\n",
        "\t\tnew_img.save(img, \"PNG\")\n",
        "\n",
        "\tprint(len(images), \" images resized.\")\n",
        "\n",
        "# 바위 이미지가 저장된 디렉토리 아래의 모든 jpg 파일을 읽어들여서\n",
        "image_dir_path =  \"/content/drive/MyDrive/aiffel/rock_scissor_paper/rock\"\n",
        "resize_images(image_dir_path)\n",
        "\n",
        "print(\"바위 이미지 resize 완료!\")\n",
        "\n",
        "# 보 이미지가 저장된 디렉토리 아래의 모든 jpg 파일을 읽어들여서\n",
        "image_dir_path = \"/content/drive/MyDrive/aiffel/rock_scissor_paper/paper\"\n",
        "\n",
        "# 파일마다 모두 28x28 사이즈로 바꾸어 저장합니다.\n",
        "resize_images(image_dir_path)\n",
        "\n",
        "print(\"보 이미지 resize 완료!\")\n",
        "\n",
        "# 가위 이미지가 저장된 디렉토리 아래의 모든 jpg 파일을 읽어들여서\n",
        "image_dir_path =  \"/content/drive/MyDrive/aiffel/rock_scissor_paper/scissor\"\n",
        "resize_images(image_dir_path)\n",
        "\n",
        "print(\"가위 이미지 resize 완료!\")"
      ],
      "metadata": {
        "colab": {
          "base_uri": "https://localhost:8080/"
        },
        "id": "5yIHFfuJnvLP",
        "outputId": "cdddceab-5946-42b3-92de-9fffd9ce3e95"
      },
      "execution_count": 45,
      "outputs": [
        {
          "output_type": "stream",
          "name": "stdout",
          "text": [
            "638  images to be resized.\n"
          ]
        },
        {
          "output_type": "stream",
          "name": "stderr",
          "text": [
            "<ipython-input-45-2ac1b5664aa6>:11: DeprecationWarning: ANTIALIAS is deprecated and will be removed in Pillow 10 (2023-07-01). Use LANCZOS or Resampling.LANCZOS instead.\n",
            "  new_img=old_img.resize(target_size,Image.ANTIALIAS)\n",
            "<ipython-input-45-2ac1b5664aa6>:16: DeprecationWarning: ANTIALIAS is deprecated and will be removed in Pillow 10 (2023-07-01). Use LANCZOS or Resampling.LANCZOS instead.\n",
            "  new_img=old_img.resize(target_size,Image.ANTIALIAS)\n"
          ]
        },
        {
          "output_type": "stream",
          "name": "stdout",
          "text": [
            "638  images resized.\n",
            "바위 이미지 resize 완료!\n",
            "497  images to be resized.\n",
            "497  images resized.\n",
            "보 이미지 resize 완료!\n",
            "941  images to be resized.\n",
            "941  images resized.\n",
            "가위 이미지 resize 완료!\n"
          ]
        }
      ]
    },
    {
      "cell_type": "markdown",
      "source": [
        "* 가위: 0, 바위: 1, 보: 2 의 형태로 데이터 라벨링 후 훈련 데이터 셋 생성"
      ],
      "metadata": {
        "id": "pP8GYQIFrpbc"
      }
    },
    {
      "cell_type": "code",
      "source": [
        "import numpy as np\n",
        "\n",
        "def load_data(img_path, number_of_data=4599):  # 가위바위보 이미지 개수 총합에 주의하세요.\n",
        "    # 가위 : 0, 바위 : 1, 보 : 2\n",
        "    img_size=64\n",
        "    color=3\n",
        "    imgs=np.zeros(number_of_data*img_size*img_size*color, dtype=np.int32).reshape(number_of_data, img_size, img_size, color)\n",
        "    labels=np.zeros(number_of_data, dtype=np.int32)\n",
        "\n",
        "    idx=0\n",
        "    # 가위 이미지 불러오기\n",
        "    for file in glob.iglob(img_path+'/scissor/*.jpg'):\n",
        "        img = np.array(Image.open(file), dtype=np.int32)\n",
        "        imgs[idx,:,:,:]=img\n",
        "        labels[idx]=0\n",
        "        idx=idx+1\n",
        "\n",
        "    for file in glob.iglob(img_path+'/scissor/*.png'):\n",
        "        img = np.array(Image.open(file).convert(\"RGB\"), dtype=np.int32)\n",
        "        imgs[idx,:,:,:]=img\n",
        "        labels[idx]=0\n",
        "        idx=idx+1\n",
        "\n",
        "    # 바위 이미지 불러오기\n",
        "    for file in glob.iglob(img_path+'/rock/*.jpg'):\n",
        "        img = np.array(Image.open(file), dtype=np.int32)\n",
        "        imgs[idx,:,:,:]=img\n",
        "        labels[idx]=1\n",
        "        idx=idx+1\n",
        "\n",
        "    for file in glob.iglob(img_path+'/rock/*.png'):\n",
        "        img = np.array(Image.open(file).convert(\"RGB\"), dtype=np.int32)\n",
        "        imgs[idx,:,:,:]=img\n",
        "        labels[idx]=1\n",
        "        idx=idx+1\n",
        "\n",
        "    # 보 이미지 불러오기\n",
        "    for file in glob.iglob(img_path+'/paper/*.jpg'):\n",
        "        img = np.array(Image.open(file), dtype=np.int32)\n",
        "        imgs[idx,:,:,:]=img\n",
        "        labels[idx]=2\n",
        "        idx=idx+1\n",
        "\n",
        "    for file in glob.iglob(img_path+'/paper/*.png'):\n",
        "        img = np.array(Image.open(file).convert(\"RGB\"), dtype=np.int32)\n",
        "        imgs[idx,:,:,:]=img\n",
        "        labels[idx]=2\n",
        "        idx=idx+1\n",
        "\n",
        "    print(\"학습데이터(x_train)의 이미지 개수는\", idx,\"입니다.\")\n",
        "    return imgs, labels\n",
        "\n",
        "image_dir_path = \"/content/drive/MyDrive/aiffel/rock_scissor_paper\"\n",
        "(x_train, y_train)=load_data(image_dir_path)\n",
        "x_train_norm = x_train/255.0   # 입력은 0~1 사이의 값으로 정규화\n",
        "\n",
        "print(\"x_train shape: {}\".format(x_train.shape))\n",
        "print(\"y_train shape: {}\".format(y_train.shape))"
      ],
      "metadata": {
        "colab": {
          "base_uri": "https://localhost:8080/"
        },
        "id": "GjcDpYDJrhcI",
        "outputId": "b478eac0-22f9-487e-eeea-fa01d7b78869"
      },
      "execution_count": 47,
      "outputs": [
        {
          "output_type": "stream",
          "name": "stdout",
          "text": [
            "학습데이터(x_train)의 이미지 개수는 4596 입니다.\n",
            "x_train shape: (4599, 64, 64, 3)\n",
            "y_train shape: (4599,)\n"
          ]
        }
      ]
    },
    {
      "cell_type": "markdown",
      "source": [
        "* 이미지 확인"
      ],
      "metadata": {
        "id": "lt8uBqNbr4iH"
      }
    },
    {
      "cell_type": "code",
      "source": [
        "from matplotlib import pyplot as plt\n",
        "plt.imshow(x_train[0])\n",
        "print('라벨: ', y_train[0])"
      ],
      "metadata": {
        "colab": {
          "base_uri": "https://localhost:8080/",
          "height": 449
        },
        "id": "lv5REpEfr2O8",
        "outputId": "abccc05c-4126-410a-f2c5-a89d411aeaa4"
      },
      "execution_count": 48,
      "outputs": [
        {
          "output_type": "stream",
          "name": "stdout",
          "text": [
            "라벨:  0\n"
          ]
        },
        {
          "output_type": "display_data",
          "data": {
            "text/plain": [
              "<Figure size 640x480 with 1 Axes>"
            ],
            "image/png": "[encoded data removed]"
          },
          "metadata": {}
        }
      ]
    },
    {
      "cell_type": "markdown",
      "source": [
        "* 모델 생성\n",
        "  - 4개의 합성곱 층으로 이루어진 모델\n",
        "  - 오버피팅을 줄이기 위해 dense레이어에서 드롭아웃 실행"
      ],
      "metadata": {
        "id": "-ebevO9CoJkP"
      }
    },
    {
      "cell_type": "code",
      "source": [
        "import tensorflow as tf\n",
        "from tensorflow import keras\n",
        "import numpy as np\n",
        "\n",
        "# 바꿔 볼 수 있는 하이퍼파라미터들\n",
        "n_channel_1=16\n",
        "n_channel_2=32\n",
        "n_channel_3=32\n",
        "n_channel_4=64\n",
        "n_dense=512\n",
        "n_train_epoch=10\n",
        "\n",
        "model = keras.models.Sequential()\n",
        "model.add(keras.layers.Conv2D(32, 3, padding='same', activation='relu',\n",
        "                              input_shape=(64, 64, 3)))\n",
        "model.add(keras.layers.MaxPooling2D((2, 2)))\n",
        "\n",
        "model.add(keras.layers.Conv2D(32, 3, padding='same', activation='relu'))\n",
        "model.add(keras.layers.MaxPooling2D((2, 2)))\n",
        "\n",
        "model.add(keras.layers.Conv2D(32, 3, padding='same', activation='relu'))\n",
        "model.add(keras.layers.MaxPooling2D((2, 2)))\n",
        "\n",
        "model.add(keras.layers.Conv2D(64, 3, padding='same', activation='relu'))\n",
        "model.add(keras.layers.MaxPooling2D((2, 2)))\n",
        "\n",
        "model.add(keras.layers.Conv2D(64, 3, padding='same', activation='relu'))\n",
        "model.add(keras.layers.MaxPooling2D((2, 2)))\n",
        "\n",
        "model.add(keras.layers.Flatten())\n",
        "model.add(keras.layers.Dropout(0.5))\n",
        "model.add(keras.layers.Dense(512, activation='relu'))\n",
        "model.add(keras.layers.Dropout(0.5))\n",
        "model.add(keras.layers.Dense(3, activation='softmax'))\n",
        "\n",
        "model.summary()"
      ],
      "metadata": {
        "colab": {
          "base_uri": "https://localhost:8080/"
        },
        "id": "6lYMTAUnsEUc",
        "outputId": "5006069e-5647-4ab0-9d35-66431223f279"
      },
      "execution_count": 92,
      "outputs": [
        {
          "output_type": "stream",
          "name": "stdout",
          "text": [
            "Model: \"sequential_157\"\n",
            "_________________________________________________________________\n",
            " Layer (type)                Output Shape              Param #   \n",
            "=================================================================\n",
            " conv2d_635 (Conv2D)         (None, 64, 64, 32)        896       \n",
            "                                                                 \n",
            " max_pooling2d_635 (MaxPooli  (None, 32, 32, 32)       0         \n",
            " ng2D)                                                           \n",
            "                                                                 \n",
            " conv2d_636 (Conv2D)         (None, 32, 32, 32)        9248      \n",
            "                                                                 \n",
            " max_pooling2d_636 (MaxPooli  (None, 16, 16, 32)       0         \n",
            " ng2D)                                                           \n",
            "                                                                 \n",
            " conv2d_637 (Conv2D)         (None, 16, 16, 32)        9248      \n",
            "                                                                 \n",
            " max_pooling2d_637 (MaxPooli  (None, 8, 8, 32)         0         \n",
            " ng2D)                                                           \n",
            "                                                                 \n",
            " conv2d_638 (Conv2D)         (None, 8, 8, 64)          18496     \n",
            "                                                                 \n",
            " max_pooling2d_638 (MaxPooli  (None, 4, 4, 64)         0         \n",
            " ng2D)                                                           \n",
            "                                                                 \n",
            " conv2d_639 (Conv2D)         (None, 4, 4, 64)          36928     \n",
            "                                                                 \n",
            " max_pooling2d_639 (MaxPooli  (None, 2, 2, 64)         0         \n",
            " ng2D)                                                           \n",
            "                                                                 \n",
            " flatten_157 (Flatten)       (None, 256)               0         \n",
            "                                                                 \n",
            " dropout_314 (Dropout)       (None, 256)               0         \n",
            "                                                                 \n",
            " dense_314 (Dense)           (None, 512)               131584    \n",
            "                                                                 \n",
            " dropout_315 (Dropout)       (None, 512)               0         \n",
            "                                                                 \n",
            " dense_315 (Dense)           (None, 3)                 1539      \n",
            "                                                                 \n",
            "=================================================================\n",
            "Total params: 207,939\n",
            "Trainable params: 207,939\n",
            "Non-trainable params: 0\n",
            "_________________________________________________________________\n"
          ]
        }
      ]
    },
    {
      "cell_type": "code",
      "source": [
        "# model을 학습시키는 코드를 직접 작성해 보세요.\n",
        "# Hint! model.compile()과 model.fit()을 사용해 봅시다.\n",
        "model.compile(optimizer='adam',\n",
        "             loss='sparse_categorical_crossentropy',\n",
        "             metrics=['accuracy'])\n",
        "\n",
        "# 모델 훈련\n",
        "model.fit(x_train, y_train, epochs=n_train_epoch)\n",
        "\n",
        "model.summary()"
      ],
      "metadata": {
        "colab": {
          "base_uri": "https://localhost:8080/"
        },
        "id": "69qLvs1rsG-r",
        "outputId": "e01ade07-8025-4c8a-9fde-fa3e08829b93"
      },
      "execution_count": 89,
      "outputs": [
        {
          "output_type": "stream",
          "name": "stdout",
          "text": [
            "Epoch 1/10\n",
            "144/144 [==============================] - 4s 7ms/step - loss: 1.6413 - accuracy: 0.4597\n",
            "Epoch 2/10\n",
            "144/144 [==============================] - 1s 7ms/step - loss: 0.5900 - accuracy: 0.7260\n",
            "Epoch 3/10\n",
            "144/144 [==============================] - 1s 7ms/step - loss: 0.4045 - accuracy: 0.8274\n",
            "Epoch 4/10\n",
            "144/144 [==============================] - 1s 7ms/step - loss: 0.2790 - accuracy: 0.8848\n",
            "Epoch 5/10\n",
            "144/144 [==============================] - 1s 7ms/step - loss: 0.2075 - accuracy: 0.9185\n",
            "Epoch 6/10\n",
            "144/144 [==============================] - 1s 7ms/step - loss: 0.1624 - accuracy: 0.9350\n",
            "Epoch 7/10\n",
            "144/144 [==============================] - 1s 7ms/step - loss: 0.1427 - accuracy: 0.9428\n",
            "Epoch 8/10\n",
            "144/144 [==============================] - 1s 8ms/step - loss: 0.1136 - accuracy: 0.9550\n",
            "Epoch 9/10\n",
            "144/144 [==============================] - 1s 10ms/step - loss: 0.1506 - accuracy: 0.9482\n",
            "Epoch 10/10\n",
            "144/144 [==============================] - 1s 10ms/step - loss: 0.1021 - accuracy: 0.9643\n",
            "Model: \"sequential_156\"\n",
            "_________________________________________________________________\n",
            " Layer (type)                Output Shape              Param #   \n",
            "=================================================================\n",
            " conv2d_630 (Conv2D)         (None, 64, 64, 32)        896       \n",
            "                                                                 \n",
            " max_pooling2d_630 (MaxPooli  (None, 32, 32, 32)       0         \n",
            " ng2D)                                                           \n",
            "                                                                 \n",
            " conv2d_631 (Conv2D)         (None, 32, 32, 32)        9248      \n",
            "                                                                 \n",
            " max_pooling2d_631 (MaxPooli  (None, 16, 16, 32)       0         \n",
            " ng2D)                                                           \n",
            "                                                                 \n",
            " conv2d_632 (Conv2D)         (None, 16, 16, 32)        9248      \n",
            "                                                                 \n",
            " max_pooling2d_632 (MaxPooli  (None, 8, 8, 32)         0         \n",
            " ng2D)                                                           \n",
            "                                                                 \n",
            " conv2d_633 (Conv2D)         (None, 8, 8, 64)          18496     \n",
            "                                                                 \n",
            " max_pooling2d_633 (MaxPooli  (None, 4, 4, 64)         0         \n",
            " ng2D)                                                           \n",
            "                                                                 \n",
            " conv2d_634 (Conv2D)         (None, 4, 4, 64)          36928     \n",
            "                                                                 \n",
            " max_pooling2d_634 (MaxPooli  (None, 2, 2, 64)         0         \n",
            " ng2D)                                                           \n",
            "                                                                 \n",
            " flatten_156 (Flatten)       (None, 256)               0         \n",
            "                                                                 \n",
            " dropout_312 (Dropout)       (None, 256)               0         \n",
            "                                                                 \n",
            " dense_312 (Dense)           (None, 512)               131584    \n",
            "                                                                 \n",
            " dropout_313 (Dropout)       (None, 512)               0         \n",
            "                                                                 \n",
            " dense_313 (Dense)           (None, 3)                 1539      \n",
            "                                                                 \n",
            "=================================================================\n",
            "Total params: 207,939\n",
            "Trainable params: 207,939\n",
            "Non-trainable params: 0\n",
            "_________________________________________________________________\n"
          ]
        }
      ]
    },
    {
      "cell_type": "code",
      "source": [
        "%cd /content/drive/MyDrive/aiffel/rock_scissor_paper/rock_test\n",
        "!unzip -qq \"/content/drive/MyDrive/aiffel/rock_scissor_paper/Rock_test.zip\""
      ],
      "metadata": {
        "colab": {
          "base_uri": "https://localhost:8080/"
        },
        "id": "H5VDwELlDQfE",
        "outputId": "10b1b25c-04d5-4197-b6aa-2adf98ce09bb"
      },
      "execution_count": 16,
      "outputs": [
        {
          "output_type": "stream",
          "name": "stdout",
          "text": [
            "/content/drive/MyDrive/aiffel/rock_scissor_paper/rock_test\n",
            "replace 0.jpg? [y]es, [n]o, [A]ll, [N]one, [r]ename: "
          ]
        }
      ]
    },
    {
      "cell_type": "code",
      "source": [
        "%cd /content/drive/MyDrive/aiffel/rock_scissor_paper/paper_test\n",
        "!unzip -qq \"/content/drive/MyDrive/aiffel/rock_scissor_paper/Paper_test.zip\""
      ],
      "metadata": {
        "colab": {
          "base_uri": "https://localhost:8080/"
        },
        "id": "2HrgTD_4DVmk",
        "outputId": "59764efa-d7f3-4f6f-dc1d-6f521e12e420"
      },
      "execution_count": 17,
      "outputs": [
        {
          "output_type": "stream",
          "name": "stdout",
          "text": [
            "/content/drive/MyDrive/aiffel/rock_scissor_paper/paper_test\n",
            "replace 0.jpg? [y]es, [n]o, [A]ll, [N]one, [r]ename: "
          ]
        }
      ]
    },
    {
      "cell_type": "code",
      "source": [
        "%cd /content/drive/MyDrive/aiffel/rock_scissor_paper/scissor_test\n",
        "!unzip -qq \"/content/drive/MyDrive/aiffel/rock_scissor_paper/Scissor_test.zip\""
      ],
      "metadata": {
        "colab": {
          "base_uri": "https://localhost:8080/"
        },
        "id": "uoISyngeDVql",
        "outputId": "99734df7-7e0d-49ee-e430-68a237eec652"
      },
      "execution_count": 18,
      "outputs": [
        {
          "output_type": "stream",
          "name": "stdout",
          "text": [
            "/content/drive/MyDrive/aiffel/rock_scissor_paper/scissor_test\n",
            "replace 0.jpg? [y]es, [n]o, [A]ll, [N]one, [r]ename: "
          ]
        }
      ]
    },
    {
      "cell_type": "markdown",
      "source": [
        "* x_test, y_test 데이터 생성"
      ],
      "metadata": {
        "id": "bKbgy1qcpBST"
      }
    },
    {
      "cell_type": "code",
      "source": [
        "# x_test, y_test를 만드는 방법은 x_train, y_train을 만드는 방법과 아주 유사합니다.\n",
        "\n",
        "def resize_images(img_path):\n",
        "\timages=glob.glob(img_path + \"/*.png\")\n",
        "\n",
        "\tprint(len(images), \" images to be resized.\")\n",
        "\n",
        "    # 파일마다 모두 64x64 사이즈로 바꾸어 저장합니다.\n",
        "\ttarget_size=(64,64)\n",
        "\tfor img in images:\n",
        "\t\told_img=Image.open(img).convert(\"RGB\")\n",
        "\t\tnew_img=old_img.resize(target_size,Image.ANTIALIAS)\n",
        "\t\tnew_img.save(img, \"PNG\")\n",
        "\n",
        "\tprint(len(images), \" images resized.\")\n",
        "\n",
        "# 가위 이미지가 저장된 디렉토리 아래의 모든 jpg 파일을 읽어들여서\n",
        "image_dir_path = \"/content/drive/MyDrive/aiffel/rock_scissor_paper/test/rock\"\n",
        "resize_images(image_dir_path)\n",
        "\n",
        "print(\"바위 이미지 resize 완료!\")\n",
        "\n",
        "image_dir_path = \"/content/drive/MyDrive/aiffel/rock_scissor_paper/test/scissors\"\n",
        "resize_images(image_dir_path)\n",
        "\n",
        "print(\"가위 이미지 resize 완료!\")\n",
        "\n",
        "image_dir_path = \"/content/drive/MyDrive/aiffel/rock_scissor_paper/test/paper\"\n",
        "resize_images(image_dir_path)\n",
        "\n",
        "print(\"보 이미지 resize 완료!\")\n",
        "\n",
        "def load_data(img_path, number_of_data=372):  # 가위바위보 이미지 개수 총합에 주의하세요.\n",
        "    # 가위 : 0, 바위 : 1, 보 : 2\n",
        "    img_size=64\n",
        "    color=3\n",
        "    #이미지 데이터와 라벨(가위 : 0, 바위 : 1, 보 : 2) 데이터를 담을 행렬(matrix) 영역을 생성합니다.\n",
        "    imgs=np.zeros(number_of_data*img_size*img_size*color,dtype=np.int32).reshape(number_of_data,img_size,img_size,color)\n",
        "    labels=np.zeros(number_of_data,dtype=np.int32)\n",
        "\n",
        "    idx=0\n",
        "    for file in glob.iglob(img_path+'/scissor/*.png'):\n",
        "        img = np.array(Image.open(file),dtype=np.int32)\n",
        "        imgs[idx,:,:,:]=img    # 데이터 영역에 이미지 행렬을 복사\n",
        "        labels[idx]=0   # 가위 : 0\n",
        "        idx=idx+1\n",
        "\n",
        "    for file in glob.iglob(img_path+'/rock/*.png'):\n",
        "        img = np.array(Image.open(file),dtype=np.int32)\n",
        "        imgs[idx,:,:,:]=img    # 데이터 영역에 이미지 행렬을 복사\n",
        "        labels[idx]=1   # 바위 : 1\n",
        "        idx=idx+1\n",
        "\n",
        "    for file in glob.iglob(img_path+'/paper/*.png'):\n",
        "        img = np.array(Image.open(file),dtype=np.int32)\n",
        "        imgs[idx,:,:,:]=img    # 데이터 영역에 이미지 행렬을 복사\n",
        "        labels[idx]=2   # 보 : 2\n",
        "        idx=idx+1\n",
        "\n",
        "    print(\"테스트 데이터(x_test)의 이미지 개수는\", idx,\"입니다.\")\n",
        "    return imgs, labels\n",
        "\n",
        "image_dir_path =  \"/content/drive/MyDrive/aiffel/rock_scissor_paper/test\"\n",
        "(x_test, y_test)=load_data(image_dir_path)\n",
        "x_test_norm = x_test/255.0   # 입력은 0~1 사이의 값으로 정규화\n",
        "\n",
        "print(\"x_test shape: {}\".format(x_test.shape))\n",
        "print(\"y_test shape: {}\".format(y_test.shape))"
      ],
      "metadata": {
        "colab": {
          "base_uri": "https://localhost:8080/"
        },
        "id": "xjRnCgNwC5h-",
        "outputId": "bba92701-3327-4c53-84be-7640b0c12a1d"
      },
      "execution_count": 90,
      "outputs": [
        {
          "output_type": "stream",
          "name": "stdout",
          "text": [
            "124  images to be resized.\n"
          ]
        },
        {
          "output_type": "stream",
          "name": "stderr",
          "text": [
            "<ipython-input-90-ed8aebda7bb8>:12: DeprecationWarning: ANTIALIAS is deprecated and will be removed in Pillow 10 (2023-07-01). Use LANCZOS or Resampling.LANCZOS instead.\n",
            "  new_img=old_img.resize(target_size,Image.ANTIALIAS)\n"
          ]
        },
        {
          "output_type": "stream",
          "name": "stdout",
          "text": [
            "124  images resized.\n",
            "바위 이미지 resize 완료!\n",
            "124  images to be resized.\n",
            "124  images resized.\n",
            "가위 이미지 resize 완료!\n",
            "124  images to be resized.\n",
            "124  images resized.\n",
            "보 이미지 resize 완료!\n",
            "테스트 데이터(x_test)의 이미지 개수는 248 입니다.\n",
            "x_test shape: (372, 64, 64, 3)\n",
            "y_test shape: (372,)\n"
          ]
        }
      ]
    },
    {
      "cell_type": "markdown",
      "source": [
        "* 검증 데이터를 이용해 모델 검증, 정확도가 92퍼센트정도로 나오는 것을 볼수있다."
      ],
      "metadata": {
        "id": "aPQpgysJpKKN"
      }
    },
    {
      "cell_type": "code",
      "source": [
        "# model을 학습시키는 코드를 직접 작성해 보세요.\n",
        "# Hint! model.evaluate()을 사용해 봅시다.\n",
        "test_loss, test_accuracy = model.evaluate(x_test, y_test, verbose=2)\n",
        "print(f\"test_loss: {test_loss} \")\n",
        "print(f\"test_accuracy: {test_accuracy}\")"
      ],
      "metadata": {
        "colab": {
          "base_uri": "https://localhost:8080/"
        },
        "id": "jveWRn4RFFIv",
        "outputId": "98361a96-74b7-4851-a7cd-045797fefdfe"
      },
      "execution_count": 91,
      "outputs": [
        {
          "output_type": "stream",
          "name": "stdout",
          "text": [
            "12/12 - 0s - loss: 0.4643 - accuracy: 0.9220 - 226ms/epoch - 19ms/step\n",
            "test_loss: 0.4643009901046753 \n",
            "test_accuracy: 0.9220430254936218\n"
          ]
        }
      ]
    }
  ]
}