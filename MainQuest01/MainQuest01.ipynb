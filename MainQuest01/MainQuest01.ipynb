{
  "nbformat": 4,
  "nbformat_minor": 0,
  "metadata": {
    "colab": {
      "provenance": [],
      "authorship_tag": "ABX9TyMtHkjkkrvYhB2qxtv/+AQ4",
      "include_colab_link": true
    },
    "kernelspec": {
      "name": "python3",
      "display_name": "Python 3"
    },
    "language_info": {
      "name": "python"
    }
  },
  "cells": [
    {
      "cell_type": "markdown",
      "metadata": {
        "id": "view-in-github",
        "colab_type": "text"
      },
      "source": [
        "<a href=\"https://colab.research.google.com/github/5655530/AIFFEL_CORE_QUEST/blob/main/MainQuest01/MainQuest01.ipynb\" target=\"_parent\"><img src=\"https://colab.research.google.com/assets/colab-badge.svg\" alt=\"Open In Colab\"/></a>"
      ]
    },
    {
      "cell_type": "code",
      "execution_count": 2,
      "metadata": {
        "colab": {
          "base_uri": "https://localhost:8080/"
        },
        "id": "EVdQojGlc9Y4",
        "outputId": "00c852f7-53d4-413e-d37e-25fa4329c9c4"
      },
      "outputs": [
        {
          "output_type": "stream",
          "name": "stdout",
          "text": [
            "예금주의 이름을 입력해 주세요: 파이썬\n",
            "초기 잔액을 입력해 주세요: 10000\n",
            "예금주의 이름을 입력해 주세요: 파이파이썬\n",
            "초기 잔액을 입력해 주세요: 100000000\n",
            "예금주의 이름을 입력해 주세요: 파이파이파이썬\n",
            "초기 잔액을 입력해 주세요: 1000000\n",
            "입금하실 금액을 입력해주세요.: 10000\n",
            "입금하실 금액을 입력해주세요.: 20000\n",
            "입금하실 금액을 입력해주세요.: 30000\n",
            "입금하실 금액을 입력해주세요.: 10000\n",
            "입금하실 금액을 입력해주세요.: 2000\n",
            "출금할 금액을 입력해주세요.: 3000\n",
            "출금할 금액을 입력해주세요.: 2000\n",
            "[{'찾으신 금액': 3000, '잔액': 79820}, {'찾으신 금액': 2000, '잔액': 77820}]\n",
            "[{'맡기신 금액': 10000, '잔액': 20000}, {'맡기신 금액': 20000, '잔액': 40000}, {'맡기신 금액': 30000, '잔액': 70000}, {'맡기신 금액': 10000, '잔액': 80000}, {'맡기신 금액': 2000, '잔액': 82820}]\n",
            "은행이름: SC은행, 예금주: 파이썬, 계좌번호: 710-91-366098, 잔고: 77,820\n",
            "은행이름: SC은행, 예금주: 파이파이썬, 계좌번호: 662-71-311128, 잔고: 100,000,000\n",
            "은행이름: SC은행, 예금주: 파이파이파이썬, 계좌번호: 178-67-840116, 잔고: 1,000,000\n",
            "{'은행이름': 'SC은행', '예금주': '파이파이썬', '계좌번호': '662-71-311128', '잔고': 100000000}\n",
            "{'은행이름': 'SC은행', '예금주': '파이파이파이썬', '계좌번호': '178-67-840116', '잔고': 1000000}\n"
          ]
        }
      ],
      "source": [
        "import random as r\n",
        "\n",
        "def generate_account_num(): #계좌번호 생성 메서드\n",
        "    part1 = ''.join([str(r.randint(0, 9)) for _ in range(3)])\n",
        "    part2 = ''.join([str(r.randint(0, 9)) for _ in range(2)])\n",
        "    part3 = ''.join([str(r.randint(0, 9)) for _ in range(6)])\n",
        "\n",
        "    return f\"{part1}-{part2}-{part3}\"\n",
        "\n",
        "\n",
        "class Account :\n",
        "    acc_count = 0\n",
        "    deposit_count = 0\n",
        "    Acc = []\n",
        "    def __init__(self) : #고객 정보 생성\n",
        "        self.bank_name = \"SC은행\"\n",
        "        self.gold_master = input(\"예금주의 이름을 입력해 주세요: \")\n",
        "        self.start_gold = int(input(\"초기 잔액을 입력해 주세요: \"))\n",
        "        self.account = generate_account_num()\n",
        "        self.deposit_his = []\n",
        "        self.withdraw_his = []\n",
        "        self.deposit_count = 0\n",
        "        Account.acc_count += 1\n",
        "\n",
        "\n",
        "    def deposit(self): #예금 메서드\n",
        "        new_gold = 0\n",
        "        while new_gold < 1:\n",
        "            new_gold = int(input(\"입금하실 금액을 입력해주세요.: \")) #예치할 금액 입력\n",
        "            if new_gold < 1: #입금할 금액이 1보다 작을시\n",
        "                print(\"입금할 금액이 너무 적습니다.\")\n",
        "            else :\n",
        "                self.start_gold += new_gold\n",
        "                self.deposit_count += 1\n",
        "\n",
        "            if self.deposit_count % 5 == 0: #예금횟수가 5회 이상일 경우 이자지급\n",
        "                self.start_gold += int(self.start_gold*0.01)\n",
        "        self.deposit_his.append({\"맡기신 금액\" : new_gold, \"잔액\" : self.start_gold}) #입금내역 기록\n",
        "\n",
        "\n",
        "    def withdraw(self): #출금 메서드\n",
        "        out_gold = self.start_gold + 1\n",
        "        while out_gold > self.start_gold:\n",
        "            out_gold = int(input(\"출금할 금액을 입력해주세요.: \")) #출금할 금액 입력\n",
        "            if out_gold > self.start_gold: #출금할 금액이 예치금보다 클경우\n",
        "                print(\"출금할 금액이 계좌의 잔고보다 클 수 없습니다.\")\n",
        "            else :\n",
        "                self.start_gold -= out_gold\n",
        "        self.withdraw_his.append({\"찾으신 금액\" : out_gold, \"잔액\" : self.start_gold}) #출금내역 기록\n",
        "\n",
        "\n",
        "    def display_info(self): #생성한 인스턴스 출력 및 리스트에 저장\n",
        "        display_gold = format(self.start_gold,',d')\n",
        "        display = f\"은행이름: {self.bank_name}, 예금주: {self.gold_master}, 계좌번호: {self.account}, 잔고: {display_gold}\"\n",
        "        Account.Acc.append({\"은행이름\": self.bank_name, \"예금주\":self.gold_master, \"계좌번호\": self.account, \"잔고\": self.start_gold}) #생성한 인스턴스 리스트에 저장\n",
        "        print(display) #생성한 인스턴스 출력\n",
        "\n",
        "\n",
        "    def deposit_history(self): #입금 내역 출력\n",
        "        if len(self.deposit_his) != 0:\n",
        "            print(self.deposit_his)\n",
        "        else : #입금 내역이 없을 시 내역없음 출력\n",
        "            print(\"입금내역이 없습니다.\")\n",
        "\n",
        "\n",
        "    def withdraw_history(self): #출금 내역 출력\n",
        "        if len(self.withdraw_his) != 0:\n",
        "            print(self.withdraw_his)\n",
        "        else : #출금 내역이 없을 시 내역없음 출력\n",
        "            print(\"출금내역이 없습니다.\")\n",
        "\n",
        "\n",
        "def get_account_num() : #생성된 계좌의 갯수 출력 메서드\n",
        "    print(Account.acc_count)\n",
        "\n",
        "\n",
        "a = Account()\n",
        "b = Account()\n",
        "c = Account()\n",
        "a.deposit()\n",
        "a.deposit()\n",
        "a.deposit()\n",
        "a.deposit()\n",
        "a.deposit()\n",
        "a.withdraw()\n",
        "a.withdraw()\n",
        "a.withdraw_history()\n",
        "a.deposit_history()\n",
        "a.display_info()\n",
        "b.display_info()\n",
        "c.display_info()\n",
        "generate_account_num()\n",
        "\n",
        "for result in Account.Acc:\n",
        "    if result[\"잔고\"] >= 1000000:\n",
        "        print(result)\n",
        "    else :\n",
        "        continue\n"
      ]
    }
  ]
}