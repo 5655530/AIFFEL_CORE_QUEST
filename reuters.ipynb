{
  "nbformat": 4,
  "nbformat_minor": 0,
  "metadata": {
    "colab": {
      "provenance": [],
      "authorship_tag": "ABX9TyOkDy9tETWdHcKX7zTemGj1",
      "include_colab_link": true
    },
    "kernelspec": {
      "name": "python3",
      "display_name": "Python 3"
    },
    "language_info": {
      "name": "python"
    }
  },
  "cells": [
    {
      "cell_type": "markdown",
      "metadata": {
        "id": "view-in-github",
        "colab_type": "text"
      },
      "source": [
        "<a href=\"https://colab.research.google.com/github/5655530/AIFFEL_CORE_QUEST/blob/main/reuters.ipynb\" target=\"_parent\"><img src=\"https://colab.research.google.com/assets/colab-badge.svg\" alt=\"Open In Colab\"/></a>"
      ]
    },
    {
      "cell_type": "markdown",
      "source": [
        "##**데이터 로드 및 전처리**\n",
        "---\n",
        "* reuters 데이터셋을 로드하고, 훈련 데이터셋에서 25%를 검증 데이터셋으로 분리합니다. 데이터셋은 keras.datasets에서 불러올 수 있는 reuters 데이터 셋을 활용하고, 이때 파라메터 조정을 통해 단어의 개수는 10000개로 제한합니다(num_words=10000).\n",
        "* 데이터셋 분리 작업에서는 sklearn 라이브러리의 train_test_split 함수를 활용합니다.\n",
        "* 훈련, 검증, 테스트 데이터와 레이블 종류가 몇개인지 출력합니다."
      ],
      "metadata": {
        "id": "66KvIkvuCmoz"
      }
    },
    {
      "cell_type": "code",
      "execution_count": 1,
      "metadata": {
        "id": "oToXNxBtCf4x"
      },
      "outputs": [],
      "source": [
        "import numpy as np\n",
        "import matplotlib.pyplot as plt\n",
        "from sklearn.model_selection import train_test_split\n",
        "\n",
        "from tensorflow.keras import models, layers\n",
        "from tensorflow.keras import callbacks\n",
        "from tensorflow.keras import utils\n",
        "from keras.datasets import reuters"
      ]
    },
    {
      "cell_type": "code",
      "source": [
        "# 문제 2-1: reuters 데이터셋을 로드하고, 훈련 데이터셋에서 25%를 검증 데이터셋으로 분리합니다.\n",
        "from keras.datasets import reuters\n",
        "import numpy as np\n",
        "\n",
        "(x_train_full, y_train_full), (x_test, y_test) = reuters.load_data(num_words = 10000)\n",
        "\n",
        "x_train, x_val, y_train, y_val = train_test_split(x_train_full, y_train_full,\n",
        "                                                  test_size=0.25,\n",
        "                                                  random_state=123)\n",
        "\n",
        "print(f\"전체 학습 데이터: {x_train_full.shape} 레이블: {y_train_full.shape}\")\n",
        "print(f\"학습 데이터: {x_train.shape} 레이블: {y_train.shape}\")\n",
        "print(f\"검증 데이터: {x_val.shape} 레이블: {y_val.shape}\")\n",
        "print(f\"테스트 데이터: {x_test.shape} 레이블: {y_test.shape}\")"
      ],
      "metadata": {
        "colab": {
          "base_uri": "https://localhost:8080/"
        },
        "id": "aSjfRFUaC33O",
        "outputId": "c416e212-5b24-499d-f1c0-37904d7ca99e"
      },
      "execution_count": 18,
      "outputs": [
        {
          "output_type": "stream",
          "name": "stdout",
          "text": [
            "전체 학습 데이터: (8982,) 레이블: (8982,)\n",
            "학습 데이터: (6736,) 레이블: (6736,)\n",
            "검증 데이터: (2246,) 레이블: (2246,)\n",
            "테스트 데이터: (2246,) 레이블: (2246,)\n"
          ]
        }
      ]
    },
    {
      "cell_type": "markdown",
      "source": [
        "* 텍스트 데이터의 전처리를 위해서 각 데이터셋마다 원-핫 인코딩을 수행합니다. 원-핫 인코딩 함수를 직접 만들어보세요.\n",
        "* 레이블 데이터들은 범주형 형태로 to_categorical() 함수를 사용해 변환합니다."
      ],
      "metadata": {
        "id": "ECuPs5joD1Kd"
      }
    },
    {
      "cell_type": "code",
      "source": [
        "# 문제 2-2: 텍스트 데이터의 전처리를 위해서 각 데이터셋마다 원-핫 인코딩을 수행합니다.\n",
        "def one_hot_encoding(data, dim=10000):\n",
        "  results = np.zeros((len(data), dim))\n",
        "  for i, d in enumerate(data):\n",
        "    results[i, d] = 1.\n",
        "  return results\n",
        "\n",
        "x_train = one_hot_encoding(train_data)\n",
        "x_test = one_hot_encoding(test_data)\n",
        "\n",
        "# 레이블 데이터들은 범주형 형태로 to_categorical() 함수를 사용해 변환합니다.\n",
        "from tensorflow.keras import utils\n",
        "\n",
        "y_train = utils.to_categorical(train_labels)\n",
        "y_test = utils.to_categorical(test_labels)"
      ],
      "metadata": {
        "id": "mLcHZ-tCDILG"
      },
      "execution_count": 19,
      "outputs": []
    },
    {
      "cell_type": "markdown",
      "source": [
        "##**모델 구성 및 컴파일**\n",
        "---\n",
        "* BatchNormalization과 Dropout을 적용하여 빠르게 학습하면서 과대적합을 방지하고, 46개의 뉴스 주제를 분류하는 딥러닝 모델을 구성합니다"
      ],
      "metadata": {
        "id": "aC7n0oiZER8T"
      }
    },
    {
      "cell_type": "code",
      "source": [
        "# 문제 2-3: 빠른 학습과 과대적합을 방지하기 위해 BatchNormalization과 Dropout을 적용한 딥러닝 모델을 구성합니다.\n",
        "import tensorflow as tf\n",
        "from tensorflow.keras import models, layers\n",
        "\n",
        "model = models.Sequential()\n",
        "model.add(layers.Dense(128, activation='relu', input_shape=(10000, ), name='input'))\n",
        "model.add(layers.Dense(128, activation='relu', name='hidden'))\n",
        "model.add(layers.Dense(46, activation='softmax', name='output'))\n",
        "\n",
        "model.compile(optimizer='rmsprop',\n",
        "              loss='categorical_crossentropy',\n",
        "              metrics=['accuracy'])"
      ],
      "metadata": {
        "id": "_NLkdBkfEQEW"
      },
      "execution_count": 20,
      "outputs": []
    },
    {
      "cell_type": "code",
      "source": [
        "model.summary()"
      ],
      "metadata": {
        "colab": {
          "base_uri": "https://localhost:8080/"
        },
        "id": "ohVpkz5cEvM-",
        "outputId": "4d5a8c31-cfa9-4d20-b3c4-1f0fa730bb50"
      },
      "execution_count": 21,
      "outputs": [
        {
          "output_type": "stream",
          "name": "stdout",
          "text": [
            "Model: \"sequential_3\"\n",
            "_________________________________________________________________\n",
            " Layer (type)                Output Shape              Param #   \n",
            "=================================================================\n",
            " input (Dense)               (None, 128)               1280128   \n",
            "                                                                 \n",
            " hidden (Dense)              (None, 128)               16512     \n",
            "                                                                 \n",
            " output (Dense)              (None, 46)                5934      \n",
            "                                                                 \n",
            "=================================================================\n",
            "Total params: 1,302,574\n",
            "Trainable params: 1,302,574\n",
            "Non-trainable params: 0\n",
            "_________________________________________________________________\n"
          ]
        }
      ]
    },
    {
      "cell_type": "markdown",
      "source": [
        "##**모델 학습**\n",
        "---\n",
        "* ModelCheckpoint와 EarlyStopping 콜백 함수를 적용하여 모델 학습을 진행합니다."
      ],
      "metadata": {
        "id": "AzuL0D6rE0nD"
      }
    },
    {
      "cell_type": "code",
      "source": [
        "# 문제 2-4: ModelCheckpoint와 EarlyStopping 콜백 함수를 적용하여 모델 학습을 진행합니다.\n",
        "from tensorflow.keras import callbacks\n",
        "\n",
        "check_point_cb = callbacks.ModelCheckpoint('fashion_mnist_model.h5',\n",
        "                                           save_best_only=True)\n",
        "early_stopping_cb = callbacks.EarlyStopping(patience=10,\n",
        "                                            monitor='val_loss',\n",
        "                                            restore_best_weights=True)\n",
        "history = model.fit(x_train, y_train,\n",
        "                    epochs=40,\n",
        "                    batch_size=512,\n",
        "                    validation_data=(x_test, y_test),\n",
        "                    callbacks=[check_point_cb, early_stopping_cb])"
      ],
      "metadata": {
        "colab": {
          "base_uri": "https://localhost:8080/"
        },
        "id": "YEMccoRGExVR",
        "outputId": "4d71c313-7f7d-4fc2-9310-237617c9b30d"
      },
      "execution_count": 22,
      "outputs": [
        {
          "output_type": "stream",
          "name": "stdout",
          "text": [
            "Epoch 1/40\n",
            "18/18 [==============================] - 3s 130ms/step - loss: 2.2561 - accuracy: 0.5415 - val_loss: 1.5337 - val_accuracy: 0.6603\n",
            "Epoch 2/40\n",
            "18/18 [==============================] - 2s 134ms/step - loss: 1.2766 - accuracy: 0.7179 - val_loss: 1.2384 - val_accuracy: 0.7235\n",
            "Epoch 3/40\n",
            "18/18 [==============================] - 2s 128ms/step - loss: 0.9569 - accuracy: 0.7918 - val_loss: 1.0704 - val_accuracy: 0.7627\n",
            "Epoch 4/40\n",
            "18/18 [==============================] - 2s 90ms/step - loss: 0.7395 - accuracy: 0.8386 - val_loss: 0.9941 - val_accuracy: 0.7809\n",
            "Epoch 5/40\n",
            "18/18 [==============================] - 2s 92ms/step - loss: 0.5755 - accuracy: 0.8756 - val_loss: 0.9338 - val_accuracy: 0.7850\n",
            "Epoch 6/40\n",
            "18/18 [==============================] - 2s 88ms/step - loss: 0.4605 - accuracy: 0.9006 - val_loss: 0.9243 - val_accuracy: 0.7867\n",
            "Epoch 7/40\n",
            "18/18 [==============================] - 2s 91ms/step - loss: 0.3596 - accuracy: 0.9244 - val_loss: 0.8958 - val_accuracy: 0.7956\n",
            "Epoch 8/40\n",
            "18/18 [==============================] - 2s 93ms/step - loss: 0.3030 - accuracy: 0.9320 - val_loss: 0.8782 - val_accuracy: 0.7988\n",
            "Epoch 9/40\n",
            "18/18 [==============================] - 2s 101ms/step - loss: 0.2642 - accuracy: 0.9379 - val_loss: 0.9088 - val_accuracy: 0.8010\n",
            "Epoch 10/40\n",
            "18/18 [==============================] - 2s 139ms/step - loss: 0.2186 - accuracy: 0.9475 - val_loss: 0.9132 - val_accuracy: 0.8019\n",
            "Epoch 11/40\n",
            "18/18 [==============================] - 3s 158ms/step - loss: 0.1957 - accuracy: 0.9493 - val_loss: 0.9292 - val_accuracy: 0.8023\n",
            "Epoch 12/40\n",
            "18/18 [==============================] - 3s 150ms/step - loss: 0.1860 - accuracy: 0.9506 - val_loss: 0.9558 - val_accuracy: 0.8010\n",
            "Epoch 13/40\n",
            "18/18 [==============================] - 2s 88ms/step - loss: 0.1666 - accuracy: 0.9503 - val_loss: 1.0186 - val_accuracy: 0.7898\n",
            "Epoch 14/40\n",
            "18/18 [==============================] - 2s 95ms/step - loss: 0.1576 - accuracy: 0.9532 - val_loss: 0.9909 - val_accuracy: 0.7965\n",
            "Epoch 15/40\n",
            "18/18 [==============================] - 2s 114ms/step - loss: 0.1578 - accuracy: 0.9527 - val_loss: 1.0047 - val_accuracy: 0.7974\n",
            "Epoch 16/40\n",
            "18/18 [==============================] - 2s 120ms/step - loss: 0.1432 - accuracy: 0.9545 - val_loss: 1.0230 - val_accuracy: 0.7965\n",
            "Epoch 17/40\n",
            "18/18 [==============================] - 2s 86ms/step - loss: 0.1389 - accuracy: 0.9568 - val_loss: 1.0094 - val_accuracy: 0.8010\n",
            "Epoch 18/40\n",
            "18/18 [==============================] - 1s 82ms/step - loss: 0.1351 - accuracy: 0.9538 - val_loss: 0.9975 - val_accuracy: 0.8037\n"
          ]
        }
      ]
    },
    {
      "cell_type": "code",
      "source": [
        "# 학습 히스토리의 `loss`, `val_loss`, `accuracy`, `val_accuracy`를 차트로 시각화합니다.\n",
        "plt.style.use('seaborn-white')\n",
        "\n",
        "history_dict = history.history\n",
        "\n",
        "loss = history_dict['loss']\n",
        "val_loss = history_dict['val_loss']\n",
        "\n",
        "epochs = range(1, len(loss) + 1)\n",
        "fig = plt.figure(figsize=(12, 5))\n",
        "\n",
        "ax1 = fig.add_subplot(1, 2, 1)\n",
        "ax1.plot(epochs, loss, 'b-', label='train_loss')\n",
        "ax1.plot(epochs, val_loss, 'r-', label='val_loss')\n",
        "ax1.set_title('Train and Validation Loss')\n",
        "ax1.set_xlabel('Epochs')\n",
        "ax1.set_ylabel('Loss')\n",
        "ax1.grid()\n",
        "ax1.legend()\n",
        "\n",
        "accuracy = history_dict['accuracy']\n",
        "val_accuracy = history_dict['val_accuracy']\n",
        "\n",
        "ax2 = fig.add_subplot(1, 2, 2)\n",
        "ax2.plot(epochs, accuracy, 'b-', label='train_accuracy')\n",
        "ax2.plot(epochs, val_accuracy, 'r-', label='val_accuracy')\n",
        "ax2.set_title('Train and Validation Accuracy')\n",
        "ax2.set_xlabel('Epochs')\n",
        "ax2.set_ylabel('Accuracy')\n",
        "ax2.grid()\n",
        "ax2.legend()\n",
        "\n",
        "plt.show()"
      ],
      "metadata": {
        "colab": {
          "base_uri": "https://localhost:8080/",
          "height": 535
        },
        "id": "uQGmiZqmJgLj",
        "outputId": "4e346bff-4263-4d55-f05b-f4bd750d26c1"
      },
      "execution_count": 24,
      "outputs": [
        {
          "output_type": "stream",
          "name": "stderr",
          "text": [
            "<ipython-input-24-ef4da0309378>:2: MatplotlibDeprecationWarning: The seaborn styles shipped by Matplotlib are deprecated since 3.6, as they no longer correspond to the styles shipped by seaborn. However, they will remain available as 'seaborn-v0_8-<style>'. Alternatively, directly use the seaborn API instead.\n",
            "  plt.style.use('seaborn-white')\n"
          ]
        },
        {
          "output_type": "display_data",
          "data": {
            "text/plain": [
              "<Figure size 1200x500 with 2 Axes>"
            ],
            "image/png": "[encoded data removed]"
          },
          "metadata": {}
        }
      ]
    },
    {
      "cell_type": "markdown",
      "source": [
        "##**모델 평가 및 예측**\n",
        "---\n",
        "테스트 데이터셋을 이용해 모델을 평가합니다."
      ],
      "metadata": {
        "id": "OniwdpdVJwPF"
      }
    },
    {
      "cell_type": "code",
      "source": [
        "# 문제 2-5: 테스트 데이터셋을 이용해 모델을 평가합니다.\n",
        "model.evaluate(x_test,y_test)"
      ],
      "metadata": {
        "colab": {
          "base_uri": "https://localhost:8080/"
        },
        "id": "nzgl8YJQJsOF",
        "outputId": "20e48c1d-3736-4f1e-d673-1978c7aad0cc"
      },
      "execution_count": 25,
      "outputs": [
        {
          "output_type": "stream",
          "name": "stdout",
          "text": [
            "71/71 [==============================] - 1s 8ms/step - loss: 0.8782 - accuracy: 0.7996\n"
          ]
        },
        {
          "output_type": "execute_result",
          "data": {
            "text/plain": [
              "[0.8782187700271606, 0.7996438145637512]"
            ]
          },
          "metadata": {},
          "execution_count": 25
        }
      ]
    }
  ]
}