{
  "nbformat": 4,
  "nbformat_minor": 0,
  "metadata": {
    "colab": {
      "provenance": [],
      "authorship_tag": "ABX9TyNOSFduh+ABsHdZ5ZrjHMrD",
      "include_colab_link": true
    },
    "kernelspec": {
      "name": "python3",
      "display_name": "Python 3"
    },
    "language_info": {
      "name": "python"
    }
  },
  "cells": [
    {
      "cell_type": "markdown",
      "metadata": {
        "id": "view-in-github",
        "colab_type": "text"
      },
      "source": [
        "<a href=\"https://colab.research.google.com/github/5655530/AIFFEL_CORE_QUEST/blob/main/reuters.ipynb\" target=\"_parent\"><img src=\"https://colab.research.google.com/assets/colab-badge.svg\" alt=\"Open In Colab\"/></a>"
      ]
    },
    {
      "cell_type": "markdown",
      "source": [
        "##**데이터 로드 및 전처리**\n",
        "---\n",
        "* reuters 데이터셋을 로드하고, 훈련 데이터셋에서 25%를 검증 데이터셋으로 분리합니다. 데이터셋은 keras.datasets에서 불러올 수 있는 reuters 데이터 셋을 활용하고, 이때 파라메터 조정을 통해 단어의 개수는 10000개로 제한합니다(num_words=10000).\n",
        "* 데이터셋 분리 작업에서는 sklearn 라이브러리의 train_test_split 함수를 활용합니다.\n",
        "* 훈련, 검증, 테스트 데이터와 레이블 종류가 몇개인지 출력합니다."
      ],
      "metadata": {
        "id": "66KvIkvuCmoz"
      }
    },
    {
      "cell_type": "code",
      "execution_count": null,
      "metadata": {
        "id": "oToXNxBtCf4x"
      },
      "outputs": [],
      "source": [
        "import numpy as np\n",
        "import matplotlib.pyplot as plt\n",
        "from sklearn.model_selection import train_test_split\n",
        "\n",
        "from tensorflow.keras import models, layers\n",
        "from tensorflow.keras import callbacks\n",
        "from tensorflow.keras import utils\n",
        "from keras.datasets import reuters"
      ]
    },
    {
      "cell_type": "code",
      "source": [
        "# 문제 2-1: reuters 데이터셋을 로드하고, 훈련 데이터셋에서 25%를 검증 데이터셋으로 분리합니다.\n",
        "from keras.datasets import reuters\n",
        "import numpy as np\n",
        "\n",
        "(x_train_full, y_train_full), (x_test, y_test) = reuters.load_data(num_words = 10000)\n",
        "\n",
        "x_train, x_val, y_train, y_val = train_test_split(x_train_full, y_train_full,\n",
        "                                                  test_size=0.25,\n",
        "                                                  random_state=123)\n",
        "\n",
        "print(f\"전체 학습 데이터: {x_train_full.shape} 레이블: {y_train_full.shape}\")\n",
        "print(f\"학습 데이터: {x_train.shape} 레이블: {y_train.shape}\")\n",
        "print(f\"검증 데이터: {x_val.shape} 레이블: {y_val.shape}\")\n",
        "print(f\"테스트 데이터: {x_test.shape} 레이블: {y_test.shape}\")"
      ],
      "metadata": {
        "colab": {
          "base_uri": "https://localhost:8080/"
        },
        "id": "aSjfRFUaC33O",
        "outputId": "c416e212-5b24-499d-f1c0-37904d7ca99e"
      },
      "execution_count": null,
      "outputs": [
        {
          "output_type": "stream",
          "name": "stdout",
          "text": [
            "전체 학습 데이터: (8982,) 레이블: (8982,)\n",
            "학습 데이터: (6736,) 레이블: (6736,)\n",
            "검증 데이터: (2246,) 레이블: (2246,)\n",
            "테스트 데이터: (2246,) 레이블: (2246,)\n"
          ]
        }
      ]
    },
    {
      "cell_type": "markdown",
      "source": [
        "* 텍스트 데이터의 전처리를 위해서 각 데이터셋마다 원-핫 인코딩을 수행합니다. 원-핫 인코딩 함수를 직접 만들어보세요.\n",
        "* 레이블 데이터들은 범주형 형태로 to_categorical() 함수를 사용해 변환합니다."
      ],
      "metadata": {
        "id": "ECuPs5joD1Kd"
      }
    },
    {
      "cell_type": "code",
      "source": [
        "# 문제 2-2: 텍스트 데이터의 전처리를 위해서 각 데이터셋마다 원-핫 인코딩을 수행합니다.\n",
        "def one_hot_encoding(data, dim=10000):\n",
        "  results = np.zeros((len(data), dim))\n",
        "  for i, d in enumerate(data):\n",
        "    results[i, d] = 1.\n",
        "  return results\n",
        "\n",
        "x_train = one_hot_encoding(train_data)\n",
        "x_test = one_hot_encoding(test_data)\n",
        "\n",
        "# 레이블 데이터들은 범주형 형태로 to_categorical() 함수를 사용해 변환합니다.\n",
        "from tensorflow.keras import utils\n",
        "\n",
        "y_train = utils.to_categorical(train_labels)\n",
        "y_test = utils.to_categorical(test_labels)"
      ],
      "metadata": {
        "id": "mLcHZ-tCDILG"
      },
      "execution_count": null,
      "outputs": []
    },
    {
      "cell_type": "markdown",
      "source": [
        "##**모델 구성 및 컴파일**\n",
        "---\n",
        "* BatchNormalization과 Dropout을 적용하여 빠르게 학습하면서 과대적합을 방지하고, 46개의 뉴스 주제를 분류하는 딥러닝 모델을 구성합니다"
      ],
      "metadata": {
        "id": "aC7n0oiZER8T"
      }
    },
    {
      "cell_type": "code",
      "source": [
        "# 문제 2-3: 빠른 학습과 과대적합을 방지하기 위해 BatchNormalization과 Dropout을 적용한 딥러닝 모델을 구성합니다.\n",
        "import tensorflow as tf\n",
        "from tensorflow.keras import models, layers\n",
        "\n",
        "model = models.Sequential()\n",
        "model.add(layers.Dense(128, activation='relu', input_shape=(10000, ), name='input'))\n",
        "model.add(layers.BatchNormalization())\n",
        "model.add(layers.Dense(128, activation='relu', name='hidden'))\n",
        "model.add(layers.Dropout(0.5))\n",
        "model.add(layers.Dense(46, activation='softmax', name='output'))\n",
        "\n",
        "model.compile(optimizer='rmsprop',\n",
        "              loss='categorical_crossentropy',\n",
        "              metrics=['accuracy'])"
      ],
      "metadata": {
        "id": "_NLkdBkfEQEW"
      },
      "execution_count": null,
      "outputs": []
    },
    {
      "cell_type": "code",
      "source": [
        "model.summary()"
      ],
      "metadata": {
        "colab": {
          "base_uri": "https://localhost:8080/"
        },
        "id": "ohVpkz5cEvM-",
        "outputId": "024b5d94-ee55-45ad-e17b-247a7332fb1d"
      },
      "execution_count": null,
      "outputs": [
        {
          "output_type": "stream",
          "name": "stdout",
          "text": [
            "Model: \"sequential_4\"\n",
            "_________________________________________________________________\n",
            " Layer (type)                Output Shape              Param #   \n",
            "=================================================================\n",
            " input (Dense)               (None, 128)               1280128   \n",
            "                                                                 \n",
            " batch_normalization_3 (Batc  (None, 128)              512       \n",
            " hNormalization)                                                 \n",
            "                                                                 \n",
            " hidden (Dense)              (None, 128)               16512     \n",
            "                                                                 \n",
            " dropout_3 (Dropout)         (None, 128)               0         \n",
            "                                                                 \n",
            " output (Dense)              (None, 46)                5934      \n",
            "                                                                 \n",
            "=================================================================\n",
            "Total params: 1,303,086\n",
            "Trainable params: 1,302,830\n",
            "Non-trainable params: 256\n",
            "_________________________________________________________________\n"
          ]
        }
      ]
    },
    {
      "cell_type": "markdown",
      "source": [
        "##**모델 학습**\n",
        "---\n",
        "* ModelCheckpoint와 EarlyStopping 콜백 함수를 적용하여 모델 학습을 진행합니다."
      ],
      "metadata": {
        "id": "AzuL0D6rE0nD"
      }
    },
    {
      "cell_type": "code",
      "source": [
        "# 문제 2-4: ModelCheckpoint와 EarlyStopping 콜백 함수를 적용하여 모델 학습을 진행합니다.\n",
        "from tensorflow.keras import callbacks\n",
        "\n",
        "check_point_cb = callbacks.ModelCheckpoint('fashion_mnist_model.h5',\n",
        "                                           save_best_only=True)\n",
        "early_stopping_cb = callbacks.EarlyStopping(patience=10,\n",
        "                                            monitor='val_loss',\n",
        "                                            restore_best_weights=True)\n",
        "history = model.fit(x_train, y_train,\n",
        "                    epochs=40,\n",
        "                    batch_size=512,\n",
        "                    validation_data=(x_test, y_test),\n",
        "                    callbacks=[check_point_cb, early_stopping_cb])"
      ],
      "metadata": {
        "colab": {
          "base_uri": "https://localhost:8080/"
        },
        "id": "YEMccoRGExVR",
        "outputId": "1aeb5932-60ff-4921-8ae7-57ab33acd56e"
      },
      "execution_count": null,
      "outputs": [
        {
          "output_type": "stream",
          "name": "stdout",
          "text": [
            "Epoch 1/40\n",
            "18/18 [==============================] - 3s 109ms/step - loss: 2.0252 - accuracy: 0.5655 - val_loss: 3.1610 - val_accuracy: 0.7217\n",
            "Epoch 2/40\n",
            "18/18 [==============================] - 2s 92ms/step - loss: 0.9599 - accuracy: 0.7901 - val_loss: 2.9670 - val_accuracy: 0.7502\n",
            "Epoch 3/40\n",
            "18/18 [==============================] - 2s 96ms/step - loss: 0.6361 - accuracy: 0.8576 - val_loss: 2.7242 - val_accuracy: 0.7520\n",
            "Epoch 4/40\n",
            "18/18 [==============================] - 2s 138ms/step - loss: 0.4496 - accuracy: 0.8979 - val_loss: 2.4718 - val_accuracy: 0.7729\n",
            "Epoch 5/40\n",
            "18/18 [==============================] - 2s 95ms/step - loss: 0.3457 - accuracy: 0.9205 - val_loss: 2.1803 - val_accuracy: 0.7832\n",
            "Epoch 6/40\n",
            "18/18 [==============================] - 2s 96ms/step - loss: 0.2752 - accuracy: 0.9354 - val_loss: 1.9312 - val_accuracy: 0.7796\n",
            "Epoch 7/40\n",
            "18/18 [==============================] - 2s 93ms/step - loss: 0.2349 - accuracy: 0.9404 - val_loss: 1.7411 - val_accuracy: 0.7867\n",
            "Epoch 8/40\n",
            "18/18 [==============================] - 2s 91ms/step - loss: 0.2132 - accuracy: 0.9477 - val_loss: 1.5347 - val_accuracy: 0.7774\n",
            "Epoch 9/40\n",
            "18/18 [==============================] - 1s 84ms/step - loss: 0.1968 - accuracy: 0.9475 - val_loss: 1.3505 - val_accuracy: 0.7823\n",
            "Epoch 10/40\n",
            "18/18 [==============================] - 1s 81ms/step - loss: 0.1858 - accuracy: 0.9496 - val_loss: 1.1965 - val_accuracy: 0.7903\n",
            "Epoch 11/40\n",
            "18/18 [==============================] - 3s 143ms/step - loss: 0.1721 - accuracy: 0.9519 - val_loss: 1.1120 - val_accuracy: 0.7903\n",
            "Epoch 12/40\n",
            "18/18 [==============================] - 2s 117ms/step - loss: 0.1611 - accuracy: 0.9541 - val_loss: 1.0191 - val_accuracy: 0.7894\n",
            "Epoch 13/40\n",
            "18/18 [==============================] - 2s 96ms/step - loss: 0.1525 - accuracy: 0.9542 - val_loss: 0.9742 - val_accuracy: 0.7858\n",
            "Epoch 14/40\n",
            "18/18 [==============================] - 2s 85ms/step - loss: 0.1435 - accuracy: 0.9567 - val_loss: 0.9534 - val_accuracy: 0.7872\n",
            "Epoch 15/40\n",
            "18/18 [==============================] - 2s 113ms/step - loss: 0.1344 - accuracy: 0.9558 - val_loss: 0.9559 - val_accuracy: 0.7854\n",
            "Epoch 16/40\n",
            "18/18 [==============================] - 2s 126ms/step - loss: 0.1331 - accuracy: 0.9562 - val_loss: 0.9584 - val_accuracy: 0.7903\n",
            "Epoch 17/40\n",
            "18/18 [==============================] - 2s 109ms/step - loss: 0.1284 - accuracy: 0.9564 - val_loss: 0.9474 - val_accuracy: 0.7921\n",
            "Epoch 18/40\n",
            "18/18 [==============================] - 3s 140ms/step - loss: 0.1289 - accuracy: 0.9564 - val_loss: 0.9766 - val_accuracy: 0.7974\n",
            "Epoch 19/40\n",
            "18/18 [==============================] - 2s 86ms/step - loss: 0.1229 - accuracy: 0.9576 - val_loss: 1.0292 - val_accuracy: 0.7934\n",
            "Epoch 20/40\n",
            "18/18 [==============================] - 2s 97ms/step - loss: 0.1318 - accuracy: 0.9546 - val_loss: 1.0623 - val_accuracy: 0.7907\n",
            "Epoch 21/40\n",
            "18/18 [==============================] - 2s 85ms/step - loss: 0.1134 - accuracy: 0.9584 - val_loss: 1.0613 - val_accuracy: 0.7970\n",
            "Epoch 22/40\n",
            "18/18 [==============================] - 2s 92ms/step - loss: 0.1070 - accuracy: 0.9603 - val_loss: 1.1179 - val_accuracy: 0.7947\n",
            "Epoch 23/40\n",
            "18/18 [==============================] - 2s 90ms/step - loss: 0.1031 - accuracy: 0.9603 - val_loss: 1.1983 - val_accuracy: 0.7885\n",
            "Epoch 24/40\n",
            "18/18 [==============================] - 2s 93ms/step - loss: 0.1131 - accuracy: 0.9572 - val_loss: 1.1958 - val_accuracy: 0.8005\n",
            "Epoch 25/40\n",
            "18/18 [==============================] - 3s 147ms/step - loss: 0.1091 - accuracy: 0.9572 - val_loss: 1.2504 - val_accuracy: 0.7970\n",
            "Epoch 26/40\n",
            "18/18 [==============================] - 2s 86ms/step - loss: 0.1072 - accuracy: 0.9587 - val_loss: 1.2720 - val_accuracy: 0.7947\n",
            "Epoch 27/40\n",
            "18/18 [==============================] - 2s 98ms/step - loss: 0.1055 - accuracy: 0.9585 - val_loss: 1.3612 - val_accuracy: 0.7921\n"
          ]
        }
      ]
    },
    {
      "cell_type": "code",
      "source": [
        "# 학습 히스토리의 `loss`, `val_loss`, `accuracy`, `val_accuracy`를 차트로 시각화합니다.\n",
        "plt.style.use('seaborn-white')\n",
        "\n",
        "history_dict = history.history\n",
        "\n",
        "loss = history_dict['loss']\n",
        "val_loss = history_dict['val_loss']\n",
        "\n",
        "epochs = range(1, len(loss) + 1)\n",
        "fig = plt.figure(figsize=(12, 5))\n",
        "\n",
        "ax1 = fig.add_subplot(1, 2, 1)\n",
        "ax1.plot(epochs, loss, 'b-', label='train_loss')\n",
        "ax1.plot(epochs, val_loss, 'r-', label='val_loss')\n",
        "ax1.set_title('Train and Validation Loss')\n",
        "ax1.set_xlabel('Epochs')\n",
        "ax1.set_ylabel('Loss')\n",
        "ax1.grid()\n",
        "ax1.legend()\n",
        "\n",
        "accuracy = history_dict['accuracy']\n",
        "val_accuracy = history_dict['val_accuracy']\n",
        "\n",
        "ax2 = fig.add_subplot(1, 2, 2)\n",
        "ax2.plot(epochs, accuracy, 'b-', label='train_accuracy')\n",
        "ax2.plot(epochs, val_accuracy, 'r-', label='val_accuracy')\n",
        "ax2.set_title('Train and Validation Accuracy')\n",
        "ax2.set_xlabel('Epochs')\n",
        "ax2.set_ylabel('Accuracy')\n",
        "ax2.grid()\n",
        "ax2.legend()\n",
        "\n",
        "plt.show()"
      ],
      "metadata": {
        "colab": {
          "base_uri": "https://localhost:8080/",
          "height": 535
        },
        "id": "uQGmiZqmJgLj",
        "outputId": "f74cba85-f8c7-46b3-dd79-6c79b4961b37"
      },
      "execution_count": null,
      "outputs": [
        {
          "output_type": "stream",
          "name": "stderr",
          "text": [
            "<ipython-input-31-ef4da0309378>:2: MatplotlibDeprecationWarning: The seaborn styles shipped by Matplotlib are deprecated since 3.6, as they no longer correspond to the styles shipped by seaborn. However, they will remain available as 'seaborn-v0_8-<style>'. Alternatively, directly use the seaborn API instead.\n",
            "  plt.style.use('seaborn-white')\n"
          ]
        },
        {
          "output_type": "display_data",
          "data": {
            "text/plain": [
              "<Figure size 1200x500 with 2 Axes>"
            ],
            "image/png": "[encoded data removed]"
          },
          "metadata": {}
        }
      ]
    },
    {
      "cell_type": "markdown",
      "source": [
        "##**모델 평가 및 예측**\n",
        "---\n",
        "테스트 데이터셋을 이용해 모델을 평가합니다."
      ],
      "metadata": {
        "id": "OniwdpdVJwPF"
      }
    },
    {
      "cell_type": "code",
      "source": [
        "# 문제 2-5: 테스트 데이터셋을 이용해 모델을 평가합니다.\n",
        "model.evaluate(x_test,y_test)"
      ],
      "metadata": {
        "colab": {
          "base_uri": "https://localhost:8080/"
        },
        "id": "nzgl8YJQJsOF",
        "outputId": "5c82c20e-113b-4fbd-f923-193357cbd039"
      },
      "execution_count": null,
      "outputs": [
        {
          "output_type": "stream",
          "name": "stdout",
          "text": [
            "71/71 [==============================] - 1s 7ms/step - loss: 0.9474 - accuracy: 0.7921\n"
          ]
        },
        {
          "output_type": "execute_result",
          "data": {
            "text/plain": [
              "[0.9474030137062073, 0.7920747995376587]"
            ]
          },
          "metadata": {},
          "execution_count": 32
        }
      ]
    }
  ]
}