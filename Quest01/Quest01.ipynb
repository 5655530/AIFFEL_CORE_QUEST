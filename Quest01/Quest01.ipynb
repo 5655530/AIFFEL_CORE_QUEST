{
  "nbformat": 4,
  "nbformat_minor": 0,
  "metadata": {
    "colab": {
      "provenance": [],
      "authorship_tag": "ABX9TyNz7nCuiGC+pq1D2ty3Ytu+",
      "include_colab_link": true
    },
    "kernelspec": {
      "name": "python3",
      "display_name": "Python 3"
    },
    "language_info": {
      "name": "python"
    }
  },
  "cells": [
    {
      "cell_type": "markdown",
      "metadata": {
        "id": "view-in-github",
        "colab_type": "text"
      },
      "source": [
        "<a href=\"https://colab.research.google.com/github/5655530/AIFFEL_CORE_QUEST/blob/main/Quest01/Quest01.ipynb\" target=\"_parent\"><img src=\"https://colab.research.google.com/assets/colab-badge.svg\" alt=\"Open In Colab\"/></a>"
      ]
    },
    {
      "cell_type": "code",
      "execution_count": null,
      "metadata": {
        "id": "EfvaL8VJ1R9T",
        "outputId": "276c0693-4bd3-450b-b406-b1ecc721a922",
        "colab": {
          "base_uri": "https://localhost:8080/"
        }
      },
      "outputs": [
        {
          "output_type": "stream",
          "name": "stdout",
          "text": [
            "입력값:\n",
            "우영우\n",
            "출력값:\n",
            "뒤집힌 단어는: 우영우\n",
            "입력한 단어는 회문입니다.\n"
          ]
        }
      ],
      "source": [
        "words = input(\"입력값:\\n\") # 단어 입력받기\n",
        "\n",
        "def words_check(words) :\n",
        "  palin = True #입력받은 단어가 회문인지 확인하기 위한 변수 자료형(bool)\n",
        "  print(\"출력값:\")\n",
        "  word = \"\".join(reversed(words)) #입력받은 단어를 뒤집어서 저장\n",
        "  print(\"뒤집힌 단어는:\", word)\n",
        "\n",
        "  for i in range(len(words)//2) : # 입력받은 단어의 길이를 절반으로 나눔\n",
        "      if words[i] != words[-1 -i] : #양 끝단부터 서로 검사 만약 단어가 서로 다르면 False를 저장\n",
        "        palin == False\n",
        "        break\n",
        "\n",
        "  if palin == True : # 단어가 회문이면\n",
        "      print(\"입력한 단어는 회문입니다.\")\n",
        "  else : #단어가 회문이 아니면\n",
        "      print(\"입력한 단어는 회문이 아닙니다.\")\n",
        "\n",
        "words_check(words)\n"
      ]
    }
  ]
}