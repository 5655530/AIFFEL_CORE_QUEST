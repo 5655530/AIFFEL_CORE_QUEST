{
  "nbformat": 4,
  "nbformat_minor": 0,
  "metadata": {
    "colab": {
      "provenance": [],
      "gpuType": "T4",
      "authorship_tag": "ABX9TyMNvP62WnPJR7Jbut5pUY5r",
      "include_colab_link": true
    },
    "kernelspec": {
      "name": "python3",
      "display_name": "Python 3"
    },
    "language_info": {
      "name": "python"
    },
    "accelerator": "GPU"
  },
  "cells": [
    {
      "cell_type": "markdown",
      "metadata": {
        "id": "view-in-github",
        "colab_type": "text"
      },
      "source": [
        "<a href=\"https://colab.research.google.com/github/5655530/AIFFEL_CORE_QUEST/blob/main/MLP%EB%A1%9C_%EC%9D%B4%EB%AF%B8%EC%A7%80_%EB%B6%84%EB%A5%98.ipynb\" target=\"_parent\"><img src=\"https://colab.research.google.com/assets/colab-badge.svg\" alt=\"Open In Colab\"/></a>"
      ]
    },
    {
      "cell_type": "markdown",
      "source": [
        "##**MLP 모델로 이미지 분류해보기**\n",
        "---\n",
        "**MNIST 데이터 살펴보기**\n",
        "\n",
        "먼저 필요한 라이브러리를 import하고 tf.keras.datasets.mnist.load_data() 함수를 이용해 MNIST 데이터셋을 불러옵니다."
      ],
      "metadata": {
        "id": "oNiSyDxeQdGJ"
      }
    },
    {
      "cell_type": "code",
      "execution_count": 2,
      "metadata": {
        "id": "G94ypyHbQAO7"
      },
      "outputs": [],
      "source": [
        "import sys\n",
        "import tensorflow as tf\n",
        "import numpy as np"
      ]
    },
    {
      "cell_type": "code",
      "source": [
        "# MNIST 데이터셋 불러오기\n",
        "(X_train, Y_train), (X_test, Y_test) = tf.keras.datasets.mnist.load_data()\n",
        "\n",
        "# shape 확인하기\n",
        "print(X_train.shape) # 28 x 28의 이미지가 60,000장\n",
        "print(Y_train.shape) ## [ 5, 1, 2, 3, 4, 4,   .... ]\n",
        "print(\"학습셋 이미지 수 : %d 개\" % (X_train.shape[0]))\n",
        "print(\"테스트셋 이미지 수 : %d 개\" % (X_test.shape[0]))"
      ],
      "metadata": {
        "colab": {
          "base_uri": "https://localhost:8080/"
        },
        "id": "cWJJxR7xQw_7",
        "outputId": "59861798-355e-498d-fc12-9263cbaca500"
      },
      "execution_count": 3,
      "outputs": [
        {
          "output_type": "stream",
          "name": "stdout",
          "text": [
            "Downloading data from https://storage.googleapis.com/tensorflow/tf-keras-datasets/mnist.npz\n",
            "11490434/11490434 [==============================] - 1s 0us/step\n",
            "(60000, 28, 28)\n",
            "(60000,)\n",
            "학습셋 이미지 수 : 60000 개\n",
            "테스트셋 이미지 수 : 10000 개\n"
          ]
        }
      ]
    },
    {
      "cell_type": "code",
      "source": [
        "# MNIST 데이터를 시각화하기\n",
        "import matplotlib.pyplot as plt\n",
        "print(Y_train[0])\n",
        "plt.imshow(X_train[0], cmap='Greys') # 흑백 이미지로 확인\n",
        "plt.show()"
      ],
      "metadata": {
        "colab": {
          "base_uri": "https://localhost:8080/",
          "height": 447
        },
        "id": "c-9B2FRsQy-K",
        "outputId": "f18c6a71-bf04-4aae-a7ea-81b71dc7d6bc"
      },
      "execution_count": 4,
      "outputs": [
        {
          "output_type": "stream",
          "name": "stdout",
          "text": [
            "5\n"
          ]
        },
        {
          "output_type": "display_data",
          "data": {
            "text/plain": [
              "<Figure size 640x480 with 1 Axes>"
            ],
            "image/png": "[encoded data removed]"
          },
          "metadata": {}
        }
      ]
    },
    {
      "cell_type": "markdown",
      "source": [
        "MNIST 데이터는 위와 같이 이미지처럼 나타낼 수 있지만 사실은 2차원 배열에 픽셀 값이 저장되어 있는 형태입니다. 즉 0과 255 사이의 정수로 구성된 데이터입니다."
      ],
      "metadata": {
        "id": "c-kWYGxoRArX"
      }
    },
    {
      "cell_type": "code",
      "source": [
        "# 데이터를 직접 들여다보기\n",
        "for x in X_train[0]:\n",
        "    for i in x:\n",
        "        sys.stdout.write('%d\\t' % i)\n",
        "    sys.stdout.write('\\n')"
      ],
      "metadata": {
        "colab": {
          "base_uri": "https://localhost:8080/"
        },
        "id": "W1m0fBiAQ01Y",
        "outputId": "dec27f41-a75d-476d-a5d5-e646e27e6f13"
      },
      "execution_count": 5,
      "outputs": [
        {
          "output_type": "stream",
          "name": "stdout",
          "text": [
            "0\t0\t0\t0\t0\t0\t0\t0\t0\t0\t0\t0\t0\t0\t0\t0\t0\t0\t0\t0\t0\t0\t0\t0\t0\t0\t0\t0\t\n",
            "0\t0\t0\t0\t0\t0\t0\t0\t0\t0\t0\t0\t0\t0\t0\t0\t0\t0\t0\t0\t0\t0\t0\t0\t0\t0\t0\t0\t\n",
            "0\t0\t0\t0\t0\t0\t0\t0\t0\t0\t0\t0\t0\t0\t0\t0\t0\t0\t0\t0\t0\t0\t0\t0\t0\t0\t0\t0\t\n",
            "0\t0\t0\t0\t0\t0\t0\t0\t0\t0\t0\t0\t0\t0\t0\t0\t0\t0\t0\t0\t0\t0\t0\t0\t0\t0\t0\t0\t\n",
            "0\t0\t0\t0\t0\t0\t0\t0\t0\t0\t0\t0\t0\t0\t0\t0\t0\t0\t0\t0\t0\t0\t0\t0\t0\t0\t0\t0\t\n",
            "0\t0\t0\t0\t0\t0\t0\t0\t0\t0\t0\t0\t3\t18\t18\t18\t126\t136\t175\t26\t166\t255\t247\t127\t0\t0\t0\t0\t\n",
            "0\t0\t0\t0\t0\t0\t0\t0\t30\t36\t94\t154\t170\t253\t253\t253\t253\t253\t225\t172\t253\t242\t195\t64\t0\t0\t0\t0\t\n",
            "0\t0\t0\t0\t0\t0\t0\t49\t238\t253\t253\t253\t253\t253\t253\t253\t253\t251\t93\t82\t82\t56\t39\t0\t0\t0\t0\t0\t\n",
            "0\t0\t0\t0\t0\t0\t0\t18\t219\t253\t253\t253\t253\t253\t198\t182\t247\t241\t0\t0\t0\t0\t0\t0\t0\t0\t0\t0\t\n",
            "0\t0\t0\t0\t0\t0\t0\t0\t80\t156\t107\t253\t253\t205\t11\t0\t43\t154\t0\t0\t0\t0\t0\t0\t0\t0\t0\t0\t\n",
            "0\t0\t0\t0\t0\t0\t0\t0\t0\t14\t1\t154\t253\t90\t0\t0\t0\t0\t0\t0\t0\t0\t0\t0\t0\t0\t0\t0\t\n",
            "0\t0\t0\t0\t0\t0\t0\t0\t0\t0\t0\t139\t253\t190\t2\t0\t0\t0\t0\t0\t0\t0\t0\t0\t0\t0\t0\t0\t\n",
            "0\t0\t0\t0\t0\t0\t0\t0\t0\t0\t0\t11\t190\t253\t70\t0\t0\t0\t0\t0\t0\t0\t0\t0\t0\t0\t0\t0\t\n",
            "0\t0\t0\t0\t0\t0\t0\t0\t0\t0\t0\t0\t35\t241\t225\t160\t108\t1\t0\t0\t0\t0\t0\t0\t0\t0\t0\t0\t\n",
            "0\t0\t0\t0\t0\t0\t0\t0\t0\t0\t0\t0\t0\t81\t240\t253\t253\t119\t25\t0\t0\t0\t0\t0\t0\t0\t0\t0\t\n",
            "0\t0\t0\t0\t0\t0\t0\t0\t0\t0\t0\t0\t0\t0\t45\t186\t253\t253\t150\t27\t0\t0\t0\t0\t0\t0\t0\t0\t\n",
            "0\t0\t0\t0\t0\t0\t0\t0\t0\t0\t0\t0\t0\t0\t0\t16\t93\t252\t253\t187\t0\t0\t0\t0\t0\t0\t0\t0\t\n",
            "0\t0\t0\t0\t0\t0\t0\t0\t0\t0\t0\t0\t0\t0\t0\t0\t0\t249\t253\t249\t64\t0\t0\t0\t0\t0\t0\t0\t\n",
            "0\t0\t0\t0\t0\t0\t0\t0\t0\t0\t0\t0\t0\t0\t46\t130\t183\t253\t253\t207\t2\t0\t0\t0\t0\t0\t0\t0\t\n",
            "0\t0\t0\t0\t0\t0\t0\t0\t0\t0\t0\t0\t39\t148\t229\t253\t253\t253\t250\t182\t0\t0\t0\t0\t0\t0\t0\t0\t\n",
            "0\t0\t0\t0\t0\t0\t0\t0\t0\t0\t24\t114\t221\t253\t253\t253\t253\t201\t78\t0\t0\t0\t0\t0\t0\t0\t0\t0\t\n",
            "0\t0\t0\t0\t0\t0\t0\t0\t23\t66\t213\t253\t253\t253\t253\t198\t81\t2\t0\t0\t0\t0\t0\t0\t0\t0\t0\t0\t\n",
            "0\t0\t0\t0\t0\t0\t18\t171\t219\t253\t253\t253\t253\t195\t80\t9\t0\t0\t0\t0\t0\t0\t0\t0\t0\t0\t0\t0\t\n",
            "0\t0\t0\t0\t55\t172\t226\t253\t253\t253\t253\t244\t133\t11\t0\t0\t0\t0\t0\t0\t0\t0\t0\t0\t0\t0\t0\t0\t\n",
            "0\t0\t0\t0\t136\t253\t253\t253\t212\t135\t132\t16\t0\t0\t0\t0\t0\t0\t0\t0\t0\t0\t0\t0\t0\t0\t0\t0\t\n",
            "0\t0\t0\t0\t0\t0\t0\t0\t0\t0\t0\t0\t0\t0\t0\t0\t0\t0\t0\t0\t0\t0\t0\t0\t0\t0\t0\t0\t\n",
            "0\t0\t0\t0\t0\t0\t0\t0\t0\t0\t0\t0\t0\t0\t0\t0\t0\t0\t0\t0\t0\t0\t0\t0\t0\t0\t0\t0\t\n",
            "0\t0\t0\t0\t0\t0\t0\t0\t0\t0\t0\t0\t0\t0\t0\t0\t0\t0\t0\t0\t0\t0\t0\t0\t0\t0\t0\t0\t\n"
          ]
        }
      ]
    },
    {
      "cell_type": "markdown",
      "source": [
        "##**MLP 구조 만들기**\n",
        "---\n",
        "MLP(Multi Layer Perceptron)의 입력 데이터는 기본적으로 벡터 형태입니다.\n",
        "X_train은 28 x 28 크기의 MNIST 데이터 60,000개가 모여 있는 배열이기 때문에, 각각의 데이터를 (28, 28) 크기의 행렬(2차원)에서 길이가 28x28=784인 벡터(1차원)로 변형시켜야 합니다. X_test에 포함된 데이터도 reshape() 함수를 사용하여 크기를 바꿔줍시다."
      ],
      "metadata": {
        "id": "bN4_VuzVRIpW"
      }
    },
    {
      "cell_type": "code",
      "source": [
        "# MLP 구조에 적절한 input의 형태로 변형하기\n",
        "## reshape()을 사용하여 2차원의 데이터를 1차원으로 변형\n",
        "## 1차원으로 변형함과 동시에 Normalization\n",
        "X_train = X_train.reshape(X_train.shape[0], 784).astype('float32') # 28 x 28= 784\n",
        "X_test = X_test.reshape(X_test.shape[0], 784).astype('float32')"
      ],
      "metadata": {
        "id": "xG7OTt3HRDmP"
      },
      "execution_count": 6,
      "outputs": []
    },
    {
      "cell_type": "code",
      "source": [
        "# Q. reshape한 X_train과 X_test의 shape을 다시 확인해 보세요.\n",
        "print(X_train.shape)\n",
        "print(X_test.shape)"
      ],
      "metadata": {
        "colab": {
          "base_uri": "https://localhost:8080/"
        },
        "id": "-auKppezRNPK",
        "outputId": "87451874-9ab9-4b02-c397-64131e238329"
      },
      "execution_count": 7,
      "outputs": [
        {
          "output_type": "stream",
          "name": "stdout",
          "text": [
            "(60000, 784)\n",
            "(10000, 784)\n"
          ]
        }
      ]
    },
    {
      "cell_type": "markdown",
      "source": [
        "label의 경우 현재 0~9의 정수 값을 가지고 있습니다.\n",
        "이 값들을 분류 문제에 맞게 one-hot vector로 만들어줍시다. Y_train, Y_test의 shape을 다시 보면 길이가 10인 벡터 60,000개(test는 10,000개)가 묶인 형태로 바뀐 것을 확인할 수 있습니다."
      ],
      "metadata": {
        "id": "XQkWmONcRm4k"
      }
    },
    {
      "cell_type": "code",
      "source": [
        "# Label 값을 One-hot encoding 하기\n",
        "# Multi-Class Classfication이므로 keras.utils.to_categorical을 사용\n",
        "Y_train = tf.keras.utils.to_categorical(Y_train)\n",
        "Y_test = tf.keras.utils.to_categorical(Y_test)"
      ],
      "metadata": {
        "id": "RyTSlCW3Rj2S"
      },
      "execution_count": 8,
      "outputs": []
    },
    {
      "cell_type": "code",
      "source": [
        "print(Y_train.shape)\n",
        "print(Y_test.shape)\n",
        "print(Y_train[0])"
      ],
      "metadata": {
        "colab": {
          "base_uri": "https://localhost:8080/"
        },
        "id": "ja5GdgVIRprN",
        "outputId": "331eb402-d4c6-438a-9637-3670202f7c07"
      },
      "execution_count": 9,
      "outputs": [
        {
          "output_type": "stream",
          "name": "stdout",
          "text": [
            "(60000, 10)\n",
            "(10000, 10)\n",
            "[0. 0. 0. 0. 0. 1. 0. 0. 0. 0.]\n"
          ]
        }
      ]
    },
    {
      "cell_type": "markdown",
      "source": [
        "본격적으로 MLP 모델을 만들어봅시다. 모델을 만드는 여러 가지 방법이 있지만 여기서는 Functional API로 만들어 봅시다.\n",
        "\n",
        "이번에 구현할 모델은 **input layer와 두 개의 hidden layer, 그리고 output layer**로 구성되어 있습니다.\n",
        "특히 output layer는 특별한 task를 수행하는데, 이 경우에는 **10개의 class를 분류** (multi-class classification)하는 것입니다. 만약 output layer의 perceptron이 회귀 문제에서와 같이 실수 출력 값을 가진다면 수행하고자 하는 분류 task에 적절하지 않습니다. 왜냐 하면 분류 문제에서 label 값은 one-hot vector로 인코딩되고, 이것은 특정 클래스에 속할 확률이 1이라고 해석될 수 있기 때문입니다. 그러므로 10개의 perceptron에서 나온 출력을 확률 값으로 만들기 위해 활성화 함수로 **softmax**를 사용해야 합니다."
      ],
      "metadata": {
        "id": "F9qKPCWuRt5f"
      }
    },
    {
      "cell_type": "code",
      "source": [
        "# 모델 설계하기\n",
        "input_layer = tf.keras.layers.Input(shape=(784,)) # input layer, input의 사이즈에 맞게 shape을 지정하는 것이 중요\n",
        "x = tf.keras.layers.Dense(512, activation='relu')(input_layer) # hidden layer 1, 512개의 perceptron으로 구성된 fully connted layer, activation 함수는 relu\n",
        "x = tf.keras.layers.Dense(512, activation='relu')(x) # hidden layer 2\n",
        "\n",
        "# 분류해야 하는 class 0~9 (10개) -> 따라서 최종 layer의 perceptron은 10개\n",
        "out_layer= tf.keras.layers.Dense(10, activation='softmax')(x)\n",
        "\n",
        "model = tf.keras.Model(inputs=[input_layer], outputs=[out_layer])\n",
        "model.summary()"
      ],
      "metadata": {
        "colab": {
          "base_uri": "https://localhost:8080/"
        },
        "id": "gkEqweNhRrIm",
        "outputId": "4b5365da-e068-47e4-df53-110b6ab0e100"
      },
      "execution_count": 10,
      "outputs": [
        {
          "output_type": "stream",
          "name": "stdout",
          "text": [
            "Model: \"model\"\n",
            "_________________________________________________________________\n",
            " Layer (type)                Output Shape              Param #   \n",
            "=================================================================\n",
            " input_1 (InputLayer)        [(None, 784)]             0         \n",
            "                                                                 \n",
            " dense (Dense)               (None, 512)               401920    \n",
            "                                                                 \n",
            " dense_1 (Dense)             (None, 512)               262656    \n",
            "                                                                 \n",
            " dense_2 (Dense)             (None, 10)                5130      \n",
            "                                                                 \n",
            "=================================================================\n",
            "Total params: 669,706\n",
            "Trainable params: 669,706\n",
            "Non-trainable params: 0\n",
            "_________________________________________________________________\n"
          ]
        }
      ]
    },
    {
      "cell_type": "code",
      "source": [
        "loss=tf.keras.losses.categorical_crossentropy\n",
        "optimizer = tf.keras.optimizers.Adam(learning_rate = 0.001)\n",
        "metric=tf.keras.metrics.categorical_accuracy\n",
        "model.compile(loss = loss,\n",
        "              optimizer = optimizer,\n",
        "              metrics = [metric])"
      ],
      "metadata": {
        "id": "SxsFI26ER7U-"
      },
      "execution_count": 11,
      "outputs": []
    },
    {
      "cell_type": "markdown",
      "source": [
        "##**MLP 모델 Training 하기**\n",
        "---\n",
        "model.fit() 함수를 이용하여 모델 학습을 시작합니다."
      ],
      "metadata": {
        "id": "Jp2Bx5JESCRK"
      }
    },
    {
      "cell_type": "code",
      "source": [
        "# validation_data 옵션으로 테스트 데이터만 넣어주어서 검증 데이터 분류가 가능\n",
        "history = model.fit(X_train, Y_train, validation_split=0.2, epochs=30, batch_size=1000, verbose=1)\n",
        "print(history.history.keys())"
      ],
      "metadata": {
        "colab": {
          "base_uri": "https://localhost:8080/"
        },
        "id": "pkSWahScR-j0",
        "outputId": "1785ce38-e80b-4124-8d51-5fd5e7000bad"
      },
      "execution_count": 12,
      "outputs": [
        {
          "output_type": "stream",
          "name": "stdout",
          "text": [
            "Epoch 1/30\n",
            "48/48 [==============================] - 9s 36ms/step - loss: 12.9446 - categorical_accuracy: 0.7973 - val_loss: 1.6897 - val_categorical_accuracy: 0.9212\n",
            "Epoch 2/30\n",
            "48/48 [==============================] - 1s 16ms/step - loss: 1.0779 - categorical_accuracy: 0.9357 - val_loss: 0.9452 - val_categorical_accuracy: 0.9370\n",
            "Epoch 3/30\n",
            "48/48 [==============================] - 0s 10ms/step - loss: 0.4858 - categorical_accuracy: 0.9569 - val_loss: 0.7600 - val_categorical_accuracy: 0.9414\n",
            "Epoch 4/30\n",
            "48/48 [==============================] - 1s 12ms/step - loss: 0.2502 - categorical_accuracy: 0.9711 - val_loss: 0.6411 - val_categorical_accuracy: 0.9493\n",
            "Epoch 5/30\n",
            "48/48 [==============================] - 0s 8ms/step - loss: 0.1299 - categorical_accuracy: 0.9811 - val_loss: 0.6071 - val_categorical_accuracy: 0.9478\n",
            "Epoch 6/30\n",
            "48/48 [==============================] - 0s 7ms/step - loss: 0.0689 - categorical_accuracy: 0.9882 - val_loss: 0.5972 - val_categorical_accuracy: 0.9480\n",
            "Epoch 7/30\n",
            "48/48 [==============================] - 0s 7ms/step - loss: 0.0382 - categorical_accuracy: 0.9922 - val_loss: 0.5668 - val_categorical_accuracy: 0.9515\n",
            "Epoch 8/30\n",
            "48/48 [==============================] - 0s 7ms/step - loss: 0.0173 - categorical_accuracy: 0.9953 - val_loss: 0.5470 - val_categorical_accuracy: 0.9524\n",
            "Epoch 9/30\n",
            "48/48 [==============================] - 0s 7ms/step - loss: 0.0077 - categorical_accuracy: 0.9979 - val_loss: 0.5481 - val_categorical_accuracy: 0.9539\n",
            "Epoch 10/30\n",
            "48/48 [==============================] - 0s 7ms/step - loss: 0.0035 - categorical_accuracy: 0.9991 - val_loss: 0.5441 - val_categorical_accuracy: 0.9533\n",
            "Epoch 11/30\n",
            "48/48 [==============================] - 0s 7ms/step - loss: 0.0018 - categorical_accuracy: 0.9995 - val_loss: 0.5369 - val_categorical_accuracy: 0.9543\n",
            "Epoch 12/30\n",
            "48/48 [==============================] - 0s 7ms/step - loss: 4.4353e-04 - categorical_accuracy: 0.9999 - val_loss: 0.5325 - val_categorical_accuracy: 0.9551\n",
            "Epoch 13/30\n",
            "48/48 [==============================] - 0s 7ms/step - loss: 1.8559e-04 - categorical_accuracy: 1.0000 - val_loss: 0.5348 - val_categorical_accuracy: 0.9548\n",
            "Epoch 14/30\n",
            "48/48 [==============================] - 0s 7ms/step - loss: 1.3498e-04 - categorical_accuracy: 1.0000 - val_loss: 0.5328 - val_categorical_accuracy: 0.9550\n",
            "Epoch 15/30\n",
            "48/48 [==============================] - 0s 7ms/step - loss: 1.1536e-04 - categorical_accuracy: 1.0000 - val_loss: 0.5325 - val_categorical_accuracy: 0.9553\n",
            "Epoch 16/30\n",
            "48/48 [==============================] - 0s 7ms/step - loss: 1.0337e-04 - categorical_accuracy: 1.0000 - val_loss: 0.5324 - val_categorical_accuracy: 0.9552\n",
            "Epoch 17/30\n",
            "48/48 [==============================] - 1s 14ms/step - loss: 9.4584e-05 - categorical_accuracy: 1.0000 - val_loss: 0.5322 - val_categorical_accuracy: 0.9552\n",
            "Epoch 18/30\n",
            "48/48 [==============================] - 1s 12ms/step - loss: 8.7735e-05 - categorical_accuracy: 1.0000 - val_loss: 0.5321 - val_categorical_accuracy: 0.9553\n",
            "Epoch 19/30\n",
            "48/48 [==============================] - 1s 12ms/step - loss: 8.1551e-05 - categorical_accuracy: 1.0000 - val_loss: 0.5321 - val_categorical_accuracy: 0.9552\n",
            "Epoch 20/30\n",
            "48/48 [==============================] - 0s 9ms/step - loss: 7.6382e-05 - categorical_accuracy: 1.0000 - val_loss: 0.5319 - val_categorical_accuracy: 0.9553\n",
            "Epoch 21/30\n",
            "48/48 [==============================] - 1s 11ms/step - loss: 7.1962e-05 - categorical_accuracy: 1.0000 - val_loss: 0.5318 - val_categorical_accuracy: 0.9556\n",
            "Epoch 22/30\n",
            "48/48 [==============================] - 1s 10ms/step - loss: 6.8086e-05 - categorical_accuracy: 1.0000 - val_loss: 0.5318 - val_categorical_accuracy: 0.9556\n",
            "Epoch 23/30\n",
            "48/48 [==============================] - 1s 11ms/step - loss: 6.4372e-05 - categorical_accuracy: 1.0000 - val_loss: 0.5316 - val_categorical_accuracy: 0.9555\n",
            "Epoch 24/30\n",
            "48/48 [==============================] - 0s 8ms/step - loss: 6.1303e-05 - categorical_accuracy: 1.0000 - val_loss: 0.5315 - val_categorical_accuracy: 0.9556\n",
            "Epoch 25/30\n",
            "48/48 [==============================] - 0s 8ms/step - loss: 5.8401e-05 - categorical_accuracy: 1.0000 - val_loss: 0.5315 - val_categorical_accuracy: 0.9557\n",
            "Epoch 26/30\n",
            "48/48 [==============================] - 1s 12ms/step - loss: 5.5572e-05 - categorical_accuracy: 1.0000 - val_loss: 0.5314 - val_categorical_accuracy: 0.9557\n",
            "Epoch 27/30\n",
            "48/48 [==============================] - 0s 10ms/step - loss: 5.3225e-05 - categorical_accuracy: 1.0000 - val_loss: 0.5310 - val_categorical_accuracy: 0.9557\n",
            "Epoch 28/30\n",
            "48/48 [==============================] - 1s 12ms/step - loss: 5.0964e-05 - categorical_accuracy: 1.0000 - val_loss: 0.5312 - val_categorical_accuracy: 0.9559\n",
            "Epoch 29/30\n",
            "48/48 [==============================] - 1s 11ms/step - loss: 4.8830e-05 - categorical_accuracy: 1.0000 - val_loss: 0.5310 - val_categorical_accuracy: 0.9560\n",
            "Epoch 30/30\n",
            "48/48 [==============================] - 1s 12ms/step - loss: 4.6871e-05 - categorical_accuracy: 1.0000 - val_loss: 0.5310 - val_categorical_accuracy: 0.9561\n",
            "dict_keys(['loss', 'categorical_accuracy', 'val_loss', 'val_categorical_accuracy'])\n"
          ]
        }
      ]
    },
    {
      "cell_type": "markdown",
      "source": [
        "training loss와 validation loss를 확인해봅시다."
      ],
      "metadata": {
        "id": "NFOJJTp3SIED"
      }
    },
    {
      "cell_type": "code",
      "source": [
        "# Training loss 확인하기\n",
        "loss = history.history['loss']\n",
        "print(loss)"
      ],
      "metadata": {
        "colab": {
          "base_uri": "https://localhost:8080/"
        },
        "id": "slQ9lUtwSGRN",
        "outputId": "39392a98-bd78-426d-8aaa-3f2d794dfc88"
      },
      "execution_count": 13,
      "outputs": [
        {
          "output_type": "stream",
          "name": "stdout",
          "text": [
            "[12.944572448730469, 1.0779290199279785, 0.48575931787490845, 0.25024518370628357, 0.12989811599254608, 0.06890486925840378, 0.03824513033032417, 0.017308278009295464, 0.007680974435061216, 0.003537264419719577, 0.001764880958944559, 0.00044352503027766943, 0.00018559156160335988, 0.0001349787344224751, 0.00011536217061802745, 0.00010336509149055928, 9.458362910663709e-05, 8.773537410888821e-05, 8.155113027896732e-05, 7.638167153345421e-05, 7.196203659987077e-05, 6.808624311815947e-05, 6.437230331357569e-05, 6.130322435637936e-05, 5.840145604452118e-05, 5.557219628826715e-05, 5.3224823204800487e-05, 5.0964346883120015e-05, 4.882971552433446e-05, 4.687105683842674e-05]\n"
          ]
        }
      ]
    },
    {
      "cell_type": "code",
      "source": [
        "# Q. Validation loss를 확인해 보세요.\n",
        "val_loss = history.history['val_loss']\n",
        "print(val_loss)"
      ],
      "metadata": {
        "colab": {
          "base_uri": "https://localhost:8080/"
        },
        "id": "Zr78Dyr7SMaO",
        "outputId": "8525f25a-489e-4cc7-b138-f6ee68298c60"
      },
      "execution_count": 15,
      "outputs": [
        {
          "output_type": "stream",
          "name": "stdout",
          "text": [
            "[1.6896589994430542, 0.9451677799224854, 0.7599897384643555, 0.641054630279541, 0.6070905923843384, 0.5971596837043762, 0.5667559504508972, 0.5469549298286438, 0.5480848550796509, 0.5440989136695862, 0.536852240562439, 0.5324572920799255, 0.5348325371742249, 0.5327910780906677, 0.5324874520301819, 0.5324253439903259, 0.5321959853172302, 0.5320678353309631, 0.5321424603462219, 0.5319395065307617, 0.531766951084137, 0.5317768454551697, 0.5316165089607239, 0.5315002202987671, 0.5314627289772034, 0.5313843488693237, 0.5310476422309875, 0.5311927199363708, 0.5310162901878357, 0.5309536457061768]\n"
          ]
        }
      ]
    },
    {
      "cell_type": "markdown",
      "source": [
        "##**학습된 모델의 성능 확인하기**\n",
        "---\n",
        "model.evaluate() 함수에 test 데이터를 입력시켜서 모델의 정확도를 확인하고, 학습이 진행되면서 training loss와 test loss가 어떻게 변하는지 그래프를 그려서 확인해봅시다."
      ],
      "metadata": {
        "id": "FO5fvw5CSXZ0"
      }
    },
    {
      "cell_type": "code",
      "source": [
        "# Test 데이터를 통해서 정확도 확인하기\n",
        "print(\"\\n Test Accuracy: %.4f\" % (model.evaluate(X_test, Y_test)[1]))"
      ],
      "metadata": {
        "colab": {
          "base_uri": "https://localhost:8080/"
        },
        "id": "P5ofSj8pSW1c",
        "outputId": "1dd08c23-c697-4e2c-946f-3642b523ee54"
      },
      "execution_count": 16,
      "outputs": [
        {
          "output_type": "stream",
          "name": "stdout",
          "text": [
            "313/313 [==============================] - 1s 4ms/step - loss: 0.4973 - categorical_accuracy: 0.9573\n",
            "\n",
            " Test Accuracy: 0.9573\n"
          ]
        }
      ]
    },
    {
      "cell_type": "code",
      "source": [
        "# 그래프로 표현\n",
        "x_len = np.arange(len(val_loss))\n",
        "plt.plot(x_len, val_loss, marker='.', c=\"red\", label='validation loss')\n",
        "plt.plot(x_len, loss, marker='.', c=\"blue\", label='training loss')\n",
        "\n",
        "# 그래프에 그리드를 주고 레이블을 표시\n",
        "plt.legend(loc='upper right')\n",
        "# plt.axis([0, 20, 0, 0.35])\n",
        "plt.grid()\n",
        "plt.xlabel('epoch')\n",
        "plt.ylabel('loss')\n",
        "plt.show()"
      ],
      "metadata": {
        "colab": {
          "base_uri": "https://localhost:8080/",
          "height": 449
        },
        "id": "Xn7Gp16ESdRP",
        "outputId": "8d581917-0a91-418d-8cf0-d1650d3dbcf1"
      },
      "execution_count": 18,
      "outputs": [
        {
          "output_type": "display_data",
          "data": {
            "text/plain": [
              "<Figure size 640x480 with 1 Axes>"
            ],
            "image/png": "[encoded data removed]"
          },
          "metadata": {}
        }
      ]
    },
    {
      "cell_type": "markdown",
      "source": [
        "##**MLP 모델의 한계를 코드로 확인하기**\n",
        "---\n",
        "MLP 모델의 한계를 코드로 확인해 보겠습니다. 원본 데이터를 살짝 변형했을 때 MLP 구조가 이미지를 잘 인식하는지 실펴 보겠습니다.\n",
        "\n",
        "###**원본 데이터를 변형해서 MLP 구조의 성능 테스트하기**\n",
        "\n",
        "이번 스텝에서 사용할 OpenCV 라이브러리와 MNIST 데이터를 불러옵시다. 참고로 OpenCV 라이브러리는 이미지 데이터를 다루는 데에 매우 효과적인 도구들을 갖추고 있는 모듈입니다."
      ],
      "metadata": {
        "id": "RwtT37JfXBsn"
      }
    },
    {
      "cell_type": "code",
      "source": [
        "# OpenCV 모듈 불러오기\n",
        "import cv2"
      ],
      "metadata": {
        "id": "IXyjp6G4XBGf"
      },
      "execution_count": 22,
      "outputs": []
    },
    {
      "cell_type": "code",
      "source": [
        "# MNIST 데이터셋 불러오기\n",
        "(X_train, Y_train), (X_test, Y_test) = tf.keras.datasets.mnist.load_data()\n",
        "\n",
        "# shape 확인하기\n",
        "print(X_train.shape) # 28 x 28의 이미지가 60,000장\n",
        "print(Y_train.shape) ## [ 5, 1, 2, 3, 4, 4,   .... ]\n",
        "print(\"학습셋 이미지 수 : %d 개\" % (X_train.shape[0]))\n",
        "print(\"테스트셋 이미지 수 : %d 개\" % (X_test.shape[0]))"
      ],
      "metadata": {
        "colab": {
          "base_uri": "https://localhost:8080/"
        },
        "id": "GtnMPYDUYaug",
        "outputId": "239402ab-4120-41d5-b53e-bea82b19bd18"
      },
      "execution_count": 23,
      "outputs": [
        {
          "output_type": "stream",
          "name": "stdout",
          "text": [
            "(60000, 28, 28)\n",
            "(60000,)\n",
            "학습셋 이미지 수 : 60000 개\n",
            "테스트셋 이미지 수 : 10000 개\n"
          ]
        }
      ]
    },
    {
      "cell_type": "markdown",
      "source": [
        "이번에는 **MNIST** 데이터에 장난을 조금 쳐보겠습니다.\n",
        "**OpenCV**의 함수들을 이용해서 **MNIST** 이미지에 **회전 변환과 이동 변환**(선형 변환)을 적용합니다.\n",
        "\n",
        "선형 변환을 위해서 변환 매트릭스를 먼저 구하고, 이미지에 변환 매트릭스를 적용해 봅시다. 즉 원본 이미지에 선형 변환 매트릭스를 곱하여 원본 이미지를 변환하는 것입니다."
      ],
      "metadata": {
        "id": "rN7pPG6pYGSd"
      }
    },
    {
      "cell_type": "code",
      "source": [
        "# 이미지 회전 변환 메트릭스 구하기\n",
        "M= cv2.getRotationMatrix2D((20, 25), 20, 1)  ## 회전 변환 Matrix 생성\n",
        "\n",
        "# 이미지 이동 변환 메트릭스 구하기\n",
        "M[0, 2] = M[0, 2] + 3\n",
        "M[1, 2] = M[1, 2] + 3\n",
        "\n",
        "# 이미지 변환 메트릭스 적용\n",
        "test_image = cv2.warpAffine(X_train[5], M, (28, 28))  ## image에 matrix 곱"
      ],
      "metadata": {
        "id": "bjMP_b3JXOfv"
      },
      "execution_count": 24,
      "outputs": []
    },
    {
      "cell_type": "markdown",
      "source": [
        "변환된 이미지는 다음과 같습니다."
      ],
      "metadata": {
        "id": "YiPVA7uNYTcT"
      }
    },
    {
      "cell_type": "code",
      "source": [
        "plt.imshow(test_image, cmap='Greys')"
      ],
      "metadata": {
        "colab": {
          "base_uri": "https://localhost:8080/",
          "height": 447
        },
        "id": "iAhGIw2ZYSXA",
        "outputId": "ee9c108b-cab8-4f04-8cbf-7aadc5ccdf8b"
      },
      "execution_count": 25,
      "outputs": [
        {
          "output_type": "execute_result",
          "data": {
            "text/plain": [
              "<matplotlib.image.AxesImage at 0x7fefdc0dd0c0>"
            ]
          },
          "metadata": {},
          "execution_count": 25
        },
        {
          "output_type": "display_data",
          "data": {
            "text/plain": [
              "<Figure size 640x480 with 1 Axes>"
            ],
            "image/png": "[encoded data removed]"
          },
          "metadata": {}
        }
      ]
    },
    {
      "cell_type": "markdown",
      "source": [
        "MLP 모델은 변환된 이미지도 분류를 잘 할 수 있을까요?\n",
        "이전 스텝에서와 같이 이미지의 shape을 바꿔주고 모델에 넣어줍니다."
      ],
      "metadata": {
        "id": "9DI2XafsYhOD"
      }
    },
    {
      "cell_type": "code",
      "source": [
        "# MLP의 input 데이터를 넣어주기 위해 1x784 형태로 reshape하고 normalization\n",
        "test_image_reshape = test_image.reshape(1, 784).astype('float64')"
      ],
      "metadata": {
        "id": "vPd4KdpmYVzj"
      },
      "execution_count": 26,
      "outputs": []
    },
    {
      "cell_type": "code",
      "source": [
        "Y_prediction = model.predict(test_image_reshape)"
      ],
      "metadata": {
        "colab": {
          "base_uri": "https://localhost:8080/"
        },
        "id": "T_FFl19yYjM_",
        "outputId": "045cfbcd-df27-4bd8-f0f2-01fe53bb8ea8"
      },
      "execution_count": 27,
      "outputs": [
        {
          "output_type": "stream",
          "name": "stdout",
          "text": [
            "1/1 [==============================] - 0s 146ms/step\n"
          ]
        }
      ]
    },
    {
      "cell_type": "code",
      "source": [
        "index = np.argmax(Y_prediction) # 10개의 class가 각 확률 값으로 나오기 때문에 가장 높은 값을 가진 인덱스를 추출\n",
        "value = Y_prediction[:, index]\n",
        "plt.imshow(test_image, cmap='Greys')\n",
        "plt.xlabel(\"prediction: \"+str(index)+\"  \" +str(value), fontsize=20)\n",
        "plt.show()"
      ],
      "metadata": {
        "colab": {
          "base_uri": "https://localhost:8080/",
          "height": 463
        },
        "id": "uKMMFcqGYlJR",
        "outputId": "74bc5c72-6856-4320-d51b-abcc55f8d431"
      },
      "execution_count": 28,
      "outputs": [
        {
          "output_type": "display_data",
          "data": {
            "text/plain": [
              "<Figure size 640x480 with 1 Axes>"
            ],
            "image/png": "[encoded data removed]"
          },
          "metadata": {}
        }
      ]
    },
    {
      "cell_type": "markdown",
      "source": [
        "분명히 숫자 2를 나타낸 이미지였지만 간단한 변환을 적용했더니 모델은 데이터를 다른 숫자로 잘못 인식했습니다. 즉 MLP로 학습한 모델은 이미지 분류기로서는 robust classifier가 아니라는 것을 알 수 있습니다. MLP를 이용해서 이미지를 분류하는 데에는 뭔가 문제가 있는 것 같습니다.\n",
        "\n",
        "그 이유는 MLP는 고차원 데이터의 공간적 구조를 완전히 이해할 수 없기 때문입니다. 때문에 이미지 분류에서는 CNN같은 모델이 분류에 더 효과적입니다."
      ],
      "metadata": {
        "id": "-7GqbhGzYuVl"
      }
    }
  ]
}