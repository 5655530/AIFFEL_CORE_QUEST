{
  "nbformat": 4,
  "nbformat_minor": 0,
  "metadata": {
    "colab": {
      "provenance": [],
      "machine_shape": "hm",
      "gpuType": "A100",
      "include_colab_link": true
    },
    "kernelspec": {
      "name": "python3",
      "display_name": "Python 3"
    },
    "language_info": {
      "name": "python"
    },
    "accelerator": "GPU"
  },
  "cells": [
    {
      "cell_type": "markdown",
      "metadata": {
        "id": "view-in-github",
        "colab_type": "text"
      },
      "source": [
        "<a href=\"https://colab.research.google.com/github/5655530/AIFFEL_CORE_QUEST/blob/main/News_Summary/News_Summary_bot_ver_2.ipynb\" target=\"_parent\"><img src=\"https://colab.research.google.com/assets/colab-badge.svg\" alt=\"Open In Colab\"/></a>"
      ]
    },
    {
      "cell_type": "code",
      "source": [
        "!pip install summa"
      ],
      "metadata": {
        "colab": {
          "base_uri": "https://localhost:8080/"
        },
        "id": "Qr5MR8stiQLx",
        "outputId": "5eab4bad-706d-40c6-9151-cc89b55e3920"
      },
      "execution_count": null,
      "outputs": [
        {
          "output_type": "stream",
          "name": "stdout",
          "text": [
            "Collecting summa\n",
            "  Downloading summa-1.2.0.tar.gz (54 kB)\n",
            "\u001b[?25l     \u001b[90m━━━━━━━━━━━━━━━━━━━━━━━━━━━━━━━━━━━━━━━━\u001b[0m \u001b[32m0.0/54.9 kB\u001b[0m \u001b[31m?\u001b[0m eta \u001b[36m-:--:--\u001b[0m\r\u001b[2K     \u001b[90m━━━━━━━━━━━━━━━━━━━━━━━━━━━━━━━━━━━━━━━━\u001b[0m \u001b[32m54.9/54.9 kB\u001b[0m \u001b[31m1.8 MB/s\u001b[0m eta \u001b[36m0:00:00\u001b[0m\n",
            "\u001b[?25h  Preparing metadata (setup.py) ... \u001b[?25l\u001b[?25hdone\n",
            "Requirement already satisfied: scipy>=0.19 in /usr/local/lib/python3.10/dist-packages (from summa) (1.11.2)\n",
            "Requirement already satisfied: numpy<1.28.0,>=1.21.6 in /usr/local/lib/python3.10/dist-packages (from scipy>=0.19->summa) (1.23.5)\n",
            "Building wheels for collected packages: summa\n",
            "  Building wheel for summa (setup.py) ... \u001b[?25l\u001b[?25hdone\n",
            "  Created wheel for summa: filename=summa-1.2.0-py3-none-any.whl size=54389 sha256=75cbabfbdf0e5f5fd6dc9c5468e453b80fa872e26a846b7eae019eb52621b05a\n",
            "  Stored in directory: /root/.cache/pip/wheels/4a/ca/c5/4958614cfba88ed6ceb7cb5a849f9f89f9ac49971616bc919f\n",
            "Successfully built summa\n",
            "Installing collected packages: summa\n",
            "Successfully installed summa-1.2.0\n"
          ]
        }
      ]
    },
    {
      "cell_type": "code",
      "execution_count": null,
      "metadata": {
        "colab": {
          "base_uri": "https://localhost:8080/"
        },
        "id": "_Vqoo1DRh5oA",
        "outputId": "138823f5-389e-4fa2-8b93-b30b8ceae57e"
      },
      "outputs": [
        {
          "output_type": "stream",
          "name": "stdout",
          "text": [
            "3.8.1\n",
            "2.13.0\n",
            "1.5.3\n",
            "1.2.0\n"
          ]
        }
      ],
      "source": [
        "from importlib.metadata import version\n",
        "import nltk\n",
        "import tensorflow as tf\n",
        "import summa\n",
        "import pandas as pd\n",
        "\n",
        "print(nltk.__version__)\n",
        "print(tf.__version__)\n",
        "print(pd.__version__)\n",
        "print(version('summa'))"
      ]
    },
    {
      "cell_type": "code",
      "source": [
        "import urllib.request\n",
        "urllib.request.urlretrieve(\"https://raw.githubusercontent.com/sunnysai12345/News_Summary/master/news_summary_more.csv\", filename=\"news_summary_more.csv\")\n",
        "data = pd.read_csv('news_summary_more.csv', encoding='iso-8859-1')"
      ],
      "metadata": {
        "id": "ytAALzwnh_oL"
      },
      "execution_count": null,
      "outputs": []
    },
    {
      "cell_type": "code",
      "source": [
        "data.sample(10)"
      ],
      "metadata": {
        "colab": {
          "base_uri": "https://localhost:8080/",
          "height": 363
        },
        "id": "Qmuadz_CiXKf",
        "outputId": "e7bc2fc9-29b0-4e33-ac5d-08a722193c86"
      },
      "execution_count": null,
      "outputs": [
        {
          "output_type": "execute_result",
          "data": {
            "text/plain": [
              "                                               headlines  \\\n",
              "80330  Firm to recall 70 lakh pounds of hot dogs over...   \n",
              "86792  Social media trolling over Priyanka's dress is...   \n",
              "96707  Kangana gifts herself 3-bedroom bungalow on bi...   \n",
              "80976   Russia slams US for Mosul's 'chaotic' evacuation   \n",
              "14872  Baby dies after swallowing ball, grandfather d...   \n",
              "38713  Petition against HC judge over foul remarks ag...   \n",
              "90788  Mark Selby beats John Higgins to retain world ...   \n",
              "80940  Tarantino to direct film on Manson Family murd...   \n",
              "52230  Aadhaar users to be verified using face authen...   \n",
              "72704  Foreign firms had access to unencrypted Aadhaa...   \n",
              "\n",
              "                                                    text  \n",
              "80330  A US meat company is withdrawing 70 lakh pound...  \n",
              "86792  Actor Varun Dhawan has said that actress Priya...  \n",
              "96707  As per reports, actress Kangana Ranaut has gif...  \n",
              "80976  The US-led coalition's \"chaotic\" and \"spontane...  \n",
              "14872  A seven-month-old boy in Haryana's Panipat cho...  \n",
              "38713  A case of criminal contempt was filed in Uttar...  \n",
              "90788  English professional snooker player Mark Selby...  \n",
              "80940  As per reports, filmmaker Quentin Tarantino is...  \n",
              "52230  The Unique Identification Authority of India (...  \n",
              "72704  An RTI reply stated that UIDAI had signed cont...  "
            ],
            "text/html": [
              "\n",
              "  <div id=\"df-b386ab42-ae42-4653-bf6f-f9a42033715a\" class=\"colab-df-container\">\n",
              "    <div>\n",
              "<style scoped>\n",
              "    .dataframe tbody tr th:only-of-type {\n",
              "        vertical-align: middle;\n",
              "    }\n",
              "\n",
              "    .dataframe tbody tr th {\n",
              "        vertical-align: top;\n",
              "    }\n",
              "\n",
              "    .dataframe thead th {\n",
              "        text-align: right;\n",
              "    }\n",
              "</style>\n",
              "<table border=\"1\" class=\"dataframe\">\n",
              "  <thead>\n",
              "    <tr style=\"text-align: right;\">\n",
              "      <th></th>\n",
              "      <th>headlines</th>\n",
              "      <th>text</th>\n",
              "    </tr>\n",
              "  </thead>\n",
              "  <tbody>\n",
              "    <tr>\n",
              "      <th>80330</th>\n",
              "      <td>Firm to recall 70 lakh pounds of hot dogs over...</td>\n",
              "      <td>A US meat company is withdrawing 70 lakh pound...</td>\n",
              "    </tr>\n",
              "    <tr>\n",
              "      <th>86792</th>\n",
              "      <td>Social media trolling over Priyanka's dress is...</td>\n",
              "      <td>Actor Varun Dhawan has said that actress Priya...</td>\n",
              "    </tr>\n",
              "    <tr>\n",
              "      <th>96707</th>\n",
              "      <td>Kangana gifts herself 3-bedroom bungalow on bi...</td>\n",
              "      <td>As per reports, actress Kangana Ranaut has gif...</td>\n",
              "    </tr>\n",
              "    <tr>\n",
              "      <th>80976</th>\n",
              "      <td>Russia slams US for Mosul's 'chaotic' evacuation</td>\n",
              "      <td>The US-led coalition's \"chaotic\" and \"spontane...</td>\n",
              "    </tr>\n",
              "    <tr>\n",
              "      <th>14872</th>\n",
              "      <td>Baby dies after swallowing ball, grandfather d...</td>\n",
              "      <td>A seven-month-old boy in Haryana's Panipat cho...</td>\n",
              "    </tr>\n",
              "    <tr>\n",
              "      <th>38713</th>\n",
              "      <td>Petition against HC judge over foul remarks ag...</td>\n",
              "      <td>A case of criminal contempt was filed in Uttar...</td>\n",
              "    </tr>\n",
              "    <tr>\n",
              "      <th>90788</th>\n",
              "      <td>Mark Selby beats John Higgins to retain world ...</td>\n",
              "      <td>English professional snooker player Mark Selby...</td>\n",
              "    </tr>\n",
              "    <tr>\n",
              "      <th>80940</th>\n",
              "      <td>Tarantino to direct film on Manson Family murd...</td>\n",
              "      <td>As per reports, filmmaker Quentin Tarantino is...</td>\n",
              "    </tr>\n",
              "    <tr>\n",
              "      <th>52230</th>\n",
              "      <td>Aadhaar users to be verified using face authen...</td>\n",
              "      <td>The Unique Identification Authority of India (...</td>\n",
              "    </tr>\n",
              "    <tr>\n",
              "      <th>72704</th>\n",
              "      <td>Foreign firms had access to unencrypted Aadhaa...</td>\n",
              "      <td>An RTI reply stated that UIDAI had signed cont...</td>\n",
              "    </tr>\n",
              "  </tbody>\n",
              "</table>\n",
              "</div>\n",
              "    <div class=\"colab-df-buttons\">\n",
              "\n",
              "  <div class=\"colab-df-container\">\n",
              "    <button class=\"colab-df-convert\" onclick=\"convertToInteractive('df-b386ab42-ae42-4653-bf6f-f9a42033715a')\"\n",
              "            title=\"Convert this dataframe to an interactive table.\"\n",
              "            style=\"display:none;\">\n",
              "\n",
              "  <svg xmlns=\"http://www.w3.org/2000/svg\" height=\"24px\" viewBox=\"0 -960 960 960\">\n",
              "    <path d=\"M120-120v-720h720v720H120Zm60-500h600v-160H180v160Zm220 220h160v-160H400v160Zm0 220h160v-160H400v160ZM180-400h160v-160H180v160Zm440 0h160v-160H620v160ZM180-180h160v-160H180v160Zm440 0h160v-160H620v160Z\"/>\n",
              "  </svg>\n",
              "    </button>\n",
              "\n",
              "  <style>\n",
              "    .colab-df-container {\n",
              "      display:flex;\n",
              "      gap: 12px;\n",
              "    }\n",
              "\n",
              "    .colab-df-convert {\n",
              "      background-color: #E8F0FE;\n",
              "      border: none;\n",
              "      border-radius: 50%;\n",
              "      cursor: pointer;\n",
              "      display: none;\n",
              "      fill: #1967D2;\n",
              "      height: 32px;\n",
              "      padding: 0 0 0 0;\n",
              "      width: 32px;\n",
              "    }\n",
              "\n",
              "    .colab-df-convert:hover {\n",
              "      background-color: #E2EBFA;\n",
              "      box-shadow: 0px 1px 2px rgba(60, 64, 67, 0.3), 0px 1px 3px 1px rgba(60, 64, 67, 0.15);\n",
              "      fill: #174EA6;\n",
              "    }\n",
              "\n",
              "    .colab-df-buttons div {\n",
              "      margin-bottom: 4px;\n",
              "    }\n",
              "\n",
              "    [theme=dark] .colab-df-convert {\n",
              "      background-color: #3B4455;\n",
              "      fill: #D2E3FC;\n",
              "    }\n",
              "\n",
              "    [theme=dark] .colab-df-convert:hover {\n",
              "      background-color: #434B5C;\n",
              "      box-shadow: 0px 1px 3px 1px rgba(0, 0, 0, 0.15);\n",
              "      filter: drop-shadow(0px 1px 2px rgba(0, 0, 0, 0.3));\n",
              "      fill: #FFFFFF;\n",
              "    }\n",
              "  </style>\n",
              "\n",
              "    <script>\n",
              "      const buttonEl =\n",
              "        document.querySelector('#df-b386ab42-ae42-4653-bf6f-f9a42033715a button.colab-df-convert');\n",
              "      buttonEl.style.display =\n",
              "        google.colab.kernel.accessAllowed ? 'block' : 'none';\n",
              "\n",
              "      async function convertToInteractive(key) {\n",
              "        const element = document.querySelector('#df-b386ab42-ae42-4653-bf6f-f9a42033715a');\n",
              "        const dataTable =\n",
              "          await google.colab.kernel.invokeFunction('convertToInteractive',\n",
              "                                                    [key], {});\n",
              "        if (!dataTable) return;\n",
              "\n",
              "        const docLinkHtml = 'Like what you see? Visit the ' +\n",
              "          '<a target=\"_blank\" href=https://colab.research.google.com/notebooks/data_table.ipynb>data table notebook</a>'\n",
              "          + ' to learn more about interactive tables.';\n",
              "        element.innerHTML = '';\n",
              "        dataTable['output_type'] = 'display_data';\n",
              "        await google.colab.output.renderOutput(dataTable, element);\n",
              "        const docLink = document.createElement('div');\n",
              "        docLink.innerHTML = docLinkHtml;\n",
              "        element.appendChild(docLink);\n",
              "      }\n",
              "    </script>\n",
              "  </div>\n",
              "\n",
              "\n",
              "<div id=\"df-6daa8f70-df7c-4777-a386-7817019d9222\">\n",
              "  <button class=\"colab-df-quickchart\" onclick=\"quickchart('df-6daa8f70-df7c-4777-a386-7817019d9222')\"\n",
              "            title=\"Suggest charts.\"\n",
              "            style=\"display:none;\">\n",
              "\n",
              "<svg xmlns=\"http://www.w3.org/2000/svg\" height=\"24px\"viewBox=\"0 0 24 24\"\n",
              "     width=\"24px\">\n",
              "    <g>\n",
              "        <path d=\"M19 3H5c-1.1 0-2 .9-2 2v14c0 1.1.9 2 2 2h14c1.1 0 2-.9 2-2V5c0-1.1-.9-2-2-2zM9 17H7v-7h2v7zm4 0h-2V7h2v10zm4 0h-2v-4h2v4z\"/>\n",
              "    </g>\n",
              "</svg>\n",
              "  </button>\n",
              "\n",
              "<style>\n",
              "  .colab-df-quickchart {\n",
              "      --bg-color: #E8F0FE;\n",
              "      --fill-color: #1967D2;\n",
              "      --hover-bg-color: #E2EBFA;\n",
              "      --hover-fill-color: #174EA6;\n",
              "      --disabled-fill-color: #AAA;\n",
              "      --disabled-bg-color: #DDD;\n",
              "  }\n",
              "\n",
              "  [theme=dark] .colab-df-quickchart {\n",
              "      --bg-color: #3B4455;\n",
              "      --fill-color: #D2E3FC;\n",
              "      --hover-bg-color: #434B5C;\n",
              "      --hover-fill-color: #FFFFFF;\n",
              "      --disabled-bg-color: #3B4455;\n",
              "      --disabled-fill-color: #666;\n",
              "  }\n",
              "\n",
              "  .colab-df-quickchart {\n",
              "    background-color: var(--bg-color);\n",
              "    border: none;\n",
              "    border-radius: 50%;\n",
              "    cursor: pointer;\n",
              "    display: none;\n",
              "    fill: var(--fill-color);\n",
              "    height: 32px;\n",
              "    padding: 0;\n",
              "    width: 32px;\n",
              "  }\n",
              "\n",
              "  .colab-df-quickchart:hover {\n",
              "    background-color: var(--hover-bg-color);\n",
              "    box-shadow: 0 1px 2px rgba(60, 64, 67, 0.3), 0 1px 3px 1px rgba(60, 64, 67, 0.15);\n",
              "    fill: var(--button-hover-fill-color);\n",
              "  }\n",
              "\n",
              "  .colab-df-quickchart-complete:disabled,\n",
              "  .colab-df-quickchart-complete:disabled:hover {\n",
              "    background-color: var(--disabled-bg-color);\n",
              "    fill: var(--disabled-fill-color);\n",
              "    box-shadow: none;\n",
              "  }\n",
              "\n",
              "  .colab-df-spinner {\n",
              "    border: 2px solid var(--fill-color);\n",
              "    border-color: transparent;\n",
              "    border-bottom-color: var(--fill-color);\n",
              "    animation:\n",
              "      spin 1s steps(1) infinite;\n",
              "  }\n",
              "\n",
              "  @keyframes spin {\n",
              "    0% {\n",
              "      border-color: transparent;\n",
              "      border-bottom-color: var(--fill-color);\n",
              "      border-left-color: var(--fill-color);\n",
              "    }\n",
              "    20% {\n",
              "      border-color: transparent;\n",
              "      border-left-color: var(--fill-color);\n",
              "      border-top-color: var(--fill-color);\n",
              "    }\n",
              "    30% {\n",
              "      border-color: transparent;\n",
              "      border-left-color: var(--fill-color);\n",
              "      border-top-color: var(--fill-color);\n",
              "      border-right-color: var(--fill-color);\n",
              "    }\n",
              "    40% {\n",
              "      border-color: transparent;\n",
              "      border-right-color: var(--fill-color);\n",
              "      border-top-color: var(--fill-color);\n",
              "    }\n",
              "    60% {\n",
              "      border-color: transparent;\n",
              "      border-right-color: var(--fill-color);\n",
              "    }\n",
              "    80% {\n",
              "      border-color: transparent;\n",
              "      border-right-color: var(--fill-color);\n",
              "      border-bottom-color: var(--fill-color);\n",
              "    }\n",
              "    90% {\n",
              "      border-color: transparent;\n",
              "      border-bottom-color: var(--fill-color);\n",
              "    }\n",
              "  }\n",
              "</style>\n",
              "\n",
              "  <script>\n",
              "    async function quickchart(key) {\n",
              "      const quickchartButtonEl =\n",
              "        document.querySelector('#' + key + ' button');\n",
              "      quickchartButtonEl.disabled = true;  // To prevent multiple clicks.\n",
              "      quickchartButtonEl.classList.add('colab-df-spinner');\n",
              "      try {\n",
              "        const charts = await google.colab.kernel.invokeFunction(\n",
              "            'suggestCharts', [key], {});\n",
              "      } catch (error) {\n",
              "        console.error('Error during call to suggestCharts:', error);\n",
              "      }\n",
              "      quickchartButtonEl.classList.remove('colab-df-spinner');\n",
              "      quickchartButtonEl.classList.add('colab-df-quickchart-complete');\n",
              "    }\n",
              "    (() => {\n",
              "      let quickchartButtonEl =\n",
              "        document.querySelector('#df-6daa8f70-df7c-4777-a386-7817019d9222 button');\n",
              "      quickchartButtonEl.style.display =\n",
              "        google.colab.kernel.accessAllowed ? 'block' : 'none';\n",
              "    })();\n",
              "  </script>\n",
              "</div>\n",
              "    </div>\n",
              "  </div>\n"
            ]
          },
          "metadata": {},
          "execution_count": 4
        }
      ]
    },
    {
      "cell_type": "markdown",
      "source": [
        "Step 2. 데이터 전처리하기 (추상적 요약)\n",
        "\n",
        "\n",
        "텍스트 정규화와 불용어 제거를 진행합니다."
      ],
      "metadata": {
        "id": "ksBYMpxGi3sl"
      }
    },
    {
      "cell_type": "code",
      "source": [
        "import nltk\n",
        "nltk.download('stopwords')\n",
        "\n",
        "import numpy as np\n",
        "import pandas as pd\n",
        "import os\n",
        "import re\n",
        "import matplotlib.pyplot as plt\n",
        "from nltk.corpus import stopwords\n",
        "from bs4 import BeautifulSoup\n",
        "from tensorflow.keras.preprocessing.text import Tokenizer\n",
        "from tensorflow.keras.preprocessing.sequence import pad_sequences\n",
        "import urllib.request\n",
        "import warnings\n",
        "warnings.filterwarnings(\"ignore\", category=UserWarning, module='bs4')"
      ],
      "metadata": {
        "colab": {
          "base_uri": "https://localhost:8080/"
        },
        "id": "HxeMjTKdQI4k",
        "outputId": "97e8e6e1-45d3-40a0-9fa8-a67ea24fc879"
      },
      "execution_count": null,
      "outputs": [
        {
          "output_type": "stream",
          "name": "stderr",
          "text": [
            "[nltk_data] Downloading package stopwords to /root/nltk_data...\n",
            "[nltk_data]   Unzipping corpora/stopwords.zip.\n"
          ]
        }
      ]
    },
    {
      "cell_type": "code",
      "source": [
        "text_max_len = 50\n",
        "summary_max_len = 8\n",
        "print('=3')"
      ],
      "metadata": {
        "colab": {
          "base_uri": "https://localhost:8080/"
        },
        "id": "7sipRXFsRpnI",
        "outputId": "3f9ffee3-e0c2-444e-fd32-0fcc12cd092b"
      },
      "execution_count": null,
      "outputs": [
        {
          "output_type": "stream",
          "name": "stdout",
          "text": [
            "=3\n"
          ]
        }
      ]
    },
    {
      "cell_type": "code",
      "source": [
        "data.isnull().sum()"
      ],
      "metadata": {
        "colab": {
          "base_uri": "https://localhost:8080/"
        },
        "id": "uzfSBB2AQste",
        "outputId": "88c4c29d-b83b-4784-e1f7-47be467416cd"
      },
      "execution_count": null,
      "outputs": [
        {
          "output_type": "execute_result",
          "data": {
            "text/plain": [
              "headlines    0\n",
              "text         0\n",
              "dtype: int64"
            ]
          },
          "metadata": {},
          "execution_count": 7
        }
      ]
    },
    {
      "cell_type": "code",
      "source": [
        "data.dropna(axis=0, inplace=True)\n",
        "print('전체 샘플수 :', (len(data)))"
      ],
      "metadata": {
        "colab": {
          "base_uri": "https://localhost:8080/"
        },
        "id": "vvrCs55uQtj_",
        "outputId": "5047876d-fffe-48e5-b651-5657a9c66d06"
      },
      "execution_count": null,
      "outputs": [
        {
          "output_type": "stream",
          "name": "stdout",
          "text": [
            "전체 샘플수 : 98401\n"
          ]
        }
      ]
    },
    {
      "cell_type": "code",
      "source": [
        "# 길이 분포 출력\n",
        "import matplotlib.pyplot as plt\n",
        "\n",
        "text_len = [len(s.split()) for s in data['text']]\n",
        "summary_len = [len(s.split()) for s in data['headlines']]\n",
        "\n",
        "print('텍스트의 최소 길이 : {}'.format(np.min(text_len)))\n",
        "print('텍스트의 최대 길이 : {}'.format(np.max(text_len)))\n",
        "print('텍스트의 평균 길이 : {}'.format(np.mean(text_len)))\n",
        "print('요약의 최소 길이 : {}'.format(np.min(summary_len)))\n",
        "print('요약의 최대 길이 : {}'.format(np.max(summary_len)))\n",
        "print('요약의 평균 길이 : {}'.format(np.mean(summary_len)))\n",
        "\n",
        "plt.subplot(1,2,1)\n",
        "plt.boxplot(text_len)\n",
        "plt.title('Text')\n",
        "plt.subplot(1,2,2)\n",
        "plt.boxplot(summary_len)\n",
        "plt.title('Summary')\n",
        "plt.tight_layout()\n",
        "plt.show()\n",
        "\n",
        "plt.title('Text')\n",
        "plt.hist(text_len, bins = 40)\n",
        "plt.xlabel('length of samples')\n",
        "plt.ylabel('number of samples')\n",
        "plt.show()\n",
        "\n",
        "plt.title('Summary')\n",
        "plt.hist(summary_len, bins = 40)\n",
        "plt.xlabel('length of samples')\n",
        "plt.ylabel('number of samples')\n",
        "plt.show()"
      ],
      "metadata": {
        "colab": {
          "base_uri": "https://localhost:8080/",
          "height": 1000
        },
        "id": "rVTcAVVRNz_w",
        "outputId": "bf795db9-ce79-4235-de7a-2353bdf8f16c"
      },
      "execution_count": null,
      "outputs": [
        {
          "output_type": "stream",
          "name": "stdout",
          "text": [
            "텍스트의 최소 길이 : 1\n",
            "텍스트의 최대 길이 : 91\n",
            "텍스트의 평균 길이 : 58.2385341612382\n",
            "요약의 최소 길이 : 1\n",
            "요약의 최대 길이 : 18\n",
            "요약의 평균 길이 : 9.553906972490116\n"
          ]
        },
        {
          "output_type": "display_data",
          "data": {
            "text/plain": [
              "<Figure size 640x480 with 2 Axes>"
            ],
            "image/png": "[encoded data removed]"
          },
          "metadata": {}
        },
        {
          "output_type": "display_data",
          "data": {
            "text/plain": [
              "<Figure size 640x480 with 1 Axes>"
            ],
            "image/png": "[encoded data removed]"
          },
          "metadata": {}
        },
        {
          "output_type": "display_data",
          "data": {
            "text/plain": [
              "<Figure size 640x480 with 1 Axes>"
            ],
            "image/png": "[encoded data removed]"
          },
          "metadata": {}
        }
      ]
    },
    {
      "cell_type": "code",
      "source": [
        "# 요약 데이터에는 시작 토큰과 종료 토큰을 추가한다.\n",
        "data['decoder_input'] = data['headlines'].apply(lambda x : 'sostoken '+ x)\n",
        "data['decoder_target'] = data['headlines'].apply(lambda x : x + ' eostoken')\n",
        "data.head()"
      ],
      "metadata": {
        "colab": {
          "base_uri": "https://localhost:8080/",
          "height": 362
        },
        "id": "EGdVIG3MPIFQ",
        "outputId": "9cbd8f00-ec7c-422b-d02d-ad905a6da2eb"
      },
      "execution_count": null,
      "outputs": [
        {
          "output_type": "execute_result",
          "data": {
            "text/plain": [
              "                                           headlines  \\\n",
              "0  upGrad learner switches to career in ML & Al w...   \n",
              "1  Delhi techie wins free food from Swiggy for on...   \n",
              "2  New Zealand end Rohit Sharma-led India's 12-ma...   \n",
              "3  Aegon life iTerm insurance plan helps customer...   \n",
              "4  Have known Hirani for yrs, what if MeToo claim...   \n",
              "\n",
              "                                                text  \\\n",
              "0  Saurav Kant, an alumnus of upGrad and IIIT-B's...   \n",
              "1  Kunal Shah's credit card bill payment platform...   \n",
              "2  New Zealand defeated India by 8 wickets in the...   \n",
              "3  With Aegon Life iTerm Insurance plan, customer...   \n",
              "4  Speaking about the sexual harassment allegatio...   \n",
              "\n",
              "                                       decoder_input  \\\n",
              "0  sostoken upGrad learner switches to career in ...   \n",
              "1  sostoken Delhi techie wins free food from Swig...   \n",
              "2  sostoken New Zealand end Rohit Sharma-led Indi...   \n",
              "3  sostoken Aegon life iTerm insurance plan helps...   \n",
              "4  sostoken Have known Hirani for yrs, what if Me...   \n",
              "\n",
              "                                      decoder_target  \n",
              "0  upGrad learner switches to career in ML & Al w...  \n",
              "1  Delhi techie wins free food from Swiggy for on...  \n",
              "2  New Zealand end Rohit Sharma-led India's 12-ma...  \n",
              "3  Aegon life iTerm insurance plan helps customer...  \n",
              "4  Have known Hirani for yrs, what if MeToo claim...  "
            ],
            "text/html": [
              "\n",
              "  <div id=\"df-4c0aa90e-39d7-4cda-bd4e-32ecb8451053\" class=\"colab-df-container\">\n",
              "    <div>\n",
              "<style scoped>\n",
              "    .dataframe tbody tr th:only-of-type {\n",
              "        vertical-align: middle;\n",
              "    }\n",
              "\n",
              "    .dataframe tbody tr th {\n",
              "        vertical-align: top;\n",
              "    }\n",
              "\n",
              "    .dataframe thead th {\n",
              "        text-align: right;\n",
              "    }\n",
              "</style>\n",
              "<table border=\"1\" class=\"dataframe\">\n",
              "  <thead>\n",
              "    <tr style=\"text-align: right;\">\n",
              "      <th></th>\n",
              "      <th>headlines</th>\n",
              "      <th>text</th>\n",
              "      <th>decoder_input</th>\n",
              "      <th>decoder_target</th>\n",
              "    </tr>\n",
              "  </thead>\n",
              "  <tbody>\n",
              "    <tr>\n",
              "      <th>0</th>\n",
              "      <td>upGrad learner switches to career in ML &amp; Al w...</td>\n",
              "      <td>Saurav Kant, an alumnus of upGrad and IIIT-B's...</td>\n",
              "      <td>sostoken upGrad learner switches to career in ...</td>\n",
              "      <td>upGrad learner switches to career in ML &amp; Al w...</td>\n",
              "    </tr>\n",
              "    <tr>\n",
              "      <th>1</th>\n",
              "      <td>Delhi techie wins free food from Swiggy for on...</td>\n",
              "      <td>Kunal Shah's credit card bill payment platform...</td>\n",
              "      <td>sostoken Delhi techie wins free food from Swig...</td>\n",
              "      <td>Delhi techie wins free food from Swiggy for on...</td>\n",
              "    </tr>\n",
              "    <tr>\n",
              "      <th>2</th>\n",
              "      <td>New Zealand end Rohit Sharma-led India's 12-ma...</td>\n",
              "      <td>New Zealand defeated India by 8 wickets in the...</td>\n",
              "      <td>sostoken New Zealand end Rohit Sharma-led Indi...</td>\n",
              "      <td>New Zealand end Rohit Sharma-led India's 12-ma...</td>\n",
              "    </tr>\n",
              "    <tr>\n",
              "      <th>3</th>\n",
              "      <td>Aegon life iTerm insurance plan helps customer...</td>\n",
              "      <td>With Aegon Life iTerm Insurance plan, customer...</td>\n",
              "      <td>sostoken Aegon life iTerm insurance plan helps...</td>\n",
              "      <td>Aegon life iTerm insurance plan helps customer...</td>\n",
              "    </tr>\n",
              "    <tr>\n",
              "      <th>4</th>\n",
              "      <td>Have known Hirani for yrs, what if MeToo claim...</td>\n",
              "      <td>Speaking about the sexual harassment allegatio...</td>\n",
              "      <td>sostoken Have known Hirani for yrs, what if Me...</td>\n",
              "      <td>Have known Hirani for yrs, what if MeToo claim...</td>\n",
              "    </tr>\n",
              "  </tbody>\n",
              "</table>\n",
              "</div>\n",
              "    <div class=\"colab-df-buttons\">\n",
              "\n",
              "  <div class=\"colab-df-container\">\n",
              "    <button class=\"colab-df-convert\" onclick=\"convertToInteractive('df-4c0aa90e-39d7-4cda-bd4e-32ecb8451053')\"\n",
              "            title=\"Convert this dataframe to an interactive table.\"\n",
              "            style=\"display:none;\">\n",
              "\n",
              "  <svg xmlns=\"http://www.w3.org/2000/svg\" height=\"24px\" viewBox=\"0 -960 960 960\">\n",
              "    <path d=\"M120-120v-720h720v720H120Zm60-500h600v-160H180v160Zm220 220h160v-160H400v160Zm0 220h160v-160H400v160ZM180-400h160v-160H180v160Zm440 0h160v-160H620v160ZM180-180h160v-160H180v160Zm440 0h160v-160H620v160Z\"/>\n",
              "  </svg>\n",
              "    </button>\n",
              "\n",
              "  <style>\n",
              "    .colab-df-container {\n",
              "      display:flex;\n",
              "      gap: 12px;\n",
              "    }\n",
              "\n",
              "    .colab-df-convert {\n",
              "      background-color: #E8F0FE;\n",
              "      border: none;\n",
              "      border-radius: 50%;\n",
              "      cursor: pointer;\n",
              "      display: none;\n",
              "      fill: #1967D2;\n",
              "      height: 32px;\n",
              "      padding: 0 0 0 0;\n",
              "      width: 32px;\n",
              "    }\n",
              "\n",
              "    .colab-df-convert:hover {\n",
              "      background-color: #E2EBFA;\n",
              "      box-shadow: 0px 1px 2px rgba(60, 64, 67, 0.3), 0px 1px 3px 1px rgba(60, 64, 67, 0.15);\n",
              "      fill: #174EA6;\n",
              "    }\n",
              "\n",
              "    .colab-df-buttons div {\n",
              "      margin-bottom: 4px;\n",
              "    }\n",
              "\n",
              "    [theme=dark] .colab-df-convert {\n",
              "      background-color: #3B4455;\n",
              "      fill: #D2E3FC;\n",
              "    }\n",
              "\n",
              "    [theme=dark] .colab-df-convert:hover {\n",
              "      background-color: #434B5C;\n",
              "      box-shadow: 0px 1px 3px 1px rgba(0, 0, 0, 0.15);\n",
              "      filter: drop-shadow(0px 1px 2px rgba(0, 0, 0, 0.3));\n",
              "      fill: #FFFFFF;\n",
              "    }\n",
              "  </style>\n",
              "\n",
              "    <script>\n",
              "      const buttonEl =\n",
              "        document.querySelector('#df-4c0aa90e-39d7-4cda-bd4e-32ecb8451053 button.colab-df-convert');\n",
              "      buttonEl.style.display =\n",
              "        google.colab.kernel.accessAllowed ? 'block' : 'none';\n",
              "\n",
              "      async function convertToInteractive(key) {\n",
              "        const element = document.querySelector('#df-4c0aa90e-39d7-4cda-bd4e-32ecb8451053');\n",
              "        const dataTable =\n",
              "          await google.colab.kernel.invokeFunction('convertToInteractive',\n",
              "                                                    [key], {});\n",
              "        if (!dataTable) return;\n",
              "\n",
              "        const docLinkHtml = 'Like what you see? Visit the ' +\n",
              "          '<a target=\"_blank\" href=https://colab.research.google.com/notebooks/data_table.ipynb>data table notebook</a>'\n",
              "          + ' to learn more about interactive tables.';\n",
              "        element.innerHTML = '';\n",
              "        dataTable['output_type'] = 'display_data';\n",
              "        await google.colab.output.renderOutput(dataTable, element);\n",
              "        const docLink = document.createElement('div');\n",
              "        docLink.innerHTML = docLinkHtml;\n",
              "        element.appendChild(docLink);\n",
              "      }\n",
              "    </script>\n",
              "  </div>\n",
              "\n",
              "\n",
              "<div id=\"df-d4e5003c-6eda-44ee-8773-36bdd958706e\">\n",
              "  <button class=\"colab-df-quickchart\" onclick=\"quickchart('df-d4e5003c-6eda-44ee-8773-36bdd958706e')\"\n",
              "            title=\"Suggest charts.\"\n",
              "            style=\"display:none;\">\n",
              "\n",
              "<svg xmlns=\"http://www.w3.org/2000/svg\" height=\"24px\"viewBox=\"0 0 24 24\"\n",
              "     width=\"24px\">\n",
              "    <g>\n",
              "        <path d=\"M19 3H5c-1.1 0-2 .9-2 2v14c0 1.1.9 2 2 2h14c1.1 0 2-.9 2-2V5c0-1.1-.9-2-2-2zM9 17H7v-7h2v7zm4 0h-2V7h2v10zm4 0h-2v-4h2v4z\"/>\n",
              "    </g>\n",
              "</svg>\n",
              "  </button>\n",
              "\n",
              "<style>\n",
              "  .colab-df-quickchart {\n",
              "      --bg-color: #E8F0FE;\n",
              "      --fill-color: #1967D2;\n",
              "      --hover-bg-color: #E2EBFA;\n",
              "      --hover-fill-color: #174EA6;\n",
              "      --disabled-fill-color: #AAA;\n",
              "      --disabled-bg-color: #DDD;\n",
              "  }\n",
              "\n",
              "  [theme=dark] .colab-df-quickchart {\n",
              "      --bg-color: #3B4455;\n",
              "      --fill-color: #D2E3FC;\n",
              "      --hover-bg-color: #434B5C;\n",
              "      --hover-fill-color: #FFFFFF;\n",
              "      --disabled-bg-color: #3B4455;\n",
              "      --disabled-fill-color: #666;\n",
              "  }\n",
              "\n",
              "  .colab-df-quickchart {\n",
              "    background-color: var(--bg-color);\n",
              "    border: none;\n",
              "    border-radius: 50%;\n",
              "    cursor: pointer;\n",
              "    display: none;\n",
              "    fill: var(--fill-color);\n",
              "    height: 32px;\n",
              "    padding: 0;\n",
              "    width: 32px;\n",
              "  }\n",
              "\n",
              "  .colab-df-quickchart:hover {\n",
              "    background-color: var(--hover-bg-color);\n",
              "    box-shadow: 0 1px 2px rgba(60, 64, 67, 0.3), 0 1px 3px 1px rgba(60, 64, 67, 0.15);\n",
              "    fill: var(--button-hover-fill-color);\n",
              "  }\n",
              "\n",
              "  .colab-df-quickchart-complete:disabled,\n",
              "  .colab-df-quickchart-complete:disabled:hover {\n",
              "    background-color: var(--disabled-bg-color);\n",
              "    fill: var(--disabled-fill-color);\n",
              "    box-shadow: none;\n",
              "  }\n",
              "\n",
              "  .colab-df-spinner {\n",
              "    border: 2px solid var(--fill-color);\n",
              "    border-color: transparent;\n",
              "    border-bottom-color: var(--fill-color);\n",
              "    animation:\n",
              "      spin 1s steps(1) infinite;\n",
              "  }\n",
              "\n",
              "  @keyframes spin {\n",
              "    0% {\n",
              "      border-color: transparent;\n",
              "      border-bottom-color: var(--fill-color);\n",
              "      border-left-color: var(--fill-color);\n",
              "    }\n",
              "    20% {\n",
              "      border-color: transparent;\n",
              "      border-left-color: var(--fill-color);\n",
              "      border-top-color: var(--fill-color);\n",
              "    }\n",
              "    30% {\n",
              "      border-color: transparent;\n",
              "      border-left-color: var(--fill-color);\n",
              "      border-top-color: var(--fill-color);\n",
              "      border-right-color: var(--fill-color);\n",
              "    }\n",
              "    40% {\n",
              "      border-color: transparent;\n",
              "      border-right-color: var(--fill-color);\n",
              "      border-top-color: var(--fill-color);\n",
              "    }\n",
              "    60% {\n",
              "      border-color: transparent;\n",
              "      border-right-color: var(--fill-color);\n",
              "    }\n",
              "    80% {\n",
              "      border-color: transparent;\n",
              "      border-right-color: var(--fill-color);\n",
              "      border-bottom-color: var(--fill-color);\n",
              "    }\n",
              "    90% {\n",
              "      border-color: transparent;\n",
              "      border-bottom-color: var(--fill-color);\n",
              "    }\n",
              "  }\n",
              "</style>\n",
              "\n",
              "  <script>\n",
              "    async function quickchart(key) {\n",
              "      const quickchartButtonEl =\n",
              "        document.querySelector('#' + key + ' button');\n",
              "      quickchartButtonEl.disabled = true;  // To prevent multiple clicks.\n",
              "      quickchartButtonEl.classList.add('colab-df-spinner');\n",
              "      try {\n",
              "        const charts = await google.colab.kernel.invokeFunction(\n",
              "            'suggestCharts', [key], {});\n",
              "      } catch (error) {\n",
              "        console.error('Error during call to suggestCharts:', error);\n",
              "      }\n",
              "      quickchartButtonEl.classList.remove('colab-df-spinner');\n",
              "      quickchartButtonEl.classList.add('colab-df-quickchart-complete');\n",
              "    }\n",
              "    (() => {\n",
              "      let quickchartButtonEl =\n",
              "        document.querySelector('#df-d4e5003c-6eda-44ee-8773-36bdd958706e button');\n",
              "      quickchartButtonEl.style.display =\n",
              "        google.colab.kernel.accessAllowed ? 'block' : 'none';\n",
              "    })();\n",
              "  </script>\n",
              "</div>\n",
              "    </div>\n",
              "  </div>\n"
            ]
          },
          "metadata": {},
          "execution_count": 10
        }
      ]
    },
    {
      "cell_type": "code",
      "source": [
        "encoder_input = np.array(data['text']) # 인코더의 입력\n",
        "decoder_input = np.array(data['decoder_input']) # 디코더의 입력\n",
        "decoder_target = np.array(data['decoder_target']) # 디코더의 레이블\n",
        "print('=3')"
      ],
      "metadata": {
        "colab": {
          "base_uri": "https://localhost:8080/"
        },
        "id": "82K70BpUPN1O",
        "outputId": "ed6d8969-b3c5-4ea8-a3b7-84b8f65e855c"
      },
      "execution_count": null,
      "outputs": [
        {
          "output_type": "stream",
          "name": "stdout",
          "text": [
            "=3\n"
          ]
        }
      ]
    },
    {
      "cell_type": "code",
      "source": [
        "indices = np.arange(encoder_input.shape[0])\n",
        "np.random.shuffle(indices)\n",
        "print(indices)"
      ],
      "metadata": {
        "colab": {
          "base_uri": "https://localhost:8080/"
        },
        "id": "U5V2uu48PSqh",
        "outputId": "521d43cb-6998-4807-b3d4-8819c4c8b75b"
      },
      "execution_count": null,
      "outputs": [
        {
          "output_type": "stream",
          "name": "stdout",
          "text": [
            "[20035  7522 50172 ... 25432 41639 86042]\n"
          ]
        }
      ]
    },
    {
      "cell_type": "code",
      "source": [
        "encoder_input = encoder_input[indices]\n",
        "decoder_input = decoder_input[indices]\n",
        "decoder_target = decoder_target[indices]\n",
        "print('=3')"
      ],
      "metadata": {
        "colab": {
          "base_uri": "https://localhost:8080/"
        },
        "id": "NF9FfZUrPUv7",
        "outputId": "604b586b-bc0d-4315-e6a9-97d35b3ab8d8"
      },
      "execution_count": null,
      "outputs": [
        {
          "output_type": "stream",
          "name": "stdout",
          "text": [
            "=3\n"
          ]
        }
      ]
    },
    {
      "cell_type": "code",
      "source": [
        "n_of_val = int(len(encoder_input)*0.2)\n",
        "print('테스트 데이터의 수 :', n_of_val)"
      ],
      "metadata": {
        "colab": {
          "base_uri": "https://localhost:8080/"
        },
        "id": "VGSXs6fQPW0y",
        "outputId": "aa03582a-bccd-40cb-8700-0345fa260a60"
      },
      "execution_count": null,
      "outputs": [
        {
          "output_type": "stream",
          "name": "stdout",
          "text": [
            "테스트 데이터의 수 : 19680\n"
          ]
        }
      ]
    },
    {
      "cell_type": "code",
      "source": [
        "encoder_input_train = encoder_input[:-n_of_val]\n",
        "decoder_input_train = decoder_input[:-n_of_val]\n",
        "decoder_target_train = decoder_target[:-n_of_val]\n",
        "\n",
        "encoder_input_test = encoder_input[-n_of_val:]\n",
        "decoder_input_test = decoder_input[-n_of_val:]\n",
        "decoder_target_test = decoder_target[-n_of_val:]\n",
        "\n",
        "print('훈련 데이터의 개수 :', len(encoder_input_train))\n",
        "print('훈련 레이블의 개수 :', len(decoder_input_train))\n",
        "print('테스트 데이터의 개수 :', len(encoder_input_test))\n",
        "print('테스트 레이블의 개수 :', len(decoder_input_test))"
      ],
      "metadata": {
        "colab": {
          "base_uri": "https://localhost:8080/"
        },
        "id": "FOZWRq9kPZB6",
        "outputId": "ab3e55e3-8389-428f-ca7e-a0ebe4b35eee"
      },
      "execution_count": null,
      "outputs": [
        {
          "output_type": "stream",
          "name": "stdout",
          "text": [
            "훈련 데이터의 개수 : 78721\n",
            "훈련 레이블의 개수 : 78721\n",
            "테스트 데이터의 개수 : 19680\n",
            "테스트 레이블의 개수 : 19680\n"
          ]
        }
      ]
    },
    {
      "cell_type": "code",
      "source": [
        "src_tokenizer = Tokenizer() # 토크나이저 정의\n",
        "src_tokenizer.fit_on_texts(encoder_input_train) # 입력된 데이터로부터 단어 집합 생성\n",
        "print('=3')"
      ],
      "metadata": {
        "colab": {
          "base_uri": "https://localhost:8080/"
        },
        "id": "8PZzHFgMQz3-",
        "outputId": "decdfb12-9c0c-4c22-cb8d-3725a2198c7d"
      },
      "execution_count": null,
      "outputs": [
        {
          "output_type": "stream",
          "name": "stdout",
          "text": [
            "=3\n"
          ]
        }
      ]
    },
    {
      "cell_type": "code",
      "source": [
        "threshold = 7\n",
        "total_cnt = len(src_tokenizer.word_index) # 단어의 수\n",
        "rare_cnt = 0 # 등장 빈도수가 threshold보다 작은 단어의 개수를 카운트\n",
        "total_freq = 0 # 훈련 데이터의 전체 단어 빈도수 총 합\n",
        "rare_freq = 0 # 등장 빈도수가 threshold보다 작은 단어의 등장 빈도수의 총 합\n",
        "\n",
        "# 단어와 빈도수의 쌍(pair)을 key와 value로 받는다.\n",
        "for key, value in src_tokenizer.word_counts.items():\n",
        "    total_freq = total_freq + value\n",
        "\n",
        "    # 단어의 등장 빈도수가 threshold보다 작으면\n",
        "    if(value < threshold):\n",
        "        rare_cnt = rare_cnt + 1\n",
        "        rare_freq = rare_freq + value\n",
        "\n",
        "print('단어 집합(vocabulary)의 크기 :', total_cnt)\n",
        "print('등장 빈도가 %s번 이하인 희귀 단어의 수: %s'%(threshold - 1, rare_cnt))\n",
        "print('단어 집합에서 희귀 단어를 제외시킬 경우의 단어 집합의 크기 %s'%(total_cnt - rare_cnt))\n",
        "print(\"단어 집합에서 희귀 단어의 비율:\", (rare_cnt / total_cnt)*100)\n",
        "print(\"전체 등장 빈도에서 희귀 단어 등장 빈도 비율:\", (rare_freq / total_freq)*100)"
      ],
      "metadata": {
        "colab": {
          "base_uri": "https://localhost:8080/"
        },
        "id": "3jCuMRFfQ1ti",
        "outputId": "1be14914-4b1f-424d-b1c2-f44295512033"
      },
      "execution_count": null,
      "outputs": [
        {
          "output_type": "stream",
          "name": "stdout",
          "text": [
            "단어 집합(vocabulary)의 크기 : 91124\n",
            "등장 빈도가 6번 이하인 희귀 단어의 수: 66415\n",
            "단어 집합에서 희귀 단어를 제외시킬 경우의 단어 집합의 크기 24709\n",
            "단어 집합에서 희귀 단어의 비율: 72.88420174706994\n",
            "전체 등장 빈도에서 희귀 단어 등장 빈도 비율: 2.729905481058597\n"
          ]
        }
      ]
    },
    {
      "cell_type": "code",
      "source": [
        "src_vocab = 8000\n",
        "src_tokenizer = Tokenizer(num_words=src_vocab) # 단어 집합의 크기를 8,000으로 제한\n",
        "src_tokenizer.fit_on_texts(encoder_input_train) # 단어 집합 재생성\n",
        "print('=3')"
      ],
      "metadata": {
        "colab": {
          "base_uri": "https://localhost:8080/"
        },
        "id": "p9MkRdPwQ2uO",
        "outputId": "1230dfc4-430e-42c4-f571-da660ba03d77"
      },
      "execution_count": null,
      "outputs": [
        {
          "output_type": "stream",
          "name": "stdout",
          "text": [
            "=3\n"
          ]
        }
      ]
    },
    {
      "cell_type": "code",
      "source": [
        "# 텍스트 시퀀스를 정수 시퀀스로 변환\n",
        "encoder_input_train = src_tokenizer.texts_to_sequences(encoder_input_train)\n",
        "encoder_input_test = src_tokenizer.texts_to_sequences(encoder_input_test)\n",
        "\n",
        "# 잘 진행되었는지 샘플 출력\n",
        "print(encoder_input_train[:3])"
      ],
      "metadata": {
        "colab": {
          "base_uri": "https://localhost:8080/"
        },
        "id": "j0y1w3KfQ6HS",
        "outputId": "dfe1a5ec-88c0-4f87-8fdc-35781d8018c8"
      },
      "execution_count": null,
      "outputs": [
        {
          "output_type": "stream",
          "name": "stdout",
          "text": [
            "[[76, 560, 548, 375, 23, 1544, 3, 74, 4, 17, 227, 145, 7, 553, 515, 59, 4802, 10, 23, 25, 349, 3, 11, 17, 1431, 20, 3, 562, 5296, 5728, 6, 14, 29, 3, 2017, 1173, 5889, 552, 322, 4, 3652, 90, 35, 217, 22, 1, 574, 5, 1298], [1, 93, 7, 121, 1137, 106, 188, 119, 36, 262, 678, 6870, 703, 955, 87, 35, 12, 1, 667, 106, 2069, 2, 1, 145, 93, 156, 1145, 7602, 40, 10, 11, 178, 467, 1, 145, 8, 2038, 1413, 36, 474, 6, 3817, 1025, 14, 913, 3, 800, 138, 1, 5, 3, 1901, 173, 68, 1021, 4, 1, 703], [2234, 1351, 4383, 5134, 7704, 295, 5, 194, 2352, 1630, 28, 12, 1901, 1554, 1163, 6495, 7315, 1935, 1744, 9, 17, 4130, 7506, 4, 1, 546, 1530, 28, 12, 1275, 9, 2123, 108, 2698, 9, 2375, 174, 6, 8, 3564, 39, 4, 1, 236, 1355, 460, 86, 297, 1, 537, 30, 55, 392, 1708, 1128, 8, 286, 250, 826, 4, 515]]\n"
          ]
        }
      ]
    },
    {
      "cell_type": "code",
      "source": [
        "tar_tokenizer = Tokenizer()\n",
        "tar_tokenizer.fit_on_texts(decoder_input_train)\n",
        "print('=3')"
      ],
      "metadata": {
        "colab": {
          "base_uri": "https://localhost:8080/"
        },
        "id": "eynns5TyQ9oi",
        "outputId": "3faa90a3-5f8b-4e52-ee1e-d3ca64c238b3"
      },
      "execution_count": null,
      "outputs": [
        {
          "output_type": "stream",
          "name": "stdout",
          "text": [
            "=3\n"
          ]
        }
      ]
    },
    {
      "cell_type": "code",
      "source": [
        "threshold = 6\n",
        "total_cnt = len(tar_tokenizer.word_index) # 단어의 수\n",
        "rare_cnt = 0 # 등장 빈도수가 threshold보다 작은 단어의 개수를 카운트\n",
        "total_freq = 0 # 훈련 데이터의 전체 단어 빈도수 총 합\n",
        "rare_freq = 0 # 등장 빈도수가 threshold보다 작은 단어의 등장 빈도수의 총 합\n",
        "\n",
        "# 단어와 빈도수의 쌍(pair)을 key와 value로 받는다.\n",
        "for key, value in tar_tokenizer.word_counts.items():\n",
        "    total_freq = total_freq + value\n",
        "\n",
        "    # 단어의 등장 빈도수가 threshold보다 작으면\n",
        "    if(value < threshold):\n",
        "        rare_cnt = rare_cnt + 1\n",
        "        rare_freq = rare_freq + value\n",
        "\n",
        "print('단어 집합(vocabulary)의 크기 :', total_cnt)\n",
        "print('등장 빈도가 %s번 이하인 희귀 단어의 수: %s'%(threshold - 1, rare_cnt))\n",
        "print('단어 집합에서 희귀 단어를 제외시킬 경우의 단어 집합의 크기 %s'%(total_cnt - rare_cnt))\n",
        "print(\"단어 집합에서 희귀 단어의 비율:\", (rare_cnt / total_cnt)*100)\n",
        "print(\"전체 등장 빈도에서 희귀 단어 등장 빈도 비율:\", (rare_freq / total_freq)*100)"
      ],
      "metadata": {
        "colab": {
          "base_uri": "https://localhost:8080/"
        },
        "id": "QYJ06my-RAIG",
        "outputId": "4f92cbad-5d88-46cb-aa73-f39cbe91cff0"
      },
      "execution_count": null,
      "outputs": [
        {
          "output_type": "stream",
          "name": "stdout",
          "text": [
            "단어 집합(vocabulary)의 크기 : 40615\n",
            "등장 빈도가 5번 이하인 희귀 단어의 수: 29316\n",
            "단어 집합에서 희귀 단어를 제외시킬 경우의 단어 집합의 크기 11299\n",
            "단어 집합에서 희귀 단어의 비율: 72.1802289794411\n",
            "전체 등장 빈도에서 희귀 단어 등장 빈도 비율: 6.122137494203077\n"
          ]
        }
      ]
    },
    {
      "cell_type": "code",
      "source": [
        "tar_vocab = 2000\n",
        "tar_tokenizer = Tokenizer(num_words=tar_vocab)\n",
        "tar_tokenizer.fit_on_texts(decoder_input_train)\n",
        "tar_tokenizer.fit_on_texts(decoder_target_train)\n",
        "\n",
        "# 텍스트 시퀀스를 정수 시퀀스로 변환\n",
        "decoder_input_train = tar_tokenizer.texts_to_sequences(decoder_input_train)\n",
        "decoder_target_train = tar_tokenizer.texts_to_sequences(decoder_target_train)\n",
        "decoder_input_test = tar_tokenizer.texts_to_sequences(decoder_input_test)\n",
        "decoder_target_test = tar_tokenizer.texts_to_sequences(decoder_target_test)\n",
        "\n",
        "# 잘 변환되었는지 확인\n",
        "print('input')\n",
        "print('input ',decoder_input_train[:5])\n",
        "print('target')\n",
        "print('decoder ',decoder_target_train[:5])"
      ],
      "metadata": {
        "colab": {
          "base_uri": "https://localhost:8080/"
        },
        "id": "KxRaTAlHRCCG",
        "outputId": "498f79fb-90ff-4972-9380-6269d13ccbca"
      },
      "execution_count": null,
      "outputs": [
        {
          "output_type": "stream",
          "name": "stdout",
          "text": [
            "input\n",
            "input  [[1, 51, 202, 101, 3, 71, 235, 4, 180, 657], [1, 21, 309, 18, 526, 24, 142, 7, 632], [1, 640, 839, 5, 1926, 72, 5, 1400, 401], [1, 1219, 290, 298, 3, 891, 4, 1157, 706], [1, 937, 33, 27, 195, 15, 1873, 1322]]\n",
            "target\n",
            "decoder  [[51, 202, 101, 3, 71, 235, 4, 180, 657, 2], [21, 309, 18, 526, 24, 142, 7, 632, 2], [640, 839, 5, 1926, 72, 5, 1400, 401, 2], [1219, 290, 298, 3, 891, 4, 1157, 706, 2], [937, 33, 27, 195, 15, 1873, 1322, 2]]\n"
          ]
        }
      ]
    },
    {
      "cell_type": "code",
      "source": [
        "drop_train = [index for index, sentence in enumerate(decoder_input_train) if len(sentence) == 1]\n",
        "drop_test = [index for index, sentence in enumerate(decoder_input_test) if len(sentence) == 1]\n",
        "\n",
        "print('삭제할 훈련 데이터의 개수 :', len(drop_train))\n",
        "print('삭제할 테스트 데이터의 개수 :', len(drop_test))\n",
        "\n",
        "encoder_input_train = [sentence for index, sentence in enumerate(encoder_input_train) if index not in drop_train]\n",
        "decoder_input_train = [sentence for index, sentence in enumerate(decoder_input_train) if index not in drop_train]\n",
        "decoder_target_train = [sentence for index, sentence in enumerate(decoder_target_train) if index not in drop_train]\n",
        "\n",
        "encoder_input_test = [sentence for index, sentence in enumerate(encoder_input_test) if index not in drop_test]\n",
        "decoder_input_test = [sentence for index, sentence in enumerate(decoder_input_test) if index not in drop_test]\n",
        "decoder_target_test = [sentence for index, sentence in enumerate(decoder_target_test) if index not in drop_test]\n",
        "\n",
        "print('훈련 데이터의 개수 :', len(encoder_input_train))\n",
        "print('훈련 레이블의 개수 :', len(decoder_input_train))\n",
        "print('테스트 데이터의 개수 :', len(encoder_input_test))\n",
        "print('테스트 레이블의 개수 :', len(decoder_input_test))"
      ],
      "metadata": {
        "colab": {
          "base_uri": "https://localhost:8080/"
        },
        "id": "1GUhgBvLREMq",
        "outputId": "6d93399a-2045-4583-c65d-0052f4ccd4c0"
      },
      "execution_count": null,
      "outputs": [
        {
          "output_type": "stream",
          "name": "stdout",
          "text": [
            "삭제할 훈련 데이터의 개수 : 18\n",
            "삭제할 테스트 데이터의 개수 : 3\n",
            "훈련 데이터의 개수 : 78703\n",
            "훈련 레이블의 개수 : 78703\n",
            "테스트 데이터의 개수 : 19677\n",
            "테스트 레이블의 개수 : 19677\n"
          ]
        }
      ]
    },
    {
      "cell_type": "code",
      "source": [
        "encoder_input_train = pad_sequences(encoder_input_train, maxlen=text_max_len, padding='post')\n",
        "encoder_input_test = pad_sequences(encoder_input_test, maxlen=text_max_len, padding='post')\n",
        "decoder_input_train = pad_sequences(decoder_input_train, maxlen=summary_max_len, padding='post')\n",
        "decoder_target_train = pad_sequences(decoder_target_train, maxlen=summary_max_len, padding='post')\n",
        "decoder_input_test = pad_sequences(decoder_input_test, maxlen=summary_max_len, padding='post')\n",
        "decoder_target_test = pad_sequences(decoder_target_test, maxlen=summary_max_len, padding='post')\n",
        "print('=3')"
      ],
      "metadata": {
        "colab": {
          "base_uri": "https://localhost:8080/"
        },
        "id": "szWEKI3SRGXK",
        "outputId": "f1240c25-097b-4170-b959-6d902042d69f"
      },
      "execution_count": null,
      "outputs": [
        {
          "output_type": "stream",
          "name": "stdout",
          "text": [
            "=3\n"
          ]
        }
      ]
    },
    {
      "cell_type": "code",
      "source": [
        "from tensorflow.keras.layers import Input, LSTM, Embedding, Dense, Concatenate, TimeDistributed\n",
        "from tensorflow.keras.models import Model\n",
        "from tensorflow.keras.callbacks import EarlyStopping, ModelCheckpoint\n",
        "\n",
        "\n",
        "# 인코더 설계 시작\n",
        "embedding_dim = 128\n",
        "hidden_size = 256\n",
        "\n",
        "# 인코더\n",
        "encoder_inputs = Input(shape=(text_max_len,))\n",
        "\n",
        "# 인코더의 임베딩 층\n",
        "enc_emb = Embedding(src_vocab, embedding_dim)(encoder_inputs)\n",
        "\n",
        "# 인코더의 LSTM 1\n",
        "# encoder_lstm1 = LSTM(hidden_size, return_sequences=True, return_state=True ,dropout = 0.4, recurrent_dropout = 0.4)\n",
        "encoder_lstm1 = LSTM(hidden_size, return_sequences=True, return_state=True ,dropout = 0.4)\n",
        "encoder_output1, state_h1, state_c1 = encoder_lstm1(enc_emb)\n",
        "\n",
        "# 인코더의 LSTM 2\n",
        "# encoder_lstm2 = LSTM(hidden_size, return_sequences=True, return_state=True, dropout=0.4, recurrent_dropout=0.4)\n",
        "encoder_lstm2 = LSTM(hidden_size, return_sequences=True, return_state=True, dropout=0.4)\n",
        "encoder_output2, state_h2, state_c2 = encoder_lstm2(encoder_output1)\n",
        "\n",
        "# 인코더의 LSTM 3\n",
        "# encoder_lstm3 = LSTM(hidden_size, return_state=True, return_sequences=True, dropout=0.4, recurrent_dropout=0.4)\n",
        "encoder_lstm3 = LSTM(hidden_size, return_state=True, return_sequences=True, dropout=0.4)\n",
        "encoder_outputs, state_h, state_c= encoder_lstm3(encoder_output2)\n"
      ],
      "metadata": {
        "id": "sFN9LWXVL6ND"
      },
      "execution_count": null,
      "outputs": []
    },
    {
      "cell_type": "code",
      "source": [
        "# 디코더 설계\n",
        "decoder_inputs = Input(shape=(None,))\n",
        "\n",
        "# 디코더의 임베딩 층\n",
        "dec_emb_layer = Embedding(tar_vocab, embedding_dim)\n",
        "dec_emb = dec_emb_layer(decoder_inputs)\n",
        "\n",
        "# 디코더의 LSTM\n",
        "# decoder_lstm = LSTM(hidden_size, return_sequences=True, return_state=True, dropout=0.4, recurrent_dropout=0.2)\n",
        "decoder_lstm = LSTM(hidden_size, return_sequences=True, return_state=True, dropout=0.4)\n",
        "decoder_outputs, _, _ = decoder_lstm(dec_emb, initial_state=[state_h, state_c])"
      ],
      "metadata": {
        "id": "vXXRjIHnMwej"
      },
      "execution_count": null,
      "outputs": []
    },
    {
      "cell_type": "code",
      "source": [
        "# 디코더의 출력층\n",
        "decoder_softmax_layer = Dense(tar_vocab, activation='softmax')\n",
        "decoder_softmax_outputs = decoder_softmax_layer(decoder_outputs)\n",
        "\n",
        "# 모델 정의\n",
        "model = Model([encoder_inputs, decoder_inputs], decoder_softmax_outputs)\n",
        "model.summary()"
      ],
      "metadata": {
        "colab": {
          "base_uri": "https://localhost:8080/"
        },
        "id": "ytu_ItABM3HU",
        "outputId": "f16e302a-6299-4af2-86de-cc9f18487aed"
      },
      "execution_count": null,
      "outputs": [
        {
          "output_type": "stream",
          "name": "stdout",
          "text": [
            "Model: \"model\"\n",
            "__________________________________________________________________________________________________\n",
            " Layer (type)                Output Shape                 Param #   Connected to                  \n",
            "==================================================================================================\n",
            " input_1 (InputLayer)        [(None, 50)]                 0         []                            \n",
            "                                                                                                  \n",
            " embedding (Embedding)       (None, 50, 128)              1024000   ['input_1[0][0]']             \n",
            "                                                                                                  \n",
            " lstm (LSTM)                 [(None, 50, 256),            394240    ['embedding[0][0]']           \n",
            "                              (None, 256),                                                        \n",
            "                              (None, 256)]                                                        \n",
            "                                                                                                  \n",
            " input_2 (InputLayer)        [(None, None)]               0         []                            \n",
            "                                                                                                  \n",
            " lstm_1 (LSTM)               [(None, 50, 256),            525312    ['lstm[0][0]']                \n",
            "                              (None, 256),                                                        \n",
            "                              (None, 256)]                                                        \n",
            "                                                                                                  \n",
            " embedding_1 (Embedding)     (None, None, 128)            256000    ['input_2[0][0]']             \n",
            "                                                                                                  \n",
            " lstm_2 (LSTM)               [(None, 50, 256),            525312    ['lstm_1[0][0]']              \n",
            "                              (None, 256),                                                        \n",
            "                              (None, 256)]                                                        \n",
            "                                                                                                  \n",
            " lstm_3 (LSTM)               [(None, None, 256),          394240    ['embedding_1[0][0]',         \n",
            "                              (None, 256),                           'lstm_2[0][1]',              \n",
            "                              (None, 256)]                           'lstm_2[0][2]']              \n",
            "                                                                                                  \n",
            " dense (Dense)               (None, None, 2000)           514000    ['lstm_3[0][0]']              \n",
            "                                                                                                  \n",
            "==================================================================================================\n",
            "Total params: 3633104 (13.86 MB)\n",
            "Trainable params: 3633104 (13.86 MB)\n",
            "Non-trainable params: 0 (0.00 Byte)\n",
            "__________________________________________________________________________________________________\n"
          ]
        }
      ]
    },
    {
      "cell_type": "code",
      "source": [
        "from tensorflow.keras.layers import AdditiveAttention\n",
        "\n",
        "# 어텐션 층(어텐션 함수)\n",
        "attn_layer = AdditiveAttention(name='attention_layer')\n",
        "\n",
        "# 인코더와 디코더의 모든 time step의 hidden state를 어텐션 층에 전달하고 결과를 리턴\n",
        "attn_out = attn_layer([decoder_outputs, encoder_outputs])\n",
        "\n",
        "\n",
        "# 어텐션의 결과와 디코더의 hidden state들을 연결\n",
        "decoder_concat_input = Concatenate(axis=-1, name='concat_layer')([decoder_outputs, attn_out])\n",
        "\n",
        "# 디코더의 출력층\n",
        "decoder_softmax_layer = Dense(tar_vocab, activation='softmax')\n",
        "decoder_softmax_outputs = decoder_softmax_layer(decoder_concat_input)\n",
        "\n",
        "# 모델 정의\n",
        "model = Model([encoder_inputs, decoder_inputs], decoder_softmax_outputs)\n",
        "model.summary()"
      ],
      "metadata": {
        "colab": {
          "base_uri": "https://localhost:8080/"
        },
        "id": "FpklvoX6M-Cp",
        "outputId": "ae17bf0c-2b44-416f-a42d-293e6bd4e238"
      },
      "execution_count": null,
      "outputs": [
        {
          "output_type": "stream",
          "name": "stdout",
          "text": [
            "Model: \"model_1\"\n",
            "__________________________________________________________________________________________________\n",
            " Layer (type)                Output Shape                 Param #   Connected to                  \n",
            "==================================================================================================\n",
            " input_1 (InputLayer)        [(None, 50)]                 0         []                            \n",
            "                                                                                                  \n",
            " embedding (Embedding)       (None, 50, 128)              1024000   ['input_1[0][0]']             \n",
            "                                                                                                  \n",
            " lstm (LSTM)                 [(None, 50, 256),            394240    ['embedding[0][0]']           \n",
            "                              (None, 256),                                                        \n",
            "                              (None, 256)]                                                        \n",
            "                                                                                                  \n",
            " input_2 (InputLayer)        [(None, None)]               0         []                            \n",
            "                                                                                                  \n",
            " lstm_1 (LSTM)               [(None, 50, 256),            525312    ['lstm[0][0]']                \n",
            "                              (None, 256),                                                        \n",
            "                              (None, 256)]                                                        \n",
            "                                                                                                  \n",
            " embedding_1 (Embedding)     (None, None, 128)            256000    ['input_2[0][0]']             \n",
            "                                                                                                  \n",
            " lstm_2 (LSTM)               [(None, 50, 256),            525312    ['lstm_1[0][0]']              \n",
            "                              (None, 256),                                                        \n",
            "                              (None, 256)]                                                        \n",
            "                                                                                                  \n",
            " lstm_3 (LSTM)               [(None, None, 256),          394240    ['embedding_1[0][0]',         \n",
            "                              (None, 256),                           'lstm_2[0][1]',              \n",
            "                              (None, 256)]                           'lstm_2[0][2]']              \n",
            "                                                                                                  \n",
            " attention_layer (AdditiveA  (None, None, 256)            256       ['lstm_3[0][0]',              \n",
            " ttention)                                                           'lstm_2[0][0]']              \n",
            "                                                                                                  \n",
            " concat_layer (Concatenate)  (None, None, 512)            0         ['lstm_3[0][0]',              \n",
            "                                                                     'attention_layer[0][0]']     \n",
            "                                                                                                  \n",
            " dense_1 (Dense)             (None, None, 2000)           1026000   ['concat_layer[0][0]']        \n",
            "                                                                                                  \n",
            "==================================================================================================\n",
            "Total params: 4145360 (15.81 MB)\n",
            "Trainable params: 4145360 (15.81 MB)\n",
            "Non-trainable params: 0 (0.00 Byte)\n",
            "__________________________________________________________________________________________________\n"
          ]
        }
      ]
    },
    {
      "cell_type": "code",
      "source": [
        "model.compile(optimizer='rmsprop', loss='sparse_categorical_crossentropy')\n",
        "es = EarlyStopping(monitor='val_loss', patience=2, verbose=1)\n",
        "history = model.fit(x=[encoder_input_train, decoder_input_train], y=decoder_target_train, \\\n",
        "          validation_data=([encoder_input_test, decoder_input_test], decoder_target_test), \\\n",
        "          batch_size=100, callbacks=[es], epochs=50)"
      ],
      "metadata": {
        "colab": {
          "base_uri": "https://localhost:8080/"
        },
        "id": "vHJYzAmCNKFo",
        "outputId": "24e00a8c-da7e-4149-b875-d94de5333595"
      },
      "execution_count": null,
      "outputs": [
        {
          "output_type": "stream",
          "name": "stdout",
          "text": [
            "Epoch 1/50\n",
            "788/788 [==============================] - 47s 45ms/step - loss: 5.2438 - val_loss: 5.0937\n",
            "Epoch 2/50\n",
            "788/788 [==============================] - 15s 19ms/step - loss: 4.9932 - val_loss: 4.9448\n",
            "Epoch 3/50\n",
            "788/788 [==============================] - 12s 15ms/step - loss: 4.7843 - val_loss: 4.9040\n",
            "Epoch 4/50\n",
            "788/788 [==============================] - 12s 16ms/step - loss: 4.5379 - val_loss: 4.5189\n",
            "Epoch 5/50\n",
            "788/788 [==============================] - 12s 15ms/step - loss: 4.3293 - val_loss: 4.3555\n",
            "Epoch 6/50\n",
            "788/788 [==============================] - 12s 15ms/step - loss: 4.1713 - val_loss: 4.1783\n",
            "Epoch 7/50\n",
            "788/788 [==============================] - 11s 14ms/step - loss: 4.0392 - val_loss: 4.0587\n",
            "Epoch 8/50\n",
            "788/788 [==============================] - 11s 15ms/step - loss: 3.9239 - val_loss: 4.0367\n",
            "Epoch 9/50\n",
            "788/788 [==============================] - 11s 14ms/step - loss: 3.8241 - val_loss: 3.9301\n",
            "Epoch 10/50\n",
            "788/788 [==============================] - 11s 14ms/step - loss: 3.7342 - val_loss: 3.8635\n",
            "Epoch 11/50\n",
            "788/788 [==============================] - 11s 14ms/step - loss: 3.6489 - val_loss: 3.8004\n",
            "Epoch 12/50\n",
            "788/788 [==============================] - 11s 14ms/step - loss: 3.5716 - val_loss: 3.7502\n",
            "Epoch 13/50\n",
            "788/788 [==============================] - 11s 14ms/step - loss: 3.5003 - val_loss: 3.6880\n",
            "Epoch 14/50\n",
            "788/788 [==============================] - 11s 14ms/step - loss: 3.4335 - val_loss: 3.6718\n",
            "Epoch 15/50\n",
            "788/788 [==============================] - 11s 15ms/step - loss: 3.3708 - val_loss: 3.6511\n",
            "Epoch 16/50\n",
            "788/788 [==============================] - 11s 14ms/step - loss: 3.3147 - val_loss: 3.6271\n",
            "Epoch 17/50\n",
            "788/788 [==============================] - 11s 14ms/step - loss: 3.2619 - val_loss: 3.5880\n",
            "Epoch 18/50\n",
            "788/788 [==============================] - 11s 14ms/step - loss: 3.2109 - val_loss: 3.5832\n",
            "Epoch 19/50\n",
            "788/788 [==============================] - 11s 14ms/step - loss: 3.1656 - val_loss: 3.5534\n",
            "Epoch 20/50\n",
            "788/788 [==============================] - 11s 14ms/step - loss: 3.1217 - val_loss: 3.5511\n",
            "Epoch 21/50\n",
            "788/788 [==============================] - 11s 14ms/step - loss: 3.0803 - val_loss: 3.5385\n",
            "Epoch 22/50\n",
            "788/788 [==============================] - 11s 13ms/step - loss: 3.0411 - val_loss: 3.5308\n",
            "Epoch 23/50\n",
            "788/788 [==============================] - 11s 14ms/step - loss: 3.0034 - val_loss: 3.5328\n",
            "Epoch 24/50\n",
            "788/788 [==============================] - 11s 14ms/step - loss: 2.9669 - val_loss: 3.5156\n",
            "Epoch 25/50\n",
            "788/788 [==============================] - 11s 14ms/step - loss: 2.9330 - val_loss: 3.5161\n",
            "Epoch 26/50\n",
            "788/788 [==============================] - 11s 14ms/step - loss: 2.8999 - val_loss: 3.5103\n",
            "Epoch 27/50\n",
            "788/788 [==============================] - 11s 13ms/step - loss: 2.8696 - val_loss: 3.5248\n",
            "Epoch 28/50\n",
            "788/788 [==============================] - 10s 13ms/step - loss: 2.8388 - val_loss: 3.5224\n",
            "Epoch 28: early stopping\n"
          ]
        }
      ]
    },
    {
      "cell_type": "code",
      "source": [
        "plt.plot(history.history['loss'], label='train')\n",
        "plt.plot(history.history['val_loss'], label='test')\n",
        "plt.legend()\n",
        "plt.show()"
      ],
      "metadata": {
        "colab": {
          "base_uri": "https://localhost:8080/",
          "height": 430
        },
        "id": "J5fRZ8RaScl2",
        "outputId": "30c97472-30a0-43f5-defc-0ed1c8d0a813"
      },
      "execution_count": null,
      "outputs": [
        {
          "output_type": "display_data",
          "data": {
            "text/plain": [
              "<Figure size 640x480 with 1 Axes>"
            ],
            "image/png": "[encoded data removed]"
          },
          "metadata": {}
        }
      ]
    },
    {
      "cell_type": "code",
      "source": [
        "src_index_to_word = src_tokenizer.index_word # 원문 단어 집합에서 정수 -> 단어를 얻음\n",
        "tar_word_to_index = tar_tokenizer.word_index # 요약 단어 집합에서 단어 -> 정수를 얻음\n",
        "tar_index_to_word = tar_tokenizer.index_word # 요약 단어 집합에서 정수 -> 단어를 얻음\n",
        "\n",
        "print('=3')"
      ],
      "metadata": {
        "colab": {
          "base_uri": "https://localhost:8080/"
        },
        "id": "-DFjizZYTm8A",
        "outputId": "79497923-9ad5-4d72-fbc9-584a44f883b9"
      },
      "execution_count": null,
      "outputs": [
        {
          "output_type": "stream",
          "name": "stdout",
          "text": [
            "=3\n"
          ]
        }
      ]
    },
    {
      "cell_type": "code",
      "source": [
        "# 인코더 설계\n",
        "encoder_model = Model(inputs=encoder_inputs, outputs=[encoder_outputs, state_h, state_c])\n",
        "\n",
        "# 이전 시점의 상태들을 저장하는 텐서\n",
        "decoder_state_input_h = Input(shape=(hidden_size,))\n",
        "decoder_state_input_c = Input(shape=(hidden_size,))\n",
        "\n",
        "dec_emb2 = dec_emb_layer(decoder_inputs)\n",
        "\n",
        "# 문장의 다음 단어를 예측하기 위해서 초기 상태(initial_state)를 이전 시점의 상태로 사용\n",
        "decoder_outputs2, state_h2, state_c2 = decoder_lstm(dec_emb2, initial_state=[decoder_state_input_h, decoder_state_input_c])\n",
        "\n",
        "print('=3')"
      ],
      "metadata": {
        "colab": {
          "base_uri": "https://localhost:8080/"
        },
        "id": "MIhzZhkXTp8q",
        "outputId": "d2ae8ced-b258-4061-b88e-b271f1864f21"
      },
      "execution_count": null,
      "outputs": [
        {
          "output_type": "stream",
          "name": "stdout",
          "text": [
            "=3\n"
          ]
        }
      ]
    },
    {
      "cell_type": "code",
      "source": [
        "from tensorflow.keras.layers import AdditiveAttention, Concatenate\n",
        "\n",
        "# 어텐션 함수\n",
        "decoder_hidden_state_input = Input(shape=(text_max_len, hidden_size))\n",
        "attn_layer = AdditiveAttention(name='attention_layer')\n",
        "\n",
        "# 어텐션의 결과를 얻기 위해 디코더의 출력과 인코더의 hidden state를 입력으로 사용\n",
        "attn_out_inf = attn_layer([decoder_outputs2, decoder_hidden_state_input])\n",
        "\n",
        "# 어텐션의 결과와 디코더의 hidden state를 결합\n",
        "decoder_inf_concat = Concatenate(axis=-1, name='concat')([decoder_outputs2, attn_out_inf])\n",
        "\n",
        "# 디코더의 출력층\n",
        "decoder_final_output_layer = Dense(tar_vocab, activation='softmax')\n",
        "decoder_final_outputs = decoder_final_output_layer(decoder_inf_concat)\n",
        "\n",
        "# 최종 디코더 모델\n",
        "decoder_model = Model(\n",
        "    [decoder_inputs, decoder_hidden_state_input, decoder_state_input_h, decoder_state_input_c],\n",
        "    [decoder_final_outputs, state_h2, state_c2])\n",
        "\n",
        "print('=3')"
      ],
      "metadata": {
        "colab": {
          "base_uri": "https://localhost:8080/"
        },
        "id": "trXwugheTv88",
        "outputId": "4dc5f5a1-6fb8-4d2f-bba3-9cec3632d096"
      },
      "execution_count": null,
      "outputs": [
        {
          "output_type": "stream",
          "name": "stdout",
          "text": [
            "=3\n"
          ]
        }
      ]
    },
    {
      "cell_type": "code",
      "source": [
        "def decode_sequence(input_seq):\n",
        "    # 입력으로부터 인코더의 상태를 얻음\n",
        "    e_out, e_h, e_c = encoder_model.predict(input_seq)\n",
        "\n",
        "     # <SOS>에 해당하는 토큰 생성\n",
        "    target_seq = np.zeros((1,1))\n",
        "    target_seq[0, 0] = tar_word_to_index['sostoken']\n",
        "\n",
        "    stop_condition = False\n",
        "    decoded_sentence = ''\n",
        "    while not stop_condition: # stop_condition이 True가 될 때까지 루프 반복\n",
        "\n",
        "        output_tokens, h, c = decoder_model.predict([target_seq] + [e_out, e_h, e_c])\n",
        "        sampled_token_index = np.argmax(output_tokens[0, -1, :])\n",
        "        sampled_token = tar_index_to_word[sampled_token_index]\n",
        "\n",
        "        if (sampled_token!='eostoken'):\n",
        "            decoded_sentence += ' '+sampled_token\n",
        "\n",
        "        #  <eos>에 도달하거나 최대 길이를 넘으면 중단.\n",
        "        if (sampled_token == 'eostoken'  or len(decoded_sentence.split()) >= (summary_max_len-1)):\n",
        "            stop_condition = True\n",
        "\n",
        "        # 길이가 1인 타겟 시퀀스를 업데이트\n",
        "        target_seq = np.zeros((1,1))\n",
        "        target_seq[0, 0] = sampled_token_index\n",
        "\n",
        "        # 상태를 업데이트 합니다.\n",
        "        e_h, e_c = h, c\n",
        "\n",
        "    return decoded_sentence\n",
        "print('=3')"
      ],
      "metadata": {
        "colab": {
          "base_uri": "https://localhost:8080/"
        },
        "id": "UWX7f0yvTy3r",
        "outputId": "21c6499f-4275-4da2-af42-66d5cdba12a9"
      },
      "execution_count": null,
      "outputs": [
        {
          "output_type": "stream",
          "name": "stdout",
          "text": [
            "=3\n"
          ]
        }
      ]
    },
    {
      "cell_type": "code",
      "source": [
        "def seq2text(input_seq):\n",
        "    temp=''\n",
        "    for i in input_seq:\n",
        "        if (i!=0):\n",
        "            temp = temp + src_index_to_word[i]+' '\n",
        "    return temp\n",
        "\n",
        "# 요약문의 정수 시퀀스를 텍스트 시퀀스로 변환\n",
        "def seq2summary(input_seq):\n",
        "    temp=''\n",
        "    for i in input_seq:\n",
        "        if ((i!=0 and i!=tar_word_to_index['sostoken']) and i!=tar_word_to_index['eostoken']):\n",
        "            temp = temp + tar_index_to_word[i] + ' '\n",
        "    return temp\n",
        "\n",
        "print('=3')"
      ],
      "metadata": {
        "colab": {
          "base_uri": "https://localhost:8080/"
        },
        "id": "H7DxSJ-sT4jX",
        "outputId": "543eff55-c23f-47c7-b420-53deedcaf88e"
      },
      "execution_count": null,
      "outputs": [
        {
          "output_type": "stream",
          "name": "stdout",
          "text": [
            "=3\n"
          ]
        }
      ]
    },
    {
      "cell_type": "code",
      "source": [
        "for i in range(50, 100):\n",
        "    print(\"원문 :\", seq2text(encoder_input_test[i]))\n",
        "    print(\"실제 요약 :\", seq2summary(decoder_input_test[i]))\n",
        "    print(\"예측 요약 :\", decode_sequence(encoder_input_test[i].reshape(1, text_max_len)))\n",
        "    print(\"\\n\")"
      ],
      "metadata": {
        "colab": {
          "base_uri": "https://localhost:8080/"
        },
        "id": "Z35X3L2qT6xj",
        "outputId": "39d3c8ae-9eef-46d5-8908-a9949a377b15"
      },
      "execution_count": null,
      "outputs": [
        {
          "output_type": "stream",
          "name": "stdout",
          "text": [
            "원문 : a chinese woman losing control of a ferrari and crashing it minutes after the sports car has gone viral the video shows the damaged and one of its front first time driving a ferrari this truly is the most amazing feeling the woman can be heard saying before the crash \n",
            "실제 요약 : chinese woman crashes minutes after it \n",
            "1/1 [==============================] - 1s 954ms/step\n",
            "1/1 [==============================] - 0s 414ms/step\n",
            "1/1 [==============================] - 0s 22ms/step\n",
            "1/1 [==============================] - 0s 22ms/step\n",
            "1/1 [==============================] - 0s 23ms/step\n",
            "1/1 [==============================] - 0s 23ms/step\n",
            "1/1 [==============================] - 0s 23ms/step\n",
            "1/1 [==============================] - 0s 22ms/step\n",
            "예측 요약 :  role champ ministers rain rain books kg\n",
            "\n",
            "\n",
            "원문 : has said that his running for us president is a real possibility he added personally i feel that if i were president would be important leadership would be important taking responsibility for everybody he added that he wouldn't shut out people who with him but talk to them about it \n",
            "실제 요약 : running for us president a real \n",
            "1/1 [==============================] - 0s 21ms/step\n",
            "1/1 [==============================] - 0s 22ms/step\n",
            "1/1 [==============================] - 0s 22ms/step\n",
            "1/1 [==============================] - 0s 21ms/step\n",
            "1/1 [==============================] - 0s 21ms/step\n",
            "1/1 [==============================] - 0s 24ms/step\n",
            "1/1 [==============================] - 0s 22ms/step\n",
            "1/1 [==============================] - 0s 22ms/step\n",
            "예측 요약 :  imran imran helps any any olympic toilet\n",
            "\n",
            "\n",
            "원문 : set to buy a franchise in the newly formed t20 global league of south africa the actor who owns ipl team kolkata knight riders and the knight riders in the caribbean t20 league has sent his representative for negotiations the eight franchise owners will be announced at on june 19 \n",
            "실제 요약 : to buy t20 club in south africa reports \n",
            "1/1 [==============================] - 0s 20ms/step\n",
            "1/1 [==============================] - 0s 21ms/step\n",
            "1/1 [==============================] - 0s 22ms/step\n",
            "1/1 [==============================] - 0s 22ms/step\n",
            "1/1 [==============================] - 0s 22ms/step\n",
            "1/1 [==============================] - 0s 22ms/step\n",
            "1/1 [==============================] - 0s 22ms/step\n",
            "1/1 [==============================] - 0s 22ms/step\n",
            "예측 요약 :  those sues nadal approves real at takes\n",
            "\n",
            "\n",
            "원문 : all government and private engineering and colleges in the state to ban the usage of all types of plastic articles in their reportedly plastic cups at and will be replaced with steel ones officials will also conduct surprise visits to colleges and them if they are found violating the ban \n",
            "실제 요약 : k'taka tech to have plastic ban on \n",
            "1/1 [==============================] - 0s 20ms/step\n",
            "1/1 [==============================] - 0s 21ms/step\n",
            "1/1 [==============================] - 0s 22ms/step\n",
            "1/1 [==============================] - 0s 21ms/step\n",
            "1/1 [==============================] - 0s 21ms/step\n",
            "1/1 [==============================] - 0s 21ms/step\n",
            "1/1 [==============================] - 0s 24ms/step\n",
            "1/1 [==============================] - 0s 22ms/step\n",
            "예측 요약 :  kumar ryan takes takes takes takes takes\n",
            "\n",
            "\n",
            "원문 : raising 1 2 billion in a financing round that would value the company over 15 billion plans to use the cash to expand as its pen is available only in us and israel launched in 2015 holds 68 of the us e cigarette market and of shareholders like tiger global \n",
            "실제 요약 : largest us e maker raises 1 2 billion \n",
            "1/1 [==============================] - 0s 21ms/step\n",
            "1/1 [==============================] - 0s 22ms/step\n",
            "1/1 [==============================] - 0s 22ms/step\n",
            "1/1 [==============================] - 0s 21ms/step\n",
            "1/1 [==============================] - 0s 22ms/step\n",
            "1/1 [==============================] - 0s 22ms/step\n",
            "1/1 [==============================] - 0s 23ms/step\n",
            "1/1 [==============================] - 0s 23ms/step\n",
            "예측 요약 :  net srk wishes wishes wishes wishes dropped\n",
            "\n",
            "\n",
            "원문 : indian fashion designer narendra kumar ahmed revealed the new jersey and uniform designed by him for the indian hockey team in a video the are in the of white and blue with on them the blue have brown on them while the white have in the of the tri colour \n",
            "실제 요약 : fashion unveils new of indian hockey team \n",
            "1/1 [==============================] - 0s 21ms/step\n",
            "1/1 [==============================] - 0s 23ms/step\n",
            "1/1 [==============================] - 0s 22ms/step\n",
            "1/1 [==============================] - 0s 22ms/step\n",
            "1/1 [==============================] - 0s 22ms/step\n",
            "1/1 [==============================] - 0s 22ms/step\n",
            "1/1 [==============================] - 0s 23ms/step\n",
            "1/1 [==============================] - 0s 23ms/step\n",
            "예측 요약 :  per planning change mobile million couple patanjali\n",
            "\n",
            "\n",
            "원문 : who locked up four officials from police station on sunday to help a theft accused trader arrest five year old ali was suspected of stealing ã¢ââ¹7 lakh following which the police came to look for him villagers did not believe ali to be capable of stealing and helped him run \n",
            "실제 요약 : cops in room to help accused run away \n",
            "1/1 [==============================] - 0s 21ms/step\n",
            "1/1 [==============================] - 0s 22ms/step\n",
            "1/1 [==============================] - 0s 24ms/step\n",
            "1/1 [==============================] - 0s 23ms/step\n",
            "1/1 [==============================] - 0s 22ms/step\n",
            "1/1 [==============================] - 0s 22ms/step\n",
            "1/1 [==============================] - 0s 23ms/step\n",
            "1/1 [==============================] - 0s 22ms/step\n",
            "예측 요약 :  at at at adds adds adds adds\n",
            "\n",
            "\n",
            "원문 : foot over bridge at station in mumbai where 22 people were killed during a stampede on the existing foot over bridge the 40 foot wide bridge was announced in the 2016 railway budget and will cost approximately ã¢ââ¹9 5 crore it is expected to be made operational from early 2018 \n",
            "실제 요약 : govt for after at station \n",
            "1/1 [==============================] - 0s 21ms/step\n",
            "1/1 [==============================] - 0s 23ms/step\n",
            "1/1 [==============================] - 0s 22ms/step\n",
            "1/1 [==============================] - 0s 22ms/step\n",
            "1/1 [==============================] - 0s 24ms/step\n",
            "1/1 [==============================] - 0s 23ms/step\n",
            "1/1 [==============================] - 0s 23ms/step\n",
            "1/1 [==============================] - 0s 23ms/step\n",
            "예측 요약 :  cross cross also pulls govt's crypto drug\n",
            "\n",
            "\n",
            "원문 : a total of 28 cases of deaths have been reported in gujarat's ahmedabad district in the past two years minister of state for home jadeja told the state assembly on wednesday three guilty police officials were awarded punishment and a inquiry has been initiated in three other cases he added \n",
            "실제 요약 : 28 deaths reported in in 2 yrs \n",
            "1/1 [==============================] - 0s 21ms/step\n",
            "1/1 [==============================] - 0s 22ms/step\n",
            "1/1 [==============================] - 0s 22ms/step\n",
            "1/1 [==============================] - 0s 23ms/step\n",
            "1/1 [==============================] - 0s 22ms/step\n",
            "1/1 [==============================] - 0s 22ms/step\n",
            "1/1 [==============================] - 0s 23ms/step\n",
            "1/1 [==============================] - 0s 25ms/step\n",
            "예측 요약 :  researchers dance dance camera camera camera camera\n",
            "\n",
            "\n",
            "원문 : government will still want to see if indigo for air india this comes after indigo announced its decision not to bid for the carrier as its primary interest in acquiring air india's international operations wasn't available under the disinvestment plan added air india's operations wouldn't be split in bidding process \n",
            "실제 요약 : to see if indigo for air india govt \n",
            "1/1 [==============================] - 0s 22ms/step\n",
            "1/1 [==============================] - 0s 22ms/step\n",
            "1/1 [==============================] - 0s 22ms/step\n",
            "1/1 [==============================] - 0s 22ms/step\n",
            "1/1 [==============================] - 0s 22ms/step\n",
            "1/1 [==============================] - 0s 22ms/step\n",
            "1/1 [==============================] - 0s 22ms/step\n",
            "1/1 [==============================] - 0s 24ms/step\n",
            "예측 요약 :  hits hits triple triple growth growth troops\n",
            "\n",
            "\n",
            "원문 : the rajya sabha a couple of days after samajwadi party mp agrawal asked him and actress to resign from their positions due to their low attendance among the 12 nominated members sachin and veteran actress were found to be among the worst in terms of attendance in the rajya sabha \n",
            "실제 요약 : sachin rajya sabha after questions on \n",
            "1/1 [==============================] - 0s 21ms/step\n",
            "1/1 [==============================] - 0s 22ms/step\n",
            "1/1 [==============================] - 0s 22ms/step\n",
            "1/1 [==============================] - 0s 23ms/step\n",
            "1/1 [==============================] - 0s 22ms/step\n",
            "1/1 [==============================] - 0s 22ms/step\n",
            "1/1 [==============================] - 0s 22ms/step\n",
            "1/1 [==============================] - 0s 23ms/step\n",
            "예측 요약 :  remark b'desh named ask takes brazil lose\n",
            "\n",
            "\n",
            "원문 : will be making his debut as a television show host by hosting the reality television show bigg boss in tamil i've tried many different roles in various as an reality television is so far not a reality in my career i want to see what it feels like said haasan \n",
            "실제 요약 : tv show bigg boss in tamil kamal haasan \n",
            "1/1 [==============================] - 0s 21ms/step\n",
            "1/1 [==============================] - 0s 22ms/step\n",
            "1/1 [==============================] - 0s 23ms/step\n",
            "1/1 [==============================] - 0s 23ms/step\n",
            "1/1 [==============================] - 0s 23ms/step\n",
            "1/1 [==============================] - 0s 23ms/step\n",
            "1/1 [==============================] - 0s 24ms/step\n",
            "1/1 [==============================] - 0s 23ms/step\n",
            "예측 요약 :  at trying chairman battery battery users 2\n",
            "\n",
            "\n",
            "원문 : the forest development corporation of maharashtra was killed by a tiger in the core area of the state's tiger reserve on thursday the official was apparently attacked by the tiger in the morning when he had stepped out of his quarter to attend call near a lake an official said \n",
            "실제 요약 : killed by tiger while call \n",
            "1/1 [==============================] - 0s 22ms/step\n",
            "1/1 [==============================] - 0s 22ms/step\n",
            "1/1 [==============================] - 0s 23ms/step\n",
            "1/1 [==============================] - 0s 22ms/step\n",
            "1/1 [==============================] - 0s 23ms/step\n",
            "1/1 [==============================] - 0s 23ms/step\n",
            "1/1 [==============================] - 0s 24ms/step\n",
            "1/1 [==============================] - 0s 24ms/step\n",
            "예측 요약 :  at at also reported reported ceremony went\n",
            "\n",
            "\n",
            "원문 : bengaluru based student lending startup has secured non banking financial company licence from the reserve bank of india the startup's co founder rajan bajaj confirmed the same tweeting with this regulatory we will run more towards our goal founded in 2015 lets students make purchases online on monthly without any \n",
            "실제 요약 : bengaluru student startup gets \n",
            "1/1 [==============================] - 0s 22ms/step\n",
            "1/1 [==============================] - 0s 22ms/step\n",
            "1/1 [==============================] - 0s 23ms/step\n",
            "1/1 [==============================] - 0s 23ms/step\n",
            "1/1 [==============================] - 0s 23ms/step\n",
            "1/1 [==============================] - 0s 23ms/step\n",
            "1/1 [==============================] - 0s 22ms/step\n",
            "1/1 [==============================] - 0s 22ms/step\n",
            "예측 요약 :  israel rss tribute federer because ahead refuses\n",
            "\n",
            "\n",
            "원문 : to bag a medal in three successive asian games the 26 year old pulled out of his semi final bout due to an eye injury claiming bronze in the men's category vikas had clinched gold in the men's category in the 2010 edition and bronze in the category in 2014 \n",
            "실제 요약 : to bag medal in 3 straight asian games \n",
            "1/1 [==============================] - 0s 22ms/step\n",
            "1/1 [==============================] - 0s 23ms/step\n",
            "1/1 [==============================] - 0s 23ms/step\n",
            "1/1 [==============================] - 0s 23ms/step\n",
            "1/1 [==============================] - 0s 23ms/step\n",
            "1/1 [==============================] - 0s 24ms/step\n",
            "1/1 [==============================] - 0s 23ms/step\n",
            "1/1 [==============================] - 0s 23ms/step\n",
            "예측 요약 :  cross olympics olympics olympics me kg kg\n",
            "\n",
            "\n",
            "원문 : nasa's hubble space telescope have discovered a sized 100 times faster than planets of similar size a red dwarf star whose intense radiation hydrogen in the upper atmosphere causing it to escape into space in only a few billion years half of the planet may be gone a scientist said \n",
            "실제 요약 : finds at record \n",
            "1/1 [==============================] - 0s 22ms/step\n",
            "1/1 [==============================] - 0s 23ms/step\n",
            "1/1 [==============================] - 0s 23ms/step\n",
            "1/1 [==============================] - 0s 23ms/step\n",
            "1/1 [==============================] - 0s 22ms/step\n",
            "1/1 [==============================] - 0s 23ms/step\n",
            "1/1 [==============================] - 0s 23ms/step\n",
            "1/1 [==============================] - 0s 23ms/step\n",
            "예측 요약 :  5th file york pulls pulls pulls pulls\n",
            "\n",
            "\n",
            "원문 : from university of central florida claim to have developed an ai based system that can detect in missed by the system uses an similar to face recognition to identify minute particles of cancer in it is about 95 in identifying cancer as opposed to 65 by humans the researchers added \n",
            "실제 요약 : ai to cancer with made \n",
            "1/1 [==============================] - 0s 22ms/step\n",
            "1/1 [==============================] - 0s 23ms/step\n",
            "1/1 [==============================] - 0s 23ms/step\n",
            "1/1 [==============================] - 0s 23ms/step\n",
            "1/1 [==============================] - 0s 24ms/step\n",
            "1/1 [==============================] - 0s 23ms/step\n",
            "1/1 [==============================] - 0s 22ms/step\n",
            "1/1 [==============================] - 0s 22ms/step\n",
            "예측 요약 :  doctor screen ryan because profit ryan bag\n",
            "\n",
            "\n",
            "원문 : condemned the mock video posted by us president donald trump's official twitter account which shows him attacking a man whose head was with american news channel logo adding that the video was beneath the office of the presidency the committee called it a threat of physical violence against journalists nn \n",
            "실제 요약 : slams trump over video \n",
            "1/1 [==============================] - 0s 22ms/step\n",
            "1/1 [==============================] - 0s 23ms/step\n",
            "1/1 [==============================] - 0s 23ms/step\n",
            "1/1 [==============================] - 0s 22ms/step\n",
            "1/1 [==============================] - 0s 23ms/step\n",
            "1/1 [==============================] - 0s 22ms/step\n",
            "1/1 [==============================] - 0s 22ms/step\n",
            "1/1 [==============================] - 0s 22ms/step\n",
            "예측 요약 :  score score helps helps helps just just\n",
            "\n",
            "\n",
            "원문 : who drowned after going for a off mumbai's beach on thursday evening have been found following search and rescue operations while a 22 year old has been rescued another boy who went with the group is still missing the indian navy helicopters and coast were deployed during the search operations \n",
            "실제 요약 : boys who went for in mumbai sea found \n",
            "1/1 [==============================] - 0s 21ms/step\n",
            "1/1 [==============================] - 0s 24ms/step\n",
            "1/1 [==============================] - 0s 22ms/step\n",
            "1/1 [==============================] - 0s 22ms/step\n",
            "1/1 [==============================] - 0s 23ms/step\n",
            "1/1 [==============================] - 0s 22ms/step\n",
            "1/1 [==============================] - 0s 22ms/step\n",
            "1/1 [==============================] - 0s 22ms/step\n",
            "예측 요약 :  fine term helps helps down plans went\n",
            "\n",
            "\n",
            "원문 : bengaluru based foods startup has raised ã¢ââ¹35 crore in funding from venture management the amount will help the startup strengthen its product portfolio marketing and expand its distribution reach founded in 2011 breakfast products including and meal \n",
            "실제 요약 : bengaluru startup raises crore \n",
            "1/1 [==============================] - 0s 22ms/step\n",
            "1/1 [==============================] - 0s 23ms/step\n",
            "1/1 [==============================] - 0s 23ms/step\n",
            "1/1 [==============================] - 0s 24ms/step\n",
            "1/1 [==============================] - 0s 23ms/step\n",
            "1/1 [==============================] - 0s 23ms/step\n",
            "1/1 [==============================] - 0s 24ms/step\n",
            "1/1 [==============================] - 0s 23ms/step\n",
            "예측 요약 :  aide i'd tribute ryan i'd takes takes\n",
            "\n",
            "\n",
            "원문 : karnataka chief minister hd kumaraswamy said that congress should not treat jd s as third grade citizens there should be give and take policy ã¢ââ he added the jd s has demanded 12 out of 28 seats for the lok sabha polls to which the congress has expressed its reservations \n",
            "실제 요약 : cong jd s as third k'taka cm \n",
            "1/1 [==============================] - 0s 22ms/step\n",
            "1/1 [==============================] - 0s 24ms/step\n",
            "1/1 [==============================] - 0s 23ms/step\n",
            "1/1 [==============================] - 0s 24ms/step\n",
            "1/1 [==============================] - 0s 24ms/step\n",
            "1/1 [==============================] - 0s 23ms/step\n",
            "1/1 [==============================] - 0s 23ms/step\n",
            "1/1 [==============================] - 0s 23ms/step\n",
            "예측 요약 :  among mcdonald's mcdonald's mcdonald's even election even\n",
            "\n",
            "\n",
            "원문 : a 39 year old air hostess named allegedly committed suicide by jumping from the terrace of her residence in the delhi police said today her husband rushed her to a nearby hospital where she was declared dead on arrival meanwhile her parents have alleged dowry harassment by her husband \n",
            "실제 요약 : air commits suicide in delhi's \n",
            "1/1 [==============================] - 0s 21ms/step\n",
            "1/1 [==============================] - 0s 23ms/step\n",
            "1/1 [==============================] - 0s 23ms/step\n",
            "1/1 [==============================] - 0s 23ms/step\n",
            "1/1 [==============================] - 0s 24ms/step\n",
            "1/1 [==============================] - 0s 23ms/step\n",
            "1/1 [==============================] - 0s 23ms/step\n",
            "1/1 [==============================] - 0s 23ms/step\n",
            "예측 요약 :  scheme snapdeal snapdeal snapdeal qatar qatar because\n",
            "\n",
            "\n",
            "원문 : six limited overs international matches against the west indies cricket team as a part of their maiden tour to the in june the two sides will contest three t20is at warner park in st before playing three odis in st notably afghanistan had defeated west indies in world t20 2016 \n",
            "실제 요약 : afghanistan set to go on west tour \n",
            "1/1 [==============================] - 0s 21ms/step\n",
            "1/1 [==============================] - 0s 23ms/step\n",
            "1/1 [==============================] - 0s 25ms/step\n",
            "1/1 [==============================] - 0s 24ms/step\n",
            "1/1 [==============================] - 0s 23ms/step\n",
            "1/1 [==============================] - 0s 24ms/step\n",
            "1/1 [==============================] - 0s 23ms/step\n",
            "1/1 [==============================] - 0s 23ms/step\n",
            "예측 요약 :  use t20 italy italy celebrates celebrates t20\n",
            "\n",
            "\n",
            "원문 : of 77 coal fired power plants in maharashtra have been pollution norms as per an analysis by non organisation none of the power plants have installed the technology to curb toxic emissions such as dioxide despite a notification issued by the environment ministry aiming at reducing air pollution it said \n",
            "실제 요약 : maharashtra pollution \n",
            "1/1 [==============================] - 0s 22ms/step\n",
            "1/1 [==============================] - 0s 23ms/step\n",
            "1/1 [==============================] - 0s 25ms/step\n",
            "1/1 [==============================] - 0s 24ms/step\n",
            "1/1 [==============================] - 0s 23ms/step\n",
            "1/1 [==============================] - 0s 24ms/step\n",
            "1/1 [==============================] - 0s 25ms/step\n",
            "1/1 [==============================] - 0s 25ms/step\n",
            "예측 요약 :  passport dna capital capital dismisses dismisses dismisses\n",
            "\n",
            "\n",
            "원문 : bhatt sridevi and sonam kapoor have featured on the cover of filmfare magazine for its january issue the extended cover also features deepika padukone katrina kaif shahid kapoor and hrithik roshan among others describing it as a cover filmfare tweeted that it features the winners of filmfare style awards 2017 \n",
            "실제 요약 : kareena alia sridevi sonam feature on cover \n",
            "1/1 [==============================] - 0s 22ms/step\n",
            "1/1 [==============================] - 0s 23ms/step\n",
            "1/1 [==============================] - 0s 23ms/step\n",
            "1/1 [==============================] - 0s 24ms/step\n",
            "1/1 [==============================] - 0s 23ms/step\n",
            "1/1 [==============================] - 0s 23ms/step\n",
            "1/1 [==============================] - 0s 23ms/step\n",
            "1/1 [==============================] - 0s 23ms/step\n",
            "예측 요약 :  envoy seized football kills first missing funds\n",
            "\n",
            "\n",
            "원문 : global startup ecosystem in 2017 according to a report released by global startup ecosystem map the list measuring startup ecosystem strength and activity was topped by the united states followed by the united kingdom interestingly india ranked below american countries mexico and chile which stood at 30 and 33 respectively \n",
            "실제 요약 : india in global startup in 2017 report \n",
            "1/1 [==============================] - 0s 22ms/step\n",
            "1/1 [==============================] - 0s 24ms/step\n",
            "1/1 [==============================] - 0s 23ms/step\n",
            "1/1 [==============================] - 0s 24ms/step\n",
            "1/1 [==============================] - 0s 23ms/step\n",
            "1/1 [==============================] - 0s 23ms/step\n",
            "1/1 [==============================] - 0s 23ms/step\n",
            "1/1 [==============================] - 0s 23ms/step\n",
            "예측 요약 :  may anthem ronaldo may join marriage missing\n",
            "\n",
            "\n",
            "원문 : two bronze medals in the under 14 rapid and formats of the western asia youth chess championship in sri lanka third ranked rishabh who trains at the south mumbai chess academy finished with five points and 4 5 points in the rapid and categories respectively to win the bronze medals \n",
            "실제 요약 : yr old indian wins two at asian event \n",
            "1/1 [==============================] - 0s 21ms/step\n",
            "1/1 [==============================] - 0s 23ms/step\n",
            "1/1 [==============================] - 0s 23ms/step\n",
            "1/1 [==============================] - 0s 22ms/step\n",
            "1/1 [==============================] - 0s 23ms/step\n",
            "1/1 [==============================] - 0s 23ms/step\n",
            "1/1 [==============================] - 0s 23ms/step\n",
            "1/1 [==============================] - 0s 23ms/step\n",
            "예측 요약 :  commission hits i've station candidates books hyderabad\n",
            "\n",
            "\n",
            "원문 : of new curriculum turkish education minister on tuesday said it will include the concept of being love for the nation rather than a holy war it is the duty of the education ministry to teach every concept in a correct way he added and asserted that is an in islam \n",
            "실제 요약 : new turkey to as your \n",
            "1/1 [==============================] - 0s 21ms/step\n",
            "1/1 [==============================] - 0s 22ms/step\n",
            "1/1 [==============================] - 0s 22ms/step\n",
            "1/1 [==============================] - 0s 23ms/step\n",
            "1/1 [==============================] - 0s 22ms/step\n",
            "1/1 [==============================] - 0s 22ms/step\n",
            "1/1 [==============================] - 0s 22ms/step\n",
            "1/1 [==============================] - 0s 22ms/step\n",
            "예측 요약 :  net highest books triple stopped triple scores\n",
            "\n",
            "\n",
            "원문 : old doctor punched a shark in the face after it attacked him while he was at beach australia on monday back to with marks on his shoulder and arm he said i thought it was a friend around i turned and i saw this shark come out of the water \n",
            "실제 요약 : man attack by it in the face \n",
            "1/1 [==============================] - 0s 21ms/step\n",
            "1/1 [==============================] - 0s 22ms/step\n",
            "1/1 [==============================] - 0s 24ms/step\n",
            "1/1 [==============================] - 0s 24ms/step\n",
            "1/1 [==============================] - 0s 23ms/step\n",
            "1/1 [==============================] - 0s 22ms/step\n",
            "1/1 [==============================] - 0s 22ms/step\n",
            "1/1 [==============================] - 0s 22ms/step\n",
            "예측 요약 :  would at at champ judge would fixing\n",
            "\n",
            "\n",
            "원문 : parent company snap has reportedly acquired a drone startup called me robotics for under 1 million about ã¢ââ¹6 45 crore news of the acquisition which was reportedly completed last year was recently made public however reports suggest that me doesn't manufacture own drones but instead other drones to carry cameras \n",
            "실제 요약 : buys drone startup me for under 1 million \n",
            "1/1 [==============================] - 0s 21ms/step\n",
            "1/1 [==============================] - 0s 21ms/step\n",
            "1/1 [==============================] - 0s 22ms/step\n",
            "1/1 [==============================] - 0s 23ms/step\n",
            "1/1 [==============================] - 0s 25ms/step\n",
            "1/1 [==============================] - 0s 23ms/step\n",
            "1/1 [==============================] - 0s 23ms/step\n",
            "1/1 [==============================] - 0s 23ms/step\n",
            "예측 요약 :  police federer failure approves failure failure dropped\n",
            "\n",
            "\n",
            "원문 : that whom china says is being investigated over suspected violations of the law had resigned as president of the international police organisation who is also a vice minister of public security in china was reported missing after travelling from the city of lyon in france to china on september 25 \n",
            "실제 요약 : chief under in china resigns \n",
            "1/1 [==============================] - 0s 20ms/step\n",
            "1/1 [==============================] - 0s 22ms/step\n",
            "1/1 [==============================] - 0s 21ms/step\n",
            "1/1 [==============================] - 0s 22ms/step\n",
            "1/1 [==============================] - 0s 23ms/step\n",
            "1/1 [==============================] - 0s 22ms/step\n",
            "1/1 [==============================] - 0s 22ms/step\n",
            "1/1 [==============================] - 0s 23ms/step\n",
            "예측 요약 :  new detained final detained worst books delhi's\n",
            "\n",
            "\n",
            "원문 : company has unveiled the that plays white noise to help sleep the 400 which was unveiled at 2018 built in sensors to users' to detect brain activity and shares the data with a connected mobile app when deep sleep is detected its will start playing white noise in a slow \n",
            "실제 요약 : that plays white to help sleep unveiled \n",
            "1/1 [==============================] - 0s 22ms/step\n",
            "1/1 [==============================] - 0s 23ms/step\n",
            "1/1 [==============================] - 0s 22ms/step\n",
            "1/1 [==============================] - 0s 23ms/step\n",
            "1/1 [==============================] - 0s 24ms/step\n",
            "1/1 [==============================] - 0s 22ms/step\n",
            "1/1 [==============================] - 0s 23ms/step\n",
            "1/1 [==============================] - 0s 23ms/step\n",
            "예측 요약 :  pakistani smith profit ryan restaurant ryan bag\n",
            "\n",
            "\n",
            "원문 : technology is reportedly a third letter to whatsapp for a solution to trace users' messages on its platform it's a demand from us and very much a government official said it comes in the wake of lynching incidents across the country due to the spread of fake news on whatsapp \n",
            "실제 요약 : government asks whatsapp to origin of report \n",
            "1/1 [==============================] - 0s 21ms/step\n",
            "1/1 [==============================] - 0s 23ms/step\n",
            "1/1 [==============================] - 0s 23ms/step\n",
            "1/1 [==============================] - 0s 23ms/step\n",
            "1/1 [==============================] - 0s 23ms/step\n",
            "1/1 [==============================] - 0s 22ms/step\n",
            "1/1 [==============================] - 0s 22ms/step\n",
            "1/1 [==============================] - 0s 21ms/step\n",
            "예측 요약 :  police season than centre profit profit profit\n",
            "\n",
            "\n",
            "원문 : would love to make a film on the indian epic but he does not think he has the budget for it you don't take up a subject like the and make it any less it should be on the scale of a baahubali or an even larger one added srk \n",
            "실제 요약 : to make film but don't have budget srk \n",
            "1/1 [==============================] - 0s 20ms/step\n",
            "1/1 [==============================] - 0s 21ms/step\n",
            "1/1 [==============================] - 0s 22ms/step\n",
            "1/1 [==============================] - 0s 22ms/step\n",
            "1/1 [==============================] - 0s 23ms/step\n",
            "1/1 [==============================] - 0s 22ms/step\n",
            "1/1 [==============================] - 0s 22ms/step\n",
            "1/1 [==============================] - 0s 23ms/step\n",
            "예측 요약 :  at ed they battery lord lord ahead\n",
            "\n",
            "\n",
            "원문 : us president donald trump was arrested in connection with the probe into alleged russian interference in 2016 us presidential election and russia's ties to the trump campaign stone allegedly sought to information about hacked emails of including hillary clinton from wikileaks he allegedly an associate from in to the probe \n",
            "실제 요약 : under probe on russia in 2016 us poll \n",
            "1/1 [==============================] - 0s 22ms/step\n",
            "1/1 [==============================] - 0s 24ms/step\n",
            "1/1 [==============================] - 0s 23ms/step\n",
            "1/1 [==============================] - 0s 23ms/step\n",
            "1/1 [==============================] - 0s 23ms/step\n",
            "1/1 [==============================] - 0s 22ms/step\n",
            "1/1 [==============================] - 0s 22ms/step\n",
            "1/1 [==============================] - 0s 22ms/step\n",
            "예측 요약 :  states remove highest 3rd judge ' '\n",
            "\n",
            "\n",
            "원문 : actress priyanka chopra attended the us open with her fiancãâ© nick jonas her mother madhu chopra future brother in law joe jonas and his 'game of thrones' actress it's a wrote priyanka while sharing the pictures on social media priyanka and nick were reportedly on a vacation in mexico recently \n",
            "실제 요약 : a priyanka at us open with future in \n",
            "1/1 [==============================] - 0s 20ms/step\n",
            "1/1 [==============================] - 0s 22ms/step\n",
            "1/1 [==============================] - 0s 21ms/step\n",
            "1/1 [==============================] - 0s 25ms/step\n",
            "1/1 [==============================] - 0s 24ms/step\n",
            "1/1 [==============================] - 0s 23ms/step\n",
            "1/1 [==============================] - 0s 22ms/step\n",
            "1/1 [==============================] - 0s 22ms/step\n",
            "예측 요약 :  scheme female officer singer abuse abuse abuse\n",
            "\n",
            "\n",
            "원문 : younis on monday took to twitter to apologise for cutting cake on ex captain wasim birthday during ramadan on sunday we respected ramadan and the people who were it was a poor act on our behalf younis wrote pakistani sports anchor abbas had shared pictures of birthday celebrations on twitter \n",
            "실제 요약 : apologises for b'day in \n",
            "1/1 [==============================] - 0s 21ms/step\n",
            "1/1 [==============================] - 0s 22ms/step\n",
            "1/1 [==============================] - 0s 22ms/step\n",
            "1/1 [==============================] - 0s 22ms/step\n",
            "1/1 [==============================] - 0s 23ms/step\n",
            "1/1 [==============================] - 0s 22ms/step\n",
            "1/1 [==============================] - 0s 22ms/step\n",
            "1/1 [==============================] - 0s 21ms/step\n",
            "예측 요약 :  elon states 2017 strikes gets tea gets\n",
            "\n",
            "\n",
            "원문 : rishi kapoor kapoor rajiv kapoor and other members of the kapoor family conducted the last at rk studios on sunday in august rishi had announced that following last year's fire at rk studios which was founded by his father raj kapoor in the kapoor family has decided to sell it \n",
            "실제 요약 : ranbir rishi last at \n",
            "1/1 [==============================] - 0s 21ms/step\n",
            "1/1 [==============================] - 0s 22ms/step\n",
            "1/1 [==============================] - 0s 23ms/step\n",
            "1/1 [==============================] - 0s 23ms/step\n",
            "1/1 [==============================] - 0s 23ms/step\n",
            "1/1 [==============================] - 0s 23ms/step\n",
            "1/1 [==============================] - 0s 22ms/step\n",
            "1/1 [==============================] - 0s 22ms/step\n",
            "예측 요약 :  per maharashtra doesn't maharashtra because thanks because\n",
            "\n",
            "\n",
            "원문 : that no country other than the us can act as in the israel palestine conflict if palestinian president abbas doesn't want the us then he doesn't want peace netanyahu said this comes after said that the us was no longer suitable for the role of the in the peace process \n",
            "실제 요약 : no for us in peace israel \n",
            "1/1 [==============================] - 0s 21ms/step\n",
            "1/1 [==============================] - 0s 24ms/step\n",
            "1/1 [==============================] - 0s 23ms/step\n",
            "1/1 [==============================] - 0s 22ms/step\n",
            "1/1 [==============================] - 0s 23ms/step\n",
            "1/1 [==============================] - 0s 23ms/step\n",
            "1/1 [==============================] - 0s 22ms/step\n",
            "1/1 [==============================] - 0s 22ms/step\n",
            "예측 요약 :  new unit unit planning planning olympic olympic\n",
            "\n",
            "\n",
            "원문 : year old son mohit slammed runs off balls for baroda against kerala breaking his father's nearly 30 year old record of the highest score by a baroda batsman in the trophy had hit in 1988 against mumbai the then highest score for any baroda under 19 batsman in the tournament \n",
            "실제 요약 : india son breaks 30 yr old domestic record \n",
            "1/1 [==============================] - 0s 21ms/step\n",
            "1/1 [==============================] - 0s 22ms/step\n",
            "1/1 [==============================] - 0s 22ms/step\n",
            "1/1 [==============================] - 0s 24ms/step\n",
            "1/1 [==============================] - 0s 24ms/step\n",
            "1/1 [==============================] - 0s 23ms/step\n",
            "1/1 [==============================] - 0s 22ms/step\n",
            "1/1 [==============================] - 0s 23ms/step\n",
            "예측 요약 :  rahim saudi since saudi since arrested tesla\n",
            "\n",
            "\n",
            "원문 : 000 cases of alleged tax evasion wherein it returns were revised after demonetisation the income tax returns filed after november 8 2016 were against their earlier tax compliance following which these cases were detected notably the government has been people whose bank deposits seemed to be suspicious post note ban \n",
            "실제 요약 : 30 000 cases where were post note ban \n",
            "1/1 [==============================] - 0s 21ms/step\n",
            "1/1 [==============================] - 0s 22ms/step\n",
            "1/1 [==============================] - 0s 22ms/step\n",
            "1/1 [==============================] - 0s 21ms/step\n",
            "1/1 [==============================] - 0s 23ms/step\n",
            "1/1 [==============================] - 0s 23ms/step\n",
            "1/1 [==============================] - 0s 22ms/step\n",
            "1/1 [==============================] - 0s 22ms/step\n",
            "예측 요약 :  seen school got takes takes dismisses dismisses\n",
            "\n",
            "\n",
            "원문 : banned from ipl for two years due to no player made a mistake the team didn't deserve the punishment they got he added the anger among players for being treated like this brought about the victory in 2018 they were determined to prove again that are the he further said \n",
            "실제 요약 : among players led to ipl \n",
            "1/1 [==============================] - 0s 22ms/step\n",
            "1/1 [==============================] - 0s 22ms/step\n",
            "1/1 [==============================] - 0s 23ms/step\n",
            "1/1 [==============================] - 0s 23ms/step\n",
            "1/1 [==============================] - 0s 23ms/step\n",
            "1/1 [==============================] - 0s 24ms/step\n",
            "1/1 [==============================] - 0s 22ms/step\n",
            "1/1 [==============================] - 0s 22ms/step\n",
            "예측 요약 :  twitter imran 70 allegations couple stake saying\n",
            "\n",
            "\n",
            "원문 : back to the same jail within a month and a half after he killed two people following his release pawan kumar singh found his wife was having an illicit relationship with a man who was once his co prisoner the 27 year old then killed the man and his cousin \n",
            "실제 요약 : early for kills 2 sent to same jail \n",
            "1/1 [==============================] - 0s 21ms/step\n",
            "1/1 [==============================] - 0s 23ms/step\n",
            "1/1 [==============================] - 0s 22ms/step\n",
            "1/1 [==============================] - 0s 23ms/step\n",
            "1/1 [==============================] - 0s 22ms/step\n",
            "1/1 [==============================] - 0s 24ms/step\n",
            "1/1 [==============================] - 0s 22ms/step\n",
            "1/1 [==============================] - 0s 22ms/step\n",
            "예측 요약 :  ad order final pulls fire final at\n",
            "\n",
            "\n",
            "원문 : team for the under 17 fifa world cup includes a son from manipur and a son from sikkim among others forward from sikkim did not have the means to buy a football and had to play with balls made of in childhood another player mother sells clothes on bengaluru roads \n",
            "실제 요약 : among members of india u 17 world cup \n",
            "1/1 [==============================] - 0s 20ms/step\n",
            "1/1 [==============================] - 0s 22ms/step\n",
            "1/1 [==============================] - 0s 22ms/step\n",
            "1/1 [==============================] - 0s 23ms/step\n",
            "1/1 [==============================] - 0s 23ms/step\n",
            "1/1 [==============================] - 0s 23ms/step\n",
            "1/1 [==============================] - 0s 23ms/step\n",
            "1/1 [==============================] - 0s 22ms/step\n",
            "예측 요약 :  debut prez since mom miss together snapdeal\n",
            "\n",
            "\n",
            "원문 : his liver to late co founder of the company steve jobs who was suffering from a type of cancer in 2009 as per a on jobs the offer for transplant was refused by the apple co founder who died of the cancer in 2011 jobs was born on february 24 \n",
            "실제 요약 : cook had once offered his to steve jobs \n",
            "1/1 [==============================] - 0s 21ms/step\n",
            "1/1 [==============================] - 0s 22ms/step\n",
            "1/1 [==============================] - 0s 22ms/step\n",
            "1/1 [==============================] - 0s 22ms/step\n",
            "1/1 [==============================] - 0s 22ms/step\n",
            "1/1 [==============================] - 0s 23ms/step\n",
            "1/1 [==============================] - 0s 23ms/step\n",
            "1/1 [==============================] - 0s 23ms/step\n",
            "예측 요약 :  police sued helps winner divorce pujara pujara\n",
            "\n",
            "\n",
            "원문 : seeking a permanent closure of sterlite plant in tuticorin district official sandeep said on thursday the government's position is very clear he added this comes after at least 13 people died in police firing while they were protesting against the plant and seeking its closure over environmental and health concerns \n",
            "실제 요약 : tamil nadu seeks of plant \n",
            "1/1 [==============================] - 0s 21ms/step\n",
            "1/1 [==============================] - 0s 23ms/step\n",
            "1/1 [==============================] - 0s 24ms/step\n",
            "1/1 [==============================] - 0s 22ms/step\n",
            "1/1 [==============================] - 0s 23ms/step\n",
            "1/1 [==============================] - 0s 23ms/step\n",
            "1/1 [==============================] - 0s 23ms/step\n",
            "1/1 [==============================] - 0s 24ms/step\n",
            "예측 요약 :  researchers remove camera camera camera camera camera\n",
            "\n",
            "\n",
            "원문 : for her role in tv series has clarified on twitter that she wasn't asked to go during her for the hbo series she tweeted i had a bikini top on under my top in an earlier interview had said that she was asked to take her top off during the \n",
            "실제 요약 : wasn't asked to go for \n",
            "1/1 [==============================] - 0s 21ms/step\n",
            "1/1 [==============================] - 0s 23ms/step\n",
            "1/1 [==============================] - 0s 24ms/step\n",
            "1/1 [==============================] - 0s 22ms/step\n",
            "1/1 [==============================] - 0s 22ms/step\n",
            "1/1 [==============================] - 0s 23ms/step\n",
            "1/1 [==============================] - 0s 22ms/step\n",
            "1/1 [==============================] - 0s 24ms/step\n",
            "예측 요약 :  imran imran football states battery first same\n",
            "\n",
            "\n",
            "원문 : the brazilian parliament's committee has voted to dismiss charges against the country's president michel over his alleged role in a dollar corruption scheme the probe against as an attempt to political party activities the parliament members warned that the president's will the country into a political crisis \n",
            "실제 요약 : mps charges against prez \n",
            "1/1 [==============================] - 0s 21ms/step\n",
            "1/1 [==============================] - 0s 23ms/step\n",
            "1/1 [==============================] - 0s 24ms/step\n",
            "1/1 [==============================] - 0s 23ms/step\n",
            "1/1 [==============================] - 0s 23ms/step\n",
            "1/1 [==============================] - 0s 23ms/step\n",
            "1/1 [==============================] - 0s 22ms/step\n",
            "1/1 [==============================] - 0s 22ms/step\n",
            "예측 요약 :  told told reach reach highest 3rd policy\n",
            "\n",
            "\n",
            "원문 : code violation by making her a t shirt as a sign of protest grace who had worn an off the shoulder top was asked to change into something else for revealing too much chest and shoulder i wrote those things because i felt like they best explained my point said \n",
            "실제 요약 : teen makes t for sister to protest dress \n",
            "1/1 [==============================] - 0s 21ms/step\n",
            "1/1 [==============================] - 0s 23ms/step\n",
            "1/1 [==============================] - 0s 24ms/step\n",
            "1/1 [==============================] - 0s 23ms/step\n",
            "1/1 [==============================] - 0s 22ms/step\n",
            "1/1 [==============================] - 0s 22ms/step\n",
            "1/1 [==============================] - 0s 23ms/step\n",
            "1/1 [==============================] - 0s 22ms/step\n",
            "예측 요약 :  scheme must helps past inside 90 shelter\n",
            "\n",
            "\n",
            "원문 : brown while speaking about physically abusing his ex girlfriend singer said he felt like a i look back i'm just like that's not me it's going to me forever he added in 2009 chris was arrested for physically assaulting after she became suspicious of he had received from another woman \n",
            "실제 요약 : like on up ex girlfriend \n",
            "1/1 [==============================] - 0s 22ms/step\n",
            "1/1 [==============================] - 0s 22ms/step\n",
            "1/1 [==============================] - 0s 34ms/step\n",
            "1/1 [==============================] - 0s 22ms/step\n",
            "1/1 [==============================] - 0s 22ms/step\n",
            "1/1 [==============================] - 0s 23ms/step\n",
            "1/1 [==============================] - 0s 22ms/step\n",
            "1/1 [==============================] - 0s 22ms/step\n",
            "예측 요약 :  scheme football football reach reach know gambhir\n",
            "\n",
            "\n"
          ]
        }
      ]
    },
    {
      "cell_type": "code",
      "source": [
        "!pip install summa"
      ],
      "metadata": {
        "colab": {
          "base_uri": "https://localhost:8080/"
        },
        "id": "i-NDvuTOUPUE",
        "outputId": "fbe35796-f62c-45e0-bbf4-98ab2b0c1bf2"
      },
      "execution_count": null,
      "outputs": [
        {
          "output_type": "stream",
          "name": "stdout",
          "text": [
            "Requirement already satisfied: summa in /usr/local/lib/python3.10/dist-packages (1.2.0)\n",
            "Requirement already satisfied: scipy>=0.19 in /usr/local/lib/python3.10/dist-packages (from summa) (1.11.2)\n",
            "Requirement already satisfied: numpy<1.28.0,>=1.21.6 in /usr/local/lib/python3.10/dist-packages (from scipy>=0.19->summa) (1.23.5)\n"
          ]
        }
      ]
    },
    {
      "cell_type": "code",
      "source": [
        "import requests\n",
        "from summa.summarizer import summarize"
      ],
      "metadata": {
        "id": "perxLKZTUV0U"
      },
      "execution_count": null,
      "outputs": []
    },
    {
      "cell_type": "code",
      "source": [
        "# 데이터 로드\n",
        "data = pd.read_csv('news_summary_more.csv', encoding='iso-8859-1')\n",
        "\n",
        "# 'text' 열에서 데이터를 추출적 요약하여 출력\n",
        "for idx, text in enumerate(data['text']):\n",
        "    print(f\"Original Text {idx + 1}:\\n{text}\\n\")\n",
        "    print(f\"Summarized Text {idx + 1}:\\n{summarize(text, ratio=0.5)}\\n\")\n",
        "    print(\"-\"*100)\n",
        "\n",
        "    if idx == 4:\n",
        "        break"
      ],
      "metadata": {
        "colab": {
          "base_uri": "https://localhost:8080/"
        },
        "id": "S0ZJNFTKVijX",
        "outputId": "4373d91f-32c9-4126-a9ae-e91007eeebe1"
      },
      "execution_count": null,
      "outputs": [
        {
          "output_type": "stream",
          "name": "stdout",
          "text": [
            "Original Text 1:\n",
            "Saurav Kant, an alumnus of upGrad and IIIT-B's PG Program in Machine learning and Artificial Intelligence, was a Sr Systems Engineer at Infosys with almost 5 years of work experience. The program and upGrad's 360-degree career support helped him transition to a Data Scientist at Tech Mahindra with 90% salary hike. upGrad's Online Power Learning has powered 3 lakh+ careers.\n",
            "\n",
            "Summarized Text 1:\n",
            "upGrad's Online Power Learning has powered 3 lakh+ careers.\n",
            "\n",
            "----------------------------------------------------------------------------------------------------\n",
            "Original Text 2:\n",
            "Kunal Shah's credit card bill payment platform, CRED, gave users a chance to win free food from Swiggy for one year. Pranav Kaushik, a Delhi techie, bagged this reward after spending 2000 CRED coins. Users get one CRED coin per rupee of bill paid, which can be used to avail rewards from brands like Ixigo, BookMyShow, UberEats, Cult.Fit and more.\n",
            "\n",
            "Summarized Text 2:\n",
            "Users get one CRED coin per rupee of bill paid, which can be used to avail rewards from brands like Ixigo, BookMyShow, UberEats, Cult.Fit and more.\n",
            "\n",
            "----------------------------------------------------------------------------------------------------\n",
            "Original Text 3:\n",
            "New Zealand defeated India by 8 wickets in the fourth ODI at Hamilton on Thursday to win their first match of the five-match ODI series. India lost an international match under Rohit Sharma's captaincy after 12 consecutive victories dating back to March 2018. The match witnessed India getting all out for 92, their seventh lowest total in ODI cricket history.\n",
            "\n",
            "Summarized Text 3:\n",
            "The match witnessed India getting all out for 92, their seventh lowest total in ODI cricket history.\n",
            "\n",
            "----------------------------------------------------------------------------------------------------\n",
            "Original Text 4:\n",
            "With Aegon Life iTerm Insurance plan, customers can enjoy tax benefits on your premiums paid and save up to Ã¢ÂÂ¹46,800^ on taxes. The plan provides life cover up to the age of 100 years. Also, customers have options to insure against Critical Illnesses, Disability and Accidental Death Benefit Rider with a life cover up to the age of 80 years.\n",
            "\n",
            "Summarized Text 4:\n",
            "Also, customers have options to insure against Critical Illnesses, Disability and Accidental Death Benefit Rider with a life cover up to the age of 80 years.\n",
            "\n",
            "----------------------------------------------------------------------------------------------------\n",
            "Original Text 5:\n",
            "Speaking about the sexual harassment allegations against Rajkumar Hirani, Sonam Kapoor said, \"I've known Hirani for many years...What if it's not true, the [#MeToo] movement will get derailed.\" \"In the #MeToo movement, I always believe a woman. But in this case, we need to reserve our judgment,\" she added. Hirani has been accused by an assistant who worked in 'Sanju'.\n",
            "\n",
            "Summarized Text 5:\n",
            "Speaking about the sexual harassment allegations against Rajkumar Hirani, Sonam Kapoor said, \"I've known Hirani for many years...What if it's not true, the [#MeToo] movement will get derailed.\" \"In the #MeToo movement, I always believe a woman.\n",
            "\n",
            "----------------------------------------------------------------------------------------------------\n"
          ]
        }
      ]
    },
    {
      "cell_type": "markdown",
      "source": [],
      "metadata": {
        "id": "SfnT_HS2HqkJ"
      }
    }
  ]
}